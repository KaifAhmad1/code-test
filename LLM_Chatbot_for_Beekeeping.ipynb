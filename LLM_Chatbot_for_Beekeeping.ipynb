{
  "nbformat": 4,
  "nbformat_minor": 0,
  "metadata": {
    "colab": {
      "provenance": [],
      "gpuType": "T4",
      "include_colab_link": true
    },
    "kernelspec": {
      "name": "python3",
      "display_name": "Python 3"
    },
    "language_info": {
      "name": "python"
    },
    "widgets": {
      "application/vnd.jupyter.widget-state+json": {
        "bc6e88029f31429a85b22a5a04324d79": {
          "model_module": "@jupyter-widgets/controls",
          "model_name": "VBoxModel",
          "model_module_version": "1.5.0",
          "state": {
            "_dom_classes": [],
            "_model_module": "@jupyter-widgets/controls",
            "_model_module_version": "1.5.0",
            "_model_name": "VBoxModel",
            "_view_count": null,
            "_view_module": "@jupyter-widgets/controls",
            "_view_module_version": "1.5.0",
            "_view_name": "VBoxView",
            "box_style": "",
            "children": [
              "IPY_MODEL_6cb6cbdc4c8940a5b81183bacf6ab90e",
              "IPY_MODEL_c5c1c52f07824c32a29774b5d6e8de22",
              "IPY_MODEL_a3ffc0503c1047a29fcbd432a172c6ea",
              "IPY_MODEL_853fe4bebd604968bc44fedc54b7e39c",
              "IPY_MODEL_75c27a4dcf704e5a8b610851716b05ef"
            ],
            "layout": "IPY_MODEL_220fbc269d3c4da29674d4ea4d2fb40d"
          }
        },
        "6cb6cbdc4c8940a5b81183bacf6ab90e": {
          "model_module": "@jupyter-widgets/controls",
          "model_name": "HTMLModel",
          "model_module_version": "1.5.0",
          "state": {
            "_dom_classes": [],
            "_model_module": "@jupyter-widgets/controls",
            "_model_module_version": "1.5.0",
            "_model_name": "HTMLModel",
            "_view_count": null,
            "_view_module": "@jupyter-widgets/controls",
            "_view_module_version": "1.5.0",
            "_view_name": "HTMLView",
            "description": "",
            "description_tooltip": null,
            "layout": "IPY_MODEL_db8e73b911624ba0910168d4e5e7f46b",
            "placeholder": "​",
            "style": "IPY_MODEL_cc03fff663d740d0a011155ac97ff09b",
            "value": "<center> <img\nsrc=https://huggingface.co/front/assets/huggingface_logo-noborder.svg\nalt='Hugging Face'> <br> Copy a token from <a\nhref=\"https://huggingface.co/settings/tokens\" target=\"_blank\">your Hugging Face\ntokens page</a> and paste it below. <br> Immediately click login after copying\nyour token or it might be stored in plain text in this notebook file. </center>"
          }
        },
        "c5c1c52f07824c32a29774b5d6e8de22": {
          "model_module": "@jupyter-widgets/controls",
          "model_name": "PasswordModel",
          "model_module_version": "1.5.0",
          "state": {
            "_dom_classes": [],
            "_model_module": "@jupyter-widgets/controls",
            "_model_module_version": "1.5.0",
            "_model_name": "PasswordModel",
            "_view_count": null,
            "_view_module": "@jupyter-widgets/controls",
            "_view_module_version": "1.5.0",
            "_view_name": "PasswordView",
            "continuous_update": true,
            "description": "Token:",
            "description_tooltip": null,
            "disabled": false,
            "layout": "IPY_MODEL_8eefbbbcae014851a734092f00e24f5f",
            "placeholder": "​",
            "style": "IPY_MODEL_8a57231d85d94f8690fe34e4a59655eb",
            "value": ""
          }
        },
        "a3ffc0503c1047a29fcbd432a172c6ea": {
          "model_module": "@jupyter-widgets/controls",
          "model_name": "CheckboxModel",
          "model_module_version": "1.5.0",
          "state": {
            "_dom_classes": [],
            "_model_module": "@jupyter-widgets/controls",
            "_model_module_version": "1.5.0",
            "_model_name": "CheckboxModel",
            "_view_count": null,
            "_view_module": "@jupyter-widgets/controls",
            "_view_module_version": "1.5.0",
            "_view_name": "CheckboxView",
            "description": "Add token as git credential?",
            "description_tooltip": null,
            "disabled": false,
            "indent": true,
            "layout": "IPY_MODEL_3d2f43fc1ab849c1a3d5ee4fd00fb877",
            "style": "IPY_MODEL_5015867eb32f446391150d8bff9aa169",
            "value": true
          }
        },
        "853fe4bebd604968bc44fedc54b7e39c": {
          "model_module": "@jupyter-widgets/controls",
          "model_name": "ButtonModel",
          "model_module_version": "1.5.0",
          "state": {
            "_dom_classes": [],
            "_model_module": "@jupyter-widgets/controls",
            "_model_module_version": "1.5.0",
            "_model_name": "ButtonModel",
            "_view_count": null,
            "_view_module": "@jupyter-widgets/controls",
            "_view_module_version": "1.5.0",
            "_view_name": "ButtonView",
            "button_style": "",
            "description": "Login",
            "disabled": false,
            "icon": "",
            "layout": "IPY_MODEL_28839f943a774b01adba75472f81ef34",
            "style": "IPY_MODEL_d1f1af13558a48e1bf7dac7d45f77fea",
            "tooltip": ""
          }
        },
        "75c27a4dcf704e5a8b610851716b05ef": {
          "model_module": "@jupyter-widgets/controls",
          "model_name": "HTMLModel",
          "model_module_version": "1.5.0",
          "state": {
            "_dom_classes": [],
            "_model_module": "@jupyter-widgets/controls",
            "_model_module_version": "1.5.0",
            "_model_name": "HTMLModel",
            "_view_count": null,
            "_view_module": "@jupyter-widgets/controls",
            "_view_module_version": "1.5.0",
            "_view_name": "HTMLView",
            "description": "",
            "description_tooltip": null,
            "layout": "IPY_MODEL_0fe836f69f6341e29169338e0ae072d7",
            "placeholder": "​",
            "style": "IPY_MODEL_075e90e1193b4210a7619eabe6c225b7",
            "value": "\n<b>Pro Tip:</b> If you don't already have one, you can create a dedicated\n'notebooks' token with 'write' access, that you can then easily reuse for all\nnotebooks. </center>"
          }
        },
        "220fbc269d3c4da29674d4ea4d2fb40d": {
          "model_module": "@jupyter-widgets/base",
          "model_name": "LayoutModel",
          "model_module_version": "1.2.0",
          "state": {
            "_model_module": "@jupyter-widgets/base",
            "_model_module_version": "1.2.0",
            "_model_name": "LayoutModel",
            "_view_count": null,
            "_view_module": "@jupyter-widgets/base",
            "_view_module_version": "1.2.0",
            "_view_name": "LayoutView",
            "align_content": null,
            "align_items": "center",
            "align_self": null,
            "border": null,
            "bottom": null,
            "display": "flex",
            "flex": null,
            "flex_flow": "column",
            "grid_area": null,
            "grid_auto_columns": null,
            "grid_auto_flow": null,
            "grid_auto_rows": null,
            "grid_column": null,
            "grid_gap": null,
            "grid_row": null,
            "grid_template_areas": null,
            "grid_template_columns": null,
            "grid_template_rows": null,
            "height": null,
            "justify_content": null,
            "justify_items": null,
            "left": null,
            "margin": null,
            "max_height": null,
            "max_width": null,
            "min_height": null,
            "min_width": null,
            "object_fit": null,
            "object_position": null,
            "order": null,
            "overflow": null,
            "overflow_x": null,
            "overflow_y": null,
            "padding": null,
            "right": null,
            "top": null,
            "visibility": null,
            "width": "50%"
          }
        },
        "db8e73b911624ba0910168d4e5e7f46b": {
          "model_module": "@jupyter-widgets/base",
          "model_name": "LayoutModel",
          "model_module_version": "1.2.0",
          "state": {
            "_model_module": "@jupyter-widgets/base",
            "_model_module_version": "1.2.0",
            "_model_name": "LayoutModel",
            "_view_count": null,
            "_view_module": "@jupyter-widgets/base",
            "_view_module_version": "1.2.0",
            "_view_name": "LayoutView",
            "align_content": null,
            "align_items": null,
            "align_self": null,
            "border": null,
            "bottom": null,
            "display": null,
            "flex": null,
            "flex_flow": null,
            "grid_area": null,
            "grid_auto_columns": null,
            "grid_auto_flow": null,
            "grid_auto_rows": null,
            "grid_column": null,
            "grid_gap": null,
            "grid_row": null,
            "grid_template_areas": null,
            "grid_template_columns": null,
            "grid_template_rows": null,
            "height": null,
            "justify_content": null,
            "justify_items": null,
            "left": null,
            "margin": null,
            "max_height": null,
            "max_width": null,
            "min_height": null,
            "min_width": null,
            "object_fit": null,
            "object_position": null,
            "order": null,
            "overflow": null,
            "overflow_x": null,
            "overflow_y": null,
            "padding": null,
            "right": null,
            "top": null,
            "visibility": null,
            "width": null
          }
        },
        "cc03fff663d740d0a011155ac97ff09b": {
          "model_module": "@jupyter-widgets/controls",
          "model_name": "DescriptionStyleModel",
          "model_module_version": "1.5.0",
          "state": {
            "_model_module": "@jupyter-widgets/controls",
            "_model_module_version": "1.5.0",
            "_model_name": "DescriptionStyleModel",
            "_view_count": null,
            "_view_module": "@jupyter-widgets/base",
            "_view_module_version": "1.2.0",
            "_view_name": "StyleView",
            "description_width": ""
          }
        },
        "8eefbbbcae014851a734092f00e24f5f": {
          "model_module": "@jupyter-widgets/base",
          "model_name": "LayoutModel",
          "model_module_version": "1.2.0",
          "state": {
            "_model_module": "@jupyter-widgets/base",
            "_model_module_version": "1.2.0",
            "_model_name": "LayoutModel",
            "_view_count": null,
            "_view_module": "@jupyter-widgets/base",
            "_view_module_version": "1.2.0",
            "_view_name": "LayoutView",
            "align_content": null,
            "align_items": null,
            "align_self": null,
            "border": null,
            "bottom": null,
            "display": null,
            "flex": null,
            "flex_flow": null,
            "grid_area": null,
            "grid_auto_columns": null,
            "grid_auto_flow": null,
            "grid_auto_rows": null,
            "grid_column": null,
            "grid_gap": null,
            "grid_row": null,
            "grid_template_areas": null,
            "grid_template_columns": null,
            "grid_template_rows": null,
            "height": null,
            "justify_content": null,
            "justify_items": null,
            "left": null,
            "margin": null,
            "max_height": null,
            "max_width": null,
            "min_height": null,
            "min_width": null,
            "object_fit": null,
            "object_position": null,
            "order": null,
            "overflow": null,
            "overflow_x": null,
            "overflow_y": null,
            "padding": null,
            "right": null,
            "top": null,
            "visibility": null,
            "width": null
          }
        },
        "8a57231d85d94f8690fe34e4a59655eb": {
          "model_module": "@jupyter-widgets/controls",
          "model_name": "DescriptionStyleModel",
          "model_module_version": "1.5.0",
          "state": {
            "_model_module": "@jupyter-widgets/controls",
            "_model_module_version": "1.5.0",
            "_model_name": "DescriptionStyleModel",
            "_view_count": null,
            "_view_module": "@jupyter-widgets/base",
            "_view_module_version": "1.2.0",
            "_view_name": "StyleView",
            "description_width": ""
          }
        },
        "3d2f43fc1ab849c1a3d5ee4fd00fb877": {
          "model_module": "@jupyter-widgets/base",
          "model_name": "LayoutModel",
          "model_module_version": "1.2.0",
          "state": {
            "_model_module": "@jupyter-widgets/base",
            "_model_module_version": "1.2.0",
            "_model_name": "LayoutModel",
            "_view_count": null,
            "_view_module": "@jupyter-widgets/base",
            "_view_module_version": "1.2.0",
            "_view_name": "LayoutView",
            "align_content": null,
            "align_items": null,
            "align_self": null,
            "border": null,
            "bottom": null,
            "display": null,
            "flex": null,
            "flex_flow": null,
            "grid_area": null,
            "grid_auto_columns": null,
            "grid_auto_flow": null,
            "grid_auto_rows": null,
            "grid_column": null,
            "grid_gap": null,
            "grid_row": null,
            "grid_template_areas": null,
            "grid_template_columns": null,
            "grid_template_rows": null,
            "height": null,
            "justify_content": null,
            "justify_items": null,
            "left": null,
            "margin": null,
            "max_height": null,
            "max_width": null,
            "min_height": null,
            "min_width": null,
            "object_fit": null,
            "object_position": null,
            "order": null,
            "overflow": null,
            "overflow_x": null,
            "overflow_y": null,
            "padding": null,
            "right": null,
            "top": null,
            "visibility": null,
            "width": null
          }
        },
        "5015867eb32f446391150d8bff9aa169": {
          "model_module": "@jupyter-widgets/controls",
          "model_name": "DescriptionStyleModel",
          "model_module_version": "1.5.0",
          "state": {
            "_model_module": "@jupyter-widgets/controls",
            "_model_module_version": "1.5.0",
            "_model_name": "DescriptionStyleModel",
            "_view_count": null,
            "_view_module": "@jupyter-widgets/base",
            "_view_module_version": "1.2.0",
            "_view_name": "StyleView",
            "description_width": ""
          }
        },
        "28839f943a774b01adba75472f81ef34": {
          "model_module": "@jupyter-widgets/base",
          "model_name": "LayoutModel",
          "model_module_version": "1.2.0",
          "state": {
            "_model_module": "@jupyter-widgets/base",
            "_model_module_version": "1.2.0",
            "_model_name": "LayoutModel",
            "_view_count": null,
            "_view_module": "@jupyter-widgets/base",
            "_view_module_version": "1.2.0",
            "_view_name": "LayoutView",
            "align_content": null,
            "align_items": null,
            "align_self": null,
            "border": null,
            "bottom": null,
            "display": null,
            "flex": null,
            "flex_flow": null,
            "grid_area": null,
            "grid_auto_columns": null,
            "grid_auto_flow": null,
            "grid_auto_rows": null,
            "grid_column": null,
            "grid_gap": null,
            "grid_row": null,
            "grid_template_areas": null,
            "grid_template_columns": null,
            "grid_template_rows": null,
            "height": null,
            "justify_content": null,
            "justify_items": null,
            "left": null,
            "margin": null,
            "max_height": null,
            "max_width": null,
            "min_height": null,
            "min_width": null,
            "object_fit": null,
            "object_position": null,
            "order": null,
            "overflow": null,
            "overflow_x": null,
            "overflow_y": null,
            "padding": null,
            "right": null,
            "top": null,
            "visibility": null,
            "width": null
          }
        },
        "d1f1af13558a48e1bf7dac7d45f77fea": {
          "model_module": "@jupyter-widgets/controls",
          "model_name": "ButtonStyleModel",
          "model_module_version": "1.5.0",
          "state": {
            "_model_module": "@jupyter-widgets/controls",
            "_model_module_version": "1.5.0",
            "_model_name": "ButtonStyleModel",
            "_view_count": null,
            "_view_module": "@jupyter-widgets/base",
            "_view_module_version": "1.2.0",
            "_view_name": "StyleView",
            "button_color": null,
            "font_weight": ""
          }
        },
        "0fe836f69f6341e29169338e0ae072d7": {
          "model_module": "@jupyter-widgets/base",
          "model_name": "LayoutModel",
          "model_module_version": "1.2.0",
          "state": {
            "_model_module": "@jupyter-widgets/base",
            "_model_module_version": "1.2.0",
            "_model_name": "LayoutModel",
            "_view_count": null,
            "_view_module": "@jupyter-widgets/base",
            "_view_module_version": "1.2.0",
            "_view_name": "LayoutView",
            "align_content": null,
            "align_items": null,
            "align_self": null,
            "border": null,
            "bottom": null,
            "display": null,
            "flex": null,
            "flex_flow": null,
            "grid_area": null,
            "grid_auto_columns": null,
            "grid_auto_flow": null,
            "grid_auto_rows": null,
            "grid_column": null,
            "grid_gap": null,
            "grid_row": null,
            "grid_template_areas": null,
            "grid_template_columns": null,
            "grid_template_rows": null,
            "height": null,
            "justify_content": null,
            "justify_items": null,
            "left": null,
            "margin": null,
            "max_height": null,
            "max_width": null,
            "min_height": null,
            "min_width": null,
            "object_fit": null,
            "object_position": null,
            "order": null,
            "overflow": null,
            "overflow_x": null,
            "overflow_y": null,
            "padding": null,
            "right": null,
            "top": null,
            "visibility": null,
            "width": null
          }
        },
        "075e90e1193b4210a7619eabe6c225b7": {
          "model_module": "@jupyter-widgets/controls",
          "model_name": "DescriptionStyleModel",
          "model_module_version": "1.5.0",
          "state": {
            "_model_module": "@jupyter-widgets/controls",
            "_model_module_version": "1.5.0",
            "_model_name": "DescriptionStyleModel",
            "_view_count": null,
            "_view_module": "@jupyter-widgets/base",
            "_view_module_version": "1.2.0",
            "_view_name": "StyleView",
            "description_width": ""
          }
        }
      }
    },
    "accelerator": "GPU"
  },
  "cells": [
    {
      "cell_type": "markdown",
      "metadata": {
        "id": "view-in-github",
        "colab_type": "text"
      },
      "source": [
        "<a href=\"https://colab.research.google.com/github/KaifAhmad1/code-test/blob/main/LLM_Chatbot_for_Beekeeping.ipynb\" target=\"_parent\"><img src=\"https://colab.research.google.com/assets/colab-badge.svg\" alt=\"Open In Colab\"/></a>"
      ]
    },
    {
      "cell_type": "markdown",
      "source": [
        "### **RAG based Beekeeping Chatbot for Indian Beekeepers**"
      ],
      "metadata": {
        "id": "x9Jz9jEa7Lf5"
      }
    },
    {
      "cell_type": "code",
      "source": [
        "!pip install -qU \\\n",
        "     transformers \\\n",
        "     datasets \\\n",
        "     langchain \\\n",
        "     huggingface_hub \\\n",
        "     tiktoken \\\n",
        "     faiss-gpu \\\n",
        "     python-dotenv \\\n",
        "     accelerate \\\n",
        "     einops \\\n",
        "     bitsandbytes \\\n",
        "     unstructured unstructured[pdf] \\\n",
        "     pypdf \\\n",
        "     rapidocr-onnxruntime\n",
        "!pip install -qU sentence_transformers numpy"
      ],
      "metadata": {
        "id": "sgnNtZlbEEBn",
        "outputId": "12f2a988-093b-487b-dc58-d67ea4a02a36",
        "colab": {
          "base_uri": "https://localhost:8080/"
        }
      },
      "execution_count": 1,
      "outputs": [
        {
          "output_type": "stream",
          "name": "stdout",
          "text": [
            "\u001b[?25l     \u001b[90m━━━━━━━━━━━━━━━━━━━━━━━━━━━━━━━━━━━━━━━━\u001b[0m \u001b[32m0.0/330.1 kB\u001b[0m \u001b[31m?\u001b[0m eta \u001b[36m-:--:--\u001b[0m\r\u001b[2K     \u001b[91m━━━━━━━━━━━\u001b[0m\u001b[90m╺\u001b[0m\u001b[90m━━━━━━━━━━━━━━━━━━━━━━━━━━━━\u001b[0m \u001b[32m92.2/330.1 kB\u001b[0m \u001b[31m2.6 MB/s\u001b[0m eta \u001b[36m0:00:01\u001b[0m\r\u001b[2K     \u001b[91m━━━━━━━━━━━━━━━━━━━━━━━━━━━━━━━━━━━━━━━\u001b[0m\u001b[91m╸\u001b[0m \u001b[32m327.7/330.1 kB\u001b[0m \u001b[31m5.2 MB/s\u001b[0m eta \u001b[36m0:00:01\u001b[0m\r\u001b[2K     \u001b[90m━━━━━━━━━━━━━━━━━━━━━━━━━━━━━━━━━━━━━━━━\u001b[0m \u001b[32m330.1/330.1 kB\u001b[0m \u001b[31m4.4 MB/s\u001b[0m eta \u001b[36m0:00:00\u001b[0m\n",
            "\u001b[?25h"
          ]
        }
      ]
    },
    {
      "cell_type": "code",
      "source": [
        "import os\n",
        "import pandas as pd\n",
        "from dotenv import load_dotenv\n",
        "from huggingface_hub import notebook_login\n",
        "pd.set_option(\"display.max_colwidth\", None)\n",
        "notebook_login()"
      ],
      "metadata": {
        "colab": {
          "base_uri": "https://localhost:8080/",
          "height": 331,
          "referenced_widgets": [
            "bc6e88029f31429a85b22a5a04324d79",
            "6cb6cbdc4c8940a5b81183bacf6ab90e",
            "c5c1c52f07824c32a29774b5d6e8de22",
            "a3ffc0503c1047a29fcbd432a172c6ea",
            "853fe4bebd604968bc44fedc54b7e39c",
            "75c27a4dcf704e5a8b610851716b05ef",
            "220fbc269d3c4da29674d4ea4d2fb40d",
            "db8e73b911624ba0910168d4e5e7f46b",
            "cc03fff663d740d0a011155ac97ff09b",
            "8eefbbbcae014851a734092f00e24f5f",
            "8a57231d85d94f8690fe34e4a59655eb",
            "3d2f43fc1ab849c1a3d5ee4fd00fb877",
            "5015867eb32f446391150d8bff9aa169",
            "28839f943a774b01adba75472f81ef34",
            "d1f1af13558a48e1bf7dac7d45f77fea",
            "0fe836f69f6341e29169338e0ae072d7",
            "075e90e1193b4210a7619eabe6c225b7"
          ]
        },
        "id": "PBJPlI_Z7NVN",
        "outputId": "d98eaadc-67e0-4d95-8516-119c58ae0403"
      },
      "execution_count": 19,
      "outputs": [
        {
          "output_type": "display_data",
          "data": {
            "text/plain": [
              "VBox(children=(HTML(value='<center> <img\\nsrc=https://huggingface.co/front/assets/huggingface_logo-noborder.sv…"
            ],
            "application/vnd.jupyter.widget-view+json": {
              "version_major": 2,
              "version_minor": 0,
              "model_id": "bc6e88029f31429a85b22a5a04324d79"
            }
          },
          "metadata": {}
        }
      ]
    },
    {
      "cell_type": "code",
      "source": [
        "from google.colab import drive\n",
        "drive.mount('/content/drive')"
      ],
      "metadata": {
        "id": "l9PbX-8LxUUm",
        "outputId": "a5d58b0d-de5f-4c97-a110-36d26bd2f842",
        "colab": {
          "base_uri": "https://localhost:8080/"
        }
      },
      "execution_count": 20,
      "outputs": [
        {
          "output_type": "stream",
          "name": "stdout",
          "text": [
            "Drive already mounted at /content/drive; to attempt to forcibly remount, call drive.mount(\"/content/drive\", force_remount=True).\n"
          ]
        }
      ]
    },
    {
      "cell_type": "code",
      "source": [
        "from langchain_community.document_loaders import PDFPlumberLoader"
      ],
      "metadata": {
        "id": "43UspaPpR0Z_"
      },
      "execution_count": 21,
      "outputs": []
    },
    {
      "cell_type": "code",
      "source": [
        "loader = PDFPlumberLoader(\"/content/drive/MyDrive/Floral Calendar.pdf\")"
      ],
      "metadata": {
        "id": "oIAn1PjlxcML"
      },
      "execution_count": 22,
      "outputs": []
    },
    {
      "cell_type": "code",
      "source": [
        "document = loader.load()"
      ],
      "metadata": {
        "id": "RCg2a6VdWRkM"
      },
      "execution_count": 23,
      "outputs": []
    },
    {
      "cell_type": "code",
      "source": [
        "print(len(document))"
      ],
      "metadata": {
        "colab": {
          "base_uri": "https://localhost:8080/"
        },
        "id": "e2pbSDmhcjfZ",
        "outputId": "4f877f62-740c-42cb-e515-14a012fd394c"
      },
      "execution_count": 24,
      "outputs": [
        {
          "output_type": "stream",
          "name": "stdout",
          "text": [
            "420\n"
          ]
        }
      ]
    },
    {
      "cell_type": "code",
      "source": [
        "document[70]"
      ],
      "metadata": {
        "colab": {
          "base_uri": "https://localhost:8080/"
        },
        "id": "CtoViexabaMR",
        "outputId": "7e7f634d-0521-43af-91e5-51227827f2d5"
      },
      "execution_count": 25,
      "outputs": [
        {
          "output_type": "execute_result",
          "data": {
            "text/plain": [
              "Document(page_content='Guntur District\\nJan Feb Mar Apr May June July Aug Sep Oct Nov Dec\\nPlant Name\\nP N P N P N P N P N P N P N P N P N P N P N P N\\nAnacardium occidentale(Geedimamidi)\\nBrassica(Avalu)\\nCajanus cajan (Kandulu)\\nCicer arietinum (Shanagalu)\\nCitrus aurantifolia(Nimma)\\nCitrus sinensis (Batavia)\\nCocos nucifera (Kobbarichettu)\\nCucumis sativus(Dosakaya)\\nDelonix regia(Sankesulu)\\nDolichos lab-lab(Anumulu)\\nEmblica officinalis (Vusiri)\\nEucalyptus spp.(Nilgiri)\\nHygrophila auriculata()\\nLuffa spp.(Beera)\\nMoringa oleifera(Mulaga)\\nOryza sativa (Vari)\\nPeltophorum pterocarpum(Konda chinta)\\nPennesetum typhoides (Sajja)\\nPhoenix sylvestris(Eetha)\\nRecinus communis(Amudalu)\\nSapindus emarginatus(Kunkudu)\\nSorghum vulgare (Jonna)\\nTamarindus indica (Chintachettu)\\nVigna mungo (Minumulu)\\nVigna radiata(Pesalu)\\nVigna trilobata(Pillipesara)\\nZea mays (Mokkajhona)\\nSesamum indicum (Nuvvulu)\\nBorassus flabellifer(Tadi)\\nPsidium guajava (Jama)\\nZizyphus spp. (Reghu, pariki,Gotti)\\nMajor Pollen Minor Pollen Major Nector Minor Nector\\n©Copyright of CBRTI, KVIC\\n', metadata={'source': '/content/drive/MyDrive/Floral Calendar.pdf', 'file_path': '/content/drive/MyDrive/Floral Calendar.pdf', 'page': 70, 'total_pages': 420, 'Author': 'Chandra, Gyan', 'CreationDate': \"D:20200206105404+05'30'\", 'Creator': 'Adobe Acrobat Pro 11.0.15', 'ModDate': \"D:20200206105404+05'30'\", 'Producer': 'Adobe Acrobat Pro 11.0.15', 'Title': ''})"
            ]
          },
          "metadata": {},
          "execution_count": 25
        }
      ]
    },
    {
      "cell_type": "code",
      "source": [
        "document[70].page_content"
      ],
      "metadata": {
        "id": "EEz9VHT0WV2R",
        "colab": {
          "base_uri": "https://localhost:8080/",
          "height": 123
        },
        "outputId": "f25909a2-2302-4747-93ce-4761b7854d97"
      },
      "execution_count": 26,
      "outputs": [
        {
          "output_type": "execute_result",
          "data": {
            "text/plain": [
              "'Guntur District\\nJan Feb Mar Apr May June July Aug Sep Oct Nov Dec\\nPlant Name\\nP N P N P N P N P N P N P N P N P N P N P N P N\\nAnacardium occidentale(Geedimamidi)\\nBrassica(Avalu)\\nCajanus cajan (Kandulu)\\nCicer arietinum (Shanagalu)\\nCitrus aurantifolia(Nimma)\\nCitrus sinensis (Batavia)\\nCocos nucifera (Kobbarichettu)\\nCucumis sativus(Dosakaya)\\nDelonix regia(Sankesulu)\\nDolichos lab-lab(Anumulu)\\nEmblica officinalis (Vusiri)\\nEucalyptus spp.(Nilgiri)\\nHygrophila auriculata()\\nLuffa spp.(Beera)\\nMoringa oleifera(Mulaga)\\nOryza sativa (Vari)\\nPeltophorum pterocarpum(Konda chinta)\\nPennesetum typhoides (Sajja)\\nPhoenix sylvestris(Eetha)\\nRecinus communis(Amudalu)\\nSapindus emarginatus(Kunkudu)\\nSorghum vulgare (Jonna)\\nTamarindus indica (Chintachettu)\\nVigna mungo (Minumulu)\\nVigna radiata(Pesalu)\\nVigna trilobata(Pillipesara)\\nZea mays (Mokkajhona)\\nSesamum indicum (Nuvvulu)\\nBorassus flabellifer(Tadi)\\nPsidium guajava (Jama)\\nZizyphus spp. (Reghu, pariki,Gotti)\\nMajor Pollen Minor Pollen Major Nector Minor Nector\\n©Copyright of CBRTI, KVIC\\n'"
            ],
            "application/vnd.google.colaboratory.intrinsic+json": {
              "type": "string"
            }
          },
          "metadata": {},
          "execution_count": 26
        }
      ]
    },
    {
      "cell_type": "code",
      "source": [
        "from langchain.text_splitter import RecursiveCharacterTextSplitter"
      ],
      "metadata": {
        "id": "pxdJHts0cQl7"
      },
      "execution_count": 27,
      "outputs": []
    },
    {
      "cell_type": "code",
      "source": [
        "MARKDOWN_SEPARATORS = [\n",
        "    \"\\n#{1,6} \",\n",
        "    \"```\\n\",\n",
        "    \"\\n\\\\*\\\\*\\\\*+\\n\",\n",
        "    \"\\n---+\\n\",\n",
        "    \"\\n___+\\n\",\n",
        "    \"\\n\\n\",\n",
        "    \"\\n\",\n",
        "    \" \",\n",
        "    \"\",\n",
        "]\n",
        "\n",
        "text_splitter = RecursiveCharacterTextSplitter(\n",
        "    chunk_size=1000,\n",
        "    chunk_overlap=30,\n",
        "    add_start_index=True,\n",
        "    strip_whitespace=True,\n",
        "    separators=MARKDOWN_SEPARATORS,\n",
        ")"
      ],
      "metadata": {
        "id": "CuAPmQPXcQoh"
      },
      "execution_count": 28,
      "outputs": []
    },
    {
      "cell_type": "code",
      "source": [
        "splits = text_splitter.split_documents(document)"
      ],
      "metadata": {
        "id": "twfzuBwocQr9"
      },
      "execution_count": 29,
      "outputs": []
    },
    {
      "cell_type": "code",
      "source": [
        "splits[30].page_content"
      ],
      "metadata": {
        "colab": {
          "base_uri": "https://localhost:8080/",
          "height": 123
        },
        "id": "ohptEl1ie_xl",
        "outputId": "a658c64c-7b0d-40e6-d569-8080d3e4e692"
      },
      "execution_count": 30,
      "outputs": [
        {
          "output_type": "execute_result",
          "data": {
            "text/plain": [
              "'Jan Feb Mar Apr May June July Aug Sep Oct Nov Dec\\nDistrict\\nP N P N P N P N P N P N P N P N P N P N P N P N\\nLATUR\\nतुवर\\nCajanus cajan ( )\\n1 1 1 1\\nकुसुम\\nCarthamus tinctorious ( )\\n1 1 1 1\\nचना\\nCicer arietinum ( )\\n1 1 1 1\\nका(cid:426)ी िनबू\\nCitrus aurantifolia ( )\\n1 2 1 2 1 2 1 2\\nस(cid:361)ा\\nCitrus reticulata ( )\\n1 2\\nमोसबी\\nCitrus sinensis ( )\\n1 2\\nआवला\\nEmblica officinalis ( )\\n2 1 2 1\\nिनलिगरी\\nEucalyptus spp. ( )\\n2 2 2 2\\nरामतील\\nGuizotia abyssinica ( )\\n2 2 2 2\\nसुयफुल\\nHelianthus annuus ( )\\n2 2 2 2 2 2\\nशेवगा\\nMoringa oleifera ( )\\n2 2 2 2\\nकेला\\nMusa paradisica ( )\\n1 1 1 1\\nचावल\\nOryza sativa ( )\\n1 0 1 0\\nअद(cid:304)(cid:566)\\nParkinsonia aculeata ( )\\n2 1 2 1 2 1\\nबाजरा\\nPennesetum typhoides ( )\\n1 0 1 0\\nिशदी\\nPhoenix sylvestris ( )\\n2 0 2 0\\nवेडी बाभूळ\\nProsopis juliflora ( )\\n1 2 1 2 1 2\\nअम(cid:349)द\\nPsidium guvajava ( )\\n2 1 2 1\\nकडधा(cid:586)\\nPulses ( )\\n1 1 1 1\\nतील\\nSesamum indicum ( )\\n2 2 2 2\\n(cid:476)ार\\nSorghum vulgare ( )\\n2 1 2 1 2 1 2 1\\nमुग\\nVigna mungo ( )\\n1 1 1 1\\nउड्द\\nVigna radiata ( )\\n1 1 1 1\\nअगूर'"
            ],
            "application/vnd.google.colaboratory.intrinsic+json": {
              "type": "string"
            }
          },
          "metadata": {},
          "execution_count": 30
        }
      ]
    },
    {
      "cell_type": "code",
      "source": [
        "from langchain_community.embeddings import HuggingFaceBgeEmbeddings\n",
        "\n",
        "model_name = \"BAAI/bge-small-en\"\n",
        "model_kwargs = {\"device\": \"cpu\"}\n",
        "encode_kwargs = {\"normalize_embeddings\": True}\n",
        "embeddings = HuggingFaceBgeEmbeddings(\n",
        "    model_name=model_name, model_kwargs=model_kwargs, encode_kwargs=encode_kwargs\n",
        ")"
      ],
      "metadata": {
        "id": "XkBcMaw6nZ2T"
      },
      "execution_count": 31,
      "outputs": []
    },
    {
      "cell_type": "code",
      "source": [
        "from langchain_community.vectorstores import FAISS\n",
        "vectorstore = FAISS.from_documents(document, embeddings)"
      ],
      "metadata": {
        "id": "53G0Tt4-01dJ"
      },
      "execution_count": 32,
      "outputs": []
    },
    {
      "cell_type": "code",
      "source": [
        "def get_similar_docs(query, k=2, score=False):\n",
        "    return vectorstore.similarity_search_with_score(query, k=k) if score else vectorstore.similarity_search(query, k=k)\n",
        "\n",
        "query = \"When can I take my bees to sunflower fields?\"\n",
        "similar_docs = get_similar_docs(query)\n",
        "\n",
        "print(similar_docs)"
      ],
      "metadata": {
        "id": "sPr9vV8A-t13",
        "outputId": "948801bc-27c7-40c4-ab8b-ab32a74402ba",
        "colab": {
          "base_uri": "https://localhost:8080/"
        }
      },
      "execution_count": 33,
      "outputs": [
        {
          "output_type": "stream",
          "name": "stdout",
          "text": [
            "[Document(page_content='Floral Calendar of Sundargarh District\\nJan Feb Mar Apr May Jun Jul Aug Sep Oct Nov Dec\\nBotanical Name\\nMangifera indica\\n(Mango)\\nAnoguises latifolia\\n(Axle wood)\\nLagerstroemia\\nparviflorea\\nShorea robusta\\n(Sal)\\nBombax ceiba\\n(Silk cotton)\\nEmblica officinale\\n(Amla)\\nCareya arborea\\n(Kumba)\\nDillenia indica\\n(\\nMadhuca latifolia\\n(Mahua)\\nTerminalia sp.\\nPongamia pinnata\\n(Karanj)\\nZea mays\\n(Makka)\\nTamarindus indica\\n(Tamarind)\\nPhaseolus sp.\\n(Mung/Udid)\\nGuizotia abyssinica\\n(Niger)\\nNectar: Minor Medium Major\\nPollen: Minor Medium Major\\n©Copyright of CBRTI, KVIC\\n', metadata={'source': '/content/drive/MyDrive/Floral Calendar.pdf', 'file_path': '/content/drive/MyDrive/Floral Calendar.pdf', 'page': 252, 'total_pages': 420, 'Author': 'Chandra, Gyan', 'CreationDate': \"D:20200206105404+05'30'\", 'Creator': 'Adobe Acrobat Pro 11.0.15', 'ModDate': \"D:20200206105404+05'30'\", 'Producer': 'Adobe Acrobat Pro 11.0.15', 'Title': ''}), Document(page_content='Floral Calendar of Sambalpur District\\nJan Feb Mar Apr May Jun Jul Aug Sep Oct Nov Dec\\nBotanical Name\\nOcimum sp.\\n(Bantulsi)\\nEucalyptus spp.\\n(Eucalyptus)\\nBrassica sp.\\n(Mustard)\\nCicer arietinum\\n(Chana)\\nSchleichera oleosa\\n(Kusum)\\nPhoenix sp.\\nButea frondosa\\n(Palash)\\nPterocarpus\\nmarsupium\\nSesamum indicum\\n(Til)\\nWendlandia tinctoria\\n(Telli)\\nEmblica officinalis\\n(Ambla)\\nShorea robusta\\n(Sal)\\nSyzygium cumini\\n(Jamun)\\nPsidium guajava\\n(Amrud)\\nTerminelia spp.\\nTamarindus indica\\n(Tamarind)\\nNectar: Minor Medium Major\\nPollen: Minor Medium Major\\n©Copyright of CBRTI, KVIC\\n', metadata={'source': '/content/drive/MyDrive/Floral Calendar.pdf', 'file_path': '/content/drive/MyDrive/Floral Calendar.pdf', 'page': 237, 'total_pages': 420, 'Author': 'Chandra, Gyan', 'CreationDate': \"D:20200206105404+05'30'\", 'Creator': 'Adobe Acrobat Pro 11.0.15', 'ModDate': \"D:20200206105404+05'30'\", 'Producer': 'Adobe Acrobat Pro 11.0.15', 'Title': ''})]\n"
          ]
        }
      ]
    },
    {
      "cell_type": "code",
      "source": [],
      "metadata": {
        "id": "4d_YKoo0BlJ8"
      },
      "execution_count": 33,
      "outputs": []
    }
  ]
}