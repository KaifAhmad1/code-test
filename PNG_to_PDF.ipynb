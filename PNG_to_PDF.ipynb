{
  "nbformat": 4,
  "nbformat_minor": 0,
  "metadata": {
    "colab": {
      "provenance": [],
      "authorship_tag": "ABX9TyPcUqbe/ACmWZGvXqoJI1aY",
      "include_colab_link": true
    },
    "kernelspec": {
      "name": "python3",
      "display_name": "Python 3"
    },
    "language_info": {
      "name": "python"
    }
  },
  "cells": [
    {
      "cell_type": "markdown",
      "metadata": {
        "id": "view-in-github",
        "colab_type": "text"
      },
      "source": [
        "<a href=\"https://colab.research.google.com/github/KaifAhmad1/code-test/blob/main/PNG_to_PDF.ipynb\" target=\"_parent\"><img src=\"https://colab.research.google.com/assets/colab-badge.svg\" alt=\"Open In Colab\"/></a>"
      ]
    },
    {
      "cell_type": "code",
      "source": [
        "from google.colab import drive\n",
        "drive.mount('/content/drive')"
      ],
      "metadata": {
        "colab": {
          "base_uri": "https://localhost:8080/"
        },
        "id": "MDwsBr9JIVFw",
        "outputId": "f7959d8a-326c-4d21-9eec-47e2cea82efb"
      },
      "execution_count": 1,
      "outputs": [
        {
          "output_type": "stream",
          "name": "stdout",
          "text": [
            "Mounted at /content/drive\n"
          ]
        }
      ]
    },
    {
      "cell_type": "code",
      "execution_count": 2,
      "metadata": {
        "colab": {
          "base_uri": "https://localhost:8080/"
        },
        "id": "xgI8dAL1IPoe",
        "outputId": "9fb0c2a3-819b-46e0-c018-4f5acfd3d493"
      },
      "outputs": [
        {
          "output_type": "stream",
          "name": "stdout",
          "text": [
            "Saved PDF: /content/drive/MyDrive/Passport Docs/Kotak_passbook.pdf\n",
            "Saved PDF: /content/drive/MyDrive/Passport Docs/PAN.pdf\n"
          ]
        }
      ],
      "source": [
        "from PIL import Image\n",
        "\n",
        "# Define file paths\n",
        "image_paths = [\n",
        "    \"/content/drive/MyDrive/Passport Docs/Kotak_passbook.jpg\",  # Update this\n",
        "    \"/content/drive/MyDrive/Passport Docs/PAN.jpg\"   # Update this\n",
        "]\n",
        "\n",
        "output_paths = [\n",
        "    \"/content/drive/MyDrive/Passport Docs/Kotak_passbook.pdf\",  # Output file 1\n",
        "    \"/content/drive/MyDrive/Passport Docs/PAN.pdf\"   # Output file 2\n",
        "]\n",
        "\n",
        "# Convert and save each JPG as a separate PDF\n",
        "for img_path, pdf_path in zip(image_paths, output_paths):\n",
        "    image = Image.open(img_path).convert(\"RGB\")\n",
        "    image.save(pdf_path)\n",
        "    print(f\"Saved PDF: {pdf_path}\")"
      ]
    },
    {
      "cell_type": "code",
      "source": [],
      "metadata": {
        "id": "3LtHWHPWJUsO"
      },
      "execution_count": null,
      "outputs": []
    }
  ]
}