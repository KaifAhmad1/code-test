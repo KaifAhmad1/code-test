{
  "nbformat": 4,
  "nbformat_minor": 0,
  "metadata": {
    "colab": {
      "provenance": [],
      "gpuType": "T4",
      "include_colab_link": true
    },
    "kernelspec": {
      "name": "python3",
      "display_name": "Python 3"
    },
    "language_info": {
      "name": "python"
    },
    "accelerator": "GPU"
  },
  "cells": [
    {
      "cell_type": "markdown",
      "metadata": {
        "id": "view-in-github",
        "colab_type": "text"
      },
      "source": [
        "<a href=\"https://colab.research.google.com/github/KaifAhmad1/code-test/blob/main/KG_Enhanced_RAG.ipynb\" target=\"_parent\"><img src=\"https://colab.research.google.com/assets/colab-badge.svg\" alt=\"Open In Colab\"/></a>"
      ]
    },
    {
      "cell_type": "markdown",
      "source": [
        "### Problem Statement\n",
        "\n",
        "#### Task\n",
        "Develop a co-pilot for threat researchers, security analysts, and professionals that addresses the limitations of current AI solutions like ChatGPT and Perplexity.\n",
        "\n",
        "#### Current Challenges\n",
        "1. **Generic Data**: Existing AI solutions provide generic information that lacks specificity.\n",
        "2. **Context Understanding**: These solutions fail to understand and maintain context.\n",
        "3. **Limited Information**: The data sources are often limited and not comprehensive.\n",
        "4. **Single Source Dependency**: Relying on a single source of information reduces reliability and accuracy.\n",
        "5. **Inadequate AI Models**: Current models do not meet the specialized needs of cybersecurity professionals.\n",
        "\n",
        "#### Requirement\n",
        "Create a chatbot capable of collecting and curating data from multiple sources, starting with search engines, and expanding to website crawling and Twitter scraping.\n",
        "\n",
        "#### Features Required\n",
        "\n",
        "##### User Interface (UI)\n",
        "- Chat UI with file upload capabilities.\n",
        "- Options to save and select prompts.\n",
        "- Configuration settings for connectors with enable/disable toggles.\n",
        "- Interface for configuring knowledge and variables (similar to Dify.ai).\n",
        "\n",
        "##### Technical Specifications\n",
        "- **No Hallucinations**: Ensure the chatbot provides accurate and reliable information.\n",
        "- **RAG (Retrieval-Augmented Generation)**: Use RAG to determine which connectors to use based on user inputs.\n",
        "- **Query Chunking and Distribution**: Optimize the process of breaking down queries and distributing them across different sources.\n",
        "- **Data Curation Steps**:\n",
        "  1. Collect links from approximately 50 sources.\n",
        "  2. Aggregate data from websites and Twitter.\n",
        "  3. Curate data using a knowledge graph to find relationships and generate responses.\n",
        "- **Chatbot Capabilities**: Answer queries such as:\n",
        "  - \"List all details on {{BFSI}} security incidents in {{India}}.\"\n",
        "  - \"List all ransomware attacks targeting the healthcare industry in {{last 7 days/last 3 months/last week/last month}}.\"\n",
        "  - \"Provide recent incidents related to Lockbit Ransomware gang / BlackBasta Ransomware.\"\n",
        "\n",
        "#### Source Tools\n",
        "\n",
        "##### Website Crawling and Scraping\n",
        "- [Firecrawl](https://www.firecrawl.dev/playground)\n",
        "- [Crawl4AI](https://github.com/unclecode/crawl4ai)\n",
        "- [Apify](https://apify.com/apify/website-content-crawler)\n",
        "- [Exa](https://exa.ai/search)\n",
        "\n",
        "##### Twitter Sources\n",
        "- [Apify Tweet Scraper](https://apify.com/apidojo/tweet-scraper)\n",
        "- [Twitter API](https://developer.x.com/en/docs/twitter-api)\n",
        "\n",
        "##### Development Tools\n",
        "- [Flowise AI](https://flowiseai.com/)\n",
        "- [Langgenius Dify](https://github.com/langgenius/dify)\n",
        "\n",
        "#### Goal\n",
        "Develop a data collector that integrates multiple specific sources to enrich the knowledge base, enabling the model to better understand context and deliver accurate results. The solution should be modular, allowing customization and configuration of sources.\n",
        "\n",
        "#### Summary\n",
        "The goal is to build an advanced, modular chatbot for cybersecurity professionals that overcomes the limitations of existing AI solutions by integrating multiple data sources and ensuring context-aware, accurate responses. The chatbot will utilize state-of-the-art techniques like RAG and knowledge graphs to provide comprehensive, curated information from diverse sources.\n"
      ],
      "metadata": {
        "id": "jBzZYldlbmJl"
      }
    },
    {
      "cell_type": "code",
      "execution_count": 5,
      "metadata": {
        "id": "NCq8zzvwSSdD"
      },
      "outputs": [],
      "source": [
        "# Install necessary libraries\n",
        "%pip install -qU langchain langchain-community faiss-cpu kuzu pyvis\n",
        "%pip install -qU sentence-transformers torch plotly pandas scikit-learn networkx\n",
        "%pip install -qU langchain-groq apify_client langgraph  python-dotenv"
      ]
    },
    {
      "cell_type": "code",
      "source": [
        "# Import necessary libraries\n",
        "import os\n",
        "import logging\n",
        "import json\n",
        "from typing import List, Dict, Any\n",
        "\n",
        "import kuzu\n",
        "from langchain.document_loaders import WebBaseLoader\n",
        "from langchain.text_splitter import CharacterTextSplitter\n",
        "from langchain.vectorstores import FAISS\n",
        "from langchain.embeddings import HuggingFaceEmbeddings\n",
        "from langchain_groq import ChatGroq\n",
        "from langchain.prompts import PromptTemplate, ChatPromptTemplate\n",
        "from langchain.chains import LLMChain\n",
        "import networkx as nx\n",
        "import plotly.graph_objects as go\n",
        "import plotly.express as px\n",
        "from sklearn.manifold import TSNE\n",
        "import pandas as pd\n",
        "from apify_client import ApifyClient\n",
        "from langgraph.graph import Graph, END\n",
        "from langgraph.prebuilt import ToolInvocation\n",
        "\n",
        "# Set up logging\n",
        "logging.basicConfig(level=logging.INFO, format='%(asctime)s - %(levelname)s - %(message)s')\n",
        "logger = logging.getLogger(__name__)"
      ],
      "metadata": {
        "id": "wXnNIpzdS6jp",
        "colab": {
          "base_uri": "https://localhost:8080/"
        },
        "outputId": "a8688a8c-f95a-4738-fd21-2b17eac98d1e"
      },
      "execution_count": 2,
      "outputs": [
        {
          "output_type": "stream",
          "name": "stderr",
          "text": [
            "WARNING:langchain_community.utils.user_agent:USER_AGENT environment variable not set, consider setting it to identify your requests.\n"
          ]
        }
      ]
    },
    {
      "cell_type": "code",
      "source": [
        "# Load environment variables\n",
        "from dotenv import load_dotenv\n",
        "load_dotenv()\n",
        "\n",
        "GROQ_API_KEY = os.getenv(\"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\")\n",
        "APIFY_API_KEY = os.getenv(\"apify_api_t9YCnrjquQgW4BCNM8yYZrX6Q2a1uF1ImYkB\")"
      ],
      "metadata": {
        "id": "QHC-jtPQZeSQ"
      },
      "execution_count": 7,
      "outputs": []
    },
    {
      "cell_type": "code",
      "source": [
        "# Initialize HuggingFace embeddings\n",
        "# embeddings = HuggingFaceEmbeddings(model_name=\"all-MiniLM-L6-v2\")\n",
        "\n",
        "# Initialize Llama-3.1 from Meta using Groq LPU Inference\n",
        "llm = ChatGroq(\n",
        "    temperature=0,\n",
        "    model=\"llama-3.1-70b-versatile\",\n",
        "    api_key=GROQ_API_KEY\n",
        ")"
      ],
      "metadata": {
        "id": "Gf9G1XucTdQs",
        "outputId": "08e10d59-9746-4b8b-ac8d-3deb53ab4b17",
        "colab": {
          "base_uri": "https://localhost:8080/",
          "height": 367
        }
      },
      "execution_count": 11,
      "outputs": [
        {
          "output_type": "error",
          "ename": "ValidationError",
          "evalue": "1 validation error for ChatGroq\n__root__\n  Did not find groq_api_key, please add an environment variable `GROQ_API_KEY` which contains it, or pass `groq_api_key` as a named parameter. (type=value_error)",
          "traceback": [
            "\u001b[0;31m---------------------------------------------------------------------------\u001b[0m",
            "\u001b[0;31mValidationError\u001b[0m                           Traceback (most recent call last)",
            "\u001b[0;32m<ipython-input-11-f47a7ca0384f>\u001b[0m in \u001b[0;36m<cell line: 5>\u001b[0;34m()\u001b[0m\n\u001b[1;32m      3\u001b[0m \u001b[0;34m\u001b[0m\u001b[0m\n\u001b[1;32m      4\u001b[0m \u001b[0;31m# Initialize Llama-3.1 from Meta using Groq LPU Inference\u001b[0m\u001b[0;34m\u001b[0m\u001b[0;34m\u001b[0m\u001b[0m\n\u001b[0;32m----> 5\u001b[0;31m llm = ChatGroq(\n\u001b[0m\u001b[1;32m      6\u001b[0m     \u001b[0mtemperature\u001b[0m\u001b[0;34m=\u001b[0m\u001b[0;36m0\u001b[0m\u001b[0;34m,\u001b[0m\u001b[0;34m\u001b[0m\u001b[0;34m\u001b[0m\u001b[0m\n\u001b[1;32m      7\u001b[0m     \u001b[0mmodel\u001b[0m\u001b[0;34m=\u001b[0m\u001b[0;34m\"llama-3.1-70b-versatile\"\u001b[0m\u001b[0;34m,\u001b[0m\u001b[0;34m\u001b[0m\u001b[0;34m\u001b[0m\u001b[0m\n",
            "\u001b[0;32m/usr/local/lib/python3.10/dist-packages/pydantic/v1/main.py\u001b[0m in \u001b[0;36m__init__\u001b[0;34m(__pydantic_self__, **data)\u001b[0m\n\u001b[1;32m    339\u001b[0m         \u001b[0mvalues\u001b[0m\u001b[0;34m,\u001b[0m \u001b[0mfields_set\u001b[0m\u001b[0;34m,\u001b[0m \u001b[0mvalidation_error\u001b[0m \u001b[0;34m=\u001b[0m \u001b[0mvalidate_model\u001b[0m\u001b[0;34m(\u001b[0m\u001b[0m__pydantic_self__\u001b[0m\u001b[0;34m.\u001b[0m\u001b[0m__class__\u001b[0m\u001b[0;34m,\u001b[0m \u001b[0mdata\u001b[0m\u001b[0;34m)\u001b[0m\u001b[0;34m\u001b[0m\u001b[0;34m\u001b[0m\u001b[0m\n\u001b[1;32m    340\u001b[0m         \u001b[0;32mif\u001b[0m \u001b[0mvalidation_error\u001b[0m\u001b[0;34m:\u001b[0m\u001b[0;34m\u001b[0m\u001b[0;34m\u001b[0m\u001b[0m\n\u001b[0;32m--> 341\u001b[0;31m             \u001b[0;32mraise\u001b[0m \u001b[0mvalidation_error\u001b[0m\u001b[0;34m\u001b[0m\u001b[0;34m\u001b[0m\u001b[0m\n\u001b[0m\u001b[1;32m    342\u001b[0m         \u001b[0;32mtry\u001b[0m\u001b[0;34m:\u001b[0m\u001b[0;34m\u001b[0m\u001b[0;34m\u001b[0m\u001b[0m\n\u001b[1;32m    343\u001b[0m             \u001b[0mobject_setattr\u001b[0m\u001b[0;34m(\u001b[0m\u001b[0m__pydantic_self__\u001b[0m\u001b[0;34m,\u001b[0m \u001b[0;34m'__dict__'\u001b[0m\u001b[0;34m,\u001b[0m \u001b[0mvalues\u001b[0m\u001b[0;34m)\u001b[0m\u001b[0;34m\u001b[0m\u001b[0;34m\u001b[0m\u001b[0m\n",
            "\u001b[0;31mValidationError\u001b[0m: 1 validation error for ChatGroq\n__root__\n  Did not find groq_api_key, please add an environment variable `GROQ_API_KEY` which contains it, or pass `groq_api_key` as a named parameter. (type=value_error)"
          ]
        }
      ]
    },
    {
      "cell_type": "code",
      "source": [
        "# Initialize chat prompt\n",
        "system = \"You are a cybersecurity expert assistant.\"\n",
        "human = \"{text}\"\n",
        "prompt = ChatPromptTemplate.from_messages([(\"system\", system), (\"human\", human)])\n",
        "\n",
        "chain = prompt | llm"
      ],
      "metadata": {
        "id": "l1aDr4fraUFH",
        "outputId": "355920a6-b2d2-46f4-db96-ba45dcda8776",
        "colab": {
          "base_uri": "https://localhost:8080/",
          "height": 176
        }
      },
      "execution_count": 9,
      "outputs": [
        {
          "output_type": "error",
          "ename": "NameError",
          "evalue": "name 'llm' is not defined",
          "traceback": [
            "\u001b[0;31m---------------------------------------------------------------------------\u001b[0m",
            "\u001b[0;31mNameError\u001b[0m                                 Traceback (most recent call last)",
            "\u001b[0;32m<ipython-input-9-16ac45d16098>\u001b[0m in \u001b[0;36m<cell line: 6>\u001b[0;34m()\u001b[0m\n\u001b[1;32m      4\u001b[0m \u001b[0mprompt\u001b[0m \u001b[0;34m=\u001b[0m \u001b[0mChatPromptTemplate\u001b[0m\u001b[0;34m.\u001b[0m\u001b[0mfrom_messages\u001b[0m\u001b[0;34m(\u001b[0m\u001b[0;34m[\u001b[0m\u001b[0;34m(\u001b[0m\u001b[0;34m\"system\"\u001b[0m\u001b[0;34m,\u001b[0m \u001b[0msystem\u001b[0m\u001b[0;34m)\u001b[0m\u001b[0;34m,\u001b[0m \u001b[0;34m(\u001b[0m\u001b[0;34m\"human\"\u001b[0m\u001b[0;34m,\u001b[0m \u001b[0mhuman\u001b[0m\u001b[0;34m)\u001b[0m\u001b[0;34m]\u001b[0m\u001b[0;34m)\u001b[0m\u001b[0;34m\u001b[0m\u001b[0;34m\u001b[0m\u001b[0m\n\u001b[1;32m      5\u001b[0m \u001b[0;34m\u001b[0m\u001b[0m\n\u001b[0;32m----> 6\u001b[0;31m \u001b[0mchain\u001b[0m \u001b[0;34m=\u001b[0m \u001b[0mprompt\u001b[0m \u001b[0;34m|\u001b[0m \u001b[0mllm\u001b[0m\u001b[0;34m\u001b[0m\u001b[0;34m\u001b[0m\u001b[0m\n\u001b[0m",
            "\u001b[0;31mNameError\u001b[0m: name 'llm' is not defined"
          ]
        }
      ]
    },
    {
      "cell_type": "code",
      "source": [
        "# Initialize Apify client\n",
        "apify_client = ApifyClient(\"apify_api_t9YCnrjquQgW4BCNM8yYZrX6Q2a1uF1ImYkB\")"
      ],
      "metadata": {
        "id": "0HGnCtuBTdWP"
      },
      "execution_count": null,
      "outputs": []
    },
    {
      "cell_type": "code",
      "source": [
        "# Cybersecurity-specific websites\n",
        "websites = [\n",
        "    \"https://www.cisa.gov/uscert/ncas/alerts\",\n",
        "    \"https://www.virustotal.com/gui/home/upload\",\n",
        "    \"https://attack.mitre.org/\",\n",
        "    \"https://www.darkreading.com/\",\n",
        "    \"https://threatpost.com/\",\n",
        "]"
      ],
      "metadata": {
        "id": "M3PWVNlqTdcj"
      },
      "execution_count": null,
      "outputs": []
    },
    {
      "cell_type": "code",
      "source": [
        "# Function to scrape websites using Apify\n",
        "def scrape_websites(urls):\n",
        "    run_input = {\n",
        "        \"startUrls\": [{\"url\": url} for url in urls],\n",
        "        \"maxCrawlPages\": 10,\n",
        "        \"maxCrawlDepth\": 1,\n",
        "    }\n",
        "\n",
        "    run = apify_client.actor(\"apify/website-content-crawler\").call(run_input=run_input)\n",
        "\n",
        "    dataset_items = apify_client.dataset(run[\"defaultDatasetId\"]).list_items().items\n",
        "\n",
        "    return [item.get('text', '') for item in dataset_items if 'text' in item]\n",
        "\n",
        "documents = scrape_websites(websites)\n",
        "print(documents[:5])"
      ],
      "metadata": {
        "id": "09mr6JGo8H2H",
        "colab": {
          "base_uri": "https://localhost:8080/"
        },
        "outputId": "0a5512e8-cd33-433f-a4b5-f0f7a4e0ad58"
      },
      "execution_count": null,
      "outputs": [
        {
          "output_type": "stream",
          "name": "stdout",
          "text": [
            "['Cybersecurity Alerts & Advisories | CISALockNational Terrorism Advisory System Widget\\nCybersecurity Advisory: In-depth reports covering a specific cybersecurity issue, often including threat actor tactics, techniques, and procedures; indicators of compromise; and mitigations.\\nAlert: Concise summaries covering cybersecurity topics, such as mitigations that vendors have published for vulnerabilities in their products.\\nICS Advisory: Concise summaries covering industrial control system (ICS) cybersecurity topics, primarily focused on mitigations that ICS vendors have published for vulnerabilities in their products.\\nICS Medical Advisory: Concise summaries covering ICS medical cybersecurity topics, primarily focused on mitigations that ICS medical vendors have published for vulnerabilities in their products.\\nAnalysis Report: In-depth analysis of a new or evolving cyber threat, including technical details and remediations.', 'ATT&CKcon 5.0 returns October 22-23, 2024 in McLean, VA. Register here today! \\nGet Started \\tTake a Tour \\t\\nContribute \\tBlog \\t\\nFAQ \\t\\nRandom Page Toggle Dropdown Toggle Dropdown \\nMatrix Tactic Technique Data Source Mitigation Group Software Campaign Asset \\n\\t\\nMITRE ATT&CK® is a globally-accessible knowledge base of adversary tactics and techniques based on real-world observations. The ATT&CK knowledge base is used as a foundation for the development of specific threat models and methodologies in the private sector, in government, and in the cybersecurity product and service community.\\nWith the creation of ATT&CK, MITRE is fulfilling its mission to solve problems for a safer world — by bringing communities together to develop more effective cybersecurity. ATT&CK is open and available to any person or organization for use at no charge.\\nATT&CK Matrix for Enterprise\\nlayout: side \\nside flat \\nshow sub-techniques hide sub-techniques \\nReconnaissance\\tResource Development\\tInitial Access\\tExecution\\tPersistence\\tPrivilege Escalation\\tDefense Evasion\\tCredential Access\\tDiscovery\\tLateral Movement\\tCollection\\tCommand and Control\\tExfiltration\\tImpact\\t\\n10 techniques \\t8 techniques \\t10 techniques \\t14 techniques \\t20 techniques \\t14 techniques \\t43 techniques \\t17 techniques \\t32 techniques \\t9 techniques \\t17 techniques \\t18 techniques \\t9 techniques \\t14 techniques \\t\\nActive Scanning (3) \\n\\t\\n\\t\\n= \\n\\t\\nScanning IP Blocks \\nVulnerability Scanning \\nWordlist Scanning \\n\\t\\nGather Victim Host Information (4) \\n\\t\\n\\t\\n= \\n\\t\\nHardware \\nSoftware \\nFirmware \\nClient Configurations \\n\\t\\nGather Victim Identity Information (3) \\n\\t\\n\\t\\n= \\n\\t\\nCredentials \\nEmail Addresses \\nEmployee Names \\n\\t\\nGather Victim Network Information (6) \\n\\t\\n\\t\\n= \\n\\t\\nDomain Properties \\nDNS \\nNetwork Trust Dependencies \\nNetwork Topology \\nIP Addresses \\nNetwork Security Appliances \\n\\t\\nGather Victim Org Information (4) \\n\\t\\n\\t\\n= \\n\\t\\nDetermine Physical Locations \\nBusiness Relationships \\nIdentify Business Tempo \\nIdentify Roles \\n\\t\\nPhishing for Information (4) \\n\\t\\n\\t\\n= \\n\\t\\nSpearphishing Service \\nSpearphishing Attachment \\nSpearphishing Link \\nSpearphishing Voice \\n\\t\\nSearch Closed Sources (2) \\n\\t\\n\\t\\n= \\n\\t\\nThreat Intel Vendors \\nPurchase Technical Data \\n\\t\\nSearch Open Technical Databases (5) \\n\\t\\n\\t\\n= \\n\\t\\nDNS/Passive DNS \\nWHOIS \\nDigital Certificates \\nCDNs \\nScan Databases \\n\\t\\nSearch Open Websites/Domains (3) \\n\\t\\n\\t\\n= \\n\\t\\nSocial Media \\nSearch Engines \\nCode Repositories \\n\\t\\nSearch Victim-Owned Websites \\n\\t\\n\\t\\n\\t\\nAcquire Access \\n\\t\\n\\t\\nAcquire Infrastructure (8) \\n\\t\\n\\t\\n= \\n\\t\\nDomains \\nDNS Server \\nVirtual Private Server \\nServer \\nBotnet \\nWeb Services \\nServerless \\nMalvertising \\n\\t\\nCompromise Accounts (3) \\n\\t\\n\\t\\n= \\n\\t\\nSocial Media Accounts \\nEmail Accounts \\nCloud Accounts \\n\\t\\nCompromise Infrastructure (8) \\n\\t\\n\\t\\n= \\n\\t\\nDomains \\nDNS Server \\nVirtual Private Server \\nServer \\nBotnet \\nWeb Services \\nServerless \\nNetwork Devices \\n\\t\\nDevelop Capabilities (4) \\n\\t\\n\\t\\n= \\n\\t\\nMalware \\nCode Signing Certificates \\nDigital Certificates \\nExploits \\n\\t\\nEstablish Accounts (3) \\n\\t\\n\\t\\n= \\n\\t\\nSocial Media Accounts \\nEmail Accounts \\nCloud Accounts \\n\\t\\nObtain Capabilities (7) \\n\\t\\n\\t\\n= \\n\\t\\nMalware \\nTool \\nCode Signing Certificates \\nDigital Certificates \\nExploits \\nVulnerabilities \\nArtificial Intelligence \\n\\t\\nStage Capabilities (6) \\n\\t\\n\\t\\n= \\n\\t\\nUpload Malware \\nUpload Tool \\nInstall Digital Certificate \\nDrive-by Target \\nLink Target \\nSEO Poisoning \\n\\t\\n\\t\\nContent Injection \\n\\t\\n\\t\\nDrive-by Compromise \\n\\t\\n\\t\\nExploit Public-Facing Application \\n\\t\\n\\t\\nExternal Remote Services \\n\\t\\n\\t\\nHardware Additions \\n\\t\\n\\t\\nPhishing (4) \\n\\t\\n\\t\\n= \\n\\t\\nSpearphishing Attachment \\nSpearphishing Link \\nSpearphishing via Service \\nSpearphishing Voice \\n\\t\\nReplication Through Removable Media \\n\\t\\n\\t\\nSupply Chain Compromise (3) \\n\\t\\n\\t\\n= \\n\\t\\nCompromise Software Dependencies and Development Tools \\nCompromise Software Supply Chain \\nCompromise Hardware Supply Chain \\n\\t\\nTrusted Relationship \\n\\t\\n\\t\\nValid Accounts (4) \\n\\t\\n\\t\\n= \\n\\t\\nDefault Accounts \\nDomain Accounts \\nLocal Accounts \\nCloud Accounts \\n\\t\\n\\t\\nCloud Administration Command \\n\\t\\n\\t\\nCommand and Scripting Interpreter (10) \\n\\t\\n\\t\\n= \\n\\t\\nPowerShell \\nAppleScript \\nWindows Command Shell \\nUnix Shell \\nVisual Basic \\nPython \\nJavaScript \\nNetwork Device CLI \\nCloud API \\nAutoHotKey & AutoIT \\n\\t\\nContainer Administration Command \\n\\t\\n\\t\\nDeploy Container \\n\\t\\n\\t\\nExploitation for Client Execution \\n\\t\\n\\t\\nInter-Process Communication (3) \\n\\t\\n\\t\\n= \\n\\t\\nComponent Object Model \\nDynamic Data Exchange \\nXPC Services \\n\\t\\nNative API \\n\\t\\n\\t\\nScheduled Task/Job (5) \\n\\t\\n\\t\\n= \\n\\t\\nAt \\nCron \\nScheduled Task \\nSystemd Timers \\nContainer Orchestration Job \\n\\t\\nServerless Execution \\n\\t\\n\\t\\nShared Modules \\n\\t\\n\\t\\nSoftware Deployment Tools \\n\\t\\n\\t\\nSystem Services (2) \\n\\t\\n\\t\\n= \\n\\t\\nLaunchctl \\nService Execution \\n\\t\\nUser Execution (3) \\n\\t\\n\\t\\n= \\n\\t\\nMalicious Link \\nMalicious File \\nMalicious Image \\n\\t\\nWindows Management Instrumentation \\n\\t\\n\\t\\n\\t\\nAccount Manipulation (6) \\n\\t\\n\\t\\n= \\n\\t\\nAdditional Cloud Credentials \\nAdditional Email Delegate Permissions \\nAdditional Cloud Roles \\nSSH Authorized Keys \\nDevice Registration \\nAdditional Container Cluster Roles \\n\\t\\nBITS Jobs \\n\\t\\n\\t\\nBoot or Logon Autostart Execution (14) \\n\\t\\n\\t\\n= \\n\\t\\nRegistry Run Keys / Startup Folder \\nAuthentication Package \\nTime Providers \\nWinlogon Helper DLL \\nSecurity Support Provider \\nKernel Modules and Extensions \\nRe-opened Applications \\nLSASS Driver \\nShortcut Modification \\nPort Monitors \\nPrint Processors \\nXDG Autostart Entries \\nActive Setup \\nLogin Items \\n\\t\\nBoot or Logon Initialization Scripts (5) \\n\\t\\n\\t\\n= \\n\\t\\nLogon Script (Windows) \\nLogin Hook \\nNetwork Logon Script \\nRC Scripts \\nStartup Items \\n\\t\\nBrowser Extensions \\n\\t\\n\\t\\nCompromise Host Software Binary \\n\\t\\n\\t\\nCreate Account (3) \\n\\t\\n\\t\\n= \\n\\t\\nLocal Account \\nDomain Account \\nCloud Account \\n\\t\\nCreate or Modify System Process (5) \\n\\t\\n\\t\\n= \\n\\t\\nLaunch Agent \\nSystemd Service \\nWindows Service \\nLaunch Daemon \\nContainer Service \\n\\t\\nEvent Triggered Execution (16) \\n\\t\\n\\t\\n= \\n\\t\\nChange Default File Association \\nScreensaver \\nWindows Management Instrumentation Event Subscription \\nUnix Shell Configuration Modification \\nTrap \\nLC_LOAD_DYLIB Addition \\nNetsh Helper DLL \\nAccessibility Features \\nAppCert DLLs \\nAppInit DLLs \\nApplication Shimming \\nImage File Execution Options Injection \\nPowerShell Profile \\nEmond \\nComponent Object Model Hijacking \\nInstaller Packages \\n\\t\\nExternal Remote Services \\n\\t\\n\\t\\nHijack Execution Flow (13) \\n\\t\\n\\t\\n= \\n\\t\\nDLL Search Order Hijacking \\nDLL Side-Loading \\nDylib Hijacking \\nExecutable Installer File Permissions Weakness \\nDynamic Linker Hijacking \\nPath Interception by PATH Environment Variable \\nPath Interception by Search Order Hijacking \\nPath Interception by Unquoted Path \\nServices File Permissions Weakness \\nServices Registry Permissions Weakness \\nCOR_PROFILER \\nKernelCallbackTable \\nAppDomainManager \\n\\t\\nImplant Internal Image \\n\\t\\n\\t\\nModify Authentication Process (9) \\n\\t\\n\\t\\n= \\n\\t\\nDomain Controller Authentication \\nPassword Filter DLL \\nPluggable Authentication Modules \\nNetwork Device Authentication \\nReversible Encryption \\nMulti-Factor Authentication \\nHybrid Identity \\nNetwork Provider DLL \\nConditional Access Policies \\n\\t\\nOffice Application Startup (6) \\n\\t\\n\\t\\n= \\n\\t\\nOffice Template Macros \\nOffice Test \\nOutlook Forms \\nOutlook Home Page \\nOutlook Rules \\nAdd-ins \\n\\t\\nPower Settings \\n\\t\\n\\t\\nPre-OS Boot (5) \\n\\t\\n\\t\\n= \\n\\t\\nSystem Firmware \\nComponent Firmware \\nBootkit \\nROMMONkit \\nTFTP Boot \\n\\t\\nScheduled Task/Job (5) \\n\\t\\n\\t\\n= \\n\\t\\nAt \\nCron \\nScheduled Task \\nSystemd Timers \\nContainer Orchestration Job \\n\\t\\nServer Software Component (5) \\n\\t\\n\\t\\n= \\n\\t\\nSQL Stored Procedures \\nTransport Agent \\nWeb Shell \\nIIS Components \\nTerminal Services DLL \\n\\t\\nTraffic Signaling (2) \\n\\t\\n\\t\\n= \\n\\t\\nPort Knocking \\nSocket Filters \\n\\t\\nValid Accounts (4) \\n\\t\\n\\t\\n= \\n\\t\\nDefault Accounts \\nDomain Accounts \\nLocal Accounts \\nCloud Accounts \\n\\t\\n\\t\\nAbuse Elevation Control Mechanism (6) \\n\\t\\n\\t\\n= \\n\\t\\nSetuid and Setgid \\nBypass User Account Control \\nSudo and Sudo Caching \\nElevated Execution with Prompt \\nTemporary Elevated Cloud Access \\nTCC Manipulation \\n\\t\\nAccess Token Manipulation (5) \\n\\t\\n\\t\\n= \\n\\t\\nToken Impersonation/Theft \\nCreate Process with Token \\nMake and Impersonate Token \\nParent PID Spoofing \\nSID-History Injection \\n\\t\\nAccount Manipulation (6) \\n\\t\\n\\t\\n= \\n\\t\\nAdditional Cloud Credentials \\nAdditional Email Delegate Permissions \\nAdditional Cloud Roles \\nSSH Authorized Keys \\nDevice Registration \\nAdditional Container Cluster Roles \\n\\t\\nBoot or Logon Autostart Execution (14) \\n\\t\\n\\t\\n= \\n\\t\\nRegistry Run Keys / Startup Folder \\nAuthentication Package \\nTime Providers \\nWinlogon Helper DLL \\nSecurity Support Provider \\nKernel Modules and Extensions \\nRe-opened Applications \\nLSASS Driver \\nShortcut Modification \\nPort Monitors \\nPrint Processors \\nXDG Autostart Entries \\nActive Setup \\nLogin Items \\n\\t\\nBoot or Logon Initialization Scripts (5) \\n\\t\\n\\t\\n= \\n\\t\\nLogon Script (Windows) \\nLogin Hook \\nNetwork Logon Script \\nRC Scripts \\nStartup Items \\n\\t\\nCreate or Modify System Process (5) \\n\\t\\n\\t\\n= \\n\\t\\nLaunch Agent \\nSystemd Service \\nWindows Service \\nLaunch Daemon \\nContainer Service \\n\\t\\nDomain or Tenant Policy Modification (2) \\n\\t\\n\\t\\n= \\n\\t\\nGroup Policy Modification \\nTrust Modification \\n\\t\\nEscape to Host \\n\\t\\n\\t\\nEvent Triggered Execution (16) \\n\\t\\n\\t\\n= \\n\\t\\nChange Default File Association \\nScreensaver \\nWindows Management Instrumentation Event Subscription \\nUnix Shell Configuration Modification \\nTrap \\nLC_LOAD_DYLIB Addition \\nNetsh Helper DLL \\nAccessibility Features \\nAppCert DLLs \\nAppInit DLLs \\nApplication Shimming \\nImage File Execution Options Injection \\nPowerShell Profile \\nEmond \\nComponent Object Model Hijacking \\nInstaller Packages \\n\\t\\nExploitation for Privilege Escalation \\n\\t\\n\\t\\nHijack Execution Flow (13) \\n\\t\\n\\t\\n= \\n\\t\\nDLL Search Order Hijacking \\nDLL Side-Loading \\nDylib Hijacking \\nExecutable Installer File Permissions Weakness \\nDynamic Linker Hijacking \\nPath Interception by PATH Environment Variable \\nPath Interception by Search Order Hijacking \\nPath Interception by Unquoted Path \\nServices File Permissions Weakness \\nServices Registry Permissions Weakness \\nCOR_PROFILER \\nKernelCallbackTable \\nAppDomainManager \\n\\t\\nProcess Injection (12) \\n\\t\\n\\t\\n= \\n\\t\\nDynamic-link Library Injection \\nPortable Executable Injection \\nThread Execution Hijacking \\nAsynchronous Procedure Call \\nThread Local Storage \\nPtrace System Calls \\nProc Memory \\nExtra Window Memory Injection \\nProcess Hollowing \\nProcess Doppelgänging \\nVDSO Hijacking \\nListPlanting \\n\\t\\nScheduled Task/Job (5) \\n\\t\\n\\t\\n= \\n\\t\\nAt \\nCron \\nScheduled Task \\nSystemd Timers \\nContainer Orchestration Job \\n\\t\\nValid Accounts (4) \\n\\t\\n\\t\\n= \\n\\t\\nDefault Accounts \\nDomain Accounts \\nLocal Accounts \\nCloud Accounts \\n\\t\\n\\t\\nAbuse Elevation Control Mechanism (6) \\n\\t\\n\\t\\n= \\n\\t\\nSetuid and Setgid \\nBypass User Account Control \\nSudo and Sudo Caching \\nElevated Execution with Prompt \\nTemporary Elevated Cloud Access \\nTCC Manipulation \\n\\t\\nAccess Token Manipulation (5) \\n\\t\\n\\t\\n= \\n\\t\\nToken Impersonation/Theft \\nCreate Process with Token \\nMake and Impersonate Token \\nParent PID Spoofing \\nSID-History Injection \\n\\t\\nBITS Jobs \\n\\t\\n\\t\\nBuild Image on Host \\n\\t\\n\\t\\nDebugger Evasion \\n\\t\\n\\t\\nDeobfuscate/Decode Files or Information \\n\\t\\n\\t\\nDeploy Container \\n\\t\\n\\t\\nDirect Volume Access \\n\\t\\n\\t\\nDomain or Tenant Policy Modification (2) \\n\\t\\n\\t\\n= \\n\\t\\nGroup Policy Modification \\nTrust Modification \\n\\t\\nExecution Guardrails (1) \\n\\t\\n\\t\\n= \\n\\t\\nEnvironmental Keying \\n\\t\\nExploitation for Defense Evasion \\n\\t\\n\\t\\nFile and Directory Permissions Modification (2) \\n\\t\\n\\t\\n= \\n\\t\\nWindows File and Directory Permissions Modification \\nLinux and Mac File and Directory Permissions Modification \\n\\t\\nHide Artifacts (12) \\n\\t\\n\\t\\n= \\n\\t\\nHidden Files and Directories \\nHidden Users \\nHidden Window \\nNTFS File Attributes \\nHidden File System \\nRun Virtual Instance \\nVBA Stomping \\nEmail Hiding Rules \\nResource Forking \\nProcess Argument Spoofing \\nIgnore Process Interrupts \\nFile/Path Exclusions \\n\\t\\nHijack Execution Flow (13) \\n\\t\\n\\t\\n= \\n\\t\\nDLL Search Order Hijacking \\nDLL Side-Loading \\nDylib Hijacking \\nExecutable Installer File Permissions Weakness \\nDynamic Linker Hijacking \\nPath Interception by PATH Environment Variable \\nPath Interception by Search Order Hijacking \\nPath Interception by Unquoted Path \\nServices File Permissions Weakness \\nServices Registry Permissions Weakness \\nCOR_PROFILER \\nKernelCallbackTable \\nAppDomainManager \\n\\t\\nImpair Defenses (11) \\n\\t\\n\\t\\n= \\n\\t\\nDisable or Modify Tools \\nDisable Windows Event Logging \\nImpair Command History Logging \\nDisable or Modify System Firewall \\nIndicator Blocking \\nDisable or Modify Cloud Firewall \\nDisable or Modify Cloud Logs \\nSafe Mode Boot \\nDowngrade Attack \\nSpoof Security Alerting \\nDisable or Modify Linux Audit System \\n\\t\\nImpersonation \\n\\t\\n\\t\\nIndicator Removal (9) \\n\\t\\n\\t\\n= \\n\\t\\nClear Windows Event Logs \\nClear Linux or Mac System Logs \\nClear Command History \\nFile Deletion \\nNetwork Share Connection Removal \\nTimestomp \\nClear Network Connection History and Configurations \\nClear Mailbox Data \\nClear Persistence \\n\\t\\nIndirect Command Execution \\n\\t\\n\\t\\nMasquerading (9) \\n\\t\\n\\t\\n= \\n\\t\\nInvalid Code Signature \\nRight-to-Left Override \\nRename System Utilities \\nMasquerade Task or Service \\nMatch Legitimate Name or Location \\nSpace after Filename \\nDouble File Extension \\nMasquerade File Type \\nBreak Process Trees \\n\\t\\nModify Authentication Process (9) \\n\\t\\n\\t\\n= \\n\\t\\nDomain Controller Authentication \\nPassword Filter DLL \\nPluggable Authentication Modules \\nNetwork Device Authentication \\nReversible Encryption \\nMulti-Factor Authentication \\nHybrid Identity \\nNetwork Provider DLL \\nConditional Access Policies \\n\\t\\nModify Cloud Compute Infrastructure (5) \\n\\t\\n\\t\\n= \\n\\t\\nCreate Snapshot \\nCreate Cloud Instance \\nDelete Cloud Instance \\nRevert Cloud Instance \\nModify Cloud Compute Configurations \\n\\t\\nModify Registry \\n\\t\\n\\t\\nModify System Image (2) \\n\\t\\n\\t\\n= \\n\\t\\nPatch System Image \\nDowngrade System Image \\n\\t\\nNetwork Boundary Bridging (1) \\n\\t\\n\\t\\n= \\n\\t\\nNetwork Address Translation Traversal \\n\\t\\nObfuscated Files or Information (13) \\n\\t\\n\\t\\n= \\n\\t\\nBinary Padding \\nSoftware Packing \\nSteganography \\nCompile After Delivery \\nIndicator Removal from Tools \\nHTML Smuggling \\nDynamic API Resolution \\nStripped Payloads \\nEmbedded Payloads \\nCommand Obfuscation \\nFileless Storage \\nLNK Icon Smuggling \\nEncrypted/Encoded File \\n\\t\\nPlist File Modification \\n\\t\\n\\t\\nPre-OS Boot (5) \\n\\t\\n\\t\\n= \\n\\t\\nSystem Firmware \\nComponent Firmware \\nBootkit \\nROMMONkit \\nTFTP Boot \\n\\t\\nProcess Injection (12) \\n\\t\\n\\t\\n= \\n\\t\\nDynamic-link Library Injection \\nPortable Executable Injection \\nThread Execution Hijacking \\nAsynchronous Procedure Call \\nThread Local Storage \\nPtrace System Calls \\nProc Memory \\nExtra Window Memory Injection \\nProcess Hollowing \\nProcess Doppelgänging \\nVDSO Hijacking \\nListPlanting \\n\\t\\nReflective Code Loading \\n\\t\\n\\t\\nRogue Domain Controller \\n\\t\\n\\t\\nRootkit \\n\\t\\n\\t\\nSubvert Trust Controls (6) \\n\\t\\n\\t\\n= \\n\\t\\nGatekeeper Bypass \\nCode Signing \\nSIP and Trust Provider Hijacking \\nInstall Root Certificate \\nMark-of-the-Web Bypass \\nCode Signing Policy Modification \\n\\t\\nSystem Binary Proxy Execution (14) \\n\\t\\n\\t\\n= \\n\\t\\nCompiled HTML File \\nControl Panel \\nCMSTP \\nInstallUtil \\nMshta \\nMsiexec \\nOdbcconf \\nRegsvcs/Regasm \\nRegsvr32 \\nRundll32 \\nVerclsid \\nMavinject \\nMMC \\nElectron Applications \\n\\t\\nSystem Script Proxy Execution (2) \\n\\t\\n\\t\\n= \\n\\t\\nPubPrn \\nSyncAppvPublishingServer \\n\\t\\nTemplate Injection \\n\\t\\n\\t\\nTraffic Signaling (2) \\n\\t\\n\\t\\n= \\n\\t\\nPort Knocking \\nSocket Filters \\n\\t\\nTrusted Developer Utilities Proxy Execution (1) \\n\\t\\n\\t\\n= \\n\\t\\nMSBuild \\n\\t\\nUnused/Unsupported Cloud Regions \\n\\t\\n\\t\\nUse Alternate Authentication Material (4) \\n\\t\\n\\t\\n= \\n\\t\\nApplication Access Token \\nPass the Hash \\nPass the Ticket \\nWeb Session Cookie \\n\\t\\nValid Accounts (4) \\n\\t\\n\\t\\n= \\n\\t\\nDefault Accounts \\nDomain Accounts \\nLocal Accounts \\nCloud Accounts \\n\\t\\nVirtualization/Sandbox Evasion (3) \\n\\t\\n\\t\\n= \\n\\t\\nSystem Checks \\nUser Activity Based Checks \\nTime Based Evasion \\n\\t\\nWeaken Encryption (2) \\n\\t\\n\\t\\n= \\n\\t\\nReduce Key Space \\nDisable Crypto Hardware \\n\\t\\nXSL Script Processing \\n\\t\\n\\t\\n\\t\\nAdversary-in-the-Middle (3) \\n\\t\\n\\t\\n= \\n\\t\\nLLMNR/NBT-NS Poisoning and SMB Relay \\nARP Cache Poisoning \\nDHCP Spoofing \\n\\t\\nBrute Force (4) \\n\\t\\n\\t\\n= \\n\\t\\nPassword Guessing \\nPassword Cracking \\nPassword Spraying \\nCredential Stuffing \\n\\t\\nCredentials from Password Stores (6) \\n\\t\\n\\t\\n= \\n\\t\\nKeychain \\nSecurityd Memory \\nCredentials from Web Browsers \\nWindows Credential Manager \\nPassword Managers \\nCloud Secrets Management Stores \\n\\t\\nExploitation for Credential Access \\n\\t\\n\\t\\nForced Authentication \\n\\t\\n\\t\\nForge Web Credentials (2) \\n\\t\\n\\t\\n= \\n\\t\\nWeb Cookies \\nSAML Tokens \\n\\t\\nInput Capture (4) \\n\\t\\n\\t\\n= \\n\\t\\nKeylogging \\nGUI Input Capture \\nWeb Portal Capture \\nCredential API Hooking \\n\\t\\nModify Authentication Process (9) \\n\\t\\n\\t\\n= \\n\\t\\nDomain Controller Authentication \\nPassword Filter DLL \\nPluggable Authentication Modules \\nNetwork Device Authentication \\nReversible Encryption \\nMulti-Factor Authentication \\nHybrid Identity \\nNetwork Provider DLL \\nConditional Access Policies \\n\\t\\nMulti-Factor Authentication Interception \\n\\t\\n\\t\\nMulti-Factor Authentication Request Generation \\n\\t\\n\\t\\nNetwork Sniffing \\n\\t\\n\\t\\nOS Credential Dumping (8) \\n\\t\\n\\t\\n= \\n\\t\\nLSASS Memory \\nSecurity Account Manager \\nNTDS \\nLSA Secrets \\nCached Domain Credentials \\nDCSync \\nProc Filesystem \\n/etc/passwd and /etc/shadow \\n\\t\\nSteal Application Access Token \\n\\t\\n\\t\\nSteal or Forge Authentication Certificates \\n\\t\\n\\t\\nSteal or Forge Kerberos Tickets (4) \\n\\t\\n\\t\\n= \\n\\t\\nGolden Ticket \\nSilver Ticket \\nKerberoasting \\nAS-REP Roasting \\n\\t\\nSteal Web Session Cookie \\n\\t\\n\\t\\nUnsecured Credentials (8) \\n\\t\\n\\t\\n= \\n\\t\\nCredentials In Files \\nCredentials in Registry \\nBash History \\nPrivate Keys \\nCloud Instance Metadata API \\nGroup Policy Preferences \\nContainer API \\nChat Messages \\n\\t\\n\\t\\nAccount Discovery (4) \\n\\t\\n\\t\\n= \\n\\t\\nLocal Account \\nDomain Account \\nEmail Account \\nCloud Account \\n\\t\\nApplication Window Discovery \\n\\t\\n\\t\\nBrowser Information Discovery \\n\\t\\n\\t\\nCloud Infrastructure Discovery \\n\\t\\n\\t\\nCloud Service Dashboard \\n\\t\\n\\t\\nCloud Service Discovery \\n\\t\\n\\t\\nCloud Storage Object Discovery \\n\\t\\n\\t\\nContainer and Resource Discovery \\n\\t\\n\\t\\nDebugger Evasion \\n\\t\\n\\t\\nDevice Driver Discovery \\n\\t\\n\\t\\nDomain Trust Discovery \\n\\t\\n\\t\\nFile and Directory Discovery \\n\\t\\n\\t\\nGroup Policy Discovery \\n\\t\\n\\t\\nLog Enumeration \\n\\t\\n\\t\\nNetwork Service Discovery \\n\\t\\n\\t\\nNetwork Share Discovery \\n\\t\\n\\t\\nNetwork Sniffing \\n\\t\\n\\t\\nPassword Policy Discovery \\n\\t\\n\\t\\nPeripheral Device Discovery \\n\\t\\n\\t\\nPermission Groups Discovery (3) \\n\\t\\n\\t\\n= \\n\\t\\nLocal Groups \\nDomain Groups \\nCloud Groups \\n\\t\\nProcess Discovery \\n\\t\\n\\t\\nQuery Registry \\n\\t\\n\\t\\nRemote System Discovery \\n\\t\\n\\t\\nSoftware Discovery (1) \\n\\t\\n\\t\\n= \\n\\t\\nSecurity Software Discovery \\n\\t\\nSystem Information Discovery \\n\\t\\n\\t\\nSystem Location Discovery (1) \\n\\t\\n\\t\\n= \\n\\t\\nSystem Language Discovery \\n\\t\\nSystem Network Configuration Discovery (2) \\n\\t\\n\\t\\n= \\n\\t\\nInternet Connection Discovery \\nWi-Fi Discovery \\n\\t\\nSystem Network Connections Discovery \\n\\t\\n\\t\\nSystem Owner/User Discovery \\n\\t\\n\\t\\nSystem Service Discovery \\n\\t\\n\\t\\nSystem Time Discovery \\n\\t\\n\\t\\nVirtualization/Sandbox Evasion (3) \\n\\t\\n\\t\\n= \\n\\t\\nSystem Checks \\nUser Activity Based Checks \\nTime Based Evasion \\n\\t\\n\\t\\nExploitation of Remote Services \\n\\t\\n\\t\\nInternal Spearphishing \\n\\t\\n\\t\\nLateral Tool Transfer \\n\\t\\n\\t\\nRemote Service Session Hijacking (2) \\n\\t\\n\\t\\n= \\n\\t\\nSSH Hijacking \\nRDP Hijacking \\n\\t\\nRemote Services (8) \\n\\t\\n\\t\\n= \\n\\t\\nRemote Desktop Protocol \\nSMB/Windows Admin Shares \\nDistributed Component Object Model \\nSSH \\nVNC \\nWindows Remote Management \\nCloud Services \\nDirect Cloud VM Connections \\n\\t\\nReplication Through Removable Media \\n\\t\\n\\t\\nSoftware Deployment Tools \\n\\t\\n\\t\\nTaint Shared Content \\n\\t\\n\\t\\nUse Alternate Authentication Material (4) \\n\\t\\n\\t\\n= \\n\\t\\nApplication Access Token \\nPass the Hash \\nPass the Ticket \\nWeb Session Cookie \\n\\t\\n\\t\\nAdversary-in-the-Middle (3) \\n\\t\\n\\t\\n= \\n\\t\\nLLMNR/NBT-NS Poisoning and SMB Relay \\nARP Cache Poisoning \\nDHCP Spoofing \\n\\t\\nArchive Collected Data (3) \\n\\t\\n\\t\\n= \\n\\t\\nArchive via Utility \\nArchive via Library \\nArchive via Custom Method \\n\\t\\nAudio Capture \\n\\t\\n\\t\\nAutomated Collection \\n\\t\\n\\t\\nBrowser Session Hijacking \\n\\t\\n\\t\\nClipboard Data \\n\\t\\n\\t\\nData from Cloud Storage \\n\\t\\n\\t\\nData from Configuration Repository (2) \\n\\t\\n\\t\\n= \\n\\t\\nSNMP (MIB Dump) \\nNetwork Device Configuration Dump \\n\\t\\nData from Information Repositories (3) \\n\\t\\n\\t\\n= \\n\\t\\nConfluence \\nSharepoint \\nCode Repositories \\n\\t\\nData from Local System \\n\\t\\n\\t\\nData from Network Shared Drive \\n\\t\\n\\t\\nData from Removable Media \\n\\t\\n\\t\\nData Staged (2) \\n\\t\\n\\t\\n= \\n\\t\\nLocal Data Staging \\nRemote Data Staging \\n\\t\\nEmail Collection (3) \\n\\t\\n\\t\\n= \\n\\t\\nLocal Email Collection \\nRemote Email Collection \\nEmail Forwarding Rule \\n\\t\\nInput Capture (4) \\n\\t\\n\\t\\n= \\n\\t\\nKeylogging \\nGUI Input Capture \\nWeb Portal Capture \\nCredential API Hooking \\n\\t\\nScreen Capture \\n\\t\\n\\t\\nVideo Capture \\n\\t\\n\\t\\n\\t\\nApplication Layer Protocol (4) \\n\\t\\n\\t\\n= \\n\\t\\nWeb Protocols \\nFile Transfer Protocols \\nMail Protocols \\nDNS \\n\\t\\nCommunication Through Removable Media \\n\\t\\n\\t\\nContent Injection \\n\\t\\n\\t\\nData Encoding (2) \\n\\t\\n\\t\\n= \\n\\t\\nStandard Encoding \\nNon-Standard Encoding \\n\\t\\nData Obfuscation (3) \\n\\t\\n\\t\\n= \\n\\t\\nJunk Data \\nSteganography \\nProtocol Impersonation \\n\\t\\nDynamic Resolution (3) \\n\\t\\n\\t\\n= \\n\\t\\nFast Flux DNS \\nDomain Generation Algorithms \\nDNS Calculation \\n\\t\\nEncrypted Channel (2) \\n\\t\\n\\t\\n= \\n\\t\\nSymmetric Cryptography \\nAsymmetric Cryptography \\n\\t\\nFallback Channels \\n\\t\\n\\t\\nHide Infrastructure \\n\\t\\n\\t\\nIngress Tool Transfer \\n\\t\\n\\t\\nMulti-Stage Channels \\n\\t\\n\\t\\nNon-Application Layer Protocol \\n\\t\\n\\t\\nNon-Standard Port \\n\\t\\n\\t\\nProtocol Tunneling \\n\\t\\n\\t\\nProxy (4) \\n\\t\\n\\t\\n= \\n\\t\\nInternal Proxy \\nExternal Proxy \\nMulti-hop Proxy \\nDomain Fronting \\n\\t\\nRemote Access Software \\n\\t\\n\\t\\nTraffic Signaling (2) \\n\\t\\n\\t\\n= \\n\\t\\nPort Knocking \\nSocket Filters \\n\\t\\nWeb Service (3) \\n\\t\\n\\t\\n= \\n\\t\\nDead Drop Resolver \\nBidirectional Communication \\nOne-Way Communication \\n\\t\\n\\t\\nAutomated Exfiltration (1) \\n\\t\\n\\t\\n= \\n\\t\\nTraffic Duplication \\n\\t\\nData Transfer Size Limits \\n\\t\\n\\t\\nExfiltration Over Alternative Protocol (3) \\n\\t\\n\\t\\n= \\n\\t\\nExfiltration Over Symmetric Encrypted Non-C2 Protocol \\nExfiltration Over Asymmetric Encrypted Non-C2 Protocol \\nExfiltration Over Unencrypted Non-C2 Protocol \\n\\t\\nExfiltration Over C2 Channel \\n\\t\\n\\t\\nExfiltration Over Other Network Medium (1) \\n\\t\\n\\t\\n= \\n\\t\\nExfiltration Over Bluetooth \\n\\t\\nExfiltration Over Physical Medium (1) \\n\\t\\n\\t\\n= \\n\\t\\nExfiltration over USB \\n\\t\\nExfiltration Over Web Service (4) \\n\\t\\n\\t\\n= \\n\\t\\nExfiltration to Code Repository \\nExfiltration to Cloud Storage \\nExfiltration to Text Storage Sites \\nExfiltration Over Webhook \\n\\t\\nScheduled Transfer \\n\\t\\n\\t\\nTransfer Data to Cloud Account \\n\\t\\n\\t\\n\\t\\nAccount Access Removal \\n\\t\\n\\t\\nData Destruction \\n\\t\\n\\t\\nData Encrypted for Impact \\n\\t\\n\\t\\nData Manipulation (3) \\n\\t\\n\\t\\n= \\n\\t\\nStored Data Manipulation \\nTransmitted Data Manipulation \\nRuntime Data Manipulation \\n\\t\\nDefacement (2) \\n\\t\\n\\t\\n= \\n\\t\\nInternal Defacement \\nExternal Defacement \\n\\t\\nDisk Wipe (2) \\n\\t\\n\\t\\n= \\n\\t\\nDisk Content Wipe \\nDisk Structure Wipe \\n\\t\\nEndpoint Denial of Service (4) \\n\\t\\n\\t\\n= \\n\\t\\nOS Exhaustion Flood \\nService Exhaustion Flood \\nApplication Exhaustion Flood \\nApplication or System Exploitation \\n\\t\\nFinancial Theft \\n\\t\\n\\t\\nFirmware Corruption \\n\\t\\n\\t\\nInhibit System Recovery \\n\\t\\n\\t\\nNetwork Denial of Service (2) \\n\\t\\n\\t\\n= \\n\\t\\nDirect Network Flood \\nReflection Amplification \\n\\t\\nResource Hijacking \\n\\t\\n\\t\\nService Stop \\n\\t\\n\\t\\nSystem Shutdown/Reboot \\n\\t\\n\\t\\n\\t\\nReconnaissance\\tResource Development\\tInitial Access\\tExecution\\tPersistence\\tPrivilege Escalation\\tDefense Evasion\\tCredential Access\\tDiscovery\\tLateral Movement\\tCollection\\tCommand and Control\\tExfiltration\\tImpact\\t\\n10 techniques \\t8 techniques \\t10 techniques \\t14 techniques \\t20 techniques \\t14 techniques \\t43 techniques \\t17 techniques \\t32 techniques \\t9 techniques \\t17 techniques \\t18 techniques \\t9 techniques \\t14 techniques \\t\\n= \\n\\t\\nActive Scanning (3) \\n\\t\\n\\t\\nScanning IP Blocks \\nVulnerability Scanning \\nWordlist Scanning \\n\\t\\n= \\n\\t\\nGather Victim Host Information (4) \\n\\t\\n\\t\\nHardware \\nSoftware \\nFirmware \\nClient Configurations \\n\\t\\n= \\n\\t\\nGather Victim Identity Information (3) \\n\\t\\n\\t\\nCredentials \\nEmail Addresses \\nEmployee Names \\n\\t\\n= \\n\\t\\nGather Victim Network Information (6) \\n\\t\\n\\t\\nDomain Properties \\nDNS \\nNetwork Trust Dependencies \\nNetwork Topology \\nIP Addresses \\nNetwork Security Appliances \\n\\t\\n= \\n\\t\\nGather Victim Org Information (4) \\n\\t\\n\\t\\nDetermine Physical Locations \\nBusiness Relationships \\nIdentify Business Tempo \\nIdentify Roles \\n\\t\\n= \\n\\t\\nPhishing for Information (4) \\n\\t\\n\\t\\nSpearphishing Service \\nSpearphishing Attachment \\nSpearphishing Link \\nSpearphishing Voice \\n\\t\\n= \\n\\t\\nSearch Closed Sources (2) \\n\\t\\n\\t\\nThreat Intel Vendors \\nPurchase Technical Data \\n\\t\\n= \\n\\t\\nSearch Open Technical Databases (5) \\n\\t\\n\\t\\nDNS/Passive DNS \\nWHOIS \\nDigital Certificates \\nCDNs \\nScan Databases \\n\\t\\n= \\n\\t\\nSearch Open Websites/Domains (3) \\n\\t\\n\\t\\nSocial Media \\nSearch Engines \\nCode Repositories \\n\\t\\nSearch Victim-Owned Websites \\n\\t\\nAcquire Access \\n= \\n\\t\\nAcquire Infrastructure (8) \\n\\t\\n\\t\\nDomains \\nDNS Server \\nVirtual Private Server \\nServer \\nBotnet \\nWeb Services \\nServerless \\nMalvertising \\n\\t\\n= \\n\\t\\nCompromise Accounts (3) \\n\\t\\n\\t\\nSocial Media Accounts \\nEmail Accounts \\nCloud Accounts \\n\\t\\n= \\n\\t\\nCompromise Infrastructure (8) \\n\\t\\n\\t\\nDomains \\nDNS Server \\nVirtual Private Server \\nServer \\nBotnet \\nWeb Services \\nServerless \\nNetwork Devices \\n\\t\\n= \\n\\t\\nDevelop Capabilities (4) \\n\\t\\n\\t\\nMalware \\nCode Signing Certificates \\nDigital Certificates \\nExploits \\n\\t\\n= \\n\\t\\nEstablish Accounts (3) \\n\\t\\n\\t\\nSocial Media Accounts \\nEmail Accounts \\nCloud Accounts \\n\\t\\n= \\n\\t\\nObtain Capabilities (7) \\n\\t\\n\\t\\nMalware \\nTool \\nCode Signing Certificates \\nDigital Certificates \\nExploits \\nVulnerabilities \\nArtificial Intelligence \\n\\t\\n= \\n\\t\\nStage Capabilities (6) \\n\\t\\n\\t\\nUpload Malware \\nUpload Tool \\nInstall Digital Certificate \\nDrive-by Target \\nLink Target \\nSEO Poisoning \\n\\t\\n\\t\\nContent Injection \\nDrive-by Compromise \\nExploit Public-Facing Application \\nExternal Remote Services \\nHardware Additions \\n= \\n\\t\\nPhishing (4) \\n\\t\\n\\t\\nSpearphishing Attachment \\nSpearphishing Link \\nSpearphishing via Service \\nSpearphishing Voice \\n\\t\\nReplication Through Removable Media \\n= \\n\\t\\nSupply Chain Compromise (3) \\n\\t\\n\\t\\nCompromise Software Dependencies and Development Tools \\nCompromise Software Supply Chain \\nCompromise Hardware Supply Chain \\n\\t\\nTrusted Relationship \\n= \\n\\t\\nValid Accounts (4) \\n\\t\\n\\t\\nDefault Accounts \\nDomain Accounts \\nLocal Accounts \\nCloud Accounts \\n\\t\\n\\t\\nCloud Administration Command \\n= \\n\\t\\nCommand and Scripting Interpreter (10) \\n\\t\\n\\t\\nPowerShell \\nAppleScript \\nWindows Command Shell \\nUnix Shell \\nVisual Basic \\nPython \\nJavaScript \\nNetwork Device CLI \\nCloud API \\nAutoHotKey & AutoIT \\n\\t\\nContainer Administration Command \\nDeploy Container \\nExploitation for Client Execution \\n= \\n\\t\\nInter-Process Communication (3) \\n\\t\\n\\t\\nComponent Object Model \\nDynamic Data Exchange \\nXPC Services \\n\\t\\nNative API \\n= \\n\\t\\nScheduled Task/Job (5) \\n\\t\\n\\t\\nAt \\nCron \\nScheduled Task \\nSystemd Timers \\nContainer Orchestration Job \\n\\t\\nServerless Execution \\nShared Modules \\nSoftware Deployment Tools \\n= \\n\\t\\nSystem Services (2) \\n\\t\\n\\t\\nLaunchctl \\nService Execution \\n\\t\\n= \\n\\t\\nUser Execution (3) \\n\\t\\n\\t\\nMalicious Link \\nMalicious File \\nMalicious Image \\n\\t\\nWindows Management Instrumentation \\n\\t\\n= \\n\\t\\nAccount Manipulation (6) \\n\\t\\n\\t\\nAdditional Cloud Credentials \\nAdditional Email Delegate Permissions \\nAdditional Cloud Roles \\nSSH Authorized Keys \\nDevice Registration \\nAdditional Container Cluster Roles \\n\\t\\nBITS Jobs \\n= \\n\\t\\nBoot or Logon Autostart Execution (14) \\n\\t\\n\\t\\nRegistry Run Keys / Startup Folder \\nAuthentication Package \\nTime Providers \\nWinlogon Helper DLL \\nSecurity Support Provider \\nKernel Modules and Extensions \\nRe-opened Applications \\nLSASS Driver \\nShortcut Modification \\nPort Monitors \\nPrint Processors \\nXDG Autostart Entries \\nActive Setup \\nLogin Items \\n\\t\\n= \\n\\t\\nBoot or Logon Initialization Scripts (5) \\n\\t\\n\\t\\nLogon Script (Windows) \\nLogin Hook \\nNetwork Logon Script \\nRC Scripts \\nStartup Items \\n\\t\\nBrowser Extensions \\nCompromise Host Software Binary \\n= \\n\\t\\nCreate Account (3) \\n\\t\\n\\t\\nLocal Account \\nDomain Account \\nCloud Account \\n\\t\\n= \\n\\t\\nCreate or Modify System Process (5) \\n\\t\\n\\t\\nLaunch Agent \\nSystemd Service \\nWindows Service \\nLaunch Daemon \\nContainer Service \\n\\t\\n= \\n\\t\\nEvent Triggered Execution (16) \\n\\t\\n\\t\\nChange Default File Association \\nScreensaver \\nWindows Management Instrumentation Event Subscription \\nUnix Shell Configuration Modification \\nTrap \\nLC_LOAD_DYLIB Addition \\nNetsh Helper DLL \\nAccessibility Features \\nAppCert DLLs \\nAppInit DLLs \\nApplication Shimming \\nImage File Execution Options Injection \\nPowerShell Profile \\nEmond \\nComponent Object Model Hijacking \\nInstaller Packages \\n\\t\\nExternal Remote Services \\n= \\n\\t\\nHijack Execution Flow (13) \\n\\t\\n\\t\\nDLL Search Order Hijacking \\nDLL Side-Loading \\nDylib Hijacking \\nExecutable Installer File Permissions Weakness \\nDynamic Linker Hijacking \\nPath Interception by PATH Environment Variable \\nPath Interception by Search Order Hijacking \\nPath Interception by Unquoted Path \\nServices File Permissions Weakness \\nServices Registry Permissions Weakness \\nCOR_PROFILER \\nKernelCallbackTable \\nAppDomainManager \\n\\t\\nImplant Internal Image \\n= \\n\\t\\nModify Authentication Process (9) \\n\\t\\n\\t\\nDomain Controller Authentication \\nPassword Filter DLL \\nPluggable Authentication Modules \\nNetwork Device Authentication \\nReversible Encryption \\nMulti-Factor Authentication \\nHybrid Identity \\nNetwork Provider DLL \\nConditional Access Policies \\n\\t\\n= \\n\\t\\nOffice Application Startup (6) \\n\\t\\n\\t\\nOffice Template Macros \\nOffice Test \\nOutlook Forms \\nOutlook Home Page \\nOutlook Rules \\nAdd-ins \\n\\t\\nPower Settings \\n= \\n\\t\\nPre-OS Boot (5) \\n\\t\\n\\t\\nSystem Firmware \\nComponent Firmware \\nBootkit \\nROMMONkit \\nTFTP Boot \\n\\t\\n= \\n\\t\\nScheduled Task/Job (5) \\n\\t\\n\\t\\nAt \\nCron \\nScheduled Task \\nSystemd Timers \\nContainer Orchestration Job \\n\\t\\n= \\n\\t\\nServer Software Component (5) \\n\\t\\n\\t\\nSQL Stored Procedures \\nTransport Agent \\nWeb Shell \\nIIS Components \\nTerminal Services DLL \\n\\t\\n= \\n\\t\\nTraffic Signaling (2) \\n\\t\\n\\t\\nPort Knocking \\nSocket Filters \\n\\t\\n= \\n\\t\\nValid Accounts (4) \\n\\t\\n\\t\\nDefault Accounts \\nDomain Accounts \\nLocal Accounts \\nCloud Accounts \\n\\t\\n\\t\\n= \\n\\t\\nAbuse Elevation Control Mechanism (6) \\n\\t\\n\\t\\nSetuid and Setgid \\nBypass User Account Control \\nSudo and Sudo Caching \\nElevated Execution with Prompt \\nTemporary Elevated Cloud Access \\nTCC Manipulation \\n\\t\\n= \\n\\t\\nAccess Token Manipulation (5) \\n\\t\\n\\t\\nToken Impersonation/Theft \\nCreate Process with Token \\nMake and Impersonate Token \\nParent PID Spoofing \\nSID-History Injection \\n\\t\\n= \\n\\t\\nAccount Manipulation (6) \\n\\t\\n\\t\\nAdditional Cloud Credentials \\nAdditional Email Delegate Permissions \\nAdditional Cloud Roles \\nSSH Authorized Keys \\nDevice Registration \\nAdditional Container Cluster Roles \\n\\t\\n= \\n\\t\\nBoot or Logon Autostart Execution (14) \\n\\t\\n\\t\\nRegistry Run Keys / Startup Folder \\nAuthentication Package \\nTime Providers \\nWinlogon Helper DLL \\nSecurity Support Provider \\nKernel Modules and Extensions \\nRe-opened Applications \\nLSASS Driver \\nShortcut Modification \\nPort Monitors \\nPrint Processors \\nXDG Autostart Entries \\nActive Setup \\nLogin Items \\n\\t\\n= \\n\\t\\nBoot or Logon Initialization Scripts (5) \\n\\t\\n\\t\\nLogon Script (Windows) \\nLogin Hook \\nNetwork Logon Script \\nRC Scripts \\nStartup Items \\n\\t\\n= \\n\\t\\nCreate or Modify System Process (5) \\n\\t\\n\\t\\nLaunch Agent \\nSystemd Service \\nWindows Service \\nLaunch Daemon \\nContainer Service \\n\\t\\n= \\n\\t\\nDomain or Tenant Policy Modification (2) \\n\\t\\n\\t\\nGroup Policy Modification \\nTrust Modification \\n\\t\\nEscape to Host \\n= \\n\\t\\nEvent Triggered Execution (16) \\n\\t\\n\\t\\nChange Default File Association \\nScreensaver \\nWindows Management Instrumentation Event Subscription \\nUnix Shell Configuration Modification \\nTrap \\nLC_LOAD_DYLIB Addition \\nNetsh Helper DLL \\nAccessibility Features \\nAppCert DLLs \\nAppInit DLLs \\nApplication Shimming \\nImage File Execution Options Injection \\nPowerShell Profile \\nEmond \\nComponent Object Model Hijacking \\nInstaller Packages \\n\\t\\nExploitation for Privilege Escalation \\n= \\n\\t\\nHijack Execution Flow (13) \\n\\t\\n\\t\\nDLL Search Order Hijacking \\nDLL Side-Loading \\nDylib Hijacking \\nExecutable Installer File Permissions Weakness \\nDynamic Linker Hijacking \\nPath Interception by PATH Environment Variable \\nPath Interception by Search Order Hijacking \\nPath Interception by Unquoted Path \\nServices File Permissions Weakness \\nServices Registry Permissions Weakness \\nCOR_PROFILER \\nKernelCallbackTable \\nAppDomainManager \\n\\t\\n= \\n\\t\\nProcess Injection (12) \\n\\t\\n\\t\\nDynamic-link Library Injection \\nPortable Executable Injection \\nThread Execution Hijacking \\nAsynchronous Procedure Call \\nThread Local Storage \\nPtrace System Calls \\nProc Memory \\nExtra Window Memory Injection \\nProcess Hollowing \\nProcess Doppelgänging \\nVDSO Hijacking \\nListPlanting \\n\\t\\n= \\n\\t\\nScheduled Task/Job (5) \\n\\t\\n\\t\\nAt \\nCron \\nScheduled Task \\nSystemd Timers \\nContainer Orchestration Job \\n\\t\\n= \\n\\t\\nValid Accounts (4) \\n\\t\\n\\t\\nDefault Accounts \\nDomain Accounts \\nLocal Accounts \\nCloud Accounts \\n\\t\\n\\t\\n= \\n\\t\\nAbuse Elevation Control Mechanism (6) \\n\\t\\n\\t\\nSetuid and Setgid \\nBypass User Account Control \\nSudo and Sudo Caching \\nElevated Execution with Prompt \\nTemporary Elevated Cloud Access \\nTCC Manipulation \\n\\t\\n= \\n\\t\\nAccess Token Manipulation (5) \\n\\t\\n\\t\\nToken Impersonation/Theft \\nCreate Process with Token \\nMake and Impersonate Token \\nParent PID Spoofing \\nSID-History Injection \\n\\t\\nBITS Jobs \\nBuild Image on Host \\nDebugger Evasion \\nDeobfuscate/Decode Files or Information \\nDeploy Container \\nDirect Volume Access \\n= \\n\\t\\nDomain or Tenant Policy Modification (2) \\n\\t\\n\\t\\nGroup Policy Modification \\nTrust Modification \\n\\t\\n= \\n\\t\\nExecution Guardrails (1) \\n\\t\\n\\t\\nEnvironmental Keying \\n\\t\\nExploitation for Defense Evasion \\n= \\n\\t\\nFile and Directory Permissions Modification (2) \\n\\t\\n\\t\\nWindows File and Directory Permissions Modification \\nLinux and Mac File and Directory Permissions Modification \\n\\t\\n= \\n\\t\\nHide Artifacts (12) \\n\\t\\n\\t\\nHidden Files and Directories \\nHidden Users \\nHidden Window \\nNTFS File Attributes \\nHidden File System \\nRun Virtual Instance \\nVBA Stomping \\nEmail Hiding Rules \\nResource Forking \\nProcess Argument Spoofing \\nIgnore Process Interrupts \\nFile/Path Exclusions \\n\\t\\n= \\n\\t\\nHijack Execution Flow (13) \\n\\t\\n\\t\\nDLL Search Order Hijacking \\nDLL Side-Loading \\nDylib Hijacking \\nExecutable Installer File Permissions Weakness \\nDynamic Linker Hijacking \\nPath Interception by PATH Environment Variable \\nPath Interception by Search Order Hijacking \\nPath Interception by Unquoted Path \\nServices File Permissions Weakness \\nServices Registry Permissions Weakness \\nCOR_PROFILER \\nKernelCallbackTable \\nAppDomainManager \\n\\t\\n= \\n\\t\\nImpair Defenses (11) \\n\\t\\n\\t\\nDisable or Modify Tools \\nDisable Windows Event Logging \\nImpair Command History Logging \\nDisable or Modify System Firewall \\nIndicator Blocking \\nDisable or Modify Cloud Firewall \\nDisable or Modify Cloud Logs \\nSafe Mode Boot \\nDowngrade Attack \\nSpoof Security Alerting \\nDisable or Modify Linux Audit System \\n\\t\\nImpersonation \\n= \\n\\t\\nIndicator Removal (9) \\n\\t\\n\\t\\nClear Windows Event Logs \\nClear Linux or Mac System Logs \\nClear Command History \\nFile Deletion \\nNetwork Share Connection Removal \\nTimestomp \\nClear Network Connection History and Configurations \\nClear Mailbox Data \\nClear Persistence \\n\\t\\nIndirect Command Execution \\n= \\n\\t\\nMasquerading (9) \\n\\t\\n\\t\\nInvalid Code Signature \\nRight-to-Left Override \\nRename System Utilities \\nMasquerade Task or Service \\nMatch Legitimate Name or Location \\nSpace after Filename \\nDouble File Extension \\nMasquerade File Type \\nBreak Process Trees \\n\\t\\n= \\n\\t\\nModify Authentication Process (9) \\n\\t\\n\\t\\nDomain Controller Authentication \\nPassword Filter DLL \\nPluggable Authentication Modules \\nNetwork Device Authentication \\nReversible Encryption \\nMulti-Factor Authentication \\nHybrid Identity \\nNetwork Provider DLL \\nConditional Access Policies \\n\\t\\n= \\n\\t\\nModify Cloud Compute Infrastructure (5) \\n\\t\\n\\t\\nCreate Snapshot \\nCreate Cloud Instance \\nDelete Cloud Instance \\nRevert Cloud Instance \\nModify Cloud Compute Configurations \\n\\t\\nModify Registry \\n= \\n\\t\\nModify System Image (2) \\n\\t\\n\\t\\nPatch System Image \\nDowngrade System Image \\n\\t\\n= \\n\\t\\nNetwork Boundary Bridging (1) \\n\\t\\n\\t\\nNetwork Address Translation Traversal \\n\\t\\n= \\n\\t\\nObfuscated Files or Information (13) \\n\\t\\n\\t\\nBinary Padding \\nSoftware Packing \\nSteganography \\nCompile After Delivery \\nIndicator Removal from Tools \\nHTML Smuggling \\nDynamic API Resolution \\nStripped Payloads \\nEmbedded Payloads \\nCommand Obfuscation \\nFileless Storage \\nLNK Icon Smuggling \\nEncrypted/Encoded File \\n\\t\\nPlist File Modification \\n= \\n\\t\\nPre-OS Boot (5) \\n\\t\\n\\t\\nSystem Firmware \\nComponent Firmware \\nBootkit \\nROMMONkit \\nTFTP Boot \\n\\t\\n= \\n\\t\\nProcess Injection (12) \\n\\t\\n\\t\\nDynamic-link Library Injection \\nPortable Executable Injection \\nThread Execution Hijacking \\nAsynchronous Procedure Call \\nThread Local Storage \\nPtrace System Calls \\nProc Memory \\nExtra Window Memory Injection \\nProcess Hollowing \\nProcess Doppelgänging \\nVDSO Hijacking \\nListPlanting \\n\\t\\nReflective Code Loading \\nRogue Domain Controller \\nRootkit \\n= \\n\\t\\nSubvert Trust Controls (6) \\n\\t\\n\\t\\nGatekeeper Bypass \\nCode Signing \\nSIP and Trust Provider Hijacking \\nInstall Root Certificate \\nMark-of-the-Web Bypass \\nCode Signing Policy Modification \\n\\t\\n= \\n\\t\\nSystem Binary Proxy Execution (14) \\n\\t\\n\\t\\nCompiled HTML File \\nControl Panel \\nCMSTP \\nInstallUtil \\nMshta \\nMsiexec \\nOdbcconf \\nRegsvcs/Regasm \\nRegsvr32 \\nRundll32 \\nVerclsid \\nMavinject \\nMMC \\nElectron Applications \\n\\t\\n= \\n\\t\\nSystem Script Proxy Execution (2) \\n\\t\\n\\t\\nPubPrn \\nSyncAppvPublishingServer \\n\\t\\nTemplate Injection \\n= \\n\\t\\nTraffic Signaling (2) \\n\\t\\n\\t\\nPort Knocking \\nSocket Filters \\n\\t\\n= \\n\\t\\nTrusted Developer Utilities Proxy Execution (1) \\n\\t\\n\\t\\nMSBuild \\n\\t\\nUnused/Unsupported Cloud Regions \\n= \\n\\t\\nUse Alternate Authentication Material (4) \\n\\t\\n\\t\\nApplication Access Token \\nPass the Hash \\nPass the Ticket \\nWeb Session Cookie \\n\\t\\n= \\n\\t\\nValid Accounts (4) \\n\\t\\n\\t\\nDefault Accounts \\nDomain Accounts \\nLocal Accounts \\nCloud Accounts \\n\\t\\n= \\n\\t\\nVirtualization/Sandbox Evasion (3) \\n\\t\\n\\t\\nSystem Checks \\nUser Activity Based Checks \\nTime Based Evasion \\n\\t\\n= \\n\\t\\nWeaken Encryption (2) \\n\\t\\n\\t\\nReduce Key Space \\nDisable Crypto Hardware \\n\\t\\nXSL Script Processing \\n\\t\\n= \\n\\t\\nAdversary-in-the-Middle (3) \\n\\t\\n\\t\\nLLMNR/NBT-NS Poisoning and SMB Relay \\nARP Cache Poisoning \\nDHCP Spoofing \\n\\t\\n= \\n\\t\\nBrute Force (4) \\n\\t\\n\\t\\nPassword Guessing \\nPassword Cracking \\nPassword Spraying \\nCredential Stuffing \\n\\t\\n= \\n\\t\\nCredentials from Password Stores (6) \\n\\t\\n\\t\\nKeychain \\nSecurityd Memory \\nCredentials from Web Browsers \\nWindows Credential Manager \\nPassword Managers \\nCloud Secrets Management Stores \\n\\t\\nExploitation for Credential Access \\nForced Authentication \\n= \\n\\t\\nForge Web Credentials (2) \\n\\t\\n\\t\\nWeb Cookies \\nSAML Tokens \\n\\t\\n= \\n\\t\\nInput Capture (4) \\n\\t\\n\\t\\nKeylogging \\nGUI Input Capture \\nWeb Portal Capture \\nCredential API Hooking \\n\\t\\n= \\n\\t\\nModify Authentication Process (9) \\n\\t\\n\\t\\nDomain Controller Authentication \\nPassword Filter DLL \\nPluggable Authentication Modules \\nNetwork Device Authentication \\nReversible Encryption \\nMulti-Factor Authentication \\nHybrid Identity \\nNetwork Provider DLL \\nConditional Access Policies \\n\\t\\nMulti-Factor Authentication Interception \\nMulti-Factor Authentication Request Generation \\nNetwork Sniffing \\n= \\n\\t\\nOS Credential Dumping (8) \\n\\t\\n\\t\\nLSASS Memory \\nSecurity Account Manager \\nNTDS \\nLSA Secrets \\nCached Domain Credentials \\nDCSync \\nProc Filesystem \\n/etc/passwd and /etc/shadow \\n\\t\\nSteal Application Access Token \\nSteal or Forge Authentication Certificates \\n= \\n\\t\\nSteal or Forge Kerberos Tickets (4) \\n\\t\\n\\t\\nGolden Ticket \\nSilver Ticket \\nKerberoasting \\nAS-REP Roasting \\n\\t\\nSteal Web Session Cookie \\n= \\n\\t\\nUnsecured Credentials (8) \\n\\t\\n\\t\\nCredentials In Files \\nCredentials in Registry \\nBash History \\nPrivate Keys \\nCloud Instance Metadata API \\nGroup Policy Preferences \\nContainer API \\nChat Messages \\n\\t\\n\\t\\n= \\n\\t\\nAccount Discovery (4) \\n\\t\\n\\t\\nLocal Account \\nDomain Account \\nEmail Account \\nCloud Account \\n\\t\\nApplication Window Discovery \\nBrowser Information Discovery \\nCloud Infrastructure Discovery \\nCloud Service Dashboard \\nCloud Service Discovery \\nCloud Storage Object Discovery \\nContainer and Resource Discovery \\nDebugger Evasion \\nDevice Driver Discovery \\nDomain Trust Discovery \\nFile and Directory Discovery \\nGroup Policy Discovery \\nLog Enumeration \\nNetwork Service Discovery \\nNetwork Share Discovery \\nNetwork Sniffing \\nPassword Policy Discovery \\nPeripheral Device Discovery \\n= \\n\\t\\nPermission Groups Discovery (3) \\n\\t\\n\\t\\nLocal Groups \\nDomain Groups \\nCloud Groups \\n\\t\\nProcess Discovery \\nQuery Registry \\nRemote System Discovery \\n= \\n\\t\\nSoftware Discovery (1) \\n\\t\\n\\t\\nSecurity Software Discovery \\n\\t\\nSystem Information Discovery \\n= \\n\\t\\nSystem Location Discovery (1) \\n\\t\\n\\t\\nSystem Language Discovery \\n\\t\\n= \\n\\t\\nSystem Network Configuration Discovery (2) \\n\\t\\n\\t\\nInternet Connection Discovery \\nWi-Fi Discovery \\n\\t\\nSystem Network Connections Discovery \\nSystem Owner/User Discovery \\nSystem Service Discovery \\nSystem Time Discovery \\n= \\n\\t\\nVirtualization/Sandbox Evasion (3) \\n\\t\\n\\t\\nSystem Checks \\nUser Activity Based Checks \\nTime Based Evasion \\n\\t\\n\\t\\nExploitation of Remote Services \\nInternal Spearphishing \\nLateral Tool Transfer \\n= \\n\\t\\nRemote Service Session Hijacking (2) \\n\\t\\n\\t\\nSSH Hijacking \\nRDP Hijacking \\n\\t\\n= \\n\\t\\nRemote Services (8) \\n\\t\\n\\t\\nRemote Desktop Protocol \\nSMB/Windows Admin Shares \\nDistributed Component Object Model \\nSSH \\nVNC \\nWindows Remote Management \\nCloud Services \\nDirect Cloud VM Connections \\n\\t\\nReplication Through Removable Media \\nSoftware Deployment Tools \\nTaint Shared Content \\n= \\n\\t\\nUse Alternate Authentication Material (4) \\n\\t\\n\\t\\nApplication Access Token \\nPass the Hash \\nPass the Ticket \\nWeb Session Cookie \\n\\t\\n\\t\\n= \\n\\t\\nAdversary-in-the-Middle (3) \\n\\t\\n\\t\\nLLMNR/NBT-NS Poisoning and SMB Relay \\nARP Cache Poisoning \\nDHCP Spoofing \\n\\t\\n= \\n\\t\\nArchive Collected Data (3) \\n\\t\\n\\t\\nArchive via Utility \\nArchive via Library \\nArchive via Custom Method \\n\\t\\nAudio Capture \\nAutomated Collection \\nBrowser Session Hijacking \\nClipboard Data \\nData from Cloud Storage \\n= \\n\\t\\nData from Configuration Repository (2) \\n\\t\\n\\t\\nSNMP (MIB Dump) \\nNetwork Device Configuration Dump \\n\\t\\n= \\n\\t\\nData from Information Repositories (3) \\n\\t\\n\\t\\nConfluence \\nSharepoint \\nCode Repositories \\n\\t\\nData from Local System \\nData from Network Shared Drive \\nData from Removable Media \\n= \\n\\t\\nData Staged (2) \\n\\t\\n\\t\\nLocal Data Staging \\nRemote Data Staging \\n\\t\\n= \\n\\t\\nEmail Collection (3) \\n\\t\\n\\t\\nLocal Email Collection \\nRemote Email Collection \\nEmail Forwarding Rule \\n\\t\\n= \\n\\t\\nInput Capture (4) \\n\\t\\n\\t\\nKeylogging \\nGUI Input Capture \\nWeb Portal Capture \\nCredential API Hooking \\n\\t\\nScreen Capture \\nVideo Capture \\n\\t\\n= \\n\\t\\nApplication Layer Protocol (4) \\n\\t\\n\\t\\nWeb Protocols \\nFile Transfer Protocols \\nMail Protocols \\nDNS \\n\\t\\nCommunication Through Removable Media \\nContent Injection \\n= \\n\\t\\nData Encoding (2) \\n\\t\\n\\t\\nStandard Encoding \\nNon-Standard Encoding \\n\\t\\n= \\n\\t\\nData Obfuscation (3) \\n\\t\\n\\t\\nJunk Data \\nSteganography \\nProtocol Impersonation \\n\\t\\n= \\n\\t\\nDynamic Resolution (3) \\n\\t\\n\\t\\nFast Flux DNS \\nDomain Generation Algorithms \\nDNS Calculation \\n\\t\\n= \\n\\t\\nEncrypted Channel (2) \\n\\t\\n\\t\\nSymmetric Cryptography \\nAsymmetric Cryptography \\n\\t\\nFallback Channels \\nHide Infrastructure \\nIngress Tool Transfer \\nMulti-Stage Channels \\nNon-Application Layer Protocol \\nNon-Standard Port \\nProtocol Tunneling \\n= \\n\\t\\nProxy (4) \\n\\t\\n\\t\\nInternal Proxy \\nExternal Proxy \\nMulti-hop Proxy \\nDomain Fronting \\n\\t\\nRemote Access Software \\n= \\n\\t\\nTraffic Signaling (2) \\n\\t\\n\\t\\nPort Knocking \\nSocket Filters \\n\\t\\n= \\n\\t\\nWeb Service (3) \\n\\t\\n\\t\\nDead Drop Resolver \\nBidirectional Communication \\nOne-Way Communication \\n\\t\\n\\t\\n= \\n\\t\\nAutomated Exfiltration (1) \\n\\t\\n\\t\\nTraffic Duplication \\n\\t\\nData Transfer Size Limits \\n= \\n\\t\\nExfiltration Over Alternative Protocol (3) \\n\\t\\n\\t\\nExfiltration Over Symmetric Encrypted Non-C2 Protocol \\nExfiltration Over Asymmetric Encrypted Non-C2 Protocol \\nExfiltration Over Unencrypted Non-C2 Protocol \\n\\t\\nExfiltration Over C2 Channel \\n= \\n\\t\\nExfiltration Over Other Network Medium (1) \\n\\t\\n\\t\\nExfiltration Over Bluetooth \\n\\t\\n= \\n\\t\\nExfiltration Over Physical Medium (1) \\n\\t\\n\\t\\nExfiltration over USB \\n\\t\\n= \\n\\t\\nExfiltration Over Web Service (4) \\n\\t\\n\\t\\nExfiltration to Code Repository \\nExfiltration to Cloud Storage \\nExfiltration to Text Storage Sites \\nExfiltration Over Webhook \\n\\t\\nScheduled Transfer \\nTransfer Data to Cloud Account \\n\\t\\nAccount Access Removal \\nData Destruction \\nData Encrypted for Impact \\n= \\n\\t\\nData Manipulation (3) \\n\\t\\n\\t\\nStored Data Manipulation \\nTransmitted Data Manipulation \\nRuntime Data Manipulation \\n\\t\\n= \\n\\t\\nDefacement (2) \\n\\t\\n\\t\\nInternal Defacement \\nExternal Defacement \\n\\t\\n= \\n\\t\\nDisk Wipe (2) \\n\\t\\n\\t\\nDisk Content Wipe \\nDisk Structure Wipe \\n\\t\\n= \\n\\t\\nEndpoint Denial of Service (4) \\n\\t\\n\\t\\nOS Exhaustion Flood \\nService Exhaustion Flood \\nApplication Exhaustion Flood \\nApplication or System Exploitation \\n\\t\\nFinancial Theft \\nFirmware Corruption \\nInhibit System Recovery \\n= \\n\\t\\nNetwork Denial of Service (2) \\n\\t\\n\\t\\nDirect Network Flood \\nReflection Amplification \\n\\t\\nResource Hijacking \\nService Stop \\nSystem Shutdown/Reboot \\n\\t\\n×\\nload more results', 'Dark Reading | Security | Protect The BusinessCookies ButtonBack ButtonSearch IconFilter Icon\\nMideast & Africa News\\nPODCAST\\nDark Reading Confidential: Meet the Ransomware Negotiators\\nEpisode 2: Incident response experts-turned-ransomware negotiators Ed Dubrovsky, COO and managing partner of CYPFER, and Joe Tarraf, chief delivery officer of Surefire Cyber, explain how they interact with cyber threat actors who hold victim organizations\\' systems and data for ransom. Among their fascinating stories: how they negotiated with cybercriminals to restore operations in a hospital NICU where lives were at stake, and how they helped a church, where the attackers themselves \"got a little religion.\"\\nCybersecurity Features In-Depth: On security strategy, latest trends, and people to know. Brought to you by Mandiant.\\nSecurity Technology: Featuring news, news analysis, and commentary on the latest technology trends. \\nBreaking cybersecurity news, news analysis, commentary, and other content from around the world.', 'The first stop for security newsAdobe AudienceManager\\nInfosec Insider Post\\nInfosec Insider content is written by a trusted community of Threatpost cybersecurity subject matter experts. Each contribution has a goal of bringing a unique voice to important cybersecurity topics. Content strives to be of the highest quality, objective and non-commercial.', 'SVR Cyber Actors Adapt Tactics for Initial Cloud Access\\nHow SVR-Attributed Actors are Adapting to the Move of Government and Corporations to Cloud Infrastructure\\nOVERVIEW\\nThis advisory details recent tactics, techniques, and procedures (TTPs) of the group commonly known as APT29, also known as Midnight Blizzard, the Dukes, or Cozy Bear.\\nThe UK National Cyber Security Centre (NCSC) and international partners assess that APT29 is a cyber espionage group, almost certainly part of the SVR, an element of the Russian intelligence services. The US National Security Agency (NSA), the US Cybersecurity and Infrastructure Security Agency (CISA), the US Cyber National Mission Force (CNMF), the Federal Bureau of Investigation (FBI), Australian Signals Directorate’s Australian Cyber Security Centre (ASD’s ACSC), the Canadian Centre for Cyber Security (CCCS), and New Zealand Government Communications Security Bureau (GCSB) agree with this attribution and the details provided in this advisory.\\nThis advisory provides an overview of TTPs deployed by the actor to gain initial access into the cloud environment and includes advice to detect and mitigate this activity.\\nTo download the PDF version of this report, click here.\\nPREVIOUS ACTOR ACTIVITY\\nThe NCSC has previously detailed how Russian Foreign Intelligence Service (SVR) cyber actors have targeted governmental, think tank, healthcare, and energy targets for intelligence gain. It has now observed SVR actors expanding their targeting to include aviation, education, law enforcement, local and state councils, government financial departments, and military organizations.\\nSVR actors are also known for:\\nThe supply chain compromise of SolarWinds software.\\nActivity that targeted organizations developing the COVID-19 vaccine.\\nEVOLVING TTPs\\nAs organizations continue to modernize their systems and move to cloud-based infrastructure, the SVR has adapted to these changes in the operating environment.\\nThey have to move beyond their traditional means of initial access, such as exploiting software vulnerabilities in an on-premises network, and instead target the cloud services themselves.\\nTo access the majority of the victims’ cloud hosted network, actors must first successfully authenticate to the cloud provider. Denying initial access to the cloud environment can prohibit SVR from successfully compromising their target. In contrast, in an on-premises system, more of the network is typically exposed to threat actors.\\nBelow describes in more detail how SVR actors are adapting to continue their cyber operations for intelligence gain. These TTPs have been observed in the last 12 months.\\nACCESS VIA SERVICE AND DORMANT ACCOUNTS\\nPrevious SVR campaigns reveal the actors have successfully used brute forcing [T1110] and password spraying to access service accounts. This type of account is typically used to run and manage applications and services. There is no human user behind them so they cannot be easily protected with multi-factor authentication (MFA), making these accounts more susceptible to a successful compromise. Service accounts are often also highly privileged depending on which applications and services they’re responsible for managing. Gaining access to these accounts provides threat actors with privileged initial access to a network, to launch further operations.\\nSVR campaigns have also targeted dormant accounts belonging to users who no longer work at a victim organization but whose accounts remain on the system [T1078.004].\\nFollowing an enforced password reset for all users during an incident, SVR actors have also been observed logging into inactive accounts and following instructions to reset the password. This has allowed the actor to regain access following incident response eviction activities.\\nCLOUD-BASED TOKEN AUTHENTICATION\\nAccount access is typically authenticated by either username and password credentials or system-issued access tokens. The NCSC and partners have observed SVR actors using tokens to access their victims’ accounts, without needing a password [T1528].\\nThe default validity time of system-issued tokens varies dependent on the system; however, cloud platforms should allow administrators to adjust the validity time as appropriate for their users. More information can be found on this in the mitigations section of this advisory.\\nENROLLING NEW DEVICES TO THE CLOUD\\nOn multiple occasions, the SVR have successfully bypassed password authentication on personal accounts using password spraying and credential reuse. SVR actors have also then bypassed MFA through a technique known as “MFA bombing” or “MFA fatigue,” in which the actors repeatedly push MFA requests to a victim’s device until the victim accepts the notification [T1621].\\nOnce an actor has bypassed these systems to gain access to the cloud environment, SVR actors have been observed registering their own device as a new device on the cloud tenant [T1098.005]. If device validation rules are not set up, SVR actors can successfully register their own device and gain access to the network.\\nBy configuring the network with device enrollment policies, there have been instances where these measures have defended against SVR actors and denied them access to the cloud tenant.\\nRESIDENTIAL PROXIES\\nAs network-level defenses improve detection of suspicious activity, SVR actors have looked at other ways to stay covert on the internet. A TTP associated with this actor is the use of residential proxies [T1090.002]. Residential proxies typically make traffic appear to originate from IP addresses within internet service provider (ISP) ranges used for residential broadband customers and hide the true source. This can make it harder to distinguish malicious connections from typical users. This reduces the effectiveness of network defenses that use IP addresses as indicators of compromise, and so it is important to consider a variety of information sources such as application and host-based logging for detecting suspicious activity.\\nCONCLUSION\\nThe SVR is a sophisticated actor capable of carrying out a global supply chain compromise such as the 2020 SolarWinds, however the guidance in this advisory shows that a strong baseline of cyber security fundamentals can help defend from such actors.\\nFor organizations that have moved to cloud infrastructure, a first line of defense against an actor such as SVR should be to protect against SVR’s TTPs for initial access. By following the mitigations outlined in this advisory, organizations will be in a stronger position to defend against this threat.\\nOnce the SVR gain initial access, the actor is capable of deploying highly sophisticated post compromise capabilities such as MagicWeb, as reported in 2022. Therefore, mitigating against the SVR’s initial access vectors is particularly important for network defenders.\\nCISA have also produced guidance through their Secure Cloud Business Applications (SCuBA) Project which is designed to protect assets stored in cloud environments.\\nSome of the TTPs listed in this report, such as residential proxies and exploitation of system accounts, are similar to those reported as recently as January 2024 by Microsoft.\\nMITRE ATT&CK®\\nThis report has been compiled with respect to the MITRE ATT&CK® framework, a globally accessible knowledge base of adversary tactics and techniques based on real-world observations.\\nTactic ID Technique Procedure \\nTactic Credential Access\\tID T1110\\tTechnique Brute Force\\tProcedure The SVR use password spraying and brute forcing as an initial infection vector.\\t\\nTactic Initial Access\\tID T1078.004\\tTechnique Valid Accounts: Cloud Accounts\\tProcedure The SVR use compromised credentials to gain access to accounts for cloud services, including system and dormant accounts.\\t\\nTactic Credential Access\\tID T1528\\tTechnique Steal Application Access Token\\tProcedure The SVR use stolen access tokens to login to accounts without the need for passwords.\\t\\nTactic Credential Access\\tID T1621\\tTechnique Multi-Factor Authentication Request Generation\\tProcedure The SVR repeatedly push MFA requests to a victim’s device until the victim accepts the notification, providing SVR access to the account.\\t\\nTactic Command and Control\\tID T1090.002\\tTechnique Proxy: External Proxy\\tProcedure The SVR use open proxies in residential IP ranges to blend in with expected IP address pools in access logs.\\t\\nTactic Persistence\\tID T1098.005\\tTechnique Account Manipulation: Device Registration\\tProcedure The SVR attempt to register their own device on the cloud tenant after acquiring access to accounts.\\t\\nMITIGATION AND DETECTION\\nA number of mitigations will be useful in defending against the activity described in this advisory: \\nUse multi-factor authentication (/2-factor authentication/two-step verification) to reduce the impact of password compromises. See NCSC guidance: Multifactor Authentication for Online Services and Setting up 2-Step Verification (2SV).\\nAccounts that cannot use 2SV should have strong, unique passwords. User and system accounts should be disabled when no longer required with a “joiners, movers, and leavers” process in place and regular reviews to identify and disable inactive/dormant accounts. See NCSC guidance: 10 Steps to Cyber Security.\\nSystem and service accounts should implement the principle of least privilege, providing tightly scoped access to resources required for the service to function.\\nCanary service accounts should be created which appear to be valid service accounts but are never used by legitimate services. Monitoring and alerting on the use of these account provides a high confidence signal that they are being used illegitimately and should be investigated urgently.\\nSession lifetimes should be kept as short as practical to reduce the window of opportunity for an adversary to use stolen session tokens. This should be paired with a suitable authentication method that strikes a balance between regular user authentication and user experience.\\nEnsure device enrollment policies are configured to only permit authorized devices to enroll. Use zero-touch enrollment where possible, or if self-enrollment is required then use a strong form of 2SV that is resistant to phishing and prompt bombing. Old devices should be prevented from (re)enrolling when no longer required. See NCSC guidance: Device Security Guidance.\\nConsider a variety of information sources such as application events and host-based logs to help prevent, detect and investigate potential malicious behavior. Focus on the information sources and indicators of compromise that have a better rate of false positives. For example, looking for changes to user agent strings that could indicate session hijacking may be more effective than trying to identify connections from suspicious IP addresses. See NCSC guidance: Introduction to Logging for Security Purposes.\\nDISCLAIMER\\nThis report draws on information derived from NCSC and industry sources. Any NCSC findings and recommendations made have not been provided with the intention of avoiding all risks and following the recommendations will not remove all such risk. Ownership of information risks remains with the relevant system owner at all times.\\nThis information is exempt under the Freedom of Information Act 2000 (FOIA) and may be exempt under other UK information legislation.\\nRefer any FOIA queries to ncscinfoleg@ncsc.gov.uk.\\nAll material is UK Crown Copyright.']\n"
          ]
        }
      ]
    },
    {
      "cell_type": "code",
      "source": [
        "import json\n",
        "from apify_client import ApifyClient\n",
        "\n",
        "def fetch_scraped_tweets(api_token, actor_id, actor_input):\n",
        "    \"\"\"Fetch tweets scraped by Apify using the actor.\"\"\"\n",
        "    client = ApifyClient(api_token)\n",
        "\n",
        "    try:\n",
        "        print(\"Starting the actor...\")\n",
        "        run = client.actor(actor_id).call(run_input=actor_input)\n",
        "        print(f\"Actor finished. Run ID: {run['id']}\")\n",
        "\n",
        "        print(\"Fetching dataset items...\")\n",
        "        dataset_id = run[\"defaultDatasetId\"]\n",
        "        print(f\"Dataset ID: {dataset_id}\")\n",
        "\n",
        "        items = client.dataset(dataset_id).list_items().items\n",
        "        print(f\"Number of items fetched: {len(items)}\")\n",
        "\n",
        "        return items\n",
        "    except Exception as e:\n",
        "        print(f\"An error occurred: {str(e)}\")\n",
        "        print(f\"Error type: {type(e).__name__}\")\n",
        "        return None\n",
        "\n",
        "def display_tweets(tweets):\n",
        "    \"\"\"Display tweets in a readable format.\"\"\"\n",
        "    if tweets:\n",
        "        for tweet in tweets:\n",
        "            print(json.dumps(tweet, indent=4))\n",
        "    else:\n",
        "        print(\"No tweets available.\")\n",
        "\n",
        "if __name__ == \"__main__\":\n",
        "    APIFY_API_TOKEN = 'apify_api_t9YCnrjquQgW4BCNM8yYZrX6Q2a1uF1ImYkB'\n",
        "    ACTOR_ID = 'apidojo/tweet-scraper'\n",
        "    ACTOR_INPUT = {\n",
        "        \"queries\": [\"#cybersecurity\"],\n",
        "        \"maxTweets\": 100\n",
        "    }\n",
        "\n",
        "    print(\"Fetching tweets...\")\n",
        "    tweets = fetch_scraped_tweets(APIFY_API_TOKEN, ACTOR_ID, ACTOR_INPUT)\n",
        "\n",
        "    if tweets is None:\n",
        "        print(\"Failed to fetch tweets. Check the error messages above.\")\n",
        "    else:\n",
        "        print(f\"Fetched {len(tweets)} tweets.\")\n",
        "        display_tweets(tweets)"
      ],
      "metadata": {
        "id": "lPp-rrm3d-4H",
        "colab": {
          "base_uri": "https://localhost:8080/"
        },
        "outputId": "7c7e1703-5aa0-4bde-855c-597ee9c79261"
      },
      "execution_count": null,
      "outputs": [
        {
          "output_type": "stream",
          "name": "stdout",
          "text": [
            "Fetching tweets...\n",
            "Starting the actor...\n",
            "Actor finished. Run ID: b1KRcbeFDJvQZLEvI\n",
            "Fetching dataset items...\n",
            "Dataset ID: N5nGZZ5ALltZGniu4\n",
            "Number of items fetched: 0\n",
            "Fetched 0 tweets.\n",
            "No tweets available.\n"
          ]
        }
      ]
    },
    {
      "cell_type": "code",
      "source": [
        "# Combine all texts\n",
        "all_texts = documents + tweets"
      ],
      "metadata": {
        "id": "PZrI12i6sjOF"
      },
      "execution_count": null,
      "outputs": []
    },
    {
      "cell_type": "code",
      "source": [
        "# Split texts into chunks\n",
        "text_splitter = CharacterTextSplitter(chunk_size=1000, chunk_overlap=200)\n",
        "texts = text_splitter.split_text(\"\\n\\n\".join(all_texts))"
      ],
      "metadata": {
        "id": "PKZaTeaysjdY",
        "outputId": "0cbc6575-be7b-4a27-b494-4d337ad7bf52",
        "colab": {
          "base_uri": "https://localhost:8080/"
        }
      },
      "execution_count": null,
      "outputs": [
        {
          "output_type": "stream",
          "name": "stderr",
          "text": [
            "WARNING:langchain_text_splitters.base:Created a chunk of size 43324, which is longer than the specified 1000\n",
            "WARNING:langchain_text_splitters.base:Created a chunk of size 1030, which is longer than the specified 1000\n",
            "WARNING:langchain_text_splitters.base:Created a chunk of size 22507, which is longer than the specified 1000\n",
            "WARNING:langchain_text_splitters.base:Created a chunk of size 92506, which is longer than the specified 1000\n"
          ]
        }
      ]
    },
    {
      "cell_type": "code",
      "source": [
        "# Create a vector store using FAISS and embeddings\n",
        "vectorstore = FAISS.from_texts(texts, embeddings)"
      ],
      "metadata": {
        "id": "4ZnOfVbusjgm"
      },
      "execution_count": null,
      "outputs": []
    },
    {
      "cell_type": "code",
      "source": [
        "# Initialize Kuzu DB\n",
        "db = kuzu.Database(\"cybersecurity_knowledge_graph\")\n",
        "conn = kuzu.Connection(db)\n",
        "\n",
        "# Create schema for the graph\n",
        "conn.execute(\"CREATE NODE TABLE Entity (name STRING, type STRING, PRIMARY KEY (name))\")\n",
        "conn.execute(\"CREATE REL TABLE Relation (FROM Entity TO Entity, predicate STRING)\")"
      ],
      "metadata": {
        "id": "vNpB3zd0sjkE",
        "colab": {
          "base_uri": "https://localhost:8080/"
        },
        "outputId": "02d7ca39-8eca-455b-dd9a-959b9f7036bd"
      },
      "execution_count": null,
      "outputs": [
        {
          "output_type": "execute_result",
          "data": {
            "text/plain": [
              "<kuzu.query_result.QueryResult at 0x7d486599ae60>"
            ]
          },
          "metadata": {},
          "execution_count": 29
        }
      ]
    },
    {
      "cell_type": "code",
      "source": [
        "# Knowledge extraction and graph population\n",
        "kg_triple_extract_template = \"\"\"\n",
        "Extract up to 5 cybersecurity-related knowledge triplets from the text below in the form (subject, predicate, object).\n",
        "Focus on threats, vulnerabilities, attack techniques, and security measures.\n",
        "Text: {text}\n",
        "Triplets:\n",
        "\"\"\"\n",
        "kg_triple_extract_prompt = PromptTemplate(\n",
        "    input_variables=[\"text\"],\n",
        "    template=kg_triple_extract_template,\n",
        ")"
      ],
      "metadata": {
        "id": "p5r2hgWitZhe"
      },
      "execution_count": null,
      "outputs": []
    },
    {
      "cell_type": "code",
      "source": [
        "kg_triple_extract_chain = LLMChain(llm=llm, prompt=kg_triple_extract_prompt)\n",
        "\n",
        "# Extract triplets and populate the knowledge graph\n",
        "for text in texts:\n",
        "    triplets = kg_triple_extract_chain.invoke({\"text\": text})\n",
        "    for triplet in triplets['text'].split('\\n'):\n",
        "        if triplet.strip():\n",
        "            try:\n",
        "                subject, predicate, obj = eval(triplet.strip())\n",
        "                conn.execute(\"INSERT INTO Entity (name, type) VALUES (?, ?) ON CONFLICT DO NOTHING\", [subject, \"Cybersecurity_Entity\"])\n",
        "                conn.execute(\"INSERT INTO Entity (name, type) VALUES (?, ?) ON CONFLICT DO NOTHING\", [obj, \"Cybersecurity_Entity\"])\n",
        "                conn.execute(\"INSERT INTO Relation VALUES (?, ?, ?)\", [subject, obj, predicate])\n",
        "            except Exception as e:\n",
        "                print(f\"Failed to process triplet: {triplet}. Error: {e}\")"
      ],
      "metadata": {
        "id": "ui_duI_XtZkL",
        "colab": {
          "base_uri": "https://localhost:8080/"
        },
        "outputId": "60ffaacb-f6b4-4b5f-e13f-59ae3c802356"
      },
      "execution_count": null,
      "outputs": [
        {
          "output_type": "stream",
          "name": "stderr",
          "text": [
            "/usr/local/lib/python3.10/dist-packages/langchain_core/_api/deprecation.py:139: LangChainDeprecationWarning: The class `LLMChain` was deprecated in LangChain 0.1.17 and will be removed in 1.0. Use RunnableSequence, e.g., `prompt | llm` instead.\n",
            "  warn_deprecated(\n"
          ]
        },
        {
          "output_type": "stream",
          "name": "stdout",
          "text": [
            "Failed to process triplet: Here are 5 cybersecurity-related knowledge triplets extracted from the text:. Error: invalid syntax (<string>, line 1)\n",
            "Failed to process triplet: 1. (Threat Actor, Uses, Tactics, Techniques, and Procedures). Error: invalid syntax. Perhaps you forgot a comma? (<string>, line 1)\n",
            "Failed to process triplet: 2. (Vulnerability, Has, Indicators of Compromise). Error: invalid syntax. Perhaps you forgot a comma? (<string>, line 1)\n",
            "Failed to process triplet: 3. (Vendor, Publishes, Mitigations). Error: name 'Vendor' is not defined\n",
            "Failed to process triplet: 4. (Industrial Control System, Is Vulnerable To, Cyber Threats). Error: invalid syntax. Perhaps you forgot a comma? (<string>, line 1)\n",
            "Failed to process triplet: 5. (ICS Medical Vendor, Publishes, Mitigations for Vulnerabilities). Error: invalid syntax. Perhaps you forgot a comma? (<string>, line 1)\n",
            "Failed to process triplet: Note: These triplets are in the form (subject, predicate, object) as requested. Let me know if you'd like me to extract more!. Error: unterminated string literal (detected at line 1) (<string>, line 1)\n"
          ]
        },
        {
          "output_type": "stream",
          "name": "stderr",
          "text": [
            "<string>:1: SyntaxWarning: 'float' object is not callable; perhaps you missed a comma?\n"
          ]
        },
        {
          "output_type": "stream",
          "name": "stdout",
          "text": [
            "Failed to process triplet: Here are 5 cybersecurity-related knowledge triplets extracted from the text:. Error: invalid syntax (<string>, line 1)\n",
            "Failed to process triplet: 1. (Phishing, uses, Malicious Link). Error: invalid syntax. Perhaps you forgot a comma? (<string>, line 1)\n",
            "Failed to process triplet: 2. (Exploitation of Remote Services, uses, Vulnerabilities). Error: invalid syntax. Perhaps you forgot a comma? (<string>, line 1)\n",
            "Failed to process triplet: 3. (Data Obfuscation, uses, Steganography). Error: invalid syntax. Perhaps you forgot a comma? (<string>, line 1)\n",
            "Failed to process triplet: 4. (Lateral Movement, uses, Remote Desktop Protocol). Error: invalid syntax. Perhaps you forgot a comma? (<string>, line 1)\n",
            "Failed to process triplet: 5. (Data Exfiltration, uses, Web Service). Error: invalid syntax. Perhaps you forgot a comma? (<string>, line 1)\n",
            "Failed to process triplet: Note: These triplets are in the format (subject, predicate, object) and represent relationships between different concepts in the text.. Error: invalid syntax (<string>, line 1)\n",
            "Failed to process triplet: Here are a few more:. Error: invalid syntax (<string>, line 1)\n",
            "Failed to process triplet: 6. (Account Manipulation, uses, Additional Cloud Credentials). Error: invalid syntax. Perhaps you forgot a comma? (<string>, line 1)\n",
            "Failed to process triplet: 7. (Process Injection, uses, Dynamic-link Library Injection). Error: invalid syntax. Perhaps you forgot a comma? (<string>, line 1)\n",
            "Failed to process triplet: 8. (Network Denial of Service, uses, Direct Network Flood). Error: invalid syntax. Perhaps you forgot a comma? (<string>, line 1)\n",
            "Failed to process triplet: 9. (Data Manipulation, uses, Stored Data Manipulation). Error: invalid syntax. Perhaps you forgot a comma? (<string>, line 1)\n",
            "Failed to process triplet: 10. (System Binary Proxy Execution, uses, CMSTP). Error: invalid syntax. Perhaps you forgot a comma? (<string>, line 1)\n",
            "Failed to process triplet: Let me know if you'd like me to extract more!. Error: unterminated string literal (detected at line 1) (<string>, line 1)\n",
            "Failed to process triplet: Here are 5 cybersecurity-related knowledge triplets extracted from the text:. Error: invalid syntax (<string>, line 1)\n",
            "Failed to process triplet: 1. (Ransomware Negotiators, interact with, Cyber Threat Actors). Error: invalid syntax. Perhaps you forgot a comma? (<string>, line 1)\n",
            "Failed to process triplet: 2. (Cybercriminals, hold for ransom, Victim Organizations' Systems and Data). Error: unterminated string literal (detected at line 1) (<string>, line 1)\n",
            "Failed to process triplet: 3. (Ransomware Negotiators, use negotiation to, Restore Operations). Error: invalid syntax. Perhaps you forgot a comma? (<string>, line 1)\n",
            "Failed to process triplet: 4. (Cyber Threat Actors, target, Hospitals and Churches). Error: invalid syntax. Perhaps you forgot a comma? (<string>, line 1)\n",
            "Failed to process triplet: 5. (Incident Response Experts, provide, Ransomware Negotiation Services). Error: invalid syntax. Perhaps you forgot a comma? (<string>, line 1)\n",
            "Failed to process triplet: Note that these triplets are not exhaustive and there may be other relevant triplets that can be extracted from the text.. Error: invalid syntax (<string>, line 1)\n",
            "Failed to process triplet: Here are 5 cybersecurity-related knowledge triplets extracted from the text:. Error: invalid syntax (<string>, line 1)\n",
            "Failed to process triplet: 1. (Infosec Insider, is_written_by, Threatpost cybersecurity subject matter experts). Error: invalid syntax. Perhaps you forgot a comma? (<string>, line 1)\n",
            "Failed to process triplet: 2. (Infosec Insider, has_goal, bringing a unique voice to important cybersecurity topics). Error: invalid syntax. Perhaps you forgot a comma? (<string>, line 1)\n",
            "Failed to process triplet: 3. (Infosec Insider, strives_for, highest quality, objective and non-commercial content). Error: invalid syntax. Perhaps you forgot a comma? (<string>, line 1)\n",
            "Failed to process triplet: 4. (Threatpost, is_a, community of cybersecurity subject matter experts). Error: invalid syntax. Perhaps you forgot a comma? (<string>, line 1)\n",
            "Failed to process triplet: 5. (Infosec Insider, is_part_of, Threatpost). Error: invalid syntax. Perhaps you forgot a comma? (<string>, line 1)\n",
            "Failed to process triplet: Note that these triplets are not directly related to threats, vulnerabilities, attack techniques, and security measures, as the text is more focused on the Infosec Insider community and its goals, rather than specific cybersecurity topics.. Error: invalid syntax (<string>, line 1)\n",
            "Failed to process triplet: Here are five cybersecurity-related knowledge triplets extracted from the text:. Error: invalid syntax (<string>, line 1)\n",
            "Failed to process triplet: 1. (Threat Actor, Uses, Compromised Account of Former Employee). Error: invalid syntax. Perhaps you forgot a comma? (<string>, line 1)\n",
            "Failed to process triplet: * This triplet indicates that the threat actor used a compromised account of a former employee to gain access to the state government organization's network environment.. Error: unterminated string literal (detected at line 1) (<string>, line 1)\n",
            "Failed to process triplet: 2. (LDAP Queries, Conducted by, Threat Actor). Error: invalid syntax. Perhaps you forgot a comma? (<string>, line 1)\n",
            "Failed to process triplet: * This triplet indicates that the threat actor conducted LDAP queries to collect user, host, and trust relationship information.. Error: invalid syntax (<string>, line 1)\n",
            "Failed to process triplet: 3. (Untitled Goose Tool, Helps, Network Defenders). Error: invalid syntax. Perhaps you forgot a comma? (<string>, line 1)\n",
            "Failed to process triplet: * This triplet indicates that the Untitled Goose Tool helps network defenders detect potentially malicious activity in Microsoft Azure, Azure Active Directory (AAD), and Microsoft 365 (M365) environments.. Error: invalid syntax (<string>, line 1)\n",
            "Failed to process triplet: 4. (Multifactor Authentication, Prevents, Lateral Movement). Error: invalid syntax. Perhaps you forgot a comma? (<string>, line 1)\n",
            "Failed to process triplet: * This triplet indicates that multifactor authentication can prevent lateral movement by threat actors, as it would have prevented the threat actor from moving laterally from the on-premises environment to the Azure environment.. Error: invalid syntax (<string>, line 1)\n",
            "Failed to process triplet: 5. (Azure AD, Requires, Secure Configuration). Error: invalid syntax. Perhaps you forgot a comma? (<string>, line 1)\n",
            "Failed to process triplet: * This triplet indicates that Azure AD requires a secure configuration to prevent threat actors from accessing sensitive information and moving laterally in the network.. Error: invalid syntax (<string>, line 1)\n",
            "Failed to process triplet: Here are five cybersecurity-related knowledge triplets extracted from the text:. Error: invalid syntax (<string>, line 1)\n",
            "Failed to process triplet: 1. (Volt Typhoon, uses, Living off the Land (LOTL) techniques). Error: invalid syntax. Perhaps you forgot a comma? (<string>, line 1)\n",
            "Failed to process triplet: 2. (Volt Typhoon, exploits, zero-day vulnerabilities in public-facing network appliances). Error: invalid syntax. Perhaps you forgot a comma? (<string>, line 1)\n",
            "Failed to process triplet: 3. (Volt Typhoon, uses, valid administrator credentials to move laterally to the domain controller via Remote Desktop Protocol (RDP)). Error: invalid syntax. Perhaps you forgot a comma? (<string>, line 1)\n",
            "Failed to process triplet: 4. (Volt Typhoon, conducts, extensive pre-compromise reconnaissance to learn about the target organization's network architecture and operational protocols). Error: unterminated string literal (detected at line 1) (<string>, line 1)\n",
            "Failed to process triplet: 5. (Volt Typhoon, uses, Fast Reverse Proxy (FRP) for command and control). Error: invalid syntax. Perhaps you forgot a comma? (<string>, line 1)\n",
            "Failed to process triplet: These triplets highlight some of the key tactics, techniques, and procedures (TTPs) used by the Volt Typhoon threat group, including their use of LOTL techniques, exploitation of zero-day vulnerabilities, lateral movement via RDP, pre-compromise reconnaissance, and use of FRP for command and control.. Error: invalid syntax (<string>, line 1)\n",
            "Failed to process triplet: Here are 5 cybersecurity-related knowledge triplets extracted from the text:. Error: invalid syntax (<string>, line 1)\n",
            "Failed to process triplet: 1. (Androxgh0st malware, uses, Python-scripted malware). Error: invalid syntax. Perhaps you forgot a comma? (<string>, line 1)\n",
            "Failed to process triplet: 2. (Androxgh0st malware, exploits, CVE-2017-9841). Error: invalid syntax. Perhaps you forgot a comma? (<string>, line 1)\n",
            "Failed to process triplet: 3. (Androxgh0st malware, targets, .env files). Error: invalid syntax. Perhaps you forgot a comma? (<string>, line 1)\n",
            "Failed to process triplet: 4. (Androxgh0st malware, uses, web shell deployment). Error: invalid syntax. Perhaps you forgot a comma? (<string>, line 1)\n",
            "Failed to process triplet: 5. (Androxgh0st malware, exploits, CVE-2018-15133). Error: invalid syntax. Perhaps you forgot a comma? (<string>, line 1)\n",
            "Failed to process triplet: Additional triplets can be extracted, but these 5 provide a good starting point for understanding the threat posed by Androxgh0st malware.. Error: invalid syntax (<string>, line 1)\n",
            "Failed to process triplet: Here are a few more triplets that can be extracted:. Error: invalid syntax (<string>, line 1)\n",
            "Failed to process triplet: 6. (Androxgh0st malware, uses, path traversal attack). Error: invalid syntax. Perhaps you forgot a comma? (<string>, line 1)\n",
            "Failed to process triplet: 7. (Androxgh0st malware, targets, Laravel web application framework). Error: invalid syntax. Perhaps you forgot a comma? (<string>, line 1)\n",
            "Failed to process triplet: 8. (Androxgh0st malware, exploits, CVE-2021-41773). Error: invalid syntax. Perhaps you forgot a comma? (<string>, line 1)\n",
            "Failed to process triplet: 9. (Androxgh0st malware, uses, command and scripting interpreter). Error: invalid syntax. Perhaps you forgot a comma? (<string>, line 1)\n",
            "Failed to process triplet: 10. (Androxgh0st malware, exploits, unsecured credentials). Error: invalid syntax. Perhaps you forgot a comma? (<string>, line 1)\n",
            "Failed to process triplet: These triplets can be used to create a knowledge graph that represents the relationships between Androxgh0st malware and various cybersecurity concepts.. Error: invalid syntax (<string>, line 1)\n"
          ]
        }
      ]
    },
    {
      "cell_type": "code",
      "source": [
        "# Function to retrieve graph data\n",
        "def get_graph_data():\n",
        "    nodes_result = conn.execute(\"MATCH (e:Entity) RETURN e.name\")\n",
        "    edges_result = conn.execute(\"MATCH (e1:Entity)-[r:Relation]->(e2:Entity) RETURN e1.name, r.predicate, e2.name\")\n",
        "\n",
        "    nodes = [row.getString(0) for row in nodes_result]\n",
        "    edges = [(row.getString(0), row.getString(1), row.getString(2)) for row in edges_result]\n",
        "\n",
        "    return nodes, edges"
      ],
      "metadata": {
        "id": "He-lcLnDtZnp"
      },
      "execution_count": null,
      "outputs": []
    },
    {
      "cell_type": "code",
      "source": [
        "# Enhanced graph visualization using Plotly\n",
        "def visualize_graph_plotly():\n",
        "    nodes, edges = get_graph_data()\n",
        "    G = nx.Graph()\n",
        "\n",
        "    for node in nodes:\n",
        "        G.add_node(node)\n",
        "\n",
        "    for edge in edges:\n",
        "        G.add_edge(edge[0], edge[2], label=edge[1])\n",
        "\n",
        "    pos = nx.spring_layout(G)\n",
        "\n",
        "    edge_x = []\n",
        "    edge_y = []\n",
        "    for edge in G.edges():\n",
        "        x0, y0 = pos[edge[0]]\n",
        "        x1, y1 = pos[edge[1]]\n",
        "        edge_x.extend([x0, x1, None])\n",
        "        edge_y.extend([y0, y1, None])\n",
        "\n",
        "    edge_trace = go.Scatter(\n",
        "        x=edge_x, y=edge_y,\n",
        "        line=dict(width=0.5, color='#888'),\n",
        "        hoverinfo='none',\n",
        "        mode='lines')\n",
        "\n",
        "    node_x = [pos[node][0] for node in G.nodes()]\n",
        "    node_y = [pos[node][1] for node in G.nodes()]\n",
        "\n",
        "    node_trace = go.Scatter(\n",
        "        x=node_x, y=node_y,\n",
        "        mode='markers',\n",
        "        hoverinfo='text',\n",
        "        marker=dict(\n",
        "            showscale=True,\n",
        "            colorscale='YlGnBu',\n",
        "            reversescale=True,\n",
        "            color=[],\n",
        "            size=10,\n",
        "            colorbar=dict(\n",
        "                thickness=15,\n",
        "                title='Node Connections',\n",
        "                xanchor='left',\n",
        "                titleside='right'\n",
        "            ),\n",
        "            line_width=2))\n",
        "\n",
        "    node_adjacencies = []\n",
        "    node_text = []\n",
        "    for node, adjacencies in G.adjacency():\n",
        "        node_adjacencies.append(len(adjacencies))\n",
        "        node_text.append(f'{node}# of connections: {len(adjacencies)}')\n",
        "\n",
        "    node_trace.marker.color = node_adjacencies\n",
        "    node_trace.text = node_text\n",
        "\n",
        "    fig = go.Figure(data=[edge_trace, node_trace],\n",
        "                    layout=go.Layout(\n",
        "                        title='Knowledge Graph',\n",
        "                        titlefont_size=16,\n",
        "                        showlegend=False,\n",
        "                        hovermode='closest',\n",
        "                        margin=dict(b=20,l=5,r=5,t=40),\n",
        "                        annotations=[ dict(\n",
        "                            text=\"\",\n",
        "                            showarrow=False,\n",
        "                            xref=\"paper\", yref=\"paper\",\n",
        "                            x=0.005, y=-0.002 ) ],\n",
        "                        xaxis=dict(showgrid=False, zeroline=False, showticklabels=False),\n",
        "                        yaxis=dict(showgrid=False, zeroline=False, showticklabels=False))\n",
        "                    )\n",
        "\n",
        "    fig.show()"
      ],
      "metadata": {
        "id": "YcoLEog8t3_u"
      },
      "execution_count": null,
      "outputs": []
    },
    {
      "cell_type": "code",
      "source": [
        "# Embedding visualization\n",
        "def visualize_embeddings():\n",
        "    # Get embeddings\n",
        "    doc_embeddings = [embeddings.embed_query(text) for text in texts]\n",
        "\n",
        "    # Reduce dimensionality for visualization\n",
        "    tsne = TSNE(n_components=2, random_state=0)\n",
        "    tsne_results = tsne.fit_transform(doc_embeddings)\n",
        "\n",
        "    # Create a DataFrame for Plotly\n",
        "    df = pd.DataFrame(tsne_results, columns=['x', 'y'])\n",
        "\n",
        "    fig = px.scatter(df, x='x', y='y', title='Document Embeddings Visualization')\n",
        "    fig.show()"
      ],
      "metadata": {
        "id": "9UjqcklSt4CL"
      },
      "execution_count": null,
      "outputs": []
    },
    {
      "cell_type": "code",
      "source": [
        "# Example queries\n",
        "questions = [\n",
        "    \"What are the latest threats targeting the healthcare industry?\",\n",
        "    \"Can you provide details on recent ransomware attacks?\",\n",
        "    \"What are the most critical vulnerabilities discovered in the last month?\",\n",
        "    \"How can organizations protect against phishing attacks?\",\n",
        "    \"What are the emerging trends in cybersecurity for financial institutions?\"\n",
        "]"
      ],
      "metadata": {
        "id": "J2j8mjTSt4E4"
      },
      "execution_count": null,
      "outputs": []
    },
    {
      "cell_type": "code",
      "source": [
        "# Query the knowledge graph and visualize\n",
        "def query_graph(query):\n",
        "    return chain.invoke({\"text\": query})\n",
        "\n",
        "# Execute example queries and print results\n",
        "for query in questions:\n",
        "    answer = query_graph(query)\n",
        "    print(f\"Query: {query}\\nAnswer: {answer}\\n\")"
      ],
      "metadata": {
        "id": "5r2QzDsmt4II",
        "colab": {
          "base_uri": "https://localhost:8080/"
        },
        "outputId": "55389c26-8f37-4b7b-87de-a6672bae6082"
      },
      "execution_count": null,
      "outputs": [
        {
          "output_type": "stream",
          "name": "stdout",
          "text": [
            "Query: What are the latest threats targeting the healthcare industry?\n",
            "Answer: content='The healthcare industry is a prime target for cyber attacks, and the threats are constantly evolving. Here are some of the latest threats targeting the healthcare industry:\\n\\n1. **Ransomware Attacks**: Ransomware attacks are still a major threat to the healthcare industry. These attacks involve encrypting sensitive data and demanding payment in exchange for the decryption key. Recent attacks have shown that ransomware can have devastating effects on healthcare organizations, including data breaches, system downtime, and even patient harm.\\n2. **Data Breaches**: Data breaches are a persistent threat to the healthcare industry, with hackers targeting sensitive patient data, including protected health information (PHI). These breaches can occur through various means, including phishing attacks, malware infections, and insider threats.\\n3. **Medical Device Hacking**: Medical devices, such as pacemakers, insulin pumps, and hospital equipment, are vulnerable to hacking. These devices can be compromised by hackers, potentially leading to patient harm or even death.\\n4. **Telehealth Threats**: With the rise of telehealth, there are new threats emerging, including unauthorized access to telehealth sessions, data breaches, and malware infections.\\n5. **Insider Threats**: Insider threats are a significant concern in the healthcare industry, with employees, contractors, and third-party vendors potentially compromising sensitive data.\\n6. **Cloud Security Threats**: As healthcare organizations move to the cloud, they are exposed to new threats, including data breaches, unauthorized access, and cloud-specific vulnerabilities.\\n7. **Artificial Intelligence (AI) and Machine Learning (ML) Threats**: The use of AI and ML in healthcare can introduce new threats, including data poisoning, model hijacking, and adversarial attacks.\\n8. **Internet of Things (IoT) Threats**: IoT devices, such as medical devices and wearables, are vulnerable to hacking and can be used as entry points for attacks.\\n9. **Phishing and Social Engineering**: Phishing and social engineering attacks are still a major threat to the healthcare industry, with hackers using tactics like spear phishing and business email compromise (BEC) to trick employees into divulging sensitive information.\\n10. **Supply Chain Threats**: The healthcare industry is vulnerable to supply chain threats, including attacks on medical device manufacturers, pharmaceutical companies, and other third-party vendors.\\n\\nTo mitigate these threats, healthcare organizations must prioritize cybersecurity and implement robust security measures, including:\\n\\n* Implementing robust security controls, such as firewalls, intrusion detection systems, and antivirus software\\n* Conducting regular security audits and risk assessments\\n* Providing employee training and awareness programs\\n* Implementing incident response plans\\n* Using secure communication protocols, such as encryption\\n* Monitoring for suspicious activity\\n* Implementing a robust patch management program\\n* Using secure cloud storage and backup solutions\\n\\nBy staying informed about the latest threats and taking proactive steps to protect against them, healthcare organizations can help ensure the security and integrity of sensitive patient data.' response_metadata={'token_usage': {'completion_tokens': 591, 'prompt_tokens': 31, 'total_tokens': 622, 'completion_time': 2.364, 'prompt_time': 0.011121403, 'queue_time': None, 'total_time': 2.375121403}, 'model_name': 'llama-3.1-70b-versatile', 'system_fingerprint': 'fp_9260b4bb2e', 'finish_reason': 'stop', 'logprobs': None} id='run-166dd4a4-bdd3-4da5-b32a-000c9cd8daae-0' usage_metadata={'input_tokens': 31, 'output_tokens': 591, 'total_tokens': 622}\n",
            "\n",
            "Query: Can you provide details on recent ransomware attacks?\n",
            "Answer: content=\"Unfortunately, ransomware attacks have been on the rise in recent years, and 2022 has been no exception. Here are some notable recent ransomware attacks:\\n\\n1. **Colonial Pipeline Attack (May 2021)**: One of the most significant ransomware attacks in recent history, the Colonial Pipeline attack targeted the largest fuel pipeline in the United States. The attack, attributed to the DarkSide ransomware group, resulted in a shutdown of the pipeline, causing widespread fuel shortages and panic buying.\\n2. **JBS Foods Attack (May 2021)**: JBS Foods, a leading global meat processor, was hit by a ransomware attack attributed to the REvil (Sodinokibi) group. The attack affected operations in the United States, Australia, and Canada, leading to concerns about food supply chain disruptions.\\n3. **Kaseya Attack (July 2021)**: Kaseya, a software company that provides IT management solutions, was targeted by the REvil ransomware group. The attack affected over 1,500 organizations worldwide, including schools, hospitals, and government agencies.\\n4. **Accenture Attack (August 2021)**: Accenture, a global consulting firm, was hit by a ransomware attack attributed to the LockBit group. The attack resulted in the theft of sensitive data, including employee information and client data.\\n5. **Howard University Attack (September 2021)**: Howard University, a historically black college in Washington, D.C., was targeted by a ransomware attack attributed to the Babuk group. The attack resulted in the disruption of university operations and the theft of sensitive data.\\n6. **Grocery Store Chain Attack (October 2021)**: A ransomware attack attributed to the BlackMatter group targeted a grocery store chain in the United States, resulting in the disruption of operations and the theft of sensitive data.\\n7. **Ukrainian Government Attack (January 2022)**: The Ukrainian government was targeted by a ransomware attack attributed to the Emotet group. The attack resulted in the disruption of government operations and the theft of sensitive data.\\n8. **Red Cross Attack (January 2022)**: The International Committee of the Red Cross (ICRC) was hit by a ransomware attack attributed to the LockBit group. The attack resulted in the theft of sensitive data, including information about prisoners of war and missing persons.\\n9. **Toyota Attack (February 2022)**: Toyota, the Japanese automaker, was targeted by a ransomware attack attributed to the Conti group. The attack resulted in the disruption of operations and the theft of sensitive data.\\n10. **Costa Rica Government Attack (April 2022)**: The government of Costa Rica was targeted by a ransomware attack attributed to the Conti group. The attack resulted in the disruption of government operations and the theft of sensitive data.\\n\\nThese attacks highlight the ongoing threat of ransomware and the need for organizations to prioritize cybersecurity and implement robust defenses against these types of attacks.\\n\\n**Common trends and tactics:**\\n\\n* Many recent ransomware attacks have involved the use of phishing emails or exploited vulnerabilities to gain initial access to the targeted organization's network.\\n* Ransomware groups have increasingly used double extortion tactics, where they not only demand a ransom in exchange for the decryption key but also threaten to release stolen data if the ransom is not paid.\\n* The use of ransomware-as-a-service (RaaS) models has become more prevalent, allowing attackers to easily deploy and manage ransomware campaigns.\\n\\n**Mitigation strategies:**\\n\\n* Implement robust email security measures, including phishing detection and prevention tools.\\n* Regularly update and patch software vulnerabilities.\\n* Use strong passwords and multi-factor authentication.\\n* Implement a robust backup and disaster recovery plan.\\n* Conduct regular security awareness training for employees.\\n* Consider implementing a ransomware-specific incident response plan.\\n\\nI hope this information helps! Let me know if you have any further questions or concerns.\" response_metadata={'token_usage': {'completion_tokens': 805, 'prompt_tokens': 31, 'total_tokens': 836, 'completion_time': 3.22, 'prompt_time': 0.011906171, 'queue_time': None, 'total_time': 3.2319061710000003}, 'model_name': 'llama-3.1-70b-versatile', 'system_fingerprint': 'fp_b3ae7e594e', 'finish_reason': 'stop', 'logprobs': None} id='run-518dfddb-5a71-48df-b509-3a691178d27c-0' usage_metadata={'input_tokens': 31, 'output_tokens': 805, 'total_tokens': 836}\n",
            "\n",
            "Query: What are the most critical vulnerabilities discovered in the last month?\n",
            "Answer: content='I\\'ll provide you with an overview of some of the most critical vulnerabilities discovered in the last month, based on publicly available information. Please note that this is not an exhaustive list, and the severity of vulnerabilities can vary depending on the specific environment and context.\\n\\nHere are some of the most critical vulnerabilities discovered in the last month:\\n\\n1. **CVE-2023-20161**: A critical vulnerability in the popular open-source library \"Lodash\" was discovered, which could allow for arbitrary code execution. Lodash is widely used in many applications, including web applications and Node.js applications.\\n2. **CVE-2023-20144**: A critical vulnerability in the \"Apache Commons Text\" library was discovered, which could allow for arbitrary code execution. This library is widely used in many Java applications.\\n3. **CVE-2023-20132**: A critical vulnerability in the \"Git\" version control system was discovered, which could allow for arbitrary code execution. This vulnerability affects all versions of Git prior to 2.35.4.\\n4. **CVE-2023-20125**: A critical vulnerability in the \"WordPress\" content management system was discovered, which could allow for arbitrary code execution. This vulnerability affects all versions of WordPress prior to 5.8.4.\\n5. **CVE-2023-20118**: A critical vulnerability in the \"VMware ESXi\" virtualization platform was discovered, which could allow for arbitrary code execution. This vulnerability affects all versions of ESXi prior to 7.0.0.\\n6. **CVE-2023-20114**: A critical vulnerability in the \"Microsoft Exchange Server\" was discovered, which could allow for arbitrary code execution. This vulnerability affects all versions of Exchange Server prior to 2.0.1.\\n7. **CVE-2023-20108**: A critical vulnerability in the \"Google Chrome\" web browser was discovered, which could allow for arbitrary code execution. This vulnerability affects all versions of Chrome prior to 104.0.0.184.\\n8. **CVE-2023-20104**: A critical vulnerability in the \"Mozilla Firefox\" web browser was discovered, which could allow for arbitrary code execution. This vulnerability affects all versions of Firefox prior to 104.0.0.\\n9. **CVE-2023-20097**: A critical vulnerability in the \"Apple Safari\" web browser was discovered, which could allow for arbitrary code execution. This vulnerability affects all versions of Safari prior to 15.6.0.\\n10. **CVE-2023-20092**: A critical vulnerability in the \"Microsoft Windows\" operating system was discovered, which could allow for arbitrary code execution. This vulnerability affects all versions of Windows prior to 10.0.225.0.\\n\\nThese vulnerabilities are considered critical because they could allow for arbitrary code execution, which could lead to a complete compromise of the affected system.\\n\\nIt\\'s essential to note that these vulnerabilities have been publicly disclosed, and patches are available for most of them. It\\'s crucial to apply these patches as soon as possible to prevent exploitation.\\n\\nIf you\\'re concerned about the security of your systems, I recommend:\\n\\n* Checking for updates and applying patches for the affected software\\n* Conducting a thorough vulnerability scan to identify potential vulnerabilities\\n* Implementing additional security measures, such as a web application firewall (WAF) and intrusion detection system (IDS)\\n* Staying informed about the latest security news and updates\\n\\nPlease let me know if you have any further questions or concerns!' response_metadata={'token_usage': {'completion_tokens': 711, 'prompt_tokens': 33, 'total_tokens': 744, 'completion_time': 2.844, 'prompt_time': 0.013510971, 'queue_time': None, 'total_time': 2.857510971}, 'model_name': 'llama-3.1-70b-versatile', 'system_fingerprint': 'fp_9260b4bb2e', 'finish_reason': 'stop', 'logprobs': None} id='run-19fcf900-4fe9-44b5-9ecb-c66b79d12e0e-0' usage_metadata={'input_tokens': 33, 'output_tokens': 711, 'total_tokens': 744}\n",
            "\n",
            "Query: How can organizations protect against phishing attacks?\n",
            "Answer: content=\"Organizations can protect against phishing attacks by implementing a combination of technical, administrative, and educational measures. Here are some ways to protect against phishing attacks:\\n\\n**Technical Measures:**\\n\\n1. **Email Filtering**: Implement email filtering solutions that can detect and block phishing emails before they reach employees' inboxes.\\n2. **Two-Factor Authentication (2FA)**: Implement 2FA to add an extra layer of security to prevent attackers from accessing sensitive information even if they obtain login credentials.\\n3. **URL Filtering**: Block access to known phishing websites and malicious URLs.\\n4. **Anti-Virus Software**: Install anti-virus software that can detect and block malware and phishing attacks.\\n5. **Encryption**: Encrypt sensitive data to prevent unauthorized access.\\n\\n**Administrative Measures:**\\n\\n1. **Phishing Simulation**: Conduct regular phishing simulation exercises to test employees' awareness and response to phishing attacks.\\n2. **Incident Response Plan**: Develop an incident response plan to quickly respond to phishing attacks and minimize damage.\\n3. **Employee Training**: Provide regular training and awareness programs to educate employees on phishing attacks and how to identify and report them.\\n4. **Account Monitoring**: Monitor employee accounts for suspicious activity and implement account lockout policies to prevent brute-force attacks.\\n5. **Vendor Management**: Conduct thorough background checks on vendors and third-party contractors to prevent insider threats.\\n\\n**Educational Measures:**\\n\\n1. **Employee Awareness**: Educate employees on the risks of phishing attacks and how to identify and report them.\\n2. **Phishing Awareness Campaigns**: Conduct regular phishing awareness campaigns to remind employees of the risks and consequences of phishing attacks.\\n3. **Security Policies**: Develop and communicate security policies and procedures to employees, including guidelines for reporting phishing attacks.\\n4. **Training Programs**: Provide training programs for employees on how to identify and report phishing attacks, including how to verify the authenticity of emails and websites.\\n5. **Phishing Reporting**: Encourage employees to report phishing attacks to the IT department or security team.\\n\\n**Additional Measures:**\\n\\n1. **Implement DMARC**: Implement Domain-based Message Authentication, Reporting, and Conformance (DMARC) to prevent email spoofing.\\n2. **Use Secure Email Protocols**: Use secure email protocols such as Transport Layer Security (TLS) to encrypt email communications.\\n3. **Regularly Update Software**: Regularly update software and systems to prevent exploitation of known vulnerabilities.\\n4. **Conduct Regular Security Audits**: Conduct regular security audits to identify vulnerabilities and weaknesses in the organization's security posture.\\n\\nBy implementing these measures, organizations can significantly reduce the risk of phishing attacks and protect their sensitive information.\" response_metadata={'token_usage': {'completion_tokens': 530, 'prompt_tokens': 29, 'total_tokens': 559, 'completion_time': 2.12, 'prompt_time': 0.011020723, 'queue_time': None, 'total_time': 2.1310207230000002}, 'model_name': 'llama-3.1-70b-versatile', 'system_fingerprint': 'fp_b3ae7e594e', 'finish_reason': 'stop', 'logprobs': None} id='run-3c3c600c-73f5-4de5-9bf0-61d0a3cbb701-0' usage_metadata={'input_tokens': 29, 'output_tokens': 530, 'total_tokens': 559}\n",
            "\n",
            "Query: What are the emerging trends in cybersecurity for financial institutions?\n",
            "Answer: content='Here are some emerging trends in cybersecurity for financial institutions:\\n\\n1. **Cloud Security**: As financial institutions move to the cloud, they need to ensure that their cloud environments are secure. This includes implementing cloud security controls, such as encryption, access controls, and monitoring.\\n2. **Artificial Intelligence (AI) and Machine Learning (ML)**: AI and ML can help financial institutions detect and prevent cyber attacks by identifying patterns and anomalies in their systems.\\n3. **Advanced Threat Protection (ATP)**: ATP solutions can help detect and prevent advanced threats, such as ransomware and zero-day attacks.\\n4. **Endpoint Security**: With the rise of remote work, endpoint security is becoming increasingly important. Financial institutions need to ensure that their endpoints, including laptops, desktops, and mobile devices, are secure.\\n5. **Identity and Access Management (IAM)**: IAM solutions can help financial institutions manage access to their systems and data, ensuring that only authorized users have access.\\n6. **Blockchain Security**: As financial institutions explore the use of blockchain technology, they need to ensure that their blockchain environments are secure.\\n7. **Incident Response**: Financial institutions need to have an incident response plan in place to respond to cyber attacks quickly and effectively.\\n8. **Third-Party Risk Management**: Financial institutions need to ensure that their third-party vendors and partners are secure, as they can be a potential entry point for cyber attacks.\\n9. **Data Protection**: Financial institutions need to ensure that their data is protected, including sensitive customer data.\\n10. **Regulatory Compliance**: Financial institutions need to ensure that they are compliant with relevant regulations, such as the Payment Card Industry Data Security Standard (PCI DSS) and the General Data Protection Regulation (GDPR).\\n\\nSome other emerging trends in cybersecurity for financial institutions include:\\n\\n* **Zero-Trust Architecture**: A zero-trust architecture assumes that all users and devices are untrusted and verifies their identity and access rights before allowing access to sensitive data and systems.\\n* **Security Orchestation, Automation, and Response (SOAR)**: SOAR solutions can help financial institutions automate their security operations and respond to cyber attacks more quickly and effectively.\\n* **Threat Intelligence**: Threat intelligence solutions can help financial institutions stay informed about potential cyber threats and take proactive steps to prevent them.\\n* **Digital Forensics**: Digital forensics solutions can help financial institutions investigate and respond to cyber attacks more effectively.\\n\\nThese are just a few of the emerging trends in cybersecurity for financial institutions. The key is to stay informed and adapt to the ever-changing threat landscape.' response_metadata={'token_usage': {'completion_tokens': 519, 'prompt_tokens': 32, 'total_tokens': 551, 'completion_time': 2.076, 'prompt_time': 0.012642559, 'queue_time': None, 'total_time': 2.088642559}, 'model_name': 'llama-3.1-70b-versatile', 'system_fingerprint': 'fp_9260b4bb2e', 'finish_reason': 'stop', 'logprobs': None} id='run-5e6e23af-9c6f-4eea-a391-000b990da1f0-0' usage_metadata={'input_tokens': 32, 'output_tokens': 519, 'total_tokens': 551}\n",
            "\n"
          ]
        }
      ]
    },
    {
      "cell_type": "code",
      "source": [
        "# Visualize the graph and embeddings\n",
        "visualize_graph_plotly()\n",
        "visualize_embeddings()"
      ],
      "metadata": {
        "id": "NsuJ1aT8t4Le",
        "colab": {
          "base_uri": "https://localhost:8080/",
          "height": 321
        },
        "outputId": "0e583de6-aa66-4543-860e-a5c0762a1107"
      },
      "execution_count": null,
      "outputs": [
        {
          "output_type": "error",
          "ename": "TypeError",
          "evalue": "'QueryResult' object is not iterable",
          "traceback": [
            "\u001b[0;31m---------------------------------------------------------------------------\u001b[0m",
            "\u001b[0;31mTypeError\u001b[0m                                 Traceback (most recent call last)",
            "\u001b[0;32m<ipython-input-37-059fcc34453c>\u001b[0m in \u001b[0;36m<cell line: 2>\u001b[0;34m()\u001b[0m\n\u001b[1;32m      1\u001b[0m \u001b[0;31m# Visualize the graph and embeddings\u001b[0m\u001b[0;34m\u001b[0m\u001b[0;34m\u001b[0m\u001b[0m\n\u001b[0;32m----> 2\u001b[0;31m \u001b[0mvisualize_graph_plotly\u001b[0m\u001b[0;34m(\u001b[0m\u001b[0;34m)\u001b[0m\u001b[0;34m\u001b[0m\u001b[0;34m\u001b[0m\u001b[0m\n\u001b[0m\u001b[1;32m      3\u001b[0m \u001b[0mvisualize_embeddings\u001b[0m\u001b[0;34m(\u001b[0m\u001b[0;34m)\u001b[0m\u001b[0;34m\u001b[0m\u001b[0;34m\u001b[0m\u001b[0m\n",
            "\u001b[0;32m<ipython-input-33-ff0ec19a9a22>\u001b[0m in \u001b[0;36mvisualize_graph_plotly\u001b[0;34m()\u001b[0m\n\u001b[1;32m      1\u001b[0m \u001b[0;31m# Enhanced graph visualization using Plotly\u001b[0m\u001b[0;34m\u001b[0m\u001b[0;34m\u001b[0m\u001b[0m\n\u001b[1;32m      2\u001b[0m \u001b[0;32mdef\u001b[0m \u001b[0mvisualize_graph_plotly\u001b[0m\u001b[0;34m(\u001b[0m\u001b[0;34m)\u001b[0m\u001b[0;34m:\u001b[0m\u001b[0;34m\u001b[0m\u001b[0;34m\u001b[0m\u001b[0m\n\u001b[0;32m----> 3\u001b[0;31m     \u001b[0mnodes\u001b[0m\u001b[0;34m,\u001b[0m \u001b[0medges\u001b[0m \u001b[0;34m=\u001b[0m \u001b[0mget_graph_data\u001b[0m\u001b[0;34m(\u001b[0m\u001b[0;34m)\u001b[0m\u001b[0;34m\u001b[0m\u001b[0;34m\u001b[0m\u001b[0m\n\u001b[0m\u001b[1;32m      4\u001b[0m     \u001b[0mG\u001b[0m \u001b[0;34m=\u001b[0m \u001b[0mnx\u001b[0m\u001b[0;34m.\u001b[0m\u001b[0mGraph\u001b[0m\u001b[0;34m(\u001b[0m\u001b[0;34m)\u001b[0m\u001b[0;34m\u001b[0m\u001b[0;34m\u001b[0m\u001b[0m\n\u001b[1;32m      5\u001b[0m \u001b[0;34m\u001b[0m\u001b[0m\n",
            "\u001b[0;32m<ipython-input-32-a857d7cb617c>\u001b[0m in \u001b[0;36mget_graph_data\u001b[0;34m()\u001b[0m\n\u001b[1;32m      4\u001b[0m     \u001b[0medges_result\u001b[0m \u001b[0;34m=\u001b[0m \u001b[0mconn\u001b[0m\u001b[0;34m.\u001b[0m\u001b[0mexecute\u001b[0m\u001b[0;34m(\u001b[0m\u001b[0;34m\"MATCH (e1:Entity)-[r:Relation]->(e2:Entity) RETURN e1.name, r.predicate, e2.name\"\u001b[0m\u001b[0;34m)\u001b[0m\u001b[0;34m\u001b[0m\u001b[0;34m\u001b[0m\u001b[0m\n\u001b[1;32m      5\u001b[0m \u001b[0;34m\u001b[0m\u001b[0m\n\u001b[0;32m----> 6\u001b[0;31m     \u001b[0mnodes\u001b[0m \u001b[0;34m=\u001b[0m \u001b[0;34m[\u001b[0m\u001b[0mrow\u001b[0m\u001b[0;34m.\u001b[0m\u001b[0mgetString\u001b[0m\u001b[0;34m(\u001b[0m\u001b[0;36m0\u001b[0m\u001b[0;34m)\u001b[0m \u001b[0;32mfor\u001b[0m \u001b[0mrow\u001b[0m \u001b[0;32min\u001b[0m \u001b[0mnodes_result\u001b[0m\u001b[0;34m]\u001b[0m\u001b[0;34m\u001b[0m\u001b[0;34m\u001b[0m\u001b[0m\n\u001b[0m\u001b[1;32m      7\u001b[0m     \u001b[0medges\u001b[0m \u001b[0;34m=\u001b[0m \u001b[0;34m[\u001b[0m\u001b[0;34m(\u001b[0m\u001b[0mrow\u001b[0m\u001b[0;34m.\u001b[0m\u001b[0mgetString\u001b[0m\u001b[0;34m(\u001b[0m\u001b[0;36m0\u001b[0m\u001b[0;34m)\u001b[0m\u001b[0;34m,\u001b[0m \u001b[0mrow\u001b[0m\u001b[0;34m.\u001b[0m\u001b[0mgetString\u001b[0m\u001b[0;34m(\u001b[0m\u001b[0;36m1\u001b[0m\u001b[0;34m)\u001b[0m\u001b[0;34m,\u001b[0m \u001b[0mrow\u001b[0m\u001b[0;34m.\u001b[0m\u001b[0mgetString\u001b[0m\u001b[0;34m(\u001b[0m\u001b[0;36m2\u001b[0m\u001b[0;34m)\u001b[0m\u001b[0;34m)\u001b[0m \u001b[0;32mfor\u001b[0m \u001b[0mrow\u001b[0m \u001b[0;32min\u001b[0m \u001b[0medges_result\u001b[0m\u001b[0;34m]\u001b[0m\u001b[0;34m\u001b[0m\u001b[0;34m\u001b[0m\u001b[0m\n\u001b[1;32m      8\u001b[0m \u001b[0;34m\u001b[0m\u001b[0m\n",
            "\u001b[0;31mTypeError\u001b[0m: 'QueryResult' object is not iterable"
          ]
        }
      ]
    },
    {
      "cell_type": "code",
      "source": [],
      "metadata": {
        "id": "M5fUPksE04wl"
      },
      "execution_count": null,
      "outputs": []
    }
  ]
}