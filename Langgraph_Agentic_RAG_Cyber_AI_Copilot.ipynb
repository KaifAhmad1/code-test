{
  "nbformat": 4,
  "nbformat_minor": 0,
  "metadata": {
    "colab": {
      "provenance": [],
      "include_colab_link": true
    },
    "kernelspec": {
      "name": "python3",
      "display_name": "Python 3"
    },
    "language_info": {
      "name": "python"
    }
  },
  "cells": [
    {
      "cell_type": "markdown",
      "metadata": {
        "id": "view-in-github",
        "colab_type": "text"
      },
      "source": [
        "<a href=\"https://colab.research.google.com/github/KaifAhmad1/code-test/blob/main/Langgraph_Agentic_RAG_Cyber_AI_Copilot.ipynb\" target=\"_parent\"><img src=\"https://colab.research.google.com/assets/colab-badge.svg\" alt=\"Open In Colab\"/></a>"
      ]
    },
    {
      "cell_type": "markdown",
      "source": [
        "### **Cyber AI Copilot for Security and Intelligence Domain**"
      ],
      "metadata": {
        "id": "M0rt8qzmxyyR"
      }
    },
    {
      "cell_type": "code",
      "execution_count": 1,
      "metadata": {
        "id": "Wzih_tgLwXK6",
        "colab": {
          "base_uri": "https://localhost:8080/"
        },
        "outputId": "4f7b9050-8be7-40a4-a950-acb1be6e32a1"
      },
      "outputs": [
        {
          "output_type": "stream",
          "name": "stdout",
          "text": [
            "\u001b[2K     \u001b[90m━━━━━━━━━━━━━━━━━━━━━━━━━━━━━━━━━━━━━━━━\u001b[0m \u001b[32m50.4/50.4 kB\u001b[0m \u001b[31m2.2 MB/s\u001b[0m eta \u001b[36m0:00:00\u001b[0m\n",
            "\u001b[2K   \u001b[90m━━━━━━━━━━━━━━━━━━━━━━━━━━━━━━━━━━━━━━━━\u001b[0m \u001b[32m245.3/245.3 kB\u001b[0m \u001b[31m11.7 MB/s\u001b[0m eta \u001b[36m0:00:00\u001b[0m\n",
            "\u001b[2K   \u001b[90m━━━━━━━━━━━━━━━━━━━━━━━━━━━━━━━━━━━━━━━━\u001b[0m \u001b[32m1.0/1.0 MB\u001b[0m \u001b[31m26.2 MB/s\u001b[0m eta \u001b[36m0:00:00\u001b[0m\n",
            "\u001b[2K   \u001b[90m━━━━━━━━━━━━━━━━━━━━━━━━━━━━━━━━━━━━━━━━\u001b[0m \u001b[32m2.4/2.4 MB\u001b[0m \u001b[31m64.5 MB/s\u001b[0m eta \u001b[36m0:00:00\u001b[0m\n",
            "\u001b[2K   \u001b[90m━━━━━━━━━━━━━━━━━━━━━━━━━━━━━━━━━━━━━━━━\u001b[0m \u001b[32m401.8/401.8 kB\u001b[0m \u001b[31m26.3 MB/s\u001b[0m eta \u001b[36m0:00:00\u001b[0m\n",
            "\u001b[2K   \u001b[90m━━━━━━━━━━━━━━━━━━━━━━━━━━━━━━━━━━━━━━━━\u001b[0m \u001b[32m107.4/107.4 kB\u001b[0m \u001b[31m9.0 MB/s\u001b[0m eta \u001b[36m0:00:00\u001b[0m\n",
            "\u001b[2K   \u001b[90m━━━━━━━━━━━━━━━━━━━━━━━━━━━━━━━━━━━━━━━━\u001b[0m \u001b[32m1.2/1.2 MB\u001b[0m \u001b[31m58.7 MB/s\u001b[0m eta \u001b[36m0:00:00\u001b[0m\n",
            "\u001b[2K   \u001b[90m━━━━━━━━━━━━━━━━━━━━━━━━━━━━━━━━━━━━━━━━\u001b[0m \u001b[32m3.8/3.8 MB\u001b[0m \u001b[31m78.0 MB/s\u001b[0m eta \u001b[36m0:00:00\u001b[0m\n",
            "\u001b[2K   \u001b[90m━━━━━━━━━━━━━━━━━━━━━━━━━━━━━━━━━━━━━━━━\u001b[0m \u001b[32m106.5/106.5 kB\u001b[0m \u001b[31m8.0 MB/s\u001b[0m eta \u001b[36m0:00:00\u001b[0m\n",
            "\u001b[2K   \u001b[90m━━━━━━━━━━━━━━━━━━━━━━━━━━━━━━━━━━━━━━━━\u001b[0m \u001b[32m76.4/76.4 kB\u001b[0m \u001b[31m6.6 MB/s\u001b[0m eta \u001b[36m0:00:00\u001b[0m\n",
            "\u001b[2K   \u001b[90m━━━━━━━━━━━━━━━━━━━━━━━━━━━━━━━━━━━━━━━━\u001b[0m \u001b[32m78.0/78.0 kB\u001b[0m \u001b[31m6.3 MB/s\u001b[0m eta \u001b[36m0:00:00\u001b[0m\n",
            "\u001b[2K   \u001b[90m━━━━━━━━━━━━━━━━━━━━━━━━━━━━━━━━━━━━━━━━\u001b[0m \u001b[32m294.6/294.6 kB\u001b[0m \u001b[31m21.1 MB/s\u001b[0m eta \u001b[36m0:00:00\u001b[0m\n",
            "\u001b[2K   \u001b[90m━━━━━━━━━━━━━━━━━━━━━━━━━━━━━━━━━━━━━━━━\u001b[0m \u001b[32m141.9/141.9 kB\u001b[0m \u001b[31m10.5 MB/s\u001b[0m eta \u001b[36m0:00:00\u001b[0m\n",
            "\u001b[2K   \u001b[90m━━━━━━━━━━━━━━━━━━━━━━━━━━━━━━━━━━━━━━━━\u001b[0m \u001b[32m244.8/244.8 kB\u001b[0m \u001b[31m19.0 MB/s\u001b[0m eta \u001b[36m0:00:00\u001b[0m\n",
            "\u001b[2K   \u001b[90m━━━━━━━━━━━━━━━━━━━━━━━━━━━━━━━━━━━━━━━━\u001b[0m \u001b[32m49.3/49.3 kB\u001b[0m \u001b[31m4.0 MB/s\u001b[0m eta \u001b[36m0:00:00\u001b[0m\n",
            "\u001b[2K   \u001b[90m━━━━━━━━━━━━━━━━━━━━━━━━━━━━━━━━━━━━━━━━\u001b[0m \u001b[32m378.0/378.0 kB\u001b[0m \u001b[31m27.4 MB/s\u001b[0m eta \u001b[36m0:00:00\u001b[0m\n",
            "\u001b[2K   \u001b[90m━━━━━━━━━━━━━━━━━━━━━━━━━━━━━━━━━━━━━━━━\u001b[0m \u001b[32m85.4/85.4 kB\u001b[0m \u001b[31m6.6 MB/s\u001b[0m eta \u001b[36m0:00:00\u001b[0m\n",
            "\u001b[2K   \u001b[90m━━━━━━━━━━━━━━━━━━━━━━━━━━━━━━━━━━━━━━━━\u001b[0m \u001b[32m54.5/54.5 kB\u001b[0m \u001b[31m3.9 MB/s\u001b[0m eta \u001b[36m0:00:00\u001b[0m\n",
            "\u001b[2K   \u001b[90m━━━━━━━━━━━━━━━━━━━━━━━━━━━━━━━━━━━━━━━━\u001b[0m \u001b[32m58.3/58.3 kB\u001b[0m \u001b[31m4.2 MB/s\u001b[0m eta \u001b[36m0:00:00\u001b[0m\n",
            "\u001b[?25h"
          ]
        }
      ],
      "source": [
        "!pip install --upgrade --quiet sentence-transformers langchain langchain-groq langchain-pinecone langchain-community langchain-core asknews langgraph"
      ]
    },
    {
      "cell_type": "code",
      "source": [
        "import os\n",
        "from typing import List, Dict, Any, Optional, TypedDict\n",
        "from pydantic import BaseModel, Field\n",
        "from langchain_groq import ChatGroq\n",
        "from langchain_pinecone import PineconeVectorStore\n",
        "from pinecone import Pinecone\n",
        "from langchain_community.embeddings import HuggingFaceBgeEmbeddings\n",
        "from langchain.prompts import ChatPromptTemplate\n",
        "from langchain.chains import LLMChain\n",
        "from langgraph.graph import StateGraph, END\n",
        "from langchain_community.tools.asknews import AskNewsSearch\n",
        "from dotenv import load_dotenv\n",
        "\n",
        "# API Keys (hidden for security purposes)\n",
        "GROQ_API_KEY = \"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\"\n",
        "PINECONE_API_KEY = \"8e15b925-3b96-497d-b20a-08d308782b83\"\n",
        "PINECONE_ENVIRONMENT = \"us-east-1\"\n",
        "ASKNEWS_CLIENT_ID = \"a0de4609-b760-4c83-9609-5c04d7743b84\"\n",
        "ASKNEWS_CLIENT_SECRET = \"D5Mlhkztk4TcW24diUgcW0FA2w\"\n",
        "\n",
        "# Set environment variables for AskNews\n",
        "os.environ[\"ASKNEWS_CLIENT_ID\"] = ASKNEWS_CLIENT_ID\n",
        "os.environ[\"ASKNEWS_CLIENT_SECRET\"] = ASKNEWS_CLIENT_SECRET"
      ],
      "metadata": {
        "id": "FY2ZeXgvxMxp"
      },
      "execution_count": 10,
      "outputs": []
    },
    {
      "cell_type": "code",
      "source": [
        "# Initialize the LLM and embeddings\n",
        "llm = ChatGroq(temperature=0, model=\"llama3-8b-8192\", api_key=GROQ_API_KEY)\n",
        "embeddings = HuggingFaceBgeEmbeddings(\n",
        "    model_name=\"BAAI/bge-small-en\",\n",
        "    model_kwargs={\"device\": \"cpu\"},\n",
        "    encode_kwargs={\"normalize_embeddings\": True}\n",
        ")\n",
        "\n",
        "# Debug statement to check if embeddings are initialized\n",
        "if embeddings is None:\n",
        "    raise ValueError(\"Embeddings model failed to initialize\")\n",
        "\n",
        "pc = Pinecone(api_key=PINECONE_API_KEY, environment=PINECONE_ENVIRONMENT)\n",
        "pinecone_index = pc.Index(\"new-cyber-search\")\n",
        "vector_store = PineconeVectorStore(index=pinecone_index, embedding=embeddings)\n",
        "asknews_tool = AskNewsSearch(max_results=2)"
      ],
      "metadata": {
        "id": "XxTld11_xT0d"
      },
      "execution_count": 11,
      "outputs": []
    },
    {
      "cell_type": "code",
      "source": [
        "# Define the state\n",
        "class AgentState(TypedDict):\n",
        "    messages: List[Dict[str, str]]\n",
        "    memory: Optional[Dict[str, Any]]\n",
        "\n",
        "def vector_search(query: str) -> str:\n",
        "    results = vector_store.similarity_search(query, k=3)\n",
        "    return \"\\n\".join([doc.page_content for doc in results])\n",
        "\n",
        "# Define the nodes\n",
        "def search_asknews(state: AgentState) -> AgentState:\n",
        "    query = state[\"messages\"][-1][\"content\"]\n",
        "    result = asknews_tool.invoke({\"query\": query})\n",
        "    state[\"messages\"].append({\"role\": \"tool\", \"content\": f\"AskNews Search Result: {result}\"})\n",
        "    return state\n",
        "\n",
        "def search_vector(state: AgentState) -> AgentState:\n",
        "    query = state[\"messages\"][-1][\"content\"]\n",
        "    result = vector_search(query)\n",
        "    state[\"messages\"].append({\"role\": \"tool\", \"content\": f\"Vector Search Result: {result}\"})\n",
        "    return state"
      ],
      "metadata": {
        "id": "rnQiDPU8xddo"
      },
      "execution_count": 12,
      "outputs": []
    },
    {
      "cell_type": "code",
      "source": [
        "def generate_response(state: AgentState) -> AgentState:\n",
        "    memory = state.get(\"memory\", {})\n",
        "    chat_history = memory.get(\"chat_history\", \"\")\n",
        "\n",
        "    prompt = ChatPromptTemplate.from_messages([\n",
        "        (\"system\", \"\"\"You are an advanced AI copilot specializing in cybersecurity and intelligence. Your role is to provide accurate, up-to-date information and insights on cyber threats, vulnerabilities, and intelligence matters. Use the following guidelines:\n",
        "\n",
        "1. Analyze the user's query and the provided search results thoroughly.\n",
        "2. Prioritize the most relevant and recent information from both AskNews and vector search results.\n",
        "3. Provide a comprehensive response that addresses the user's query, incorporating insights from both search sources.\n",
        "4. If there are conflicting pieces of information, acknowledge them and provide a balanced view.\n",
        "5. Always consider the ethical implications of the information you're providing, especially in sensitive cybersecurity matters.\n",
        "6. If asked about specific attack techniques or vulnerabilities, provide information for defensive purposes only.\n",
        "7. Recommend reliable sources for further reading when appropriate.\n",
        "8. If you're unsure about any information, clearly state that and suggest ways to verify or obtain more accurate data.\n",
        "\n",
        "Remember, you're assisting in a professional capacity in the cybersecurity and intelligence domain. Maintain a tone that is informative, analytical, and security-conscious.\n",
        "\n",
        "Previous conversation:\n",
        "{chat_history}\n",
        "\n",
        "New human question: {input}\n",
        "AskNews Search Result: {asknews_result}\n",
        "Vector Search Result: {vector_result}\n",
        "Response:\"\"\"),\n",
        "    ])\n",
        "\n",
        "    chain = LLMChain(llm=llm, prompt=prompt)\n",
        "\n",
        "    response = chain.run(\n",
        "        input=state[\"messages\"][-1][\"content\"],\n",
        "        asknews_result=next((m[\"content\"] for m in reversed(state[\"messages\"]) if m[\"role\"] == \"tool\" and \"AskNews\" in m[\"content\"]), \"No AskNews results.\"),\n",
        "        vector_result=next((m[\"content\"] for m in reversed(state[\"messages\"]) if m[\"role\"] == \"tool\" and \"Vector Search\" in m[\"content\"]), \"No vector search results.\"),\n",
        "        chat_history=chat_history\n",
        "    )\n",
        "\n",
        "    state[\"messages\"].append({\"role\": \"assistant\", \"content\": response})\n",
        "    state[\"memory\"][\"chat_history\"] = chat_history + f\"\\nHuman: {state['messages'][-2]['content']}\\nAI: {response}\"\n",
        "    return state\n",
        "\n",
        "# Define the graph\n",
        "workflow = StateGraph(AgentState)\n",
        "\n",
        "# Define the nodes\n",
        "workflow.add_node(\"search_asknews\", search_asknews)\n",
        "workflow.add_node(\"search_vector\", search_vector)\n",
        "workflow.add_node(\"generate_response\", generate_response)\n",
        "\n",
        "# Define the edges\n",
        "workflow.add_edge(\"search_asknews\", \"search_vector\")\n",
        "workflow.add_edge(\"search_vector\", \"generate_response\")\n",
        "workflow.add_edge(\"generate_response\", END)\n",
        "\n",
        "# Set the entry point\n",
        "workflow.set_entry_point(\"search_asknews\")\n",
        "\n",
        "# Compile the graph\n",
        "graph = workflow.compile()\n",
        "\n",
        "# Function to run the agent\n",
        "def run_agent(query: str, memory: Optional[Dict[str, Any]] = None) -> AgentState:\n",
        "    state = AgentState(messages=[{\"role\": \"human\", \"content\": query}], memory=memory)\n",
        "    result = graph.invoke(state)\n",
        "    return result"
      ],
      "metadata": {
        "id": "EGkMBAYB2V9U"
      },
      "execution_count": 13,
      "outputs": []
    },
    {
      "cell_type": "code",
      "source": [
        "# Function to run the agent\n",
        "def run_agent(query: str, memory: Optional[Dict[str, Any]] = None) -> AgentState:\n",
        "    state = AgentState(messages=[{\"role\": \"human\", \"content\": query}], memory=memory)\n",
        "    result = graph.invoke(state)\n",
        "    return result"
      ],
      "metadata": {
        "id": "oWVMX_Ue2bTO"
      },
      "execution_count": 8,
      "outputs": []
    },
    {
      "cell_type": "code",
      "source": [
        "# Example usage\n",
        "if __name__ == \"__main__\":\n",
        "    memory = {\"chat_history\": \"\"}\n",
        "    query = \"What are the latest trends in ransomware attacks in India last 3 Months?\"\n",
        "    result = run_agent(query, memory=memory)\n",
        "    for message in result[\"messages\"]:\n",
        "        if message[\"role\"] == \"assistant\":\n",
        "            print(\"AI Copilot:\", message[\"content\"])\n",
        "\n",
        "    # Follow-up query\n",
        "    follow_up_query = \"Can you provide more details on the recent ransomware attacks?\"\n",
        "    result = run_agent(follow_up_query, memory=result[\"memory\"])\n",
        "    for message in result[\"messages\"]:\n",
        "        if message[\"role\"] == \"assistant\":\n",
        "            print(\"AI Copilot:\", message[\"content\"])"
      ],
      "metadata": {
        "id": "sxfECiS1g88s",
        "colab": {
          "base_uri": "https://localhost:8080/"
        },
        "outputId": "8530fee4-3376-429d-b754-b7004a9fed17"
      },
      "execution_count": 14,
      "outputs": [
        {
          "output_type": "stream",
          "name": "stdout",
          "text": [
            "AI Copilot: Based on the provided search results, it appears that there has been a significant increase in cyber attacks targeting financial institutions, including banks and financial institutions, in recent years. The Vector Search Result highlights the involvement of both nation-state actors and Eastern European hackers in these attacks, making it challenging to pinpoint a specific threat actor early in the investigation.\n",
            "\n",
            "The AskNews Search Result provides additional context, highlighting the exponential rise in cyber fraud cases in India, with over 65,000 cases reported in the last 10 years, resulting in a loss of over 4.69 trillion rupees. This suggests that the country is facing a significant threat from cyber fraud, and it is essential for the government and law enforcement agencies to work together to prevent and investigate these crimes.\n",
            "\n",
            "The report by Hacken, as mentioned in the AskNews Search Result, highlights the importance of monitoring and automated incident response systems in preventing losses from DeFi hacks. The report also notes that about 28.7% of the losses from DeFi hacks could have been prevented if the target companies had used such systems.\n",
            "\n",
            "In light of these findings, it is essential for financial institutions to prioritize cybersecurity and implement robust measures to prevent and respond to cyber attacks. This includes regular updates to cyber preparedness and defense mechanisms, as well as the implementation of monitoring and automated incident response systems.\n",
            "\n",
            "Recommendations for further reading:\n",
            "\n",
            "* \"Demonstrating Business Value\": Communicating Cyber Security ROI\n",
            "* \"The country needs to be prepared to tackle the rising threat of cyber fraud,\" said a report. 'The government and law enforcement agencies need to work together to prevent and investigate cyber crimes,' it added.\n",
            "\n",
            "Please note that the information provided is based on publicly available data and may not reflect the most up-to-date information. It is essential to verify the accuracy of the information and consult with cybersecurity experts for more detailed insights.\n",
            "AI Copilot: Based on the provided search results, it appears that there has been a significant increase in cyber attacks targeting financial institutions, including banks and financial institutions, in recent years. The Vector Search Result highlights the involvement of both nation-state actors and Eastern European hackers in these attacks, making it challenging to pinpoint a specific threat actor early in the investigation.\n",
            "\n",
            "The AskNews Search Result provides additional context, highlighting the exponential rise in cyber fraud cases in India, with over 65,000 cases reported in the last 10 years, resulting in a loss of over 4.69 trillion rupees. This suggests that the country is facing a significant threat from cyber fraud, and it is essential for the government and law enforcement agencies to work together to prevent and investigate these crimes.\n",
            "\n",
            "The report by Hacken, as mentioned in the AskNews Search Result, highlights the importance of monitoring and automated incident response systems in preventing losses from DeFi hacks. The report also notes that about 28.7% of the losses from DeFi hacks could have been prevented if the target companies had used such systems.\n",
            "\n",
            "In light of these findings, it is essential for financial institutions to prioritize cybersecurity and implement robust measures to prevent and respond to cyber attacks. This includes regular updates to cyber preparedness and defense mechanisms, as well as the implementation of monitoring and automated incident response systems.\n",
            "\n",
            "Regarding the new information provided, it appears that Sead, a seasoned freelance journalist, has written about IT and cybersecurity topics, including ransomware and data breaches. His articles highlight the importance of being proactive and reactive to cyber attacks, and seeking the help of a professional if needed.\n",
            "\n",
            "The AskNews Search Result provides additional information on how to protect oneself online, including tips from IT expert Erdoğan Doğdum. According to Doğdum, a ransomware attack occurs when bad actors encrypt your data, making it inaccessible, and demand a ransom in exchange for unlocking it. He also warns about the growing trend of phishing scams, which can be deployed through emails and can have devastating consequences.\n",
            "\n",
            "The Vector Search Result highlights the importance of staying safe online, including being cautious when receiving emails and seeking the help of a professional if needed.\n",
            "\n",
            "Recommendations for further reading:\n",
            "\n",
            "* \"Demonstrating Business Value\": Communicating Cyber Security ROI\n",
            "* \"The country needs to be prepared to tackle the rising threat of cyber fraud,\" said a report. 'The government and law enforcement agencies need to work together to prevent and investigate cyber crimes,' it added.\n",
            "\n",
            "Please note that the information provided is based on publicly available data and may not reflect the most up-to-date information. It is essential to verify the accuracy of the information and consult with cybersecurity experts for more detailed insights.\n",
            "\n",
            "In conclusion, it is essential for financial institutions to prioritize cybersecurity and implement robust measures to prevent and respond to cyber attacks. This includes regular updates to cyber preparedness and defense mechanisms, as well as the implementation of monitoring and automated incident response systems. It is also essential to stay safe online, including being cautious when receiving emails and seeking the help of a professional if needed.\n"
          ]
        }
      ]
    },
    {
      "cell_type": "code",
      "source": [],
      "metadata": {
        "id": "38fu8Y7hxWU9"
      },
      "execution_count": null,
      "outputs": []
    }
  ]
}