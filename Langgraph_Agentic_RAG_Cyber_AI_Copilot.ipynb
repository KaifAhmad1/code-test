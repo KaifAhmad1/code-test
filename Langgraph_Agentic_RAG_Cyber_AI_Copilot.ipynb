{
  "nbformat": 4,
  "nbformat_minor": 0,
  "metadata": {
    "colab": {
      "provenance": [],
      "include_colab_link": true
    },
    "kernelspec": {
      "name": "python3",
      "display_name": "Python 3"
    },
    "language_info": {
      "name": "python"
    }
  },
  "cells": [
    {
      "cell_type": "markdown",
      "metadata": {
        "id": "view-in-github",
        "colab_type": "text"
      },
      "source": [
        "<a href=\"https://colab.research.google.com/github/KaifAhmad1/code-test/blob/main/Langgraph_Agentic_RAG_Cyber_AI_Copilot.ipynb\" target=\"_parent\"><img src=\"https://colab.research.google.com/assets/colab-badge.svg\" alt=\"Open In Colab\"/></a>"
      ]
    },
    {
      "cell_type": "markdown",
      "source": [
        "### **Cyber AI Copilot for Security and Intelligence Domain**"
      ],
      "metadata": {
        "id": "M0rt8qzmxyyR"
      }
    },
    {
      "cell_type": "code",
      "execution_count": null,
      "metadata": {
        "id": "Wzih_tgLwXK6",
        "colab": {
          "base_uri": "https://localhost:8080/"
        },
        "outputId": "4f7b9050-8be7-40a4-a950-acb1be6e32a1"
      },
      "outputs": [
        {
          "output_type": "stream",
          "name": "stdout",
          "text": [
            "\u001b[2K     \u001b[90m━━━━━━━━━━━━━━━━━━━━━━━━━━━━━━━━━━━━━━━━\u001b[0m \u001b[32m50.4/50.4 kB\u001b[0m \u001b[31m2.2 MB/s\u001b[0m eta \u001b[36m0:00:00\u001b[0m\n",
            "\u001b[2K   \u001b[90m━━━━━━━━━━━━━━━━━━━━━━━━━━━━━━━━━━━━━━━━\u001b[0m \u001b[32m245.3/245.3 kB\u001b[0m \u001b[31m11.7 MB/s\u001b[0m eta \u001b[36m0:00:00\u001b[0m\n",
            "\u001b[2K   \u001b[90m━━━━━━━━━━━━━━━━━━━━━━━━━━━━━━━━━━━━━━━━\u001b[0m \u001b[32m1.0/1.0 MB\u001b[0m \u001b[31m26.2 MB/s\u001b[0m eta \u001b[36m0:00:00\u001b[0m\n",
            "\u001b[2K   \u001b[90m━━━━━━━━━━━━━━━━━━━━━━━━━━━━━━━━━━━━━━━━\u001b[0m \u001b[32m2.4/2.4 MB\u001b[0m \u001b[31m64.5 MB/s\u001b[0m eta \u001b[36m0:00:00\u001b[0m\n",
            "\u001b[2K   \u001b[90m━━━━━━━━━━━━━━━━━━━━━━━━━━━━━━━━━━━━━━━━\u001b[0m \u001b[32m401.8/401.8 kB\u001b[0m \u001b[31m26.3 MB/s\u001b[0m eta \u001b[36m0:00:00\u001b[0m\n",
            "\u001b[2K   \u001b[90m━━━━━━━━━━━━━━━━━━━━━━━━━━━━━━━━━━━━━━━━\u001b[0m \u001b[32m107.4/107.4 kB\u001b[0m \u001b[31m9.0 MB/s\u001b[0m eta \u001b[36m0:00:00\u001b[0m\n",
            "\u001b[2K   \u001b[90m━━━━━━━━━━━━━━━━━━━━━━━━━━━━━━━━━━━━━━━━\u001b[0m \u001b[32m1.2/1.2 MB\u001b[0m \u001b[31m58.7 MB/s\u001b[0m eta \u001b[36m0:00:00\u001b[0m\n",
            "\u001b[2K   \u001b[90m━━━━━━━━━━━━━━━━━━━━━━━━━━━━━━━━━━━━━━━━\u001b[0m \u001b[32m3.8/3.8 MB\u001b[0m \u001b[31m78.0 MB/s\u001b[0m eta \u001b[36m0:00:00\u001b[0m\n",
            "\u001b[2K   \u001b[90m━━━━━━━━━━━━━━━━━━━━━━━━━━━━━━━━━━━━━━━━\u001b[0m \u001b[32m106.5/106.5 kB\u001b[0m \u001b[31m8.0 MB/s\u001b[0m eta \u001b[36m0:00:00\u001b[0m\n",
            "\u001b[2K   \u001b[90m━━━━━━━━━━━━━━━━━━━━━━━━━━━━━━━━━━━━━━━━\u001b[0m \u001b[32m76.4/76.4 kB\u001b[0m \u001b[31m6.6 MB/s\u001b[0m eta \u001b[36m0:00:00\u001b[0m\n",
            "\u001b[2K   \u001b[90m━━━━━━━━━━━━━━━━━━━━━━━━━━━━━━━━━━━━━━━━\u001b[0m \u001b[32m78.0/78.0 kB\u001b[0m \u001b[31m6.3 MB/s\u001b[0m eta \u001b[36m0:00:00\u001b[0m\n",
            "\u001b[2K   \u001b[90m━━━━━━━━━━━━━━━━━━━━━━━━━━━━━━━━━━━━━━━━\u001b[0m \u001b[32m294.6/294.6 kB\u001b[0m \u001b[31m21.1 MB/s\u001b[0m eta \u001b[36m0:00:00\u001b[0m\n",
            "\u001b[2K   \u001b[90m━━━━━━━━━━━━━━━━━━━━━━━━━━━━━━━━━━━━━━━━\u001b[0m \u001b[32m141.9/141.9 kB\u001b[0m \u001b[31m10.5 MB/s\u001b[0m eta \u001b[36m0:00:00\u001b[0m\n",
            "\u001b[2K   \u001b[90m━━━━━━━━━━━━━━━━━━━━━━━━━━━━━━━━━━━━━━━━\u001b[0m \u001b[32m244.8/244.8 kB\u001b[0m \u001b[31m19.0 MB/s\u001b[0m eta \u001b[36m0:00:00\u001b[0m\n",
            "\u001b[2K   \u001b[90m━━━━━━━━━━━━━━━━━━━━━━━━━━━━━━━━━━━━━━━━\u001b[0m \u001b[32m49.3/49.3 kB\u001b[0m \u001b[31m4.0 MB/s\u001b[0m eta \u001b[36m0:00:00\u001b[0m\n",
            "\u001b[2K   \u001b[90m━━━━━━━━━━━━━━━━━━━━━━━━━━━━━━━━━━━━━━━━\u001b[0m \u001b[32m378.0/378.0 kB\u001b[0m \u001b[31m27.4 MB/s\u001b[0m eta \u001b[36m0:00:00\u001b[0m\n",
            "\u001b[2K   \u001b[90m━━━━━━━━━━━━━━━━━━━━━━━━━━━━━━━━━━━━━━━━\u001b[0m \u001b[32m85.4/85.4 kB\u001b[0m \u001b[31m6.6 MB/s\u001b[0m eta \u001b[36m0:00:00\u001b[0m\n",
            "\u001b[2K   \u001b[90m━━━━━━━━━━━━━━━━━━━━━━━━━━━━━━━━━━━━━━━━\u001b[0m \u001b[32m54.5/54.5 kB\u001b[0m \u001b[31m3.9 MB/s\u001b[0m eta \u001b[36m0:00:00\u001b[0m\n",
            "\u001b[2K   \u001b[90m━━━━━━━━━━━━━━━━━━━━━━━━━━━━━━━━━━━━━━━━\u001b[0m \u001b[32m58.3/58.3 kB\u001b[0m \u001b[31m4.2 MB/s\u001b[0m eta \u001b[36m0:00:00\u001b[0m\n",
            "\u001b[?25h"
          ]
        }
      ],
      "source": [
        "!pip install --upgrade --quiet sentence-transformers langchain langchain-groq langchain-pinecone langchain-community langchain-core asknews langgraph"
      ]
    },
    {
      "cell_type": "code",
      "source": [
        "import os\n",
        "from typing import List, Dict, Any, Optional, TypedDict\n",
        "from pydantic import BaseModel, Field\n",
        "from langchain_groq import ChatGroq\n",
        "from langchain_pinecone import PineconeVectorStore\n",
        "from pinecone import Pinecone\n",
        "from langchain_community.embeddings import HuggingFaceBgeEmbeddings\n",
        "from langchain.prompts import ChatPromptTemplate\n",
        "from langchain.chains import LLMChain\n",
        "from langchain.memory import ConversationBufferMemory\n",
        "from langgraph.graph import StateGraph, END\n",
        "from langchain_community.tools.asknews import AskNewsSearch\n",
        "from dotenv import load_dotenv\n",
        "\n",
        "# Load environment variables\n",
        "load_dotenv()\n",
        "\n",
        "# API Keys (hidden for security purposes)\n",
        "GROQ_API_KEY = \"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\"\n",
        "PINECONE_API_KEY = \"8e15b925-3b96-497d-b20a-08d308782b83\"\n",
        "PINECONE_ENVIRONMENT = \"us-east-1\"\n",
        "ASKNEWS_CLIENT_ID = \"a0de4609-b760-4c83-9609-5c04d7743b84\"\n",
        "ASKNEWS_CLIENT_SECRET = \"D5Mlhkztk4TcW24diUgcW0FA2w\"\n",
        "\n",
        "# Set environment variables for AskNews\n",
        "os.environ[\"ASKNEWS_CLIENT_ID\"] = ASKNEWS_CLIENT_ID\n",
        "os.environ[\"ASKNEWS_CLIENT_SECRET\"] = ASKNEWS_CLIENT_SECRET"
      ],
      "metadata": {
        "id": "FY2ZeXgvxMxp"
      },
      "execution_count": 16,
      "outputs": []
    },
    {
      "cell_type": "code",
      "source": [
        "# Initialize the LLM and embeddings\n",
        "llm = ChatGroq(temperature=0, model=\"llama3-8b-8192\", api_key=GROQ_API_KEY)\n",
        "embeddings = HuggingFaceBgeEmbeddings(\n",
        "    model_name=\"BAAI/bge-small-en\",\n",
        "    model_kwargs={\"device\": \"cpu\"},\n",
        "    encode_kwargs={\"normalize_embeddings\": True}\n",
        ")\n",
        "\n",
        "# Initialize Pinecone and vector store\n",
        "pc = Pinecone(api_key=PINECONE_API_KEY, environment=PINECONE_ENVIRONMENT)\n",
        "pinecone_index = pc.Index(\"new-cyber-search\")\n",
        "vector_store = PineconeVectorStore(index=pinecone_index, embedding=embeddings)\n",
        "\n",
        "# Initialize AskNews tool\n",
        "asknews_tool = AskNewsSearch(max_results=3)"
      ],
      "metadata": {
        "id": "XxTld11_xT0d"
      },
      "execution_count": 17,
      "outputs": []
    },
    {
      "cell_type": "code",
      "source": [
        "# Define the state\n",
        "class AgentState(TypedDict):\n",
        "    messages: List[Dict[str, str]]\n",
        "    memory: Optional[Dict[str, Any]]\n",
        "\n",
        "def vector_search(query: str) -> str:\n",
        "    results = vector_store.similarity_search(query, k=3)\n",
        "    return \"\\n\".join([f\"Source {i+1}: {doc.page_content}\" for i, doc in enumerate(results)])\n",
        "\n",
        "# Define the nodes\n",
        "def search_asknews(state: AgentState) -> AgentState:\n",
        "    query = state[\"messages\"][-1][\"content\"]\n",
        "    result = asknews_tool.invoke({\"query\": query})\n",
        "    state[\"messages\"].append({\"role\": \"tool\", \"content\": f\"AskNews Search Result: {result}\"})\n",
        "    return state\n",
        "\n",
        "def search_vector(state: AgentState) -> AgentState:\n",
        "    query = state[\"messages\"][-1][\"content\"]\n",
        "    result = vector_search(query)\n",
        "    state[\"messages\"].append({\"role\": \"tool\", \"content\": f\"Vector Search Result: {result}\"})\n",
        "    return state"
      ],
      "metadata": {
        "id": "rnQiDPU8xddo"
      },
      "execution_count": 18,
      "outputs": []
    },
    {
      "cell_type": "code",
      "source": [
        "def generate_response(state: AgentState) -> AgentState:\n",
        "    memory = state.get(\"memory\", {})\n",
        "    chat_history = memory.get(\"chat_history\", \"\")\n",
        "\n",
        "    prompt = ChatPromptTemplate.from_messages([\n",
        "        (\"system\", \"\"\"You are an advanced AI copilot specializing in cybersecurity and intelligence. Your role is to provide accurate, up-to-date information and insights on cyber threats, vulnerabilities, and intelligence matters. Use the following guidelines:\n",
        "\n",
        "1. Analyze the user's query and the provided search results thoroughly.\n",
        "2. Prioritize the most relevant and recent information from both AskNews and vector search results.\n",
        "3. Provide a comprehensive response that addresses the user's query, incorporating insights from both search sources.\n",
        "4. Structure your response clearly with headings and bullet points where appropriate.\n",
        "5. If there are conflicting pieces of information, acknowledge them and provide a balanced view.\n",
        "6. Always consider the ethical implications of the information you're providing, especially in sensitive cybersecurity matters.\n",
        "7. If asked about specific attack techniques or vulnerabilities, provide information for defensive purposes only.\n",
        "8. Recommend reliable sources for further reading when appropriate.\n",
        "9. If you're unsure about any information, clearly state that and suggest ways to verify or obtain more accurate data.\n",
        "10. Do not hallucinate or make up information. If you don't have enough information to answer a question, say so.\n",
        "\n",
        "Remember, you're assisting in a professional capacity in the cybersecurity and intelligence domain. Maintain a tone that is informative, analytical, and security-conscious.\n",
        "\n",
        "Previous conversation:\n",
        "{chat_history}\n",
        "\n",
        "New human question: {input}\n",
        "AskNews Search Result: {asknews_result}\n",
        "Vector Search Result: {vector_result}\n",
        "\n",
        "Response:\"\"\"),\n",
        "    ])\n",
        "\n",
        "    chain = prompt | llm\n",
        "\n",
        "    response = chain.invoke({\n",
        "        \"input\": state[\"messages\"][-1][\"content\"],\n",
        "        \"asknews_result\": next((m[\"content\"] for m in reversed(state[\"messages\"]) if m[\"role\"] == \"tool\" and \"AskNews\" in m[\"content\"]), \"No AskNews results.\"),\n",
        "        \"vector_result\": next((m[\"content\"] for m in reversed(state[\"messages\"]) if m[\"role\"] == \"tool\" and \"Vector Search\" in m[\"content\"]), \"No vector search results.\"),\n",
        "        \"chat_history\": chat_history\n",
        "    })\n",
        "\n",
        "    state[\"messages\"].append({\"role\": \"assistant\", \"content\": response.content})\n",
        "    state[\"memory\"] = {\"chat_history\": chat_history + f\"\\nHuman: {state['messages'][-2]['content']}\\nAI: {response.content}\"}\n",
        "    return state\n",
        "\n",
        "# Define the graph\n",
        "workflow = StateGraph(AgentState)\n",
        "\n",
        "# Define the nodes\n",
        "workflow.add_node(\"search_asknews\", search_asknews)\n",
        "workflow.add_node(\"search_vector\", search_vector)\n",
        "workflow.add_node(\"generate_response\", generate_response)\n",
        "\n",
        "# Define the edges\n",
        "workflow.add_edge(\"search_asknews\", \"search_vector\")\n",
        "workflow.add_edge(\"search_vector\", \"generate_response\")\n",
        "workflow.add_edge(\"generate_response\", END)\n",
        "\n",
        "# Set the entry point\n",
        "workflow.set_entry_point(\"search_asknews\")\n",
        "\n",
        "# Compile the graph\n",
        "graph = workflow.compile()\n",
        "\n",
        "# Function to run the agent\n",
        "def run_agent(query: str, memory: Optional[Dict[str, Any]] = None) -> AgentState:\n",
        "    state = AgentState(messages=[{\"role\": \"human\", \"content\": query}], memory=memory or {})\n",
        "    result = graph.invoke(state)\n",
        "    return result"
      ],
      "metadata": {
        "id": "EGkMBAYB2V9U"
      },
      "execution_count": 19,
      "outputs": []
    },
    {
      "cell_type": "code",
      "source": [
        "# Example usage\n",
        "if __name__ == \"__main__\":\n",
        "    query = \"What are the latest trends in ransomware attacks in India in the last 3 months?\"\n",
        "    result = run_agent(query)\n",
        "    for message in result[\"messages\"]:\n",
        "        if message[\"role\"] == \"assistant\":\n",
        "            print(\"AI Copilot:\", message[\"content\"])\n",
        "\n",
        "    # Follow-up query\n",
        "    follow_up_query = \"Can you provide more details on the recent ransomware attacks?\"\n",
        "    result = run_agent(follow_up_query, memory=result[\"memory\"])\n",
        "    for message in result[\"messages\"]:\n",
        "        if message[\"role\"] == \"assistant\":\n",
        "            print(\"AI Copilot:\", message[\"content\"])"
      ],
      "metadata": {
        "id": "oWVMX_Ue2bTO",
        "outputId": "2c19a0b5-58b2-4d41-a44e-d79a6b27ed8b",
        "colab": {
          "base_uri": "https://localhost:8080/"
        }
      },
      "execution_count": 20,
      "outputs": [
        {
          "output_type": "stream",
          "name": "stdout",
          "text": [
            "AI Copilot: **Cybersecurity Insights: Ransomware and Financial Sector Trends**\n",
            "\n",
            "The recent surge in ransomware attacks and financial sector vulnerabilities has raised concerns about the growing threat landscape. Our analysis combines insights from AskNews and vector search results to provide a comprehensive overview of the current situation.\n",
            "\n",
            "**Ransomware Trends:**\n",
            "\n",
            "* ReliaQuest reported a 35% increase in ransomware victims from the professional, scientific, and technical services (PSTS) sector, which includes software companies. (Source 1, 2, 3)\n",
            "* Kaspersky's report highlighted a 20% increase in ransomware attacks on industrial control systems (ICS) in Q2 2024, with Africa being the most vulnerable region. (Source 2)\n",
            "\n",
            "**Financial Sector Vulnerabilities:**\n",
            "\n",
            "* The Reserve Bank of India reported an exponential rise in cyber fraud cases, with over 65,000 cases reported in the last 10 years, resulting in a loss of over 4.69 trillion rupees. (AskNews Search Result 1)\n",
            "* A recent report by Hacken revealed that hackers stole $460 million across 28 incidents in Q3 2024, with access control attacks accounting for $316 million. (AskNews Search Result 3)\n",
            "* The financial industry remains the most targeted sector, with controls and regulations helping to steer wider cyber policy. (Source 2)\n",
            "\n",
            "**Key Takeaways:**\n",
            "\n",
            "* Ransomware attacks are on the rise, with the PSTS sector being particularly vulnerable.\n",
            "* The financial sector is a prime target for cybercriminals, with significant losses reported in recent quarters.\n",
            "* Industrial control systems and critical infrastructure are also at risk, with Africa being the most vulnerable region.\n",
            "\n",
            "**Recommendations:**\n",
            "\n",
            "* Organizations in the PSTS sector should prioritize ransomware prevention and incident response measures.\n",
            "* Financial institutions should implement robust access control measures and monitor for suspicious activity.\n",
            "* Critical infrastructure operators should ensure the security of their industrial control systems and implement incident response plans.\n",
            "\n",
            "**Additional Resources:**\n",
            "\n",
            "* \"Demonstrating Business Value\": Communicating Cyber Security ROI (Source 2)\n",
            "* Kaspersky's report on ICS security (Source 2)\n",
            "\n",
            "Please note that the information provided is based on publicly available data and may not reflect the full scope of the situation. It is essential to stay informed and adapt to the evolving threat landscape to ensure the security of your organization.\n",
            "AI Copilot: **Cybersecurity Insights: Ransomware and Data Breach Trends**\n",
            "\n",
            "Our analysis combines insights from AskNews and vector search results to provide a comprehensive overview of the current situation.\n",
            "\n",
            "**Ransomware Trends:**\n",
            "\n",
            "* Sead, a seasoned freelance journalist, writes about IT and cybersecurity, including ransomware attacks. (Source 1, 2, 3)\n",
            "* A recent report by ReliaQuest noted a 35% increase in ransomware victims from the professional, scientific, and technical services (PSTS) sector, which includes software companies. (Source 1, 2, 3)\n",
            "* Kaspersky's report highlighted a 20% increase in ransomware attacks on industrial control systems (ICS) in Q2 2024, with Africa being the most vulnerable region. (Source 2)\n",
            "\n",
            "**Data Breach Trends:**\n",
            "\n",
            "* The FBI received 2,825 complaints about ransomware attacks in 2023, with an economic impact of nearly $60 million. (AskNews Search Result 1)\n",
            "* Highline Public Schools' technology systems were crippled by ransomware, which was detected on September 7. The district canceled classes for three days while evaluating the damage. (AskNews Search Result 2)\n",
            "* The district will prompt staff and students to update their network passwords and re-image all district-provided Windows devices starting the week of October 14. (AskNews Search Result 2)\n",
            "\n",
            "**Key Takeaways:**\n",
            "\n",
            "* Ransomware attacks are on the rise, with the PSTS sector being particularly vulnerable.\n",
            "* Data breaches are becoming more common, with significant economic impacts reported.\n",
            "* Industrial control systems and critical infrastructure are also at risk, with Africa being the most vulnerable region.\n",
            "\n",
            "**Recommendations:**\n",
            "\n",
            "* Organizations in the PSTS sector should prioritize ransomware prevention and incident response measures.\n",
            "* Financial institutions should implement robust access control measures and monitor for suspicious activity.\n",
            "* Critical infrastructure operators should ensure the security of their industrial control systems and implement incident response plans.\n",
            "\n",
            "**Additional Resources:**\n",
            "\n",
            "* \"Demonstrating Business Value\": Communicating Cyber Security ROI (Source 2)\n",
            "* Kaspersky's report on ICS security (Source 2)\n",
            "\n",
            "Please note that the information provided is based on publicly available data and may not reflect the full scope of the situation. It is essential to stay informed and adapt to the evolving threat landscape to ensure the security of your organization.\n",
            "\n",
            "**Additional Tips:**\n",
            "\n",
            "* Be proactive and reactive to cyber attacks, and seek the help of a professional if needed.\n",
            "* Be cautious when receiving emails that ask for personal information, and verify the sender's identity before responding.\n",
            "* Keep your network passwords and devices up to date to minimize the risk of data breaches.\n",
            "\n",
            "**Recommendation for Further Reading:**\n",
            "\n",
            "* \"How to protect my information online? IT expert shares tips, warning to stay safe\" (AskNews Search Result 1)\n",
            "* \"Highline Public Schools says ransomware cause of crippled network systems\" (AskNews Search Result 2)\n",
            "\n",
            "Please note that the information provided is based on publicly available data and may not reflect the full scope of the situation. It is essential to stay informed and adapt to the evolving threat landscape to ensure the security of your organization.\n"
          ]
        }
      ]
    },
    {
      "cell_type": "code",
      "source": [],
      "metadata": {
        "id": "38fu8Y7hxWU9"
      },
      "execution_count": null,
      "outputs": []
    }
  ]
}