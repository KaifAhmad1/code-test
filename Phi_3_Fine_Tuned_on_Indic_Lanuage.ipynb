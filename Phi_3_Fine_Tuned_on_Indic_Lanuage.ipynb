{
  "nbformat": 4,
  "nbformat_minor": 0,
  "metadata": {
    "colab": {
      "provenance": [],
      "gpuType": "T4",
      "authorship_tag": "ABX9TyMwchX36UIklAkThC6tUAyn",
      "include_colab_link": true
    },
    "kernelspec": {
      "name": "python3",
      "display_name": "Python 3"
    },
    "language_info": {
      "name": "python"
    },
    "accelerator": "GPU"
  },
  "cells": [
    {
      "cell_type": "markdown",
      "metadata": {
        "id": "view-in-github",
        "colab_type": "text"
      },
      "source": [
        "<a href=\"https://colab.research.google.com/github/KaifAhmad1/code-test/blob/main/Phi_3_Fine_Tuned_on_Indic_Lanuage.ipynb\" target=\"_parent\"><img src=\"https://colab.research.google.com/assets/colab-badge.svg\" alt=\"Open In Colab\"/></a>"
      ]
    },
    {
      "cell_type": "code",
      "execution_count": null,
      "metadata": {
        "id": "Fbsr_0LTZF4P"
      },
      "outputs": [],
      "source": [
        "!pip install -qU xformers\n",
        "!pip install -qU trl\n",
        "!pip install -qU peft\n",
        "!pip install -qU accelerate\n",
        "!pip install -qU bitsandbytes"
      ]
    },
    {
      "cell_type": "code",
      "source": [
        "from huggingface_hub import notebook_login\n",
        "notebook_login()"
      ],
      "metadata": {
        "id": "v9mOQs_kaMLm"
      },
      "execution_count": null,
      "outputs": []
    }
  ]
}