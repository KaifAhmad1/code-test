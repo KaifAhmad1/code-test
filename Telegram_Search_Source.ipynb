{
  "nbformat": 4,
  "nbformat_minor": 0,
  "metadata": {
    "colab": {
      "provenance": [],
      "authorship_tag": "ABX9TyOMR/QJtItQnUy9nRdQ0KU2",
      "include_colab_link": true
    },
    "kernelspec": {
      "name": "python3",
      "display_name": "Python 3"
    },
    "language_info": {
      "name": "python"
    }
  },
  "cells": [
    {
      "cell_type": "markdown",
      "metadata": {
        "id": "view-in-github",
        "colab_type": "text"
      },
      "source": [
        "<a href=\"https://colab.research.google.com/github/KaifAhmad1/code-test/blob/main/Telegram_Search_Source.ipynb\" target=\"_parent\"><img src=\"https://colab.research.google.com/assets/colab-badge.svg\" alt=\"Open In Colab\"/></a>"
      ]
    },
    {
      "cell_type": "code",
      "execution_count": 2,
      "metadata": {
        "id": "4JfJFadgPXwT"
      },
      "outputs": [],
      "source": [
        "!pip install -q telethon python-dotenv nest_asyncio"
      ]
    },
    {
      "cell_type": "code",
      "source": [
        "import asyncio\n",
        "import json\n",
        "from telethon.sync import TelegramClient\n",
        "from telethon.sessions import MemorySession\n",
        "from telethon.tl.types import MessageMediaPhoto, MessageMediaWebPage, MessageMediaDocument\n",
        "from dotenv import load_dotenv\n",
        "import nest_asyncio\n",
        "import os\n",
        "\n",
        "# Apply nest_asyncio to allow nested event loops\n",
        "nest_asyncio.apply()\n",
        "\n",
        "# Load environment variables\n",
        "load_dotenv()\n",
        "\n",
        "# Telegram API Keys\n",
        "TELEGRAM_API_ID = 20441646\n",
        "TELEGRAM_API_HASH = \"d78a891287e9ba6a2a8c4bb0e4ca506a\""
      ],
      "metadata": {
        "id": "xND4HjTgQmHG"
      },
      "execution_count": 3,
      "outputs": []
    },
    {
      "cell_type": "code",
      "source": [
        "# Telegram Channels\n",
        "TELEGRAM_CHANNELS = [\n",
        "    'cveNotify',\n",
        "    'ctinow',\n",
        "    'CyberSecurityTechnologies',\n",
        "    'cybersecurity_outlook',\n",
        "    'cibsecurity',\n",
        "    'thehackernews',\n",
        "    'Cyber_Security_Channel',\n",
        "    'cloudandcybersecurity',\n",
        "    'androidMalware',\n",
        "    'DarkfeedNews',\n",
        "    'PentestingNews',\n",
        "    'malwr',\n",
        "    'CyberSecurityNews',\n",
        "    'CyberThreatIntel',\n",
        "    'CyberDefenseMagazine',\n",
        "    'CyberArk',\n",
        "    'CyberScoopNews',\n",
        "    'CyberWire',\n",
        "    'CyberSecurityDaily',\n",
        "    'CyberSecurityUpdates',\n",
        "    'CyberSecurityAlerts',\n",
        "    'CyberSecurityBreach',\n",
        "    'CyberSecurityIncidents',\n",
        "    'CyberSecurityThreats',\n",
        "    'CyberSecurityVulnerabilities',\n",
        "    'CyberIncidentAlerts',\n",
        "    'CyberAttackNews',\n",
        "    'CyberBreachReports',\n",
        "    'CyberIncidentResponse',\n",
        "    'CyberThreatNews',\n",
        "    'CyberIncidentUpdates',\n",
        "    'CyberSecurityIncidentReports',\n",
        "    'CyberIncidentNotifications',\n",
        "    'CyberIncidentAlertsGlobal',\n",
        "    'CyberIncidentNewsFeed',\n",
        "    'vxunderground',\n",
        "    'ransomwatcher',\n",
        "    'SecurityWeekly',\n",
        "    'BleepingComputer',\n",
        "    'RecordedFuture',\n",
        "    'RapidCyberAlerts',\n",
        "    'KrebsOnSecurity',\n",
        "    'SOCRadar',\n",
        "    'RedAlertCyber',\n",
        "    'ZeroDay_TI',\n",
        "    'AT_Hack',\n",
        "    'OSINT_Tactical',\n",
        "    'malware_traffic',\n",
        "    'vulnerability_lab',\n",
        "    'ThreatIntelligence',\n",
        "    'CERTNews',\n",
        "    'DataBreachToday',\n",
        "    'InfoSecNews',\n",
        "    'APTHunter',\n",
        "    'MalwarePatrol',\n",
        "    'DigitalSecurityPulse',\n",
        "    'ExploitWareLabs',\n",
        "    'CyberSecMatrix',\n",
        "    'ThreatFeed',\n",
        "    'SecurityAffairs',\n",
        "    'RansomwareTracker',\n",
        "    'PhishingAlerts',\n",
        "    'MITREUpdates',\n",
        "    'DarkWebMonitor',\n",
        "    'CriticalVulns',\n",
        "    'CloudSecurityNews',\n",
        "    'IOCFeed',\n",
        "    'ThreatHunting',\n",
        "    'MalwareIntel',\n",
        "    'IncidentResponse'\n",
        "]"
      ],
      "metadata": {
        "id": "H_kdvhZJRB_p"
      },
      "execution_count": 5,
      "outputs": []
    },
    {
      "cell_type": "code",
      "source": [
        "# Initialize Telegram client\n",
        "telegram_client = TelegramClient(MemorySession(), TELEGRAM_API_ID, TELEGRAM_API_HASH)\n",
        "\n",
        "async def start_telegram_client():\n",
        "    await telegram_client.start(phone=lambda: input('Please enter your phone number: '))\n",
        "    if not await telegram_client.is_user_authorized():\n",
        "        await telegram_client.send_code_request(input('Please enter your phone number: '))\n",
        "        await telegram_client.sign_in(input('Please enter the code you received: '))\n",
        "    print(\"Telegram client started successfully\")\n",
        "\n",
        "async def scrape_telegram_channel(channel_name: str):\n",
        "    try:\n",
        "        await start_telegram_client()\n",
        "\n",
        "        # Fetch all messages from the channel\n",
        "        messages = []\n",
        "        async for message in telegram_client.iter_messages(channel_name):\n",
        "            media_urls = []\n",
        "            media_content = []\n",
        "            # Check if message has media and handle various media types\n",
        "            if hasattr(message, 'media') and message.media:\n",
        "                if isinstance(message.media, MessageMediaPhoto):\n",
        "                    media_path = await telegram_client.download_media(message.media, file=f\"./media/{channel_name}/{message.id}.jpg\")\n",
        "                    media_urls.append(media_path)\n",
        "                    media_content.append({\"image_url\": media_path})\n",
        "                elif isinstance(message.media, MessageMediaWebPage):\n",
        "                    if hasattr(message.media.webpage, 'url'):\n",
        "                        media_urls.append(message.media.webpage.url)\n",
        "                        media_content.append({\"webpage_url\": message.media.webpage.url})\n",
        "                elif isinstance(message.media, MessageMediaDocument):\n",
        "                    media_path = await telegram_client.download_media(message.media, file=f\"./media/{channel_name}/{message.id}.doc\")\n",
        "                    media_urls.append(media_path)\n",
        "                    media_content.append({\"document_url\": media_path})\n",
        "                else:\n",
        "                    print(f\"Unhandled media type: {type(message.media)}\")\n",
        "\n",
        "            messages.append({\n",
        "                'id': message.id,\n",
        "                'date': message.date.isoformat(),\n",
        "                'message': message.message,\n",
        "                'media_urls': media_urls,\n",
        "                'media_content': media_content,\n",
        "                'views': message.views,\n",
        "                'forwards': message.forwards\n",
        "            })\n",
        "\n",
        "        return messages\n",
        "    except Exception as e:\n",
        "        print(f\"Error scraping channel {channel_name}: {e}\")\n",
        "        return []\n",
        "\n",
        "async def scrape_all_channels(channels: list):\n",
        "    tasks = [scrape_telegram_channel(channel) for channel in channels]\n",
        "    return await asyncio.gather(*tasks)\n",
        "\n",
        "def save_to_json(data, filename):\n",
        "    with open(filename, 'w') as f:\n",
        "        json.dump(data, f, indent=4)\n",
        "    print(f\"Data saved to {filename}\")\n",
        "\n",
        "def get_telegram_channel_data(channels: list):\n",
        "    all_telegram_data = asyncio.run(scrape_all_channels(channels))\n",
        "    return all_telegram_data"
      ],
      "metadata": {
        "id": "z54KAsqXRJxL"
      },
      "execution_count": 6,
      "outputs": []
    },
    {
      "cell_type": "code",
      "source": [
        "# Example usage within the existing pipeline\n",
        "if __name__ == \"__main__\":\n",
        "    # Ensure media directory exists\n",
        "    os.makedirs(\"./media\", exist_ok=True)\n",
        "    for channel in TELEGRAM_CHANNELS:\n",
        "        os.makedirs(f\"./media/{channel}\", exist_ok=True)\n",
        "\n",
        "    # Get data from all specified Telegram channels\n",
        "    all_telegram_data = get_telegram_channel_data(TELEGRAM_CHANNELS)\n",
        "\n",
        "    # Flatten the list of lists\n",
        "    all_telegram_data = [item for sublist in all_telegram_data for item in sublist]\n",
        "\n",
        "    # Save data to JSON\n",
        "    save_to_json(all_telegram_data, 'telegram_data.json')\n",
        "\n",
        "    print(\"Scraping completed successfully\")"
      ],
      "metadata": {
        "colab": {
          "base_uri": "https://localhost:8080/"
        },
        "id": "FM9th61sRzpe",
        "outputId": "c2b3c2d9-3b46-4948-99f5-d7e44145297b"
      },
      "execution_count": null,
      "outputs": [
        {
          "output_type": "stream",
          "name": "stderr",
          "text": [
            "WARNING:telethon.network.mtprotostate:Server resent the older message 7457476761901510657, ignoring\n",
            "WARNING:telethon.network.mtprotostate:Server resent the older message 7457476761901510657, ignoring\n",
            "WARNING:telethon.network.mtprotostate:Server resent the older message 7457476761901510657, ignoring\n",
            "WARNING:telethon.network.mtprotostate:Server resent the older message 7457476761901510657, ignoring\n",
            "WARNING:telethon.network.mtprotostate:Server resent the older message 7457476761901510657, ignoring\n",
            "WARNING:telethon.network.mtprotostate:Server resent the older message 7457476761901510657, ignoring\n",
            "WARNING:telethon.network.mtprotostate:Server resent the older message 7457476761901510657, ignoring\n",
            "WARNING:telethon.network.mtprotostate:Server resent the older message 7457476761901510657, ignoring\n",
            "WARNING:telethon.network.mtprotostate:Server resent the older message 7457476761901510657, ignoring\n",
            "WARNING:telethon.network.mtprotostate:Server resent the older message 7457476761901510657, ignoring\n",
            "WARNING:telethon.network.mtprotosender:Security error while unpacking a received message: Too many messages had to be ignored consecutively\n",
            "WARNING:telethon.network.mtprotostate:Server resent the older message 7457476761901510657, ignoring\n",
            "WARNING:telethon.network.mtprotosender:Security error while unpacking a received message: Too many messages had to be ignored consecutively\n",
            "WARNING:telethon.network.mtprotostate:Server resent the older message 7457476761901510657, ignoring\n",
            "WARNING:telethon.network.mtprotosender:Security error while unpacking a received message: Too many messages had to be ignored consecutively\n",
            "WARNING:telethon.network.mtprotostate:Server resent the older message 7457476761901510657, ignoring\n",
            "WARNING:telethon.network.mtprotosender:Security error while unpacking a received message: Too many messages had to be ignored consecutively\n",
            "WARNING:telethon.network.mtprotostate:Server resent the older message 7457476761903505409, ignoring\n",
            "WARNING:telethon.network.mtprotostate:Server resent the older message 7457476761903505409, ignoring\n",
            "WARNING:telethon.network.mtprotostate:Server resent the older message 7457476761903505409, ignoring\n",
            "WARNING:telethon.network.mtprotostate:Server resent the older message 7457476761903505409, ignoring\n",
            "WARNING:telethon.network.mtprotostate:Server resent the older message 7457476761903505409, ignoring\n",
            "WARNING:telethon.network.mtprotostate:Server resent the older message 7457476761903505409, ignoring\n",
            "WARNING:telethon.network.mtprotostate:Server resent the older message 7457476761903505409, ignoring\n",
            "WARNING:telethon.network.mtprotostate:Server resent the older message 7457476761903505409, ignoring\n",
            "WARNING:telethon.network.mtprotostate:Server resent the older message 7457476761903505409, ignoring\n",
            "WARNING:telethon.network.mtprotostate:Server resent the older message 7457476761903505409, ignoring\n",
            "WARNING:telethon.network.mtprotosender:Security error while unpacking a received message: Too many messages had to be ignored consecutively\n",
            "WARNING:telethon.network.mtprotostate:Server resent the older message 7457476761903505409, ignoring\n",
            "WARNING:telethon.network.mtprotosender:Security error while unpacking a received message: Too many messages had to be ignored consecutively\n"
          ]
        },
        {
          "name": "stdout",
          "output_type": "stream",
          "text": [
            "Please enter your phone number: +91 8755714681\n",
            "Please enter your phone number: +91 8755714681\n"
          ]
        }
      ]
    },
    {
      "cell_type": "code",
      "source": [],
      "metadata": {
        "id": "g3zyaFLCR6oN"
      },
      "execution_count": null,
      "outputs": []
    }
  ]
}