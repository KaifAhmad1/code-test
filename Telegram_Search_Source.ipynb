{
  "nbformat": 4,
  "nbformat_minor": 0,
  "metadata": {
    "colab": {
      "provenance": [],
      "authorship_tag": "ABX9TyMKrmdrkqDiDRkzV6KuTT6V",
      "include_colab_link": true
    },
    "kernelspec": {
      "name": "python3",
      "display_name": "Python 3"
    },
    "language_info": {
      "name": "python"
    }
  },
  "cells": [
    {
      "cell_type": "markdown",
      "metadata": {
        "id": "view-in-github",
        "colab_type": "text"
      },
      "source": [
        "<a href=\"https://colab.research.google.com/github/KaifAhmad1/code-test/blob/main/Telegram_Search_Source.ipynb\" target=\"_parent\"><img src=\"https://colab.research.google.com/assets/colab-badge.svg\" alt=\"Open In Colab\"/></a>"
      ]
    },
    {
      "cell_type": "code",
      "execution_count": 1,
      "metadata": {
        "id": "4JfJFadgPXwT",
        "outputId": "b0981f71-0720-4517-e3f4-f1a208a1d00b",
        "colab": {
          "base_uri": "https://localhost:8080/"
        }
      },
      "outputs": [
        {
          "output_type": "stream",
          "name": "stdout",
          "text": [
            "  Preparing metadata (setup.py) ... \u001b[?25l\u001b[?25hdone\n",
            "\u001b[?25l   \u001b[90m━━━━━━━━━━━━━━━━━━━━━━━━━━━━━━━━━━━━━━━━\u001b[0m \u001b[32m0.0/702.2 kB\u001b[0m \u001b[31m?\u001b[0m eta \u001b[36m-:--:--\u001b[0m\r\u001b[2K   \u001b[91m━━━━━━━━━━━━━━━━━━━━━━━━━━━━━━\u001b[0m\u001b[91m╸\u001b[0m\u001b[90m━━━━━━━━━\u001b[0m \u001b[32m542.7/702.2 kB\u001b[0m \u001b[31m16.1 MB/s\u001b[0m eta \u001b[36m0:00:01\u001b[0m\r\u001b[2K   \u001b[90m━━━━━━━━━━━━━━━━━━━━━━━━━━━━━━━━━━━━━━━━\u001b[0m \u001b[32m702.2/702.2 kB\u001b[0m \u001b[31m12.6 MB/s\u001b[0m eta \u001b[36m0:00:00\u001b[0m\n",
            "\u001b[?25h  Building wheel for pyaes (setup.py) ... \u001b[?25l\u001b[?25hdone\n"
          ]
        }
      ],
      "source": [
        "!pip install -q telethon python-dotenv nest_asyncio"
      ]
    },
    {
      "cell_type": "code",
      "source": [
        "import asyncio\n",
        "import json\n",
        "import os\n",
        "from telethon.sync import TelegramClient\n",
        "from telethon.sessions import StringSession\n",
        "from telethon.tl.types import MessageMediaPhoto, MessageMediaWebPage, MessageMediaDocument\n",
        "from dotenv import load_dotenv\n",
        "import nest_asyncio\n",
        "\n",
        "# Apply nest_asyncio to allow nested event loops\n",
        "nest_asyncio.apply()\n",
        "\n",
        "# Load environment variables\n",
        "load_dotenv()\n",
        "\n",
        "# Telegram API Keys\n",
        "TELEGRAM_API_ID = 20441646\n",
        "TELEGRAM_API_HASH = \"d78a891287e9ba6a2a8c4bb0e4ca506a\""
      ],
      "metadata": {
        "id": "xND4HjTgQmHG"
      },
      "execution_count": 3,
      "outputs": []
    },
    {
      "cell_type": "code",
      "source": [
        "# Telegram Channels to Scrape\n",
        "TELEGRAM_CHANNELS = [\n",
        "    'cveNotify',\n",
        "    'ctinow',\n",
        "    'CyberSecurityTechnologies',\n",
        "    'cybersecurity_outlook',\n",
        "    'cibsecurity',\n",
        "    'thehackernews',\n",
        "    'Cyber_Security_Channel',\n",
        "    'cloudandcybersecurity',\n",
        "    'androidMalware',\n",
        "    'DarkfeedNews',\n",
        "    'PentestingNews',\n",
        "    'malwr',\n",
        "    'CyberSecurityNews',\n",
        "    'CyberThreatIntel',\n",
        "    'CyberDefenseMagazine',\n",
        "    'CyberArk',\n",
        "    'CyberScoopNews',\n",
        "    'CyberWire',\n",
        "    'CyberSecurityDaily',\n",
        "    'CyberSecurityUpdates',\n",
        "    'CyberSecurityAlerts',\n",
        "    'CyberSecurityBreach',\n",
        "    'CyberSecurityIncidents',\n",
        "    'CyberSecurityThreats',\n",
        "    'CyberSecurityVulnerabilities',\n",
        "    'CyberIncidentAlerts',\n",
        "    'CyberAttackNews',\n",
        "    'CyberBreachReports',\n",
        "    'CyberIncidentResponse',\n",
        "    'CyberThreatNews',\n",
        "    'CyberIncidentUpdates',\n",
        "    'CyberSecurityIncidentReports',\n",
        "    'CyberIncidentNotifications',\n",
        "    'CyberIncidentAlertsGlobal',\n",
        "    'CyberIncidentNewsFeed',\n",
        "    'vxunderground',\n",
        "    'ransomwatcher',\n",
        "    'SecurityWeekly',\n",
        "    'BleepingComputer',\n",
        "    'RecordedFuture',\n",
        "    'RapidCyberAlerts',\n",
        "    'KrebsOnSecurity',\n",
        "    'SOCRadar',\n",
        "    'RedAlertCyber',\n",
        "    'ZeroDay_TI',\n",
        "    'AT_Hack',\n",
        "    'OSINT_Tactical',\n",
        "    'malware_traffic',\n",
        "    'vulnerability_lab',\n",
        "    'ThreatIntelligence',\n",
        "    'CERTNews',\n",
        "    'DataBreachToday',\n",
        "    'InfoSecNews',\n",
        "    'APTHunter',\n",
        "    'MalwarePatrol',\n",
        "    'DigitalSecurityPulse',\n",
        "    'ExploitWareLabs',\n",
        "    'CyberSecMatrix',\n",
        "    'ThreatFeed',\n",
        "    'SecurityAffairs',\n",
        "    'RansomwareTracker',\n",
        "    'PhishingAlerts',\n",
        "    'MITREUpdates',\n",
        "    'DarkWebMonitor',\n",
        "    'CriticalVulns',\n",
        "    'CloudSecurityNews',\n",
        "    'IOCFeed',\n",
        "    'ThreatHunting',\n",
        "    'MalwareIntel',\n",
        "    'IncidentResponse'\n",
        "]"
      ],
      "metadata": {
        "id": "H_kdvhZJRB_p"
      },
      "execution_count": 4,
      "outputs": []
    },
    {
      "cell_type": "code",
      "source": [
        "# File to store the session string\n",
        "SESSION_FILE = \"telegram_session.txt\"\n",
        "\n",
        "def generate_session_string():\n",
        "    \"\"\"\n",
        "    Generate a new session string and save it to a file.\n",
        "    \"\"\"\n",
        "    print(\"Generating a new session string...\")\n",
        "    with TelegramClient(StringSession(), TELEGRAM_API_ID, TELEGRAM_API_HASH) as client:\n",
        "        session_string = client.session.save()\n",
        "        with open(SESSION_FILE, \"w\") as f:\n",
        "            f.write(session_string)\n",
        "        print(f\"Session string saved to {SESSION_FILE}\")\n",
        "    return session_string\n",
        "\n",
        "def load_session_string():\n",
        "    \"\"\"\n",
        "    Load the session string from the file. If the file doesn't exist, generate a new session string.\n",
        "    \"\"\"\n",
        "    if os.path.exists(SESSION_FILE):\n",
        "        with open(SESSION_FILE, \"r\") as f:\n",
        "            return f.read().strip()\n",
        "    else:\n",
        "        return generate_session_string()\n",
        "\n",
        "# Initialize Telegram client with StringSession\n",
        "session_string = load_session_string()\n",
        "telegram_client = TelegramClient(StringSession(session_string), TELEGRAM_API_ID, TELEGRAM_API_HASH)\n",
        "\n",
        "async def start_telegram_client():\n",
        "    \"\"\"\n",
        "    Start the Telegram client using the saved session string.\n",
        "    If the session is invalid, prompt for OTP verification.\n",
        "    \"\"\"\n",
        "    try:\n",
        "        await telegram_client.connect()\n",
        "        if not await telegram_client.is_user_authorized():\n",
        "            print(\"Session is invalid. Please log in again.\")\n",
        "            await telegram_client.start(phone=lambda: input('Please enter your phone number: '))\n",
        "            if not await telegram_client.is_user_authorized():\n",
        "                await telegram_client.send_code_request(input('Please enter your phone number: '))\n",
        "                await telegram_client.sign_in(input('Please enter the code you received: '))\n",
        "            # Save the new session string\n",
        "            with open(SESSION_FILE, \"w\") as f:\n",
        "                f.write(telegram_client.session.save())\n",
        "            print(\"New session string saved.\")\n",
        "        print(\"Telegram client started successfully\")\n",
        "    except Exception as e:\n",
        "        print(f\"Error starting Telegram client: {e}\")\n",
        "\n",
        "async def scrape_telegram_channel(channel_name: str):\n",
        "    \"\"\"\n",
        "    Scrape messages from a Telegram channel.\n",
        "    \"\"\"\n",
        "    try:\n",
        "        print(f\"Scraping channel: {channel_name}\")\n",
        "        messages = []\n",
        "        async for message in telegram_client.iter_messages(channel_name, limit=100):  # Limit to 100 messages for testing\n",
        "            media_urls = []\n",
        "            media_content = []\n",
        "            # Check if message has media and handle various media types\n",
        "            if hasattr(message, 'media') and message.media:\n",
        "                if isinstance(message.media, MessageMediaPhoto):\n",
        "                    media_path = await telegram_client.download_media(message.media, file=f\"./media/{channel_name}/{message.id}.jpg\")\n",
        "                    media_urls.append(media_path)\n",
        "                    media_content.append({\"image_url\": media_path})\n",
        "                elif isinstance(message.media, MessageMediaWebPage):\n",
        "                    if hasattr(message.media.webpage, 'url'):\n",
        "                        media_urls.append(message.media.webpage.url)\n",
        "                        media_content.append({\"webpage_url\": message.media.webpage.url})\n",
        "                elif isinstance(message.media, MessageMediaDocument):\n",
        "                    media_path = await telegram_client.download_media(message.media, file=f\"./media/{channel_name}/{message.id}.doc\")\n",
        "                    media_urls.append(media_path)\n",
        "                    media_content.append({\"document_url\": media_path})\n",
        "                else:\n",
        "                    print(f\"Unhandled media type: {type(message.media)}\")\n",
        "\n",
        "            messages.append({\n",
        "                'id': message.id,\n",
        "                'date': message.date.isoformat(),\n",
        "                'message': message.message,\n",
        "                'media_urls': media_urls,\n",
        "                'media_content': media_content,\n",
        "                'views': message.views,\n",
        "                'forwards': message.forwards\n",
        "            })\n",
        "\n",
        "        return messages\n",
        "    except Exception as e:\n",
        "        print(f\"Error scraping channel {channel_name}: {e}\")\n",
        "        return []"
      ],
      "metadata": {
        "id": "z54KAsqXRJxL",
        "outputId": "63bd41c5-7434-4f25-e1ce-e7f570de2b71",
        "colab": {
          "base_uri": "https://localhost:8080/",
          "height": 373
        }
      },
      "execution_count": 5,
      "outputs": [
        {
          "output_type": "stream",
          "name": "stdout",
          "text": [
            "Generating a new session string...\n"
          ]
        },
        {
          "output_type": "error",
          "ename": "RuntimeError",
          "evalue": "You must use \"async with\" if the event loop is running (i.e. you are inside an \"async def\")",
          "traceback": [
            "\u001b[0;31m---------------------------------------------------------------------------\u001b[0m",
            "\u001b[0;31mRuntimeError\u001b[0m                              Traceback (most recent call last)",
            "\u001b[0;32m<ipython-input-5-5abf5a7ac0ba>\u001b[0m in \u001b[0;36m<cell line: 27>\u001b[0;34m()\u001b[0m\n\u001b[1;32m     25\u001b[0m \u001b[0;34m\u001b[0m\u001b[0m\n\u001b[1;32m     26\u001b[0m \u001b[0;31m# Initialize Telegram client with StringSession\u001b[0m\u001b[0;34m\u001b[0m\u001b[0;34m\u001b[0m\u001b[0m\n\u001b[0;32m---> 27\u001b[0;31m \u001b[0msession_string\u001b[0m \u001b[0;34m=\u001b[0m \u001b[0mload_session_string\u001b[0m\u001b[0;34m(\u001b[0m\u001b[0;34m)\u001b[0m\u001b[0;34m\u001b[0m\u001b[0;34m\u001b[0m\u001b[0m\n\u001b[0m\u001b[1;32m     28\u001b[0m \u001b[0mtelegram_client\u001b[0m \u001b[0;34m=\u001b[0m \u001b[0mTelegramClient\u001b[0m\u001b[0;34m(\u001b[0m\u001b[0mStringSession\u001b[0m\u001b[0;34m(\u001b[0m\u001b[0msession_string\u001b[0m\u001b[0;34m)\u001b[0m\u001b[0;34m,\u001b[0m \u001b[0mTELEGRAM_API_ID\u001b[0m\u001b[0;34m,\u001b[0m \u001b[0mTELEGRAM_API_HASH\u001b[0m\u001b[0;34m)\u001b[0m\u001b[0;34m\u001b[0m\u001b[0;34m\u001b[0m\u001b[0m\n\u001b[1;32m     29\u001b[0m \u001b[0;34m\u001b[0m\u001b[0m\n",
            "\u001b[0;32m<ipython-input-5-5abf5a7ac0ba>\u001b[0m in \u001b[0;36mload_session_string\u001b[0;34m()\u001b[0m\n\u001b[1;32m     22\u001b[0m             \u001b[0;32mreturn\u001b[0m \u001b[0mf\u001b[0m\u001b[0;34m.\u001b[0m\u001b[0mread\u001b[0m\u001b[0;34m(\u001b[0m\u001b[0;34m)\u001b[0m\u001b[0;34m.\u001b[0m\u001b[0mstrip\u001b[0m\u001b[0;34m(\u001b[0m\u001b[0;34m)\u001b[0m\u001b[0;34m\u001b[0m\u001b[0;34m\u001b[0m\u001b[0m\n\u001b[1;32m     23\u001b[0m     \u001b[0;32melse\u001b[0m\u001b[0;34m:\u001b[0m\u001b[0;34m\u001b[0m\u001b[0;34m\u001b[0m\u001b[0m\n\u001b[0;32m---> 24\u001b[0;31m         \u001b[0;32mreturn\u001b[0m \u001b[0mgenerate_session_string\u001b[0m\u001b[0;34m(\u001b[0m\u001b[0;34m)\u001b[0m\u001b[0;34m\u001b[0m\u001b[0;34m\u001b[0m\u001b[0m\n\u001b[0m\u001b[1;32m     25\u001b[0m \u001b[0;34m\u001b[0m\u001b[0m\n\u001b[1;32m     26\u001b[0m \u001b[0;31m# Initialize Telegram client with StringSession\u001b[0m\u001b[0;34m\u001b[0m\u001b[0;34m\u001b[0m\u001b[0m\n",
            "\u001b[0;32m<ipython-input-5-5abf5a7ac0ba>\u001b[0m in \u001b[0;36mgenerate_session_string\u001b[0;34m()\u001b[0m\n\u001b[1;32m      7\u001b[0m     \"\"\"\n\u001b[1;32m      8\u001b[0m     \u001b[0mprint\u001b[0m\u001b[0;34m(\u001b[0m\u001b[0;34m\"Generating a new session string...\"\u001b[0m\u001b[0;34m)\u001b[0m\u001b[0;34m\u001b[0m\u001b[0;34m\u001b[0m\u001b[0m\n\u001b[0;32m----> 9\u001b[0;31m     \u001b[0;32mwith\u001b[0m \u001b[0mTelegramClient\u001b[0m\u001b[0;34m(\u001b[0m\u001b[0mStringSession\u001b[0m\u001b[0;34m(\u001b[0m\u001b[0;34m)\u001b[0m\u001b[0;34m,\u001b[0m \u001b[0mTELEGRAM_API_ID\u001b[0m\u001b[0;34m,\u001b[0m \u001b[0mTELEGRAM_API_HASH\u001b[0m\u001b[0;34m)\u001b[0m \u001b[0;32mas\u001b[0m \u001b[0mclient\u001b[0m\u001b[0;34m:\u001b[0m\u001b[0;34m\u001b[0m\u001b[0;34m\u001b[0m\u001b[0m\n\u001b[0m\u001b[1;32m     10\u001b[0m         \u001b[0msession_string\u001b[0m \u001b[0;34m=\u001b[0m \u001b[0mclient\u001b[0m\u001b[0;34m.\u001b[0m\u001b[0msession\u001b[0m\u001b[0;34m.\u001b[0m\u001b[0msave\u001b[0m\u001b[0;34m(\u001b[0m\u001b[0;34m)\u001b[0m\u001b[0;34m\u001b[0m\u001b[0;34m\u001b[0m\u001b[0m\n\u001b[1;32m     11\u001b[0m         \u001b[0;32mwith\u001b[0m \u001b[0mopen\u001b[0m\u001b[0;34m(\u001b[0m\u001b[0mSESSION_FILE\u001b[0m\u001b[0;34m,\u001b[0m \u001b[0;34m\"w\"\u001b[0m\u001b[0;34m)\u001b[0m \u001b[0;32mas\u001b[0m \u001b[0mf\u001b[0m\u001b[0;34m:\u001b[0m\u001b[0;34m\u001b[0m\u001b[0;34m\u001b[0m\u001b[0m\n",
            "\u001b[0;32m/usr/local/lib/python3.10/dist-packages/telethon/helpers.py\u001b[0m in \u001b[0;36m_sync_enter\u001b[0;34m(self)\u001b[0m\n\u001b[1;32m    212\u001b[0m \u001b[0;34m\u001b[0m\u001b[0m\n\u001b[1;32m    213\u001b[0m     \u001b[0;32mif\u001b[0m \u001b[0mloop\u001b[0m\u001b[0;34m.\u001b[0m\u001b[0mis_running\u001b[0m\u001b[0;34m(\u001b[0m\u001b[0;34m)\u001b[0m\u001b[0;34m:\u001b[0m\u001b[0;34m\u001b[0m\u001b[0;34m\u001b[0m\u001b[0m\n\u001b[0;32m--> 214\u001b[0;31m         raise RuntimeError(\n\u001b[0m\u001b[1;32m    215\u001b[0m             \u001b[0;34m'You must use \"async with\" if the event loop '\u001b[0m\u001b[0;34m\u001b[0m\u001b[0;34m\u001b[0m\u001b[0m\n\u001b[1;32m    216\u001b[0m             \u001b[0;34m'is running (i.e. you are inside an \"async def\")'\u001b[0m\u001b[0;34m\u001b[0m\u001b[0;34m\u001b[0m\u001b[0m\n",
            "\u001b[0;31mRuntimeError\u001b[0m: You must use \"async with\" if the event loop is running (i.e. you are inside an \"async def\")"
          ]
        }
      ]
    },
    {
      "cell_type": "code",
      "source": [
        "async def scrape_all_channels(channels: list):\n",
        "    \"\"\"\n",
        "    Scrape messages from all specified Telegram channels.\n",
        "    \"\"\"\n",
        "    tasks = [scrape_telegram_channel(channel) for channel in channels]\n",
        "    return await asyncio.gather(*tasks)\n",
        "\n",
        "def save_to_json(data, filename):\n",
        "    \"\"\"\n",
        "    Save scraped data to a JSON file.\n",
        "    \"\"\"\n",
        "    with open(filename, 'w') as f:\n",
        "        json.dump(data, f, indent=4)\n",
        "    print(f\"Data saved to {filename}\")\n",
        "\n",
        "def get_telegram_channel_data(channels: list):\n",
        "    \"\"\"\n",
        "    Get data from all specified Telegram channels.\n",
        "    \"\"\"\n",
        "    all_telegram_data = asyncio.run(scrape_all_channels(channels))\n",
        "    return all_telegram_data"
      ],
      "metadata": {
        "id": "dTxN5yNdeoG-"
      },
      "execution_count": 6,
      "outputs": []
    },
    {
      "cell_type": "code",
      "source": [
        "# Main execution\n",
        "if __name__ == \"__main__\":\n",
        "    # Ensure media directory exists\n",
        "    os.makedirs(\"./media\", exist_ok=True)\n",
        "    for channel in TELEGRAM_CHANNELS:\n",
        "        os.makedirs(f\"./media/{channel}\", exist_ok=True)\n",
        "\n",
        "    # Start the Telegram client\n",
        "    asyncio.run(start_telegram_client())\n",
        "\n",
        "    # Get data from all specified Telegram channels\n",
        "    all_telegram_data = get_telegram_channel_data(TELEGRAM_CHANNELS)\n",
        "\n",
        "    # Flatten the list of lists\n",
        "    all_telegram_data = [item for sublist in all_telegram_data for item in sublist]\n",
        "\n",
        "    # Save data to JSON\n",
        "    save_to_json(all_telegram_data, 'telegram_data.json')\n",
        "\n",
        "    print(\"Scraping completed successfully\")"
      ],
      "metadata": {
        "colab": {
          "base_uri": "https://localhost:8080/",
          "height": 211
        },
        "id": "FM9th61sRzpe",
        "outputId": "716b5f20-00c5-476d-dfc9-88dfa302231c"
      },
      "execution_count": 7,
      "outputs": [
        {
          "output_type": "error",
          "ename": "NameError",
          "evalue": "name 'start_telegram_client' is not defined",
          "traceback": [
            "\u001b[0;31m---------------------------------------------------------------------------\u001b[0m",
            "\u001b[0;31mNameError\u001b[0m                                 Traceback (most recent call last)",
            "\u001b[0;32m<ipython-input-7-5a2965e19054>\u001b[0m in \u001b[0;36m<cell line: 2>\u001b[0;34m()\u001b[0m\n\u001b[1;32m      7\u001b[0m \u001b[0;34m\u001b[0m\u001b[0m\n\u001b[1;32m      8\u001b[0m     \u001b[0;31m# Start the Telegram client\u001b[0m\u001b[0;34m\u001b[0m\u001b[0;34m\u001b[0m\u001b[0m\n\u001b[0;32m----> 9\u001b[0;31m     \u001b[0masyncio\u001b[0m\u001b[0;34m.\u001b[0m\u001b[0mrun\u001b[0m\u001b[0;34m(\u001b[0m\u001b[0mstart_telegram_client\u001b[0m\u001b[0;34m(\u001b[0m\u001b[0;34m)\u001b[0m\u001b[0;34m)\u001b[0m\u001b[0;34m\u001b[0m\u001b[0;34m\u001b[0m\u001b[0m\n\u001b[0m\u001b[1;32m     10\u001b[0m \u001b[0;34m\u001b[0m\u001b[0m\n\u001b[1;32m     11\u001b[0m     \u001b[0;31m# Get data from all specified Telegram channels\u001b[0m\u001b[0;34m\u001b[0m\u001b[0;34m\u001b[0m\u001b[0m\n",
            "\u001b[0;31mNameError\u001b[0m: name 'start_telegram_client' is not defined"
          ]
        }
      ]
    },
    {
      "cell_type": "code",
      "source": [],
      "metadata": {
        "id": "g3zyaFLCR6oN"
      },
      "execution_count": null,
      "outputs": []
    }
  ]
}