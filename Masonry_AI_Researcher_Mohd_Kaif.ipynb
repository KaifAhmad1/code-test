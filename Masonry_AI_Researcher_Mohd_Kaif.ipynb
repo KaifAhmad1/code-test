{
  "nbformat": 4,
  "nbformat_minor": 0,
  "metadata": {
    "colab": {
      "provenance": [],
      "authorship_tag": "ABX9TyPCUBbQ8EE50Brsc11YJEQk",
      "include_colab_link": true
    },
    "kernelspec": {
      "name": "python3",
      "display_name": "Python 3"
    },
    "language_info": {
      "name": "python"
    }
  },
  "cells": [
    {
      "cell_type": "markdown",
      "metadata": {
        "id": "view-in-github",
        "colab_type": "text"
      },
      "source": [
        "<a href=\"https://colab.research.google.com/github/KaifAhmad1/code-test/blob/main/Masonry_AI_Researcher_Mohd_Kaif.ipynb\" target=\"_parent\"><img src=\"https://colab.research.google.com/assets/colab-badge.svg\" alt=\"Open In Colab\"/></a>"
      ]
    },
    {
      "cell_type": "code",
      "execution_count": 7,
      "metadata": {
        "colab": {
          "base_uri": "https://localhost:8080/"
        },
        "id": "iPqS4l0j-hri",
        "outputId": "4263a405-5d3a-4f53-cafd-30a4f9208965"
      },
      "outputs": [
        {
          "output_type": "stream",
          "name": "stdout",
          "text": [
            "ERROR: Could not find a version that satisfies the requirement request (from versions: none)\n",
            "ERROR: No matching distribution found for request\n"
          ]
        }
      ],
      "source": [
        "# Install required libraries\n",
        "!pip install -qU langchain langchain-groq langchain-community crawl4ai requests beautifulsoup4 googlesearch-python nest-asyncio request"
      ]
    },
    {
      "cell_type": "code",
      "source": [
        "import os\n",
        "import asyncio\n",
        "import logging\n",
        "import json\n",
        "import re\n",
        "from typing import List, Dict, Any\n",
        "from datetime import datetime\n",
        "from langchain_groq import ChatGroq\n",
        "from langchain_core.prompts import ChatPromptTemplate, MessagesPlaceholder\n",
        "from langchain_core.output_parsers import StrOutputParser\n",
        "from langchain_community.chat_message_histories import ChatMessageHistory\n",
        "from langchain_core.runnables.history import RunnableWithMessageHistory\n",
        "from langchain.agents import AgentExecutor, create_react_agent\n",
        "from langchain_core.tools import tool\n",
        "from crawl4ai import AsyncWebCrawler\n",
        "from bs4 import BeautifulSoup\n",
        "from googlesearch import search\n",
        "import nest_asyncio\n",
        "\n",
        "# Apply nest_asyncio for Colab compatibility\n",
        "nest_asyncio.apply()\n",
        "\n",
        "# Set up logging\n",
        "logging.basicConfig(level=logging.INFO, format='%(asctime)s - %(levelname)s - %(message)s')\n",
        "logger = logging.getLogger(__name__)\n",
        "\n",
        "# Set Groq API key (replace with your key or use Colab secrets)\n",
        "os.environ[\"GROQ_API_KEY\"] = \"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\""
      ],
      "metadata": {
        "id": "Dpc3ipok-8n8"
      },
      "execution_count": 9,
      "outputs": []
    },
    {
      "cell_type": "code",
      "source": [
        "# Initialize chat history store\n",
        "chat_history_store = {}\n",
        "\n",
        "def get_chat_history(session_id: str) -> ChatMessageHistory:\n",
        "    \"\"\"Retrieve or create chat history for a session.\"\"\"\n",
        "    if session_id not in chat_history_store:\n",
        "        chat_history_store[session_id] = ChatMessageHistory()\n",
        "    return chat_history_store[session_id]\n",
        "\n",
        "# Initialize Groq LLMs\n",
        "def init_llms() -> Dict[str, ChatGroq]:\n",
        "    \"\"\"Initialize Groq LLMs for summarization and analysis.\"\"\"\n",
        "    return {\n",
        "        'summary': ChatGroq(model_name=\"llama3-70b-8192\", temperature=0.7, api_key=os.environ.get(\"GROQ_API_KEY\")),\n",
        "        'analysis': ChatGroq(model_name=\"mixtral-8x7b-32768\", temperature=0.5, api_key=os.environ.get(\"GROQ_API_KEY\"))\n",
        "    }"
      ],
      "metadata": {
        "id": "OCGfnd6c_Ul9"
      },
      "execution_count": 10,
      "outputs": []
    },
    {
      "cell_type": "code",
      "source": [
        "# Define LangChain tools\n",
        "@tool\n",
        "def search_web(query: str) -> List[Dict[str, str]]:\n",
        "    \"\"\"Perform a web search and return results.\"\"\"\n",
        "    logger.info(f\"Searching web for: {query}\")\n",
        "    results = []\n",
        "    try:\n",
        "        for url in search(query, num_results=5):\n",
        "            results.append({'url': url, 'title': '', 'snippet': ''})\n",
        "        return results[:5]\n",
        "    except Exception as e:\n",
        "        logger.error(f\"Search error: {str(e)}\")\n",
        "        return []\n",
        "\n",
        "@tool\n",
        "async def crawl_url(url: str) -> Dict[str, Any]:\n",
        "    \"\"\"Crawl a URL using Crawl4AI and return extracted content.\"\"\"\n",
        "    logger.info(f\"Crawling URL: {url}\")\n",
        "    try:\n",
        "        async with AsyncWebCrawler() as crawler:\n",
        "            result = await crawler.arun(\n",
        "                url=url,\n",
        "                params={\n",
        "                    \"return_format\": \"markdown\",\n",
        "                    \"proxy_enabled\": False,\n",
        "                    \"request_timeout\": 30,\n",
        "                    \"limit\": 1\n",
        "                }\n",
        "            )\n",
        "            if result.success:\n",
        "                return {\n",
        "                    'url': url,\n",
        "                    'title': result.title or url,\n",
        "                    'content': result.markdown[:2000],\n",
        "                    'success': True\n",
        "                }\n",
        "    except Exception as e:\n",
        "        logger.error(f\"Error crawling {url}: {str(e)}\")\n",
        "    return {'url': url, 'title': '', 'content': '', 'success': False}\n",
        "\n",
        "@tool\n",
        "def extract_content_fallback(url: str) -> Dict[str, Any]:\n",
        "    \"\"\"Fallback content extraction using BeautifulSoup.\"\"\"\n",
        "    logger.info(f\"Extracting content (fallback) from: {url}\")\n",
        "    try:\n",
        "        response = session.get(url, timeout=10)\n",
        "        response.raise_for_status()\n",
        "        soup = BeautifulSoup(response.text, 'html.parser')\n",
        "        for script in soup([\"script\", \"style\"]):\n",
        "            script.decompose()\n",
        "        text = soup.get_text(separator=' ', strip=True)\n",
        "        lines = (line.strip() for line in text.splitlines())\n",
        "        chunks = (phrase.strip() for line in lines for phrase in line.split(\"  \"))\n",
        "        text = ' '.join(chunk for chunk in chunks if chunk)[:2000]\n",
        "        title = soup.title.string if soup.title else url\n",
        "        return {'url': url, 'title': title, 'content': text, 'success': True}\n",
        "    except Exception as e:\n",
        "        logger.error(f\"Error extracting content from {url}: {str(e)}\")\n",
        "        return {'url': url, 'title': '', 'content': '', 'success': False}"
      ],
      "metadata": {
        "id": "O9-EEO1e_8VM"
      },
      "execution_count": 11,
      "outputs": []
    },
    {
      "cell_type": "code",
      "source": [
        "# Define LangChain tools\n",
        "@tool\n",
        "def search_web(query: str) -> List[Dict[str, str]]:\n",
        "    \"\"\"Perform a web search and return results.\"\"\"\n",
        "    logger.info(f\"Searching web for: {query}\")\n",
        "    results = []\n",
        "    try:\n",
        "        for url in search(query, num_results=5):\n",
        "            results.append({'url': url, 'title': '', 'snippet': ''})\n",
        "        return results[:5]\n",
        "    except Exception as e:\n",
        "        logger.error(f\"Search error: {str(e)}\")\n",
        "        return []\n",
        "\n",
        "@tool\n",
        "async def crawl_url(url: str) -> Dict[str, Any]:\n",
        "    \"\"\"Crawl a URL using Crawl4AI and return extracted content.\"\"\"\n",
        "    logger.info(f\"Crawling URL: {url}\")\n",
        "    try:\n",
        "        async with AsyncWebCrawler() as crawler:\n",
        "            result = await crawler.arun(\n",
        "                url=url,\n",
        "                params={\n",
        "                    \"return_format\": \"markdown\",\n",
        "                    \"proxy_enabled\": False,\n",
        "                    \"request_timeout\": 30,\n",
        "                    \"limit\": 1\n",
        "                }\n",
        "            )\n",
        "            if result.success:\n",
        "                return {\n",
        "                    'url': url,\n",
        "                    'title': result.title or url,\n",
        "                    'content': result.markdown[:2000],\n",
        "                    'success': True\n",
        "                }\n",
        "    except Exception as e:\n",
        "        logger.error(f\"Error crawling {url}: {str(e)}\")\n",
        "    return {'url': url, 'title': '', 'content': '', 'success': False}\n",
        "\n",
        "@tool\n",
        "def extract_content_fallback(url: str) -> Dict[str, Any]:\n",
        "    \"\"\"Fallback content extraction using BeautifulSoup.\"\"\"\n",
        "    logger.info(f\"Extracting content (fallback) from: {url}\")\n",
        "    session = init_session()\n",
        "    try:\n",
        "        response = session.get(url, timeout=10)\n",
        "        response.raise_for_status()\n",
        "        soup = BeautifulSoup(response.text, 'html.parser')\n",
        "        for script in soup([\"script\", \"style\"]):\n",
        "            script.decompose()\n",
        "        text = soup.get_text(separator=' ', strip=True)\n",
        "        lines = (line.strip() for line in text.splitlines())\n",
        "        chunks = (phrase.strip() for line in lines for phrase in line.split(\"  \"))\n",
        "        text = ' '.join(chunk for chunk in chunks if chunk)[:2000]\n",
        "        title = soup.title.string if soup.title else url\n",
        "        return {'url': url, 'title': title, 'content': text, 'success': True}\n",
        "    except Exception as e:\n",
        "        logger.error(f\"Error extracting content from {url}: {str(e)}\")\n",
        "        return {'url': url, 'title': '', 'content': '', 'success': False}"
      ],
      "metadata": {
        "id": "DbDF_42jAlqP"
      },
      "execution_count": 12,
      "outputs": []
    },
    {
      "cell_type": "code",
      "source": [
        "# Main Research Pipeline\n",
        "async def research(query: str, session_id: str = \"default\") -> Dict[str, Any]:\n",
        "    \"\"\"Main research pipeline.\"\"\"\n",
        "    logger.info(f\"Starting research for query: {query}\")\n",
        "\n",
        "    # Initialize LLMs and agent\n",
        "    llms = init_llms()\n",
        "    agent_executor = init_agent(llms['analysis'])\n",
        "\n",
        "    # Step 1: Analyze query\n",
        "    query_analysis = analyze_query(query)\n",
        "\n",
        "    # Step 2: Execute agent for search and crawling\n",
        "    try:\n",
        "        agent_result = await agent_executor.ainvoke({\"input\": query_analysis['search_terms']})\n",
        "        search_results = agent_result.get('output', [])\n",
        "        if isinstance(search_results, str):\n",
        "            search_results = [{'url': url, 'title': '', 'snippet': ''} for url in search_results.split()]\n",
        "    except Exception as e:\n",
        "        logger.error(f\"Agent execution error: {str(e)}\")\n",
        "        search_results = search_web.invoke(query_analysis['search_terms'])\n",
        "\n",
        "    # Step 3: Crawl content\n",
        "    contents = []\n",
        "    for result in search_results[:5]:\n",
        "        content = await crawl_url.invoke(result['url'])\n",
        "        if not content['success']:\n",
        "            content = extract_content_fallback.invoke(result['url'])\n",
        "        contents.append(content)\n",
        "\n",
        "    # Step 4: Analyze content\n",
        "    analyzed_contents = analyze_content(contents, query)\n",
        "\n",
        "    # Step 5: Synthesize information\n",
        "    report = await synthesize_information(analyzed_contents, query, session_id)\n",
        "\n",
        "    return report\n",
        "\n",
        "# Save Report\n",
        "def save_report(report: Dict[str, Any], filename: str = \"research_report.json\"):\n",
        "    \"\"\"Save the research report to a JSON file.\"\"\"\n",
        "    with open(filename, 'w') as f:\n",
        "        json.dump(report, f, indent=2)\n",
        "    print(f\"Report saved to {filename}\")\n",
        "\n",
        "# Test the Agent\n",
        "async def test_research_agent():\n",
        "    \"\"\"Test the research pipeline with sample queries.\"\"\"\n",
        "    test_queries = [\n",
        "        \"What is the capital of France?\",\n",
        "        \"Recent news about AI developments\"\n",
        "    ]\n",
        "    for query in test_queries:\n",
        "        print(f\"\\nTesting query: {query}\")\n",
        "        result = await research(query, session_id=f\"test_{query}\")\n",
        "        print(json.dumps(result, indent=2))\n",
        "        save_report(result, f\"research_report_{query.replace(' ', '_')}.json\")\n",
        "\n",
        "# Run tests in Colab\n",
        "if __name__ == \"__main__\":\n",
        "    asyncio.run(test_research_agent())"
      ],
      "metadata": {
        "colab": {
          "base_uri": "https://localhost:8080/",
          "height": 356
        },
        "id": "1ERJBE2gAwal",
        "outputId": "bf22e430-4894-4193-dfe4-3bc03b39887e"
      },
      "execution_count": 13,
      "outputs": [
        {
          "output_type": "stream",
          "name": "stdout",
          "text": [
            "\n",
            "Testing query: What is the capital of France?\n"
          ]
        },
        {
          "output_type": "error",
          "ename": "NameError",
          "evalue": "name 'init_agent' is not defined",
          "traceback": [
            "\u001b[0;31m---------------------------------------------------------------------------\u001b[0m",
            "\u001b[0;31mNameError\u001b[0m                                 Traceback (most recent call last)",
            "\u001b[0;32m<ipython-input-13-a6319493a07d>\u001b[0m in \u001b[0;36m<cell line: 0>\u001b[0;34m()\u001b[0m\n\u001b[1;32m     59\u001b[0m \u001b[0;31m# Run tests in Colab\u001b[0m\u001b[0;34m\u001b[0m\u001b[0;34m\u001b[0m\u001b[0m\n\u001b[1;32m     60\u001b[0m \u001b[0;32mif\u001b[0m \u001b[0m__name__\u001b[0m \u001b[0;34m==\u001b[0m \u001b[0;34m\"__main__\"\u001b[0m\u001b[0;34m:\u001b[0m\u001b[0;34m\u001b[0m\u001b[0;34m\u001b[0m\u001b[0m\n\u001b[0;32m---> 61\u001b[0;31m     \u001b[0masyncio\u001b[0m\u001b[0;34m.\u001b[0m\u001b[0mrun\u001b[0m\u001b[0;34m(\u001b[0m\u001b[0mtest_research_agent\u001b[0m\u001b[0;34m(\u001b[0m\u001b[0;34m)\u001b[0m\u001b[0;34m)\u001b[0m\u001b[0;34m\u001b[0m\u001b[0;34m\u001b[0m\u001b[0m\n\u001b[0m",
            "\u001b[0;32m/usr/local/lib/python3.11/dist-packages/nest_asyncio.py\u001b[0m in \u001b[0;36mrun\u001b[0;34m(main, debug)\u001b[0m\n\u001b[1;32m     28\u001b[0m         \u001b[0mtask\u001b[0m \u001b[0;34m=\u001b[0m \u001b[0masyncio\u001b[0m\u001b[0;34m.\u001b[0m\u001b[0mensure_future\u001b[0m\u001b[0;34m(\u001b[0m\u001b[0mmain\u001b[0m\u001b[0;34m)\u001b[0m\u001b[0;34m\u001b[0m\u001b[0;34m\u001b[0m\u001b[0m\n\u001b[1;32m     29\u001b[0m         \u001b[0;32mtry\u001b[0m\u001b[0;34m:\u001b[0m\u001b[0;34m\u001b[0m\u001b[0;34m\u001b[0m\u001b[0m\n\u001b[0;32m---> 30\u001b[0;31m             \u001b[0;32mreturn\u001b[0m \u001b[0mloop\u001b[0m\u001b[0;34m.\u001b[0m\u001b[0mrun_until_complete\u001b[0m\u001b[0;34m(\u001b[0m\u001b[0mtask\u001b[0m\u001b[0;34m)\u001b[0m\u001b[0;34m\u001b[0m\u001b[0;34m\u001b[0m\u001b[0m\n\u001b[0m\u001b[1;32m     31\u001b[0m         \u001b[0;32mfinally\u001b[0m\u001b[0;34m:\u001b[0m\u001b[0;34m\u001b[0m\u001b[0;34m\u001b[0m\u001b[0m\n\u001b[1;32m     32\u001b[0m             \u001b[0;32mif\u001b[0m \u001b[0;32mnot\u001b[0m \u001b[0mtask\u001b[0m\u001b[0;34m.\u001b[0m\u001b[0mdone\u001b[0m\u001b[0;34m(\u001b[0m\u001b[0;34m)\u001b[0m\u001b[0;34m:\u001b[0m\u001b[0;34m\u001b[0m\u001b[0;34m\u001b[0m\u001b[0m\n",
            "\u001b[0;32m/usr/local/lib/python3.11/dist-packages/nest_asyncio.py\u001b[0m in \u001b[0;36mrun_until_complete\u001b[0;34m(self, future)\u001b[0m\n\u001b[1;32m     96\u001b[0m                 raise RuntimeError(\n\u001b[1;32m     97\u001b[0m                     'Event loop stopped before Future completed.')\n\u001b[0;32m---> 98\u001b[0;31m             \u001b[0;32mreturn\u001b[0m \u001b[0mf\u001b[0m\u001b[0;34m.\u001b[0m\u001b[0mresult\u001b[0m\u001b[0;34m(\u001b[0m\u001b[0;34m)\u001b[0m\u001b[0;34m\u001b[0m\u001b[0;34m\u001b[0m\u001b[0m\n\u001b[0m\u001b[1;32m     99\u001b[0m \u001b[0;34m\u001b[0m\u001b[0m\n\u001b[1;32m    100\u001b[0m     \u001b[0;32mdef\u001b[0m \u001b[0m_run_once\u001b[0m\u001b[0;34m(\u001b[0m\u001b[0mself\u001b[0m\u001b[0;34m)\u001b[0m\u001b[0;34m:\u001b[0m\u001b[0;34m\u001b[0m\u001b[0;34m\u001b[0m\u001b[0m\n",
            "\u001b[0;32m/usr/lib/python3.11/asyncio/futures.py\u001b[0m in \u001b[0;36mresult\u001b[0;34m(self)\u001b[0m\n\u001b[1;32m    201\u001b[0m         \u001b[0mself\u001b[0m\u001b[0;34m.\u001b[0m\u001b[0m__log_traceback\u001b[0m \u001b[0;34m=\u001b[0m \u001b[0;32mFalse\u001b[0m\u001b[0;34m\u001b[0m\u001b[0;34m\u001b[0m\u001b[0m\n\u001b[1;32m    202\u001b[0m         \u001b[0;32mif\u001b[0m \u001b[0mself\u001b[0m\u001b[0;34m.\u001b[0m\u001b[0m_exception\u001b[0m \u001b[0;32mis\u001b[0m \u001b[0;32mnot\u001b[0m \u001b[0;32mNone\u001b[0m\u001b[0;34m:\u001b[0m\u001b[0;34m\u001b[0m\u001b[0;34m\u001b[0m\u001b[0m\n\u001b[0;32m--> 203\u001b[0;31m             \u001b[0;32mraise\u001b[0m \u001b[0mself\u001b[0m\u001b[0;34m.\u001b[0m\u001b[0m_exception\u001b[0m\u001b[0;34m.\u001b[0m\u001b[0mwith_traceback\u001b[0m\u001b[0;34m(\u001b[0m\u001b[0mself\u001b[0m\u001b[0;34m.\u001b[0m\u001b[0m_exception_tb\u001b[0m\u001b[0;34m)\u001b[0m\u001b[0;34m\u001b[0m\u001b[0;34m\u001b[0m\u001b[0m\n\u001b[0m\u001b[1;32m    204\u001b[0m         \u001b[0;32mreturn\u001b[0m \u001b[0mself\u001b[0m\u001b[0;34m.\u001b[0m\u001b[0m_result\u001b[0m\u001b[0;34m\u001b[0m\u001b[0;34m\u001b[0m\u001b[0m\n\u001b[1;32m    205\u001b[0m \u001b[0;34m\u001b[0m\u001b[0m\n",
            "\u001b[0;32m/usr/lib/python3.11/asyncio/tasks.py\u001b[0m in \u001b[0;36m__step\u001b[0;34m(***failed resolving arguments***)\u001b[0m\n\u001b[1;32m    275\u001b[0m                 \u001b[0;31m# We use the `send` method directly, because coroutines\u001b[0m\u001b[0;34m\u001b[0m\u001b[0;34m\u001b[0m\u001b[0m\n\u001b[1;32m    276\u001b[0m                 \u001b[0;31m# don't have `__iter__` and `__next__` methods.\u001b[0m\u001b[0;34m\u001b[0m\u001b[0;34m\u001b[0m\u001b[0m\n\u001b[0;32m--> 277\u001b[0;31m                 \u001b[0mresult\u001b[0m \u001b[0;34m=\u001b[0m \u001b[0mcoro\u001b[0m\u001b[0;34m.\u001b[0m\u001b[0msend\u001b[0m\u001b[0;34m(\u001b[0m\u001b[0;32mNone\u001b[0m\u001b[0;34m)\u001b[0m\u001b[0;34m\u001b[0m\u001b[0;34m\u001b[0m\u001b[0m\n\u001b[0m\u001b[1;32m    278\u001b[0m             \u001b[0;32melse\u001b[0m\u001b[0;34m:\u001b[0m\u001b[0;34m\u001b[0m\u001b[0;34m\u001b[0m\u001b[0m\n\u001b[1;32m    279\u001b[0m                 \u001b[0mresult\u001b[0m \u001b[0;34m=\u001b[0m \u001b[0mcoro\u001b[0m\u001b[0;34m.\u001b[0m\u001b[0mthrow\u001b[0m\u001b[0;34m(\u001b[0m\u001b[0mexc\u001b[0m\u001b[0;34m)\u001b[0m\u001b[0;34m\u001b[0m\u001b[0;34m\u001b[0m\u001b[0m\n",
            "\u001b[0;32m<ipython-input-13-a6319493a07d>\u001b[0m in \u001b[0;36mtest_research_agent\u001b[0;34m()\u001b[0m\n\u001b[1;32m     53\u001b[0m     \u001b[0;32mfor\u001b[0m \u001b[0mquery\u001b[0m \u001b[0;32min\u001b[0m \u001b[0mtest_queries\u001b[0m\u001b[0;34m:\u001b[0m\u001b[0;34m\u001b[0m\u001b[0;34m\u001b[0m\u001b[0m\n\u001b[1;32m     54\u001b[0m         \u001b[0mprint\u001b[0m\u001b[0;34m(\u001b[0m\u001b[0;34mf\"\\nTesting query: {query}\"\u001b[0m\u001b[0;34m)\u001b[0m\u001b[0;34m\u001b[0m\u001b[0;34m\u001b[0m\u001b[0m\n\u001b[0;32m---> 55\u001b[0;31m         \u001b[0mresult\u001b[0m \u001b[0;34m=\u001b[0m \u001b[0;32mawait\u001b[0m \u001b[0mresearch\u001b[0m\u001b[0;34m(\u001b[0m\u001b[0mquery\u001b[0m\u001b[0;34m,\u001b[0m \u001b[0msession_id\u001b[0m\u001b[0;34m=\u001b[0m\u001b[0;34mf\"test_{query}\"\u001b[0m\u001b[0;34m)\u001b[0m\u001b[0;34m\u001b[0m\u001b[0;34m\u001b[0m\u001b[0m\n\u001b[0m\u001b[1;32m     56\u001b[0m         \u001b[0mprint\u001b[0m\u001b[0;34m(\u001b[0m\u001b[0mjson\u001b[0m\u001b[0;34m.\u001b[0m\u001b[0mdumps\u001b[0m\u001b[0;34m(\u001b[0m\u001b[0mresult\u001b[0m\u001b[0;34m,\u001b[0m \u001b[0mindent\u001b[0m\u001b[0;34m=\u001b[0m\u001b[0;36m2\u001b[0m\u001b[0;34m)\u001b[0m\u001b[0;34m)\u001b[0m\u001b[0;34m\u001b[0m\u001b[0;34m\u001b[0m\u001b[0m\n\u001b[1;32m     57\u001b[0m         \u001b[0msave_report\u001b[0m\u001b[0;34m(\u001b[0m\u001b[0mresult\u001b[0m\u001b[0;34m,\u001b[0m \u001b[0;34mf\"research_report_{query.replace(' ', '_')}.json\"\u001b[0m\u001b[0;34m)\u001b[0m\u001b[0;34m\u001b[0m\u001b[0;34m\u001b[0m\u001b[0m\n",
            "\u001b[0;32m<ipython-input-13-a6319493a07d>\u001b[0m in \u001b[0;36mresearch\u001b[0;34m(query, session_id)\u001b[0m\n\u001b[1;32m      6\u001b[0m     \u001b[0;31m# Initialize LLMs and agent\u001b[0m\u001b[0;34m\u001b[0m\u001b[0;34m\u001b[0m\u001b[0m\n\u001b[1;32m      7\u001b[0m     \u001b[0mllms\u001b[0m \u001b[0;34m=\u001b[0m \u001b[0minit_llms\u001b[0m\u001b[0;34m(\u001b[0m\u001b[0;34m)\u001b[0m\u001b[0;34m\u001b[0m\u001b[0;34m\u001b[0m\u001b[0m\n\u001b[0;32m----> 8\u001b[0;31m     \u001b[0magent_executor\u001b[0m \u001b[0;34m=\u001b[0m \u001b[0minit_agent\u001b[0m\u001b[0;34m(\u001b[0m\u001b[0mllms\u001b[0m\u001b[0;34m[\u001b[0m\u001b[0;34m'analysis'\u001b[0m\u001b[0;34m]\u001b[0m\u001b[0;34m)\u001b[0m\u001b[0;34m\u001b[0m\u001b[0;34m\u001b[0m\u001b[0m\n\u001b[0m\u001b[1;32m      9\u001b[0m \u001b[0;34m\u001b[0m\u001b[0m\n\u001b[1;32m     10\u001b[0m     \u001b[0;31m# Step 1: Analyze query\u001b[0m\u001b[0;34m\u001b[0m\u001b[0;34m\u001b[0m\u001b[0m\n",
            "\u001b[0;31mNameError\u001b[0m: name 'init_agent' is not defined"
          ]
        }
      ]
    },
    {
      "cell_type": "code",
      "source": [],
      "metadata": {
        "id": "6exZuW8HA1oX"
      },
      "execution_count": null,
      "outputs": []
    }
  ]
}