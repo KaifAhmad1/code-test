{
  "nbformat": 4,
  "nbformat_minor": 0,
  "metadata": {
    "colab": {
      "provenance": [],
      "authorship_tag": "ABX9TyM2htl/mrthGu7rn415BI93",
      "include_colab_link": true
    },
    "kernelspec": {
      "name": "python3",
      "display_name": "Python 3"
    },
    "language_info": {
      "name": "python"
    }
  },
  "cells": [
    {
      "cell_type": "markdown",
      "metadata": {
        "id": "view-in-github",
        "colab_type": "text"
      },
      "source": [
        "<a href=\"https://colab.research.google.com/github/KaifAhmad1/code-test/blob/main/RSS_Feed_Source.ipynb\" target=\"_parent\"><img src=\"https://colab.research.google.com/assets/colab-badge.svg\" alt=\"Open In Colab\"/></a>"
      ]
    },
    {
      "cell_type": "code",
      "execution_count": 1,
      "metadata": {
        "colab": {
          "base_uri": "https://localhost:8080/"
        },
        "id": "UPue1vWxnMNv",
        "outputId": "660af2e3-f62d-49d6-e748-ed3a8ab6c0b2"
      },
      "outputs": [
        {
          "output_type": "stream",
          "name": "stdout",
          "text": [
            "  Preparing metadata (setup.py) ... \u001b[?25l\u001b[?25hdone\n",
            "\u001b[?25l   \u001b[90m━━━━━━━━━━━━━━━━━━━━━━━━━━━━━━━━━━━━━━━━\u001b[0m \u001b[32m0.0/81.3 kB\u001b[0m \u001b[31m?\u001b[0m eta \u001b[36m-:--:--\u001b[0m\r\u001b[2K   \u001b[90m━━━━━━━━━━━━━━━━━━━━━━━━━━━━━━━━━━━━━━━━\u001b[0m \u001b[32m81.3/81.3 kB\u001b[0m \u001b[31m2.4 MB/s\u001b[0m eta \u001b[36m0:00:00\u001b[0m\n",
            "\u001b[?25h  Building wheel for sgmllib3k (setup.py) ... \u001b[?25l\u001b[?25hdone\n"
          ]
        }
      ],
      "source": [
        "!pip install -q feedparser requests beautifulsoup4"
      ]
    },
    {
      "cell_type": "code",
      "source": [
        "import feedparser\n",
        "import requests\n",
        "from bs4 import BeautifulSoup\n",
        "import json\n",
        "import os\n",
        "import time"
      ],
      "metadata": {
        "id": "-ya60KuZnTsO"
      },
      "execution_count": 10,
      "outputs": []
    },
    {
      "cell_type": "code",
      "source": [
        "# List of RSS feed URLs (deduplicated)\n",
        "SECURITY_RSS_FEEDS = list(set([\n",
        "    \"https://www.bleepingcomputer.com/feed/\",\n",
        "    \"https://feeds.feedburner.com/TheHackersNews\",\n",
        "    \"https://krebsonsecurity.com/feed/\",\n",
        "    \"https://www.darkreading.com/rss.xml\",\n",
        "    \"https://www.securityweek.com/feed/\",\n",
        "    \"https://www.csoonline.com/feed/\",\n",
        "    \"https://www.threatpost.com/feed/\",\n",
        "    \"https://www.helpnetsecurity.com/feed/\",\n",
        "    \"https://www.infosecurity-magazine.com/rss/news/\",\n",
        "    \"https://www.cybersecurity-insiders.com/feed/\",\n",
        "    \"https://www.zdnet.com/topic/security/rss.xml\",\n",
        "    \"https://www.schneier.com/feed/atom/\",\n",
        "    \"https://www.theregister.com/security/headlines.atom\",\n",
        "    \"https://www.govinfosecurity.com/rss/feeds/rss\",\n",
        "    \"https://www.crowdstrike.com/blog/feed/\",\n",
        "    \"https://www.troyhunt.com/rss/\",\n",
        "    \"https://www.securelist.com/feed/\",\n",
        "    \"https://www.sans.org/rss/security-headlines/\",\n",
        "    \"https://www.fireeye.com/blog/threat-research/_jcr_content.feed\",\n",
        "    \"https://www.symantec.com/connect/item-feeds/blog/feed/all/feed\",\n",
        "    \"https://www.trendmicro.com/vinfo/us/security/rss/\",\n",
        "    \"https://www.mcafee.com/blogs/feed/\",\n",
        "    \"https://www.paloaltonetworks.com/blog/feed\",\n",
        "    \"https://www.cisa.gov/cybersecurity-advisories/ics-advisories.xml\",\n",
        "    \"https://www.ncsc.gov.uk/api/1/services/v1/report-rss-feed.xml\",\n",
        "    \"https://www.recordedfuture.com/feed\",\n",
        "    \"https://www.cybereason.com/blog/feed\",\n",
        "    \"https://www.rapid7.com/blog/rss/\",\n",
        "    \"https://www.akamai.com/blog/rss.xml\",\n",
        "    \"https://www.imperva.com/blog/feed/\",\n",
        "    \"https://www.checkpoint.com/blog/feed/\",\n",
        "    \"https://www.fortinet.com/blog.xml\",\n",
        "    \"https://www.proofpoint.com/us/rss.xml\",\n",
        "    \"https://www.sophos.com/en-us/medialibrary/RSS/rss.aspx\",\n",
        "    \"https://www.qualys.com/blog/feed/\",\n",
        "    \"https://www.tenable.com/blog/rss.xml\",\n",
        "    \"https://www.ibm.com/security/blog/feed/\",\n",
        "    \"https://www.cisco.com/c/en/us/products/security/security-labs-rss-feed.html\",\n",
        "    \"https://www.microsoft.com/security/blog/feed/\",\n",
        "    \"https://www.oracle.com/security-alerts/rss.xml\",\n",
        "    \"https://www.elastic.co/security-labs-rss\",\n",
        "    \"https://www.cloudflare.com/blog/security/feed/\",\n",
        "    \"https://www.varonis.com/blog/feed/\",\n",
        "    \"https://www.sentinelone.com/blog/feed/\",\n",
        "    \"https://www.carbonblack.com/blog/feed/\",\n",
        "    \"https://www.cyberark.com/blog/feed/\",\n",
        "    \"https://www.duo.com/blog/rss.xml\",\n",
        "    \"https://www.secureworks.com/rss?feed=blog\",\n",
        "    \"https://www.forcepoint.com/blog/rss.xml\",\n",
        "    \"https://www.zscaler.com/blogs/security-research/feed\",\n",
        "    \"https://www.broadcom.com/site/xml/rss/feed/symantec\",\n",
        "    \"https://www.radware.com/security/rss/\",\n",
        "    \"https://www.f5.com/labs/rss\",\n",
        "    \"https://www.extrahop.com/company/blog/feed/\",\n",
        "    \"https://www.vmware.com/security/advisories.xml\",\n",
        "    \"https://www.redcanary.com/blog/feed/\",\n",
        "]))"
      ],
      "metadata": {
        "id": "yS3vjXfpnp0w"
      },
      "execution_count": 11,
      "outputs": []
    },
    {
      "cell_type": "code",
      "source": [
        "# Function to fetch and parse RSS feeds with retries\n",
        "def fetch_rss_feeds(feed_urls, max_retries=3):\n",
        "    entries = []\n",
        "    for url in feed_urls:\n",
        "        for attempt in range(max_retries):\n",
        "            try:\n",
        "                print(f\"Fetching {url} (Attempt {attempt + 1})...\")\n",
        "                feed = feedparser.parse(url, request_headers={'User-Agent': 'Mozilla/5.0'})\n",
        "                for entry in feed.entries:\n",
        "                    entries.append({\n",
        "                        \"title\": entry.title,\n",
        "                        \"link\": entry.link,\n",
        "                        \"published\": entry.published if \"published\" in entry else None,\n",
        "                        \"summary\": entry.summary if \"summary\" in entry else None,\n",
        "                        \"source\": url,\n",
        "                    })\n",
        "                break  # Success, exit the retry loop\n",
        "            except Exception as e:\n",
        "                print(f\"Attempt {attempt + 1} failed for {url}: {e}\")\n",
        "                if attempt < max_retries - 1:\n",
        "                    time.sleep(2)  # Wait before retrying\n",
        "                else:\n",
        "                    print(f\"Max retries reached for {url}. Skipping.\")\n",
        "    return entries"
      ],
      "metadata": {
        "id": "hqGl1O_wnuem"
      },
      "execution_count": 12,
      "outputs": []
    },
    {
      "cell_type": "code",
      "source": [
        "# Function to fetch media and enrich data with retries\n",
        "def enrich_data_with_media(entries, max_retries=3):\n",
        "    enriched = []\n",
        "    for entry in entries:\n",
        "        for attempt in range(max_retries):\n",
        "            try:\n",
        "                print(f\"Enriching {entry['link']} (Attempt {attempt + 1})...\")\n",
        "                response = requests.get(entry[\"link\"], headers={'User-Agent': 'Mozilla/5.0'}, timeout=10)\n",
        "                soup = BeautifulSoup(response.content, \"html.parser\")\n",
        "\n",
        "                # Fetch the main image\n",
        "                main_image = soup.find(\"meta\", property=\"og:image\")\n",
        "                entry[\"main_image\"] = main_image[\"content\"] if main_image else None\n",
        "\n",
        "                # Fetch all images on the page\n",
        "                entry[\"all_images\"] = [img[\"src\"] for img in soup.find_all(\"img\") if \"src\" in img.attrs]\n",
        "\n",
        "                # Optionally download the images (not recommended for large-scale scraping)\n",
        "                images_dir = 'downloaded_images'\n",
        "                os.makedirs(images_dir, exist_ok=True)\n",
        "                for img_url in entry[\"all_images\"]:\n",
        "                    try:\n",
        "                        img_response = requests.get(img_url, headers={'User-Agent': 'Mozilla/5.0'}, timeout=10)\n",
        "                        img_name = os.path.join(images_dir, os.path.basename(img_url))\n",
        "                        with open(img_name, 'wb') as img_file:\n",
        "                            img_file.write(img_response.content)\n",
        "                    except requests.exceptions.RequestException as e:\n",
        "                        print(f\"Failed to download image {img_url}: {e}\")\n",
        "                break  # Success, exit the retry loop\n",
        "            except Exception as e:\n",
        "                print(f\"Attempt {attempt + 1} failed for {entry['link']}: {e}\")\n",
        "                if attempt < max_retries - 1:\n",
        "                    time.sleep(2)  # Wait before retrying\n",
        "                else:\n",
        "                    print(f\"Max retries reached for {entry['link']}. Skipping.\")\n",
        "        enriched.append(entry)\n",
        "    return enriched"
      ],
      "metadata": {
        "id": "mn_loXzCoGMw"
      },
      "execution_count": 13,
      "outputs": []
    },
    {
      "cell_type": "code",
      "source": [
        "# Function to save data to a JSON file\n",
        "def save_to_json(data, filename=\"security_intelligence_data.json\"):\n",
        "    with open(filename, \"w\", encoding=\"utf-8\") as f:\n",
        "        json.dump(data, f, indent=4)\n",
        "    print(f\"Data saved to {filename}\")"
      ],
      "metadata": {
        "id": "2MFj7R0qoMz1"
      },
      "execution_count": 14,
      "outputs": []
    },
    {
      "cell_type": "code",
      "source": [
        "# Main execution\n",
        "if __name__ == \"__main__\":\n",
        "    # Fetch RSS feeds\n",
        "    print(\"Fetching RSS feeds...\")\n",
        "    rss_data = fetch_rss_feeds(SECURITY_RSS_FEEDS)\n",
        "\n",
        "    # Enrich with media\n",
        "    print(\"Enriching data with media...\")\n",
        "    enriched_data = enrich_data_with_media(rss_data)\n",
        "\n",
        "    # Save to file\n",
        "    save_to_json(enriched_data)\n",
        "    print(\"Data collection complete!\")"
      ],
      "metadata": {
        "colab": {
          "base_uri": "https://localhost:8080/"
        },
        "id": "peaoLV_DoRJ8",
        "outputId": "f04b02c0-7dc3-46e3-84a3-9848e0d9462b"
      },
      "execution_count": null,
      "outputs": [
        {
          "output_type": "stream",
          "name": "stdout",
          "text": [
            "Fetching RSS feeds...\n",
            "Fetching https://www.crowdstrike.com/blog/feed/ (Attempt 1)...\n",
            "Fetching https://www.zdnet.com/topic/security/rss.xml (Attempt 1)...\n",
            "Fetching https://www.schneier.com/feed/atom/ (Attempt 1)...\n",
            "Fetching https://www.infosecurity-magazine.com/rss/news/ (Attempt 1)...\n",
            "Fetching https://www.paloaltonetworks.com/blog/feed (Attempt 1)...\n",
            "Fetching https://www.oracle.com/security-alerts/rss.xml (Attempt 1)...\n",
            "Fetching https://www.sophos.com/en-us/medialibrary/RSS/rss.aspx (Attempt 1)...\n"
          ]
        }
      ]
    }
  ]
}