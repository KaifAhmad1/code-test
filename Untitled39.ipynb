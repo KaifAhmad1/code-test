{
  "nbformat": 4,
  "nbformat_minor": 0,
  "metadata": {
    "colab": {
      "provenance": [],
      "gpuType": "T4",
      "authorship_tag": "ABX9TyPjxCLKmsV0O6gTpcmNZqQA",
      "include_colab_link": true
    },
    "kernelspec": {
      "name": "python3",
      "display_name": "Python 3"
    },
    "language_info": {
      "name": "python"
    },
    "accelerator": "GPU"
  },
  "cells": [
    {
      "cell_type": "markdown",
      "metadata": {
        "id": "view-in-github",
        "colab_type": "text"
      },
      "source": [
        "<a href=\"https://colab.research.google.com/github/KaifAhmad1/code-test/blob/main/Untitled39.ipynb\" target=\"_parent\"><img src=\"https://colab.research.google.com/assets/colab-badge.svg\" alt=\"Open In Colab\"/></a>"
      ]
    },
    {
      "cell_type": "code",
      "execution_count": 1,
      "metadata": {
        "colab": {
          "base_uri": "https://localhost:8080/"
        },
        "id": "u5Ogq-6HkHI4",
        "outputId": "4846a851-044c-4840-dba8-f4be58279f16"
      },
      "outputs": [
        {
          "output_type": "stream",
          "name": "stdout",
          "text": [
            "Nearest neighbor indices: [[0]]\n",
            "Distances to nearest neighbors: [[1.58113883]]\n",
            "Nearest neighbor indices: [[0]]\n",
            "Distances to nearest neighbors: [[1.58113883]]\n"
          ]
        }
      ],
      "source": [
        "from sklearn.neighbors import NearestNeighbors\n",
        "import numpy as np\n",
        "X = np.array([[0, 1], [1, 0], [2, 3], [3, 2]])\n",
        "\n",
        "n_neighbors = 1\n",
        "kdtree = NearestNeighbors(n_neighbors=n_neighbors, algorithm='kd_tree').fit(X)\n",
        "query_point = np.array([[1.5, 1.5]])\n",
        "\n",
        "distances, indices = kdtree.kneighbors(query_point)\n",
        "\n",
        "print(\"Nearest neighbor indices:\", indices)\n",
        "print(\"Distances to nearest neighbors:\", distances)\n",
        "balltree = NearestNeighbors(n_neighbors=n_neighbors, algorithm='ball_tree').fit(X)\n",
        "\n",
        "distances, indices = balltree.kneighbors(query_point)\n",
        "print(\"Nearest neighbor indices:\", indices)\n",
        "print(\"Distances to nearest neighbors:\", distances)"
      ]
    },
    {
      "cell_type": "code",
      "source": [
        "import plotly.express as px\n",
        "import numpy as np\n",
        "\n",
        "# Sample data\n",
        "X = np.array([[0, 1], [1, 0], [2, 3], [3, 2]])\n",
        "\n",
        "# Query point\n",
        "query_point = np.array([1.5, 1.5])\n",
        "\n",
        "# Initialize and fit the k-d tree\n",
        "kdtree = build_kdtree(X)\n",
        "\n",
        "# Plot k-d tree\n",
        "fig = px.scatter(x=X[:, 0], y=X[:, 1], labels={'x': 'X', 'y': 'Y'}, title='k-d Tree Visualization',\n",
        "                 template='plotly_white')\n",
        "fig.add_trace(px.scatter(x=[query_point[0]], y=[query_point[1]], color_discrete_sequence=['green'],\n",
        "                         labels={'x': 'X', 'y': 'Y'}, mode='markers').data[0])\n",
        "fig.update_traces(marker=dict(size=12), selector=dict(mode='markers'))\n",
        "fig.update_layout(showlegend=False)\n",
        "\n",
        "fig.show()"
      ],
      "metadata": {
        "colab": {
          "base_uri": "https://localhost:8080/",
          "height": 211
        },
        "id": "0zS5gvS-kX7v",
        "outputId": "6eaf6ee1-ae91-49f6-f094-2c7fa7f3284a"
      },
      "execution_count": 3,
      "outputs": [
        {
          "output_type": "error",
          "ename": "NameError",
          "evalue": "name 'build_kdtree' is not defined",
          "traceback": [
            "\u001b[0;31m---------------------------------------------------------------------------\u001b[0m",
            "\u001b[0;31mNameError\u001b[0m                                 Traceback (most recent call last)",
            "\u001b[0;32m<ipython-input-3-8d8b7bed73db>\u001b[0m in \u001b[0;36m<cell line: 11>\u001b[0;34m()\u001b[0m\n\u001b[1;32m      9\u001b[0m \u001b[0;34m\u001b[0m\u001b[0m\n\u001b[1;32m     10\u001b[0m \u001b[0;31m# Initialize and fit the k-d tree\u001b[0m\u001b[0;34m\u001b[0m\u001b[0;34m\u001b[0m\u001b[0m\n\u001b[0;32m---> 11\u001b[0;31m \u001b[0mkdtree\u001b[0m \u001b[0;34m=\u001b[0m \u001b[0mbuild_kdtree\u001b[0m\u001b[0;34m(\u001b[0m\u001b[0mX\u001b[0m\u001b[0;34m)\u001b[0m\u001b[0;34m\u001b[0m\u001b[0;34m\u001b[0m\u001b[0m\n\u001b[0m\u001b[1;32m     12\u001b[0m \u001b[0;34m\u001b[0m\u001b[0m\n\u001b[1;32m     13\u001b[0m \u001b[0;31m# Plot k-d tree\u001b[0m\u001b[0;34m\u001b[0m\u001b[0;34m\u001b[0m\u001b[0m\n",
            "\u001b[0;31mNameError\u001b[0m: name 'build_kdtree' is not defined"
          ]
        }
      ]
    },
    {
      "cell_type": "code",
      "source": [],
      "metadata": {
        "id": "eeehZUgZkdKR"
      },
      "execution_count": null,
      "outputs": []
    }
  ]
}