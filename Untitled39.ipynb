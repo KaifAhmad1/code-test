{
  "nbformat": 4,
  "nbformat_minor": 0,
  "metadata": {
    "colab": {
      "provenance": [],
      "gpuType": "T4",
      "authorship_tag": "ABX9TyOZVOYZXeAEsKAhlXaFHyUb",
      "include_colab_link": true
    },
    "kernelspec": {
      "name": "python3",
      "display_name": "Python 3"
    },
    "language_info": {
      "name": "python"
    },
    "accelerator": "GPU"
  },
  "cells": [
    {
      "cell_type": "markdown",
      "metadata": {
        "id": "view-in-github",
        "colab_type": "text"
      },
      "source": [
        "<a href=\"https://colab.research.google.com/github/KaifAhmad1/code-test/blob/main/Untitled39.ipynb\" target=\"_parent\"><img src=\"https://colab.research.google.com/assets/colab-badge.svg\" alt=\"Open In Colab\"/></a>"
      ]
    },
    {
      "cell_type": "code",
      "execution_count": 4,
      "metadata": {
        "colab": {
          "base_uri": "https://localhost:8080/",
          "height": 280
        },
        "id": "u5Ogq-6HkHI4",
        "outputId": "3b99ee99-d41c-4d95-e910-84ca1916c7c6"
      },
      "outputs": [
        {
          "output_type": "stream",
          "name": "stdout",
          "text": [
            "Nearest neighbor indices (k-d tree): [[0]]\n",
            "Distances to nearest neighbors (k-d tree): [[1.58113883]]\n",
            "Nearest neighbor indices (ball tree): [[0]]\n",
            "Distances to nearest neighbors (ball tree): [[1.58113883]]\n"
          ]
        },
        {
          "output_type": "error",
          "ename": "TypeError",
          "evalue": "scatter() got an unexpected keyword argument 'mode'",
          "traceback": [
            "\u001b[0;31m---------------------------------------------------------------------------\u001b[0m",
            "\u001b[0;31mTypeError\u001b[0m                                 Traceback (most recent call last)",
            "\u001b[0;32m<ipython-input-4-fef7d644d4c0>\u001b[0m in \u001b[0;36m<cell line: 25>\u001b[0;34m()\u001b[0m\n\u001b[1;32m     23\u001b[0m \u001b[0;31m# Plot k-d tree\u001b[0m\u001b[0;34m\u001b[0m\u001b[0;34m\u001b[0m\u001b[0m\n\u001b[1;32m     24\u001b[0m \u001b[0mfig\u001b[0m \u001b[0;34m=\u001b[0m \u001b[0mpx\u001b[0m\u001b[0;34m.\u001b[0m\u001b[0mscatter\u001b[0m\u001b[0;34m(\u001b[0m\u001b[0mx\u001b[0m\u001b[0;34m=\u001b[0m\u001b[0mX\u001b[0m\u001b[0;34m[\u001b[0m\u001b[0;34m:\u001b[0m\u001b[0;34m,\u001b[0m \u001b[0;36m0\u001b[0m\u001b[0;34m]\u001b[0m\u001b[0;34m,\u001b[0m \u001b[0my\u001b[0m\u001b[0;34m=\u001b[0m\u001b[0mX\u001b[0m\u001b[0;34m[\u001b[0m\u001b[0;34m:\u001b[0m\u001b[0;34m,\u001b[0m \u001b[0;36m1\u001b[0m\u001b[0;34m]\u001b[0m\u001b[0;34m,\u001b[0m \u001b[0mlabels\u001b[0m\u001b[0;34m=\u001b[0m\u001b[0;34m{\u001b[0m\u001b[0;34m'x'\u001b[0m\u001b[0;34m:\u001b[0m \u001b[0;34m'X'\u001b[0m\u001b[0;34m,\u001b[0m \u001b[0;34m'y'\u001b[0m\u001b[0;34m:\u001b[0m \u001b[0;34m'Y'\u001b[0m\u001b[0;34m}\u001b[0m\u001b[0;34m,\u001b[0m \u001b[0mtitle\u001b[0m\u001b[0;34m=\u001b[0m\u001b[0;34m'k-d Tree Visualization'\u001b[0m\u001b[0;34m)\u001b[0m\u001b[0;34m\u001b[0m\u001b[0;34m\u001b[0m\u001b[0m\n\u001b[0;32m---> 25\u001b[0;31m fig.add_trace(px.scatter(x=[query_point[0][0]], y=[query_point[0][1]], color_discrete_sequence=['green'],\n\u001b[0m\u001b[1;32m     26\u001b[0m                          labels={'x': 'X', 'y': 'Y'}, mode='markers').data[0])\n\u001b[1;32m     27\u001b[0m \u001b[0mfig\u001b[0m\u001b[0;34m.\u001b[0m\u001b[0mupdate_traces\u001b[0m\u001b[0;34m(\u001b[0m\u001b[0mmarker\u001b[0m\u001b[0;34m=\u001b[0m\u001b[0mdict\u001b[0m\u001b[0;34m(\u001b[0m\u001b[0msize\u001b[0m\u001b[0;34m=\u001b[0m\u001b[0;36m12\u001b[0m\u001b[0;34m)\u001b[0m\u001b[0;34m,\u001b[0m \u001b[0mselector\u001b[0m\u001b[0;34m=\u001b[0m\u001b[0mdict\u001b[0m\u001b[0;34m(\u001b[0m\u001b[0mmode\u001b[0m\u001b[0;34m=\u001b[0m\u001b[0;34m'markers'\u001b[0m\u001b[0;34m)\u001b[0m\u001b[0;34m)\u001b[0m\u001b[0;34m\u001b[0m\u001b[0;34m\u001b[0m\u001b[0m\n",
            "\u001b[0;31mTypeError\u001b[0m: scatter() got an unexpected keyword argument 'mode'"
          ]
        }
      ],
      "source": [
        "import numpy as np\n",
        "import plotly.express as px\n",
        "from sklearn.neighbors import NearestNeighbors\n",
        "\n",
        "# Sample data\n",
        "X = np.array([[0, 1], [1, 0], [2, 3], [3, 2]])\n",
        "\n",
        "# Query point\n",
        "query_point = np.array([[1.5, 1.5]])\n",
        "\n",
        "# Fit k-d tree\n",
        "kdtree = NearestNeighbors(n_neighbors=1, algorithm='kd_tree').fit(X)\n",
        "distances_kdtree, indices_kdtree = kdtree.kneighbors(query_point)\n",
        "print(\"Nearest neighbor indices (k-d tree):\", indices_kdtree)\n",
        "print(\"Distances to nearest neighbors (k-d tree):\", distances_kdtree)\n",
        "\n",
        "# Fit ball tree\n",
        "balltree = NearestNeighbors(n_neighbors=1, algorithm='ball_tree').fit(X)\n",
        "distances_balltree, indices_balltree = balltree.kneighbors(query_point)\n",
        "print(\"Nearest neighbor indices (ball tree):\", indices_balltree)\n",
        "print(\"Distances to nearest neighbors (ball tree):\", distances_balltree)\n",
        "\n",
        "# Plot k-d tree\n",
        "fig = px.scatter(x=X[:, 0], y=X[:, 1], labels={'x': 'X', 'y': 'Y'}, title='k-d Tree Visualization')\n",
        "fig.add_trace(px.scatter(x=[query_point[0][0]], y=[query_point[0][1]], color_discrete_sequence=['green'],\n",
        "                         labels={'x': 'X', 'y': 'Y'}, mode='markers').data[0])\n",
        "fig.update_traces(marker=dict(size=12), selector=dict(mode='markers'))\n",
        "fig.update_layout(showlegend=False)\n",
        "\n",
        "fig.show()"
      ]
    },
    {
      "cell_type": "code",
      "source": [],
      "metadata": {
        "id": "eeehZUgZkdKR"
      },
      "execution_count": null,
      "outputs": []
    }
  ]
}