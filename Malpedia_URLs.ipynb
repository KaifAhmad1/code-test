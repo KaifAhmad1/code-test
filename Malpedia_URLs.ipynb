{
  "nbformat": 4,
  "nbformat_minor": 0,
  "metadata": {
    "colab": {
      "provenance": [],
      "authorship_tag": "ABX9TyMdVHjfgYldLPgx0M4/AfrB",
      "include_colab_link": true
    },
    "kernelspec": {
      "name": "python3",
      "display_name": "Python 3"
    },
    "language_info": {
      "name": "python"
    }
  },
  "cells": [
    {
      "cell_type": "markdown",
      "metadata": {
        "id": "view-in-github",
        "colab_type": "text"
      },
      "source": [
        "<a href=\"https://colab.research.google.com/github/KaifAhmad1/code-test/blob/main/Malpedia_URLs.ipynb\" target=\"_parent\"><img src=\"https://colab.research.google.com/assets/colab-badge.svg\" alt=\"Open In Colab\"/></a>"
      ]
    },
    {
      "cell_type": "code",
      "source": [
        "!pip install requests-html bs4 lxml_html_clean"
      ],
      "metadata": {
        "colab": {
          "base_uri": "https://localhost:8080/"
        },
        "id": "sKmPcb5pDQuD",
        "outputId": "f6907817-6bf0-4498-a834-c3584bd21425"
      },
      "execution_count": 5,
      "outputs": [
        {
          "output_type": "stream",
          "name": "stdout",
          "text": [
            "Requirement already satisfied: requests-html in /usr/local/lib/python3.11/dist-packages (0.10.0)\n",
            "Requirement already satisfied: bs4 in /usr/local/lib/python3.11/dist-packages (0.0.2)\n",
            "Collecting lxml_html_clean\n",
            "  Downloading lxml_html_clean-0.4.1-py3-none-any.whl.metadata (2.4 kB)\n",
            "Requirement already satisfied: requests in /usr/local/lib/python3.11/dist-packages (from requests-html) (2.32.3)\n",
            "Requirement already satisfied: pyquery in /usr/local/lib/python3.11/dist-packages (from requests-html) (2.0.1)\n",
            "Requirement already satisfied: fake-useragent in /usr/local/lib/python3.11/dist-packages (from requests-html) (2.0.3)\n",
            "Requirement already satisfied: parse in /usr/local/lib/python3.11/dist-packages (from requests-html) (1.20.2)\n",
            "Requirement already satisfied: w3lib in /usr/local/lib/python3.11/dist-packages (from requests-html) (2.3.1)\n",
            "Requirement already satisfied: pyppeteer>=0.0.14 in /usr/local/lib/python3.11/dist-packages (from requests-html) (2.0.0)\n",
            "Requirement already satisfied: beautifulsoup4 in /usr/local/lib/python3.11/dist-packages (from bs4) (4.13.3)\n",
            "Requirement already satisfied: lxml in /usr/local/lib/python3.11/dist-packages (from lxml_html_clean) (5.3.1)\n",
            "Requirement already satisfied: appdirs<2.0.0,>=1.4.3 in /usr/local/lib/python3.11/dist-packages (from pyppeteer>=0.0.14->requests-html) (1.4.4)\n",
            "Requirement already satisfied: certifi>=2023 in /usr/local/lib/python3.11/dist-packages (from pyppeteer>=0.0.14->requests-html) (2025.1.31)\n",
            "Requirement already satisfied: importlib-metadata>=1.4 in /usr/local/lib/python3.11/dist-packages (from pyppeteer>=0.0.14->requests-html) (8.6.1)\n",
            "Requirement already satisfied: pyee<12.0.0,>=11.0.0 in /usr/local/lib/python3.11/dist-packages (from pyppeteer>=0.0.14->requests-html) (11.1.1)\n",
            "Requirement already satisfied: tqdm<5.0.0,>=4.42.1 in /usr/local/lib/python3.11/dist-packages (from pyppeteer>=0.0.14->requests-html) (4.67.1)\n",
            "Requirement already satisfied: urllib3<2.0.0,>=1.25.8 in /usr/local/lib/python3.11/dist-packages (from pyppeteer>=0.0.14->requests-html) (1.26.20)\n",
            "Requirement already satisfied: websockets<11.0,>=10.0 in /usr/local/lib/python3.11/dist-packages (from pyppeteer>=0.0.14->requests-html) (10.4)\n",
            "Requirement already satisfied: soupsieve>1.2 in /usr/local/lib/python3.11/dist-packages (from beautifulsoup4->bs4) (2.6)\n",
            "Requirement already satisfied: typing-extensions>=4.0.0 in /usr/local/lib/python3.11/dist-packages (from beautifulsoup4->bs4) (4.12.2)\n",
            "Requirement already satisfied: cssselect>=1.2.0 in /usr/local/lib/python3.11/dist-packages (from pyquery->requests-html) (1.2.0)\n",
            "Requirement already satisfied: charset-normalizer<4,>=2 in /usr/local/lib/python3.11/dist-packages (from requests->requests-html) (3.4.1)\n",
            "Requirement already satisfied: idna<4,>=2.5 in /usr/local/lib/python3.11/dist-packages (from requests->requests-html) (3.10)\n",
            "Requirement already satisfied: zipp>=3.20 in /usr/local/lib/python3.11/dist-packages (from importlib-metadata>=1.4->pyppeteer>=0.0.14->requests-html) (3.21.0)\n",
            "Downloading lxml_html_clean-0.4.1-py3-none-any.whl (14 kB)\n",
            "Installing collected packages: lxml_html_clean\n",
            "Successfully installed lxml_html_clean-0.4.1\n"
          ]
        }
      ]
    },
    {
      "cell_type": "code",
      "execution_count": 11,
      "metadata": {
        "id": "3ojre915_z6b"
      },
      "outputs": [],
      "source": [
        "import asyncio\n",
        "from requests_html import AsyncHTMLSession\n",
        "from bs4 import BeautifulSoup\n",
        "from urllib.parse import urljoin\n",
        "\n",
        "# URL for the Malpedia Library page\n",
        "base_url = \"https://malpedia.caad.fkie.fraunhofer.de/library\""
      ]
    },
    {
      "cell_type": "code",
      "source": [
        "# Create an asynchronous HTML session\n",
        "asession = AsyncHTMLSession()\n",
        "\n",
        "# Define an async function to fetch and render the page\n",
        "async def fetch_page():\n",
        "    response = await asession.get(base_url)\n",
        "    await response.html.arender(sleep=2, timeout=20)\n",
        "    return response.html.html\n",
        "\n",
        "# Run the async function and get the rendered HTML\n",
        "html_content = asyncio.run(fetch_page())\n",
        "\n",
        "# Parse the rendered HTML with BeautifulSoup\n",
        "soup = BeautifulSoup(html_content, \"html.parser\")"
      ],
      "metadata": {
        "colab": {
          "base_uri": "https://localhost:8080/"
        },
        "id": "oV9aClTvC1Wr",
        "outputId": "2acae93e-afb3-4cfb-9638-abf9e1bec67d"
      },
      "execution_count": 12,
      "outputs": [
        {
          "output_type": "stream",
          "name": "stderr",
          "text": [
            "[INFO] Starting Chromium download.\n",
            "INFO:pyppeteer.chromium_downloader:Starting Chromium download.\n",
            "100%|██████████| 183M/183M [00:00<00:00, 195Mb/s]\n",
            "[INFO] Beginning extraction\n",
            "INFO:pyppeteer.chromium_downloader:Beginning extraction\n",
            "[INFO] Chromium extracted to: /root/.local/share/pyppeteer/local-chromium/1181205\n",
            "INFO:pyppeteer.chromium_downloader:Chromium extracted to: /root/.local/share/pyppeteer/local-chromium/1181205\n"
          ]
        }
      ]
    },
    {
      "cell_type": "code",
      "source": [
        "# Extract and print all links (converting relative URLs to absolute)\n",
        "for a in soup.find_all(\"a\", href=True):\n",
        "    href = a.get(\"href\")\n",
        "    text = a.get_text(strip=True)\n",
        "    full_url = urljoin(base_url, href)\n",
        "    print(f\"Text: {text} | URL: {full_url}\")"
      ],
      "metadata": {
        "colab": {
          "base_uri": "https://localhost:8080/"
        },
        "id": "n7dLCBldIFNU",
        "outputId": "c51d319b-57d5-420e-aca8-1b35915b29d8"
      },
      "execution_count": 13,
      "outputs": [
        {
          "output_type": "stream",
          "name": "stdout",
          "text": [
            "Text:  | URL: https://malpedia.caad.fkie.fraunhofer.de/\n",
            "Text:  | URL: https://malpedia.caad.fkie.fraunhofer.de/\n",
            "Text: Inventory | URL: https://malpedia.caad.fkie.fraunhofer.de/library\n",
            "Text: Statistics | URL: https://malpedia.caad.fkie.fraunhofer.de/stats/general\n",
            "Text: Usage | URL: https://malpedia.caad.fkie.fraunhofer.de/usage/tos\n",
            "Text: ApiVector | URL: https://malpedia.caad.fkie.fraunhofer.de/apiqr/\n",
            "Text: Login | URL: https://malpedia.caad.fkie.fraunhofer.de/login\n",
            "Text:  | URL: https://www.fkie.fraunhofer.de/\n",
            "Text: Library | URL: https://malpedia.caad.fkie.fraunhofer.de/library\n",
            "Text: Families | URL: https://malpedia.caad.fkie.fraunhofer.de/families\n",
            "Text: Actors | URL: https://malpedia.caad.fkie.fraunhofer.de/actors\n",
            "Text: Click here to download all references as Bib-File. | URL: https://malpedia.caad.fkie.fraunhofer.de/library/download\n",
            "Text:  | URL: https://malpedia.caad.fkie.fraunhofer.de/feeds/rss/latest\n",
            "Text: «First | URL: https://malpedia.caad.fkie.fraunhofer.de/library\n",
            "Text: 1 | URL: https://malpedia.caad.fkie.fraunhofer.de/library/1/\n",
            "Text: 2 | URL: https://malpedia.caad.fkie.fraunhofer.de/library/2/\n",
            "Text: 3 | URL: https://malpedia.caad.fkie.fraunhofer.de/library/3/\n",
            "Text: »Last | URL: https://malpedia.caad.fkie.fraunhofer.de/library/825/\n",
            "Text: Propose new Entry | URL: https://malpedia.caad.fkie.fraunhofer.de/library\n",
            "Text: Twitter (@salmanvsf) | URL: https://malpedia.caad.fkie.fraunhofer.de/library?search=Twitter%20%28%40salmanvsf%29\n",
            "Text: Salman Shaikh | URL: https://malpedia.caad.fkie.fraunhofer.de/library?search=Salman%20Shaikh\n",
            "Text: Trend Micro | URL: https://malpedia.caad.fkie.fraunhofer.de/library?search=Trend%20Micro\n",
            "Text: Daniel Lunghi | URL: https://malpedia.caad.fkie.fraunhofer.de/library?search=Daniel%20Lunghi\n",
            "Text:  | URL: http://web.archive.org/web/20250220091352/https://www.trendmicro.com/fr_fr/research/25/b/updated-shadowpad-malware-leads-to-ransomware-deployment.html\n",
            "Text: EvilExtractor | URL: https://malpedia.caad.fkie.fraunhofer.de/details/win.evilextractor\n",
            "Text: NailaoLocker | URL: https://malpedia.caad.fkie.fraunhofer.de/details/win.nailao_locker\n",
            "Text: PlugX | URL: https://malpedia.caad.fkie.fraunhofer.de/details/win.plugx\n",
            "Text: ShadowPad | URL: https://malpedia.caad.fkie.fraunhofer.de/details/win.shadowpad\n",
            "Text: Orange Cyberdefense | URL: https://malpedia.caad.fkie.fraunhofer.de/library?search=Orange%20Cyberdefense\n",
            "Text: Alexis Bonnefoi | URL: https://malpedia.caad.fkie.fraunhofer.de/library?search=Alexis%20Bonnefoi\n",
            "Text: Marine PICHON | URL: https://malpedia.caad.fkie.fraunhofer.de/library?search=Marine%20PICHON\n",
            "Text:  | URL: http://web.archive.org/web/20250220125450/https://www.orangecyberdefense.com/global/blog/cert-news/meet-nailaolocker-a-ransomware-distributed-in-europe-by-shadowpad-and-plugx-backdoors\n",
            "Text: NailaoLocker | URL: https://malpedia.caad.fkie.fraunhofer.de/details/win.nailao_locker\n",
            "Text: PlugX | URL: https://malpedia.caad.fkie.fraunhofer.de/details/win.plugx\n",
            "Text: ShadowPad | URL: https://malpedia.caad.fkie.fraunhofer.de/details/win.shadowpad\n",
            "Text: Cyber Security News | URL: https://malpedia.caad.fkie.fraunhofer.de/library?search=Cyber%20Security%20News\n",
            "Text: Balaji N | URL: https://malpedia.caad.fkie.fraunhofer.de/library?search=Balaji%20N\n",
            "Text: RokRAT | URL: https://malpedia.caad.fkie.fraunhofer.de/details/win.rokrat\n",
            "Text: ESET Research | URL: https://malpedia.caad.fkie.fraunhofer.de/library?search=ESET%20Research\n",
            "Text: ESET Research | URL: https://malpedia.caad.fkie.fraunhofer.de/library?search=ESET%20Research\n",
            "Text:  | URL: http://web.archive.org/web/20250220191950/https://www.welivesecurity.com/en/eset-research/deceptivedevelopment-targets-freelance-developers/\n",
            "Text: BeaverTail | URL: https://malpedia.caad.fkie.fraunhofer.de/details/js.beavertail\n",
            "Text: InvisibleFerret | URL: https://malpedia.caad.fkie.fraunhofer.de/details/py.invisibleferret\n",
            "Text: Silent Push | URL: https://malpedia.caad.fkie.fraunhofer.de/library?search=Silent%20Push\n",
            "Text: Silent Push | URL: https://malpedia.caad.fkie.fraunhofer.de/library?search=Silent%20Push\n",
            "Text: ValleyRAT | URL: https://malpedia.caad.fkie.fraunhofer.de/details/win.valley_rat\n",
            "Text: Infrawatch | URL: https://malpedia.caad.fkie.fraunhofer.de/library?search=Infrawatch\n",
            "Text: Infrawatch Research Team | URL: https://malpedia.caad.fkie.fraunhofer.de/library?search=Infrawatch%20Research%20Team\n",
            "Text:  | URL: https://web.archive.org/20250220020402/https://infrawatch.app/blog/ghostsocks-lummas-partner-in-proxy\n",
            "Text: GhostSocks | URL: https://malpedia.caad.fkie.fraunhofer.de/details/win.ghostsocks\n",
            "Text: Lumma Stealer | URL: https://malpedia.caad.fkie.fraunhofer.de/details/win.lumma\n",
            "Text: CISA | URL: https://malpedia.caad.fkie.fraunhofer.de/library?search=CISA\n",
            "Text: CISA | URL: https://malpedia.caad.fkie.fraunhofer.de/library?search=CISA\n",
            "Text:  | URL: https://web.archive.org/20250220031106/https://www.cisa.gov/news-events/cybersecurity-advisories/aa25-050a\n",
            "Text: Cring | URL: https://malpedia.caad.fkie.fraunhofer.de/details/win.cring\n",
            "Text: Natto Thoughts | URL: https://malpedia.caad.fkie.fraunhofer.de/library?search=Natto%20Thoughts\n",
            "Text: Eugenio Benincasa | URL: https://malpedia.caad.fkie.fraunhofer.de/library?search=Eugenio%20Benincasa\n",
            "Text:  | URL: http://web.archive.org/web/20250219212219/https://nattothoughts.substack.com/p/the-pangu-teamios-jailbreak-and-vulnerability\n",
            "Text: 0x0d4y | URL: https://malpedia.caad.fkie.fraunhofer.de/library?search=0x0d4y\n",
            "Text: 0x0d4y | URL: https://malpedia.caad.fkie.fraunhofer.de/library?search=0x0d4y\n",
            "Text:  | URL: http://web.archive.org/web/20250219145729/https://0x0d4y.blog/lockbit4-0-evasion-tales/\n",
            "Text: LockBit | URL: https://malpedia.caad.fkie.fraunhofer.de/details/win.lockbit\n",
            "Text: PRODAFT | URL: https://malpedia.caad.fkie.fraunhofer.de/library?search=PRODAFT\n",
            "Text: PRODAFT | URL: https://malpedia.caad.fkie.fraunhofer.de/library?search=PRODAFT\n",
            "Text: RansomHub | URL: https://malpedia.caad.fkie.fraunhofer.de/details/win.ransomhub\n",
            "Text: Orange Cyberdefense | URL: https://malpedia.caad.fkie.fraunhofer.de/library?search=Orange%20Cyberdefense\n",
            "Text: Alexis Bonnefoi | URL: https://malpedia.caad.fkie.fraunhofer.de/library?search=Alexis%20Bonnefoi\n",
            "Text: Marine PICHON | URL: https://malpedia.caad.fkie.fraunhofer.de/library?search=Marine%20PICHON\n",
            "Text:  | URL: https://web.archive.org/20250220091556/https://github.com/cert-orangecyberdefense/cti/tree/main/green_nailao\n",
            "Text: NailaoLocker | URL: https://malpedia.caad.fkie.fraunhofer.de/details/win.nailao_locker\n",
            "Text: PlugX | URL: https://malpedia.caad.fkie.fraunhofer.de/details/win.plugx\n",
            "Text: ShadowPad | URL: https://malpedia.caad.fkie.fraunhofer.de/details/win.shadowpad\n",
            "Text: inversecos | URL: https://malpedia.caad.fkie.fraunhofer.de/library?search=inversecos\n",
            "Text: Lina Lau | URL: https://malpedia.caad.fkie.fraunhofer.de/library?search=Lina%20Lau\n",
            "Text: SECONDDATE | URL: https://malpedia.caad.fkie.fraunhofer.de/details/elf.seconddate\n",
            "Text: Proofpoint | URL: https://malpedia.caad.fkie.fraunhofer.de/library?search=Proofpoint\n",
            "Text: Proofpoint Threat Research Team | URL: https://malpedia.caad.fkie.fraunhofer.de/library?search=Proofpoint%20Threat%20Research%20Team\n",
            "Text:  | URL: http://web.archive.org/web/20250218121124/https://www.proofpoint.com/us/blog/threat-insight/update-fake-updates-two-new-actors-and-new-mac-malware\n",
            "Text: Marcher | URL: https://malpedia.caad.fkie.fraunhofer.de/details/apk.marcher\n",
            "Text: FAKEUPDATES | URL: https://malpedia.caad.fkie.fraunhofer.de/details/js.fakeupdates\n",
            "Text: FrigidStealer | URL: https://malpedia.caad.fkie.fraunhofer.de/details/osx.frigid_stealer\n",
            "Text: Lumma Stealer | URL: https://malpedia.caad.fkie.fraunhofer.de/details/win.lumma\n",
            "Text: Medium TRAC Labs | URL: https://malpedia.caad.fkie.fraunhofer.de/library?search=Medium%20TRAC%20Labs\n",
            "Text: TRAC Labs | URL: https://malpedia.caad.fkie.fraunhofer.de/library?search=TRAC%20Labs\n",
            "Text: FAKEUPDATES | URL: https://malpedia.caad.fkie.fraunhofer.de/details/js.fakeupdates\n",
            "Text: c-b.io | URL: https://malpedia.caad.fkie.fraunhofer.de/library?search=c-b.io\n",
            "Text: cyb3rjerry | URL: https://malpedia.caad.fkie.fraunhofer.de/library?search=cyb3rjerry\n",
            "Text: BlankGrabber | URL: https://malpedia.caad.fkie.fraunhofer.de/details/py.blankgrabber\n",
            "Text: Twitter (@DTCERT) | URL: https://malpedia.caad.fkie.fraunhofer.de/library?search=Twitter%20%28%40DTCERT%29\n",
            "Text: Deutsche Telekom CERT | URL: https://malpedia.caad.fkie.fraunhofer.de/library?search=Deutsche%20Telekom%20CERT\n",
            "Text: Unidentified 120 | URL: https://malpedia.caad.fkie.fraunhofer.de/details/win.unidentified_120\n",
            "Text: Intel 471 | URL: https://malpedia.caad.fkie.fraunhofer.de/library?search=Intel%20471\n",
            "Text: Intel 471 | URL: https://malpedia.caad.fkie.fraunhofer.de/library?search=Intel%20471\n",
            "Text: FAKEUPDATES | URL: https://malpedia.caad.fkie.fraunhofer.de/details/js.fakeupdates\n",
            "Text: Symantec | URL: https://malpedia.caad.fkie.fraunhofer.de/library?search=Symantec\n",
            "Text: Threat Hunter Team | URL: https://malpedia.caad.fkie.fraunhofer.de/library?search=Threat%20Hunter%20Team\n",
            "Text:  | URL: https://web.archive.org/20250215121110/https://www.security.com/threat-intelligence/chinese-espionage-ransomware\n",
            "Text: PlugX | URL: https://malpedia.caad.fkie.fraunhofer.de/details/win.plugx\n",
            "Text: Elastic | URL: https://malpedia.caad.fkie.fraunhofer.de/library?search=Elastic\n",
            "Text: Cyril François | URL: https://malpedia.caad.fkie.fraunhofer.de/library?search=Cyril%20Fran%C3%A7ois\n",
            "Text: Daniel Stepanic | URL: https://malpedia.caad.fkie.fraunhofer.de/library?search=Daniel%20Stepanic\n",
            "Text: Jia Yu Chan | URL: https://malpedia.caad.fkie.fraunhofer.de/library?search=Jia%20Yu%20Chan\n",
            "Text: Salim Bitam | URL: https://malpedia.caad.fkie.fraunhofer.de/library?search=Salim%20Bitam\n",
            "Text:  | URL: http://web.archive.org/web/20250212233844/https://www.elastic.co/security-labs/finaldraft\n",
            "Text: FINALDRAFT | URL: https://malpedia.caad.fkie.fraunhofer.de/details/elf.finaldraft\n",
            "Text: FINALDRAFT | URL: https://malpedia.caad.fkie.fraunhofer.de/details/win.finaldraft\n",
            "Text: PATHLOADER | URL: https://malpedia.caad.fkie.fraunhofer.de/details/win.pathloader\n",
            "Text: «First | URL: https://malpedia.caad.fkie.fraunhofer.de/library\n",
            "Text: 1 | URL: https://malpedia.caad.fkie.fraunhofer.de/library/1/\n",
            "Text: 2 | URL: https://malpedia.caad.fkie.fraunhofer.de/library/2/\n",
            "Text: 3 | URL: https://malpedia.caad.fkie.fraunhofer.de/library/3/\n",
            "Text: »Last | URL: https://malpedia.caad.fkie.fraunhofer.de/library/825/\n",
            "Text: start page | URL: https://malpedia.caad.fkie.fraunhofer.de/\n",
            "Text: Impressum | URL: https://malpedia.caad.fkie.fraunhofer.de/impressum\n",
            "Text: Datenschutzerklärung | URL: https://malpedia.caad.fkie.fraunhofer.de/datenschutzerklaerung\n",
            "Text:  | URL: https://malpedia.caad.fkie.fraunhofer.de/feeds/rss/latest\n"
          ]
        }
      ]
    },
    {
      "cell_type": "code",
      "source": [],
      "metadata": {
        "id": "6HOAkenZMH41"
      },
      "execution_count": null,
      "outputs": []
    }
  ]
}