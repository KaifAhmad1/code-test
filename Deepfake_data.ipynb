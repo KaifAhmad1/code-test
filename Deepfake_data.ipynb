{
  "nbformat": 4,
  "nbformat_minor": 0,
  "metadata": {
    "colab": {
      "provenance": [],
      "authorship_tag": "ABX9TyNf9hGMFMQbwbcDHsMp+dZz",
      "include_colab_link": true
    },
    "kernelspec": {
      "name": "python3",
      "display_name": "Python 3"
    },
    "language_info": {
      "name": "python"
    }
  },
  "cells": [
    {
      "cell_type": "markdown",
      "metadata": {
        "id": "view-in-github",
        "colab_type": "text"
      },
      "source": [
        "<a href=\"https://colab.research.google.com/github/KaifAhmad1/code-test/blob/main/Deepfake_data.ipynb\" target=\"_parent\"><img src=\"https://colab.research.google.com/assets/colab-badge.svg\" alt=\"Open In Colab\"/></a>"
      ]
    },
    {
      "cell_type": "markdown",
      "source": [
        "#### **Deepfake and Manipulated Media Analysis Data Download**"
      ],
      "metadata": {
        "id": "V5er949VRqvP"
      }
    },
    {
      "cell_type": "code",
      "execution_count": 17,
      "metadata": {
        "id": "3adQdF8KJWyE"
      },
      "outputs": [],
      "source": [
        "!pip install -qU kaggle pandas requests tqdm"
      ]
    },
    {
      "cell_type": "code",
      "source": [
        "import os\n",
        "import requests\n",
        "from pathlib import Path\n",
        "from tqdm import tqdm\n",
        "import time"
      ],
      "metadata": {
        "id": "E5SKXUPiJobX"
      },
      "execution_count": 18,
      "outputs": []
    },
    {
      "cell_type": "code",
      "source": [
        "def download_file(url, dest_path):\n",
        "    headers = {\n",
        "        \"User-Agent\": \"Mozilla/5.0 (Windows NT 10.0; Win64; x64) AppleWebKit/537.36 (KHTML, like Gecko) Chrome/58.0.3029.110 Safari/537.3\"\n",
        "    }\n",
        "    try:\n",
        "        response = requests.get(url, stream=True, headers=headers)\n",
        "        response.raise_for_status()\n",
        "\n",
        "        if \"thispersondoesnotexist\" in url:\n",
        "            filename = f\"generated_face_{int(time.time())}.jpg\"\n",
        "            dest_path = dest_path.parent / filename\n",
        "\n",
        "        total_size = int(response.headers.get('content-length', 0))\n",
        "\n",
        "        dest_path.parent.mkdir(parents=True, exist_ok=True)\n",
        "\n",
        "        with open(dest_path, 'wb') as f, tqdm(\n",
        "            desc=f\"Downloading {dest_path.name}\",\n",
        "            total=total_size,\n",
        "            unit='iB',\n",
        "            unit_scale=True,\n",
        "        ) as pbar:\n",
        "            for chunk in response.iter_content(chunk_size=8192):\n",
        "                if chunk:\n",
        "                    f.write(chunk)\n",
        "                    pbar.update(len(chunk))\n",
        "        return True\n",
        "    except Exception as e:\n",
        "        print(f\"Error downloading {url}: {str(e)}\")\n",
        "        return False\n",
        "\n",
        "def download_multimodal_subset():\n",
        "    base_dir = Path(\"./multimodal_deepfake_data\")\n",
        "\n",
        "    datasets = {\n",
        "        \"images\": {\n",
        "            \"real\": [\n",
        "                # Verified Wikimedia portrait images\n",
        "                \"https://upload.wikimedia.org/wikipedia/commons/3/3a/Marcus_Aurelius_Louvre.jpg\",\n",
        "                \"https://upload.wikimedia.org/wikipedia/commons/4/49/Elon_Musk_2015.jpg\",\n",
        "                \"https://upload.wikimedia.org/wikipedia/commons/a/a8/Bill_Gates_2018.jpg\",\n",
        "                \"https://upload.wikimedia.org/wikipedia/commons/6/6d/Greta_Thunberg_2019.jpg\",\n",
        "                \"https://upload.wikimedia.org/wikipedia/commons/d/d9/Margaret_Hamilton_1995.jpg\",\n",
        "                \"https://upload.wikimedia.org/wikipedia/commons/7/79/Taylor_Swift_2007.jpg\",\n",
        "                \"https://upload.wikimedia.org/wikipedia/commons/8/8d/Barack_Obama_2012.jpg\",\n",
        "                \"https://upload.wikimedia.org/wikipedia/commons/e/eb/Malala_Yousafzai_2015.jpg\",\n",
        "                \"https://upload.wikimedia.org/wikipedia/commons/6/69/Emma_Watson_2013.jpg\",\n",
        "                \"https://upload.wikimedia.org/wikipedia/commons/5/5d/Angela_Merkel_2014.jpg\"\n",
        "            ],\n",
        "            \"fake\": [\"https://thispersondoesnotexist.com\" for _ in range(10)]\n",
        "        },\n",
        "        \"videos\": {\n",
        "            \"real\": [\n",
        "                # Short videos from Wikimedia Commons\n",
        "                \"https://upload.wikimedia.org/wikipedia/commons/transcoded/4/47/George_W_Bush_Announces_Start_of_Iraq_War.ogv/George_W_Bush_Announces_Start_of_Iraq_War.ogv.240p.vp9.webm\",\n",
        "                \"https://upload.wikimedia.org/wikipedia/commons/transcoded/2/2f/BBC_News_Countdown.ogv/BBC_News_Countdown.ogv.240p.vp9.webm\",\n",
        "                \"https://upload.wikimedia.org/wikipedia/commons/transcoded/7/73/Neutral_News.ogv/Neutral_News.ogv.240p.vp9.webm\",\n",
        "                \"https://upload.wikimedia.org/wikipedia/commons/transcoded/0/0f/Obama_speaks_on_NSA_reforms.ogv/Obama_speaks_on_NSA_reforms.ogv.240p.vp9.webm\",\n",
        "                \"https://upload.wikimedia.org/wikipedia/commons/transcoded/3/34/Scene_from_Shakespeares_The_Tempest.ogv/Scene_from_Shakespeares_The_Tempest.ogv.240p.vp9.webm\",\n",
        "                \"https://upload.wikimedia.org/wikipedia/commons/transcoded/6/61/Tech_News_CNN.ogv/Tech_News_CNN.ogv.240p.vp9.webm\",\n",
        "                \"https://upload.wikimedia.org/wikipedia/commons/transcoded/5/54/Truman.announcestheatomicbomb.ogv/Truman.announcestheatomicbomb.ogv.240p.vp9.webm\",\n",
        "                \"https://upload.wikimedia.org/wikipedia/commons/transcoded/a/a4/WikiNews-20070503.ogv/WikiNews-20070503.ogv.240p.vp9.webm\",\n",
        "                \"https://upload.wikimedia.org/wikipedia/commons/transcoded/8/8b/En-uk_hello.ogg/En-uk_hello.ogg.240p.vp9.webm\",\n",
        "                \"https://upload.wikimedia.org/wikipedia/commons/transcoded/f/f9/Glow2.ogv/Glow2.ogv.240p.vp9.webm\"\n",
        "            ],\n",
        "            \"fake\": [\n",
        "                # Deepfake samples from FaceForensics++\n",
        "                \"https://github.com/ondyari/FaceForensics/raw/master/dataset/samples/manipulated_sequences/Deepfakes/c23/videos/000_003.mp4\",\n",
        "                \"https://github.com/ondyari/FaceForensics/raw/master/dataset/samples/manipulated_sequences/Deepfakes/c23/videos/001_003.mp4\",\n",
        "                \"https://github.com/ondyari/FaceForensics/raw/master/dataset/samples/manipulated_sequences/Deepfakes/c23/videos/002_003.mp4\",\n",
        "                \"https://github.com/ondyari/FaceForensics/raw/master/dataset/samples/manipulated_sequences/Deepfakes/c23/videos/003_003.mp4\",\n",
        "                \"https://github.com/ondyari/FaceForensics/raw/master/dataset/samples/manipulated_sequences/Deepfakes/c23/videos/004_003.mp4\",\n",
        "                \"https://github.com/ondyari/FaceForensics/raw/master/dataset/samples/manipulated_sequences/Deepfakes/c23/videos/005_003.mp4\",\n",
        "                \"https://github.com/ondyari/FaceForensics/raw/master/dataset/samples/manipulated_sequences/Deepfakes/c23/videos/006_003.mp4\",\n",
        "                \"https://github.com/ondyari/FaceForensics/raw/master/dataset/samples/manipulated_sequences/Deepfakes/c23/videos/007_003.mp4\",\n",
        "                \"https://github.com/ondyari/FaceForensics/raw/master/dataset/samples/manipulated_sequences/Deepfakes/c23/videos/008_003.mp4\",\n",
        "                \"https://github.com/ondyari/FaceForensics/raw/master/dataset/samples/manipulated_sequences/Deepfakes/c23/videos/009_003.mp4\"\n",
        "            ]\n",
        "        },\n",
        "        \"audio\": {\n",
        "            \"real\": [\n",
        "                # Audio samples from Freesound (CC licensed)\n",
        "                \"https://freesound.org/data/previews/511/511919_919548-lq.mp3\",\n",
        "                \"https://freesound.org/data/previews/511/511912_919548-lq.mp3\",\n",
        "                \"https://freesound.org/data/previews/511/511908_919548-lq.mp3\",\n",
        "                \"https://freesound.org/data/previews/511/511907_919548-lq.mp3\",\n",
        "                \"https://freesound.org/data/previews/511/511906_919548-lq.mp3\",\n",
        "                \"https://freesound.org/data/previews/511/511905_919548-lq.mp3\",\n",
        "                \"https://freesound.org/data/previews/511/511903_919548-lq.mp3\",\n",
        "                \"https://freesound.org/data/previews/511/511902_919548-lq.mp3\",\n",
        "                \"https://freesound.org/data/previews/511/511901_919548-lq.mp3\",\n",
        "                \"https://freesound.org/data/previews/511/511900_919548-lq.mp3\"\n",
        "            ],\n",
        "            \"fake\": [\n",
        "                # Synthetic audio from ESPNet\n",
        "                \"https://github.com/espnet/espnet/raw/master/egs2/ljspeech/tts1/audio.wav\",\n",
        "                \"https://github.com/espnet/espnet/raw/master/egs2/vctk/tts1/audio.wav\",\n",
        "                \"https://github.com/espnet/espnet/raw/master/egs2/libritts/tts1/audio.wav\",\n",
        "                \"https://github.com/espnet/espnet/raw/master/egs2/jsut/tts1/audio.wav\",\n",
        "                \"https://github.com/espnet/espnet/raw/master/egs2/aishell3/tts1/audio.wav\",\n",
        "                \"https://github.com/espnet/espnet/raw/master/egs2/csmsc/tts1/audio.wav\",\n",
        "                \"https://github.com/espnet/espnet/raw/master/egs2/jvs/tts1/audio.wav\",\n",
        "                \"https://github.com/espnet/espnet/raw/master/egs2/naturalspeech/audio.wav\",\n",
        "                \"https://github.com/espnet/espnet/raw/master/egs2/arctic/tts1/audio.wav\",\n",
        "                \"https://github.com/espnet/espnet/raw/master/egs2/biaobei/tts1/audio.wav\"\n",
        "            ]\n",
        "        }\n",
        "    }\n",
        "\n",
        "    results = {\"images\": 0, \"videos\": 0, \"audio\": 0}\n",
        "\n",
        "    for modality, categories in datasets.items():\n",
        "        print(f\"\\n{'='*40}\\nDownloading {modality.upper()} samples\\n{'='*40}\")\n",
        "        for category, urls in categories.items():\n",
        "            print(f\"\\n{category.capitalize()} samples:\")\n",
        "            modality_dir = base_dir / modality / category\n",
        "\n",
        "            for url in urls:\n",
        "                filename = url.split(\"/\")[-1].split(\"?\")[0]\n",
        "                dest_path = modality_dir / filename\n",
        "                if not dest_path.exists():\n",
        "                    if download_file(url, dest_path):\n",
        "                        results[modality] += 1\n",
        "                else:\n",
        "                    print(f\"Skipping existing file: {dest_path.name}\")\n",
        "                    results[modality] += 1\n",
        "\n",
        "    print(\"\\nFinal Report:\")\n",
        "    print(f\"Images downloaded: {results['images']}\")\n",
        "    print(f\"Videos downloaded: {results['videos']}\")\n",
        "    print(f\"Audio downloaded: {results['audio']}\")\n",
        "    print(f\"Total dataset size: {sum(results.values())} files\")\n",
        "    print(f\"Data location: {base_dir.absolute()}\")"
      ],
      "metadata": {
        "id": "pxb5lV48LQyB"
      },
      "execution_count": 19,
      "outputs": []
    },
    {
      "cell_type": "code",
      "source": [
        "if __name__ == \"__main__\":\n",
        "    download_multimodal_subset()"
      ],
      "metadata": {
        "id": "v8dnHHHBYRQo",
        "outputId": "32628808-05ce-42bc-8f3c-51ea2d05cde6",
        "colab": {
          "base_uri": "https://localhost:8080/"
        }
      },
      "execution_count": 20,
      "outputs": [
        {
          "output_type": "stream",
          "name": "stdout",
          "text": [
            "\n",
            "========================================\n",
            "Downloading IMAGES samples\n",
            "========================================\n",
            "\n",
            "Real samples:\n",
            "Error downloading https://upload.wikimedia.org/wikipedia/commons/3/3a/Marcus_Aurelius_Louvre.jpg: 404 Client Error: Not Found for url: https://upload.wikimedia.org/wikipedia/commons/3/3a/Marcus_Aurelius_Louvre.jpg\n"
          ]
        },
        {
          "output_type": "stream",
          "name": "stderr",
          "text": [
            "Downloading Elon_Musk_2015.jpg: 100%|██████████| 406k/406k [00:00<00:00, 2.17MiB/s]\n"
          ]
        },
        {
          "output_type": "stream",
          "name": "stdout",
          "text": [
            "Error downloading https://upload.wikimedia.org/wikipedia/commons/a/a8/Bill_Gates_2018.jpg: 404 Client Error: Not Found for url: https://upload.wikimedia.org/wikipedia/commons/a/a8/Bill_Gates_2018.jpg\n",
            "Error downloading https://upload.wikimedia.org/wikipedia/commons/6/6d/Greta_Thunberg_2019.jpg: 404 Client Error: Not Found for url: https://upload.wikimedia.org/wikipedia/commons/6/6d/Greta_Thunberg_2019.jpg\n",
            "Error downloading https://upload.wikimedia.org/wikipedia/commons/d/d9/Margaret_Hamilton_1995.jpg: 404 Client Error: Not Found for url: https://upload.wikimedia.org/wikipedia/commons/d/d9/Margaret_Hamilton_1995.jpg\n",
            "Error downloading https://upload.wikimedia.org/wikipedia/commons/7/79/Taylor_Swift_2007.jpg: 404 Client Error: Not Found for url: https://upload.wikimedia.org/wikipedia/commons/7/79/Taylor_Swift_2007.jpg\n",
            "Error downloading https://upload.wikimedia.org/wikipedia/commons/8/8d/Barack_Obama_2012.jpg: 404 Client Error: Not Found for url: https://upload.wikimedia.org/wikipedia/commons/8/8d/Barack_Obama_2012.jpg\n",
            "Error downloading https://upload.wikimedia.org/wikipedia/commons/e/eb/Malala_Yousafzai_2015.jpg: 404 Client Error: Not Found for url: https://upload.wikimedia.org/wikipedia/commons/e/eb/Malala_Yousafzai_2015.jpg\n",
            "Error downloading https://upload.wikimedia.org/wikipedia/commons/6/69/Emma_Watson_2013.jpg: 404 Client Error: Not Found for url: https://upload.wikimedia.org/wikipedia/commons/6/69/Emma_Watson_2013.jpg\n",
            "Error downloading https://upload.wikimedia.org/wikipedia/commons/5/5d/Angela_Merkel_2014.jpg: 404 Client Error: Not Found for url: https://upload.wikimedia.org/wikipedia/commons/5/5d/Angela_Merkel_2014.jpg\n",
            "\n",
            "Fake samples:\n"
          ]
        },
        {
          "output_type": "stream",
          "name": "stderr",
          "text": [
            "Downloading generated_face_1738220709.jpg: 100%|██████████| 555k/555k [00:00<00:00, 1.00MiB/s]\n",
            "Downloading generated_face_1738220710.jpg: 100%|██████████| 516k/516k [00:00<00:00, 994kiB/s] \n",
            "Downloading generated_face_1738220711.jpg: 100%|██████████| 547k/547k [00:00<00:00, 1.00MiB/s]\n",
            "Downloading generated_face_1738220712.jpg: 100%|██████████| 588k/588k [00:00<00:00, 1.13MiB/s]\n",
            "Downloading generated_face_1738220714.jpg: 100%|██████████| 561k/561k [00:00<00:00, 1.06MiB/s]\n",
            "Downloading generated_face_1738220715.jpg: 100%|██████████| 530k/530k [00:00<00:00, 953kiB/s] \n",
            "Downloading generated_face_1738220716.jpg: 100%|██████████| 595k/595k [00:00<00:00, 1.12MiB/s]\n",
            "Downloading generated_face_1738220717.jpg: 100%|██████████| 514k/514k [00:00<00:00, 968kiB/s] \n",
            "Downloading generated_face_1738220718.jpg: 100%|██████████| 577k/577k [00:00<00:00, 1.06MiB/s]\n",
            "Downloading generated_face_1738220719.jpg: 100%|██████████| 525k/525k [00:00<00:00, 1.01MiB/s]\n"
          ]
        },
        {
          "output_type": "stream",
          "name": "stdout",
          "text": [
            "\n",
            "========================================\n",
            "Downloading VIDEOS samples\n",
            "========================================\n",
            "\n",
            "Real samples:\n",
            "Error downloading https://upload.wikimedia.org/wikipedia/commons/transcoded/4/47/George_W_Bush_Announces_Start_of_Iraq_War.ogv/George_W_Bush_Announces_Start_of_Iraq_War.ogv.240p.vp9.webm: 404 Client Error: Not Found for url: https://upload.wikimedia.org/wikipedia/commons/transcoded/4/47/George_W_Bush_Announces_Start_of_Iraq_War.ogv/George_W_Bush_Announces_Start_of_Iraq_War.ogv.240p.vp9.webm\n",
            "Error downloading https://upload.wikimedia.org/wikipedia/commons/transcoded/2/2f/BBC_News_Countdown.ogv/BBC_News_Countdown.ogv.240p.vp9.webm: 404 Client Error: Not Found for url: https://upload.wikimedia.org/wikipedia/commons/transcoded/2/2f/BBC_News_Countdown.ogv/BBC_News_Countdown.ogv.240p.vp9.webm\n",
            "Error downloading https://upload.wikimedia.org/wikipedia/commons/transcoded/7/73/Neutral_News.ogv/Neutral_News.ogv.240p.vp9.webm: 404 Client Error: Not Found for url: https://upload.wikimedia.org/wikipedia/commons/transcoded/7/73/Neutral_News.ogv/Neutral_News.ogv.240p.vp9.webm\n",
            "Error downloading https://upload.wikimedia.org/wikipedia/commons/transcoded/0/0f/Obama_speaks_on_NSA_reforms.ogv/Obama_speaks_on_NSA_reforms.ogv.240p.vp9.webm: 404 Client Error: Not Found for url: https://upload.wikimedia.org/wikipedia/commons/transcoded/0/0f/Obama_speaks_on_NSA_reforms.ogv/Obama_speaks_on_NSA_reforms.ogv.240p.vp9.webm\n",
            "Error downloading https://upload.wikimedia.org/wikipedia/commons/transcoded/3/34/Scene_from_Shakespeares_The_Tempest.ogv/Scene_from_Shakespeares_The_Tempest.ogv.240p.vp9.webm: 404 Client Error: Not Found for url: https://upload.wikimedia.org/wikipedia/commons/transcoded/3/34/Scene_from_Shakespeares_The_Tempest.ogv/Scene_from_Shakespeares_The_Tempest.ogv.240p.vp9.webm\n",
            "Error downloading https://upload.wikimedia.org/wikipedia/commons/transcoded/6/61/Tech_News_CNN.ogv/Tech_News_CNN.ogv.240p.vp9.webm: 404 Client Error: Not Found for url: https://upload.wikimedia.org/wikipedia/commons/transcoded/6/61/Tech_News_CNN.ogv/Tech_News_CNN.ogv.240p.vp9.webm\n",
            "Error downloading https://upload.wikimedia.org/wikipedia/commons/transcoded/5/54/Truman.announcestheatomicbomb.ogv/Truman.announcestheatomicbomb.ogv.240p.vp9.webm: 404 Client Error: Not Found for url: https://upload.wikimedia.org/wikipedia/commons/transcoded/5/54/Truman.announcestheatomicbomb.ogv/Truman.announcestheatomicbomb.ogv.240p.vp9.webm\n",
            "Error downloading https://upload.wikimedia.org/wikipedia/commons/transcoded/a/a4/WikiNews-20070503.ogv/WikiNews-20070503.ogv.240p.vp9.webm: 404 Client Error: Not Found for url: https://upload.wikimedia.org/wikipedia/commons/transcoded/a/a4/WikiNews-20070503.ogv/WikiNews-20070503.ogv.240p.vp9.webm\n",
            "Error downloading https://upload.wikimedia.org/wikipedia/commons/transcoded/8/8b/En-uk_hello.ogg/En-uk_hello.ogg.240p.vp9.webm: 404 Client Error: Not Found for url: https://upload.wikimedia.org/wikipedia/commons/transcoded/8/8b/En-uk_hello.ogg/En-uk_hello.ogg.240p.vp9.webm\n",
            "Error downloading https://upload.wikimedia.org/wikipedia/commons/transcoded/f/f9/Glow2.ogv/Glow2.ogv.240p.vp9.webm: 404 Client Error: Not Found for url: https://upload.wikimedia.org/wikipedia/commons/transcoded/f/f9/Glow2.ogv/Glow2.ogv.240p.vp9.webm\n",
            "\n",
            "Fake samples:\n",
            "Error downloading https://github.com/ondyari/FaceForensics/raw/master/dataset/samples/manipulated_sequences/Deepfakes/c23/videos/000_003.mp4: 404 Client Error: Not Found for url: https://github.com/ondyari/FaceForensics/raw/master/dataset/samples/manipulated_sequences/Deepfakes/c23/videos/000_003.mp4\n",
            "Error downloading https://github.com/ondyari/FaceForensics/raw/master/dataset/samples/manipulated_sequences/Deepfakes/c23/videos/001_003.mp4: 404 Client Error: Not Found for url: https://github.com/ondyari/FaceForensics/raw/master/dataset/samples/manipulated_sequences/Deepfakes/c23/videos/001_003.mp4\n",
            "Error downloading https://github.com/ondyari/FaceForensics/raw/master/dataset/samples/manipulated_sequences/Deepfakes/c23/videos/002_003.mp4: 404 Client Error: Not Found for url: https://github.com/ondyari/FaceForensics/raw/master/dataset/samples/manipulated_sequences/Deepfakes/c23/videos/002_003.mp4\n",
            "Error downloading https://github.com/ondyari/FaceForensics/raw/master/dataset/samples/manipulated_sequences/Deepfakes/c23/videos/003_003.mp4: 404 Client Error: Not Found for url: https://github.com/ondyari/FaceForensics/raw/master/dataset/samples/manipulated_sequences/Deepfakes/c23/videos/003_003.mp4\n",
            "Error downloading https://github.com/ondyari/FaceForensics/raw/master/dataset/samples/manipulated_sequences/Deepfakes/c23/videos/004_003.mp4: 404 Client Error: Not Found for url: https://github.com/ondyari/FaceForensics/raw/master/dataset/samples/manipulated_sequences/Deepfakes/c23/videos/004_003.mp4\n",
            "Error downloading https://github.com/ondyari/FaceForensics/raw/master/dataset/samples/manipulated_sequences/Deepfakes/c23/videos/005_003.mp4: 404 Client Error: Not Found for url: https://github.com/ondyari/FaceForensics/raw/master/dataset/samples/manipulated_sequences/Deepfakes/c23/videos/005_003.mp4\n",
            "Error downloading https://github.com/ondyari/FaceForensics/raw/master/dataset/samples/manipulated_sequences/Deepfakes/c23/videos/006_003.mp4: 404 Client Error: Not Found for url: https://github.com/ondyari/FaceForensics/raw/master/dataset/samples/manipulated_sequences/Deepfakes/c23/videos/006_003.mp4\n",
            "Error downloading https://github.com/ondyari/FaceForensics/raw/master/dataset/samples/manipulated_sequences/Deepfakes/c23/videos/007_003.mp4: 404 Client Error: Not Found for url: https://github.com/ondyari/FaceForensics/raw/master/dataset/samples/manipulated_sequences/Deepfakes/c23/videos/007_003.mp4\n",
            "Error downloading https://github.com/ondyari/FaceForensics/raw/master/dataset/samples/manipulated_sequences/Deepfakes/c23/videos/008_003.mp4: 404 Client Error: Not Found for url: https://github.com/ondyari/FaceForensics/raw/master/dataset/samples/manipulated_sequences/Deepfakes/c23/videos/008_003.mp4\n",
            "Error downloading https://github.com/ondyari/FaceForensics/raw/master/dataset/samples/manipulated_sequences/Deepfakes/c23/videos/009_003.mp4: 404 Client Error: Not Found for url: https://github.com/ondyari/FaceForensics/raw/master/dataset/samples/manipulated_sequences/Deepfakes/c23/videos/009_003.mp4\n",
            "\n",
            "========================================\n",
            "Downloading AUDIO samples\n",
            "========================================\n",
            "\n",
            "Real samples:\n",
            "Error downloading https://freesound.org/data/previews/511/511919_919548-lq.mp3: 404 Client Error: Not Found for url: https://cdn.freesound.org/previews/511/511919_919548-lq.mp3\n",
            "Error downloading https://freesound.org/data/previews/511/511912_919548-lq.mp3: 404 Client Error: Not Found for url: https://cdn.freesound.org/previews/511/511912_919548-lq.mp3\n",
            "Error downloading https://freesound.org/data/previews/511/511908_919548-lq.mp3: 404 Client Error: Not Found for url: https://freesound.org/data/previews/511/511908_919548-lq.mp3\n",
            "Error downloading https://freesound.org/data/previews/511/511907_919548-lq.mp3: 404 Client Error: Not Found for url: https://cdn.freesound.org/previews/511/511907_919548-lq.mp3\n",
            "Error downloading https://freesound.org/data/previews/511/511906_919548-lq.mp3: 404 Client Error: Not Found for url: https://cdn.freesound.org/previews/511/511906_919548-lq.mp3\n",
            "Error downloading https://freesound.org/data/previews/511/511905_919548-lq.mp3: 404 Client Error: Not Found for url: https://cdn.freesound.org/previews/511/511905_919548-lq.mp3\n",
            "Error downloading https://freesound.org/data/previews/511/511903_919548-lq.mp3: 404 Client Error: Not Found for url: https://cdn.freesound.org/previews/511/511903_919548-lq.mp3\n",
            "Error downloading https://freesound.org/data/previews/511/511902_919548-lq.mp3: 404 Client Error: Not Found for url: https://cdn.freesound.org/previews/511/511902_919548-lq.mp3\n",
            "Error downloading https://freesound.org/data/previews/511/511901_919548-lq.mp3: 404 Client Error: Not Found for url: https://freesound.org/data/previews/511/511901_919548-lq.mp3\n",
            "Error downloading https://freesound.org/data/previews/511/511900_919548-lq.mp3: 404 Client Error: Not Found for url: https://cdn.freesound.org/previews/511/511900_919548-lq.mp3\n",
            "\n",
            "Fake samples:\n",
            "Error downloading https://github.com/espnet/espnet/raw/master/egs2/ljspeech/tts1/audio.wav: 404 Client Error: Not Found for url: https://github.com/espnet/espnet/raw/master/egs2/ljspeech/tts1/audio.wav\n",
            "Error downloading https://github.com/espnet/espnet/raw/master/egs2/vctk/tts1/audio.wav: 404 Client Error: Not Found for url: https://github.com/espnet/espnet/raw/master/egs2/vctk/tts1/audio.wav\n",
            "Error downloading https://github.com/espnet/espnet/raw/master/egs2/libritts/tts1/audio.wav: 404 Client Error: Not Found for url: https://github.com/espnet/espnet/raw/master/egs2/libritts/tts1/audio.wav\n",
            "Error downloading https://github.com/espnet/espnet/raw/master/egs2/jsut/tts1/audio.wav: 404 Client Error: Not Found for url: https://github.com/espnet/espnet/raw/master/egs2/jsut/tts1/audio.wav\n",
            "Error downloading https://github.com/espnet/espnet/raw/master/egs2/aishell3/tts1/audio.wav: 404 Client Error: Not Found for url: https://github.com/espnet/espnet/raw/master/egs2/aishell3/tts1/audio.wav\n",
            "Error downloading https://github.com/espnet/espnet/raw/master/egs2/csmsc/tts1/audio.wav: 404 Client Error: Not Found for url: https://github.com/espnet/espnet/raw/master/egs2/csmsc/tts1/audio.wav\n",
            "Error downloading https://github.com/espnet/espnet/raw/master/egs2/jvs/tts1/audio.wav: 404 Client Error: Not Found for url: https://github.com/espnet/espnet/raw/master/egs2/jvs/tts1/audio.wav\n",
            "Error downloading https://github.com/espnet/espnet/raw/master/egs2/naturalspeech/audio.wav: 404 Client Error: Not Found for url: https://github.com/espnet/espnet/raw/master/egs2/naturalspeech/audio.wav\n",
            "Error downloading https://github.com/espnet/espnet/raw/master/egs2/arctic/tts1/audio.wav: 404 Client Error: Not Found for url: https://github.com/espnet/espnet/raw/master/egs2/arctic/tts1/audio.wav\n",
            "Error downloading https://github.com/espnet/espnet/raw/master/egs2/biaobei/tts1/audio.wav: 404 Client Error: Not Found for url: https://github.com/espnet/espnet/raw/master/egs2/biaobei/tts1/audio.wav\n",
            "\n",
            "Final Report:\n",
            "Images downloaded: 11\n",
            "Videos downloaded: 0\n",
            "Audio downloaded: 0\n",
            "Total dataset size: 11 files\n",
            "Data location: /content/multimodal_deepfake_data\n"
          ]
        }
      ]
    },
    {
      "cell_type": "code",
      "source": [],
      "metadata": {
        "id": "o-JlIK1KUdP0"
      },
      "execution_count": null,
      "outputs": []
    }
  ]
}