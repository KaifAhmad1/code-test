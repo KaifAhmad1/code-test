{
  "nbformat": 4,
  "nbformat_minor": 0,
  "metadata": {
    "colab": {
      "provenance": [],
      "authorship_tag": "ABX9TyNl8xje5uOtHuWaE5eDrpJ5",
      "include_colab_link": true
    },
    "kernelspec": {
      "name": "python3",
      "display_name": "Python 3"
    },
    "language_info": {
      "name": "python"
    }
  },
  "cells": [
    {
      "cell_type": "markdown",
      "metadata": {
        "id": "view-in-github",
        "colab_type": "text"
      },
      "source": [
        "<a href=\"https://colab.research.google.com/github/KaifAhmad1/code-test/blob/main/Deepfake_data.ipynb\" target=\"_parent\"><img src=\"https://colab.research.google.com/assets/colab-badge.svg\" alt=\"Open In Colab\"/></a>"
      ]
    },
    {
      "cell_type": "markdown",
      "source": [
        "#### **Deepfake and Manipulated Media Analysis Data Download**"
      ],
      "metadata": {
        "id": "V5er949VRqvP"
      }
    },
    {
      "cell_type": "code",
      "execution_count": 1,
      "metadata": {
        "id": "3adQdF8KJWyE",
        "outputId": "158b7187-792f-479e-c1b2-1fbba0ebd702",
        "colab": {
          "base_uri": "https://localhost:8080/"
        }
      },
      "outputs": [
        {
          "output_type": "stream",
          "name": "stdout",
          "text": [
            "\u001b[2K     \u001b[90m━━━━━━━━━━━━━━━━━━━━━━━━━━━━━━━━━━━━━━━━\u001b[0m \u001b[32m89.9/89.9 kB\u001b[0m \u001b[31m2.5 MB/s\u001b[0m eta \u001b[36m0:00:00\u001b[0m\n",
            "\u001b[2K   \u001b[90m━━━━━━━━━━━━━━━━━━━━━━━━━━━━━━━━━━━━━━━━\u001b[0m \u001b[32m13.1/13.1 MB\u001b[0m \u001b[31m68.9 MB/s\u001b[0m eta \u001b[36m0:00:00\u001b[0m\n",
            "\u001b[?25h\u001b[31mERROR: pip's dependency resolver does not currently take into account all the packages that are installed. This behaviour is the source of the following dependency conflicts.\n",
            "google-colab 1.0.0 requires pandas==2.2.2, but you have pandas 2.2.3 which is incompatible.\u001b[0m\u001b[31m\n",
            "\u001b[0m"
          ]
        }
      ],
      "source": [
        "!pip install -qU kaggle pandas requests tqdm"
      ]
    },
    {
      "cell_type": "code",
      "source": [
        "import os\n",
        "import requests\n",
        "from pathlib import Path\n",
        "from tqdm import tqdm"
      ],
      "metadata": {
        "id": "E5SKXUPiJobX"
      },
      "execution_count": 2,
      "outputs": []
    },
    {
      "cell_type": "code",
      "source": [
        "def download_file(url, dest_path):\n",
        "    try:\n",
        "        response = requests.get(url, stream=True)\n",
        "        response.raise_for_status()\n",
        "        total_size = int(response.headers.get('content-length', 0))\n",
        "\n",
        "        dest_path.parent.mkdir(parents=True, exist_ok=True)\n",
        "\n",
        "        with open(dest_path, 'wb') as f, tqdm(\n",
        "            desc=f\"Downloading {dest_path.name}\",\n",
        "            total=total_size,\n",
        "            unit='iB',\n",
        "            unit_scale=True,\n",
        "        ) as pbar:\n",
        "            for chunk in response.iter_content(chunk_size=8192):\n",
        "                if chunk:\n",
        "                    f.write(chunk)\n",
        "                    pbar.update(len(chunk))\n",
        "        return True\n",
        "    except Exception as e:\n",
        "        print(f\"Error downloading {url}: {str(e)}\")\n",
        "        return False\n",
        "\n",
        "def download_multimodal_subset():\n",
        "    base_dir = Path(\"./multimodal_deepfake_data\")\n",
        "\n",
        "    # Updated URLs using more stable sources\n",
        "    datasets = {\n",
        "        \"images\": {\n",
        "            \"real\": [\n",
        "                # Using Flickr API for real face images\n",
        "                \"https://live.staticflickr.com/65535/faces/sample_{}.jpg\".format(i)\n",
        "                for i in range(1, 11)\n",
        "            ],\n",
        "            \"fake\": [\n",
        "                # Using ThisPersonDoesNotExist API for generated faces\n",
        "                \"https://thispersondoesnotexist.com/image\"\n",
        "                for _ in range(10)\n",
        "            ]\n",
        "        },\n",
        "        \"videos\": {\n",
        "            \"real\": [\n",
        "                # Using Creative Commons videos from Archive.org\n",
        "                f\"https://archive.org/download/facial_video_sample_{i}/video.mp4\"\n",
        "                for i in range(1, 11)\n",
        "            ],\n",
        "            \"fake\": [\n",
        "                # Using DeepFake detection challenge sample videos\n",
        "                f\"https://ai.facebook.com/datasets/dfdc/samples/fake_{i}.mp4\"\n",
        "                for i in range(1, 11)\n",
        "            ]\n",
        "        },\n",
        "        \"audio\": {\n",
        "            \"real\": [\n",
        "                # Using Mozilla Common Voice samples\n",
        "                f\"https://commonvoice.mozilla.org/data/sample_{i}.wav\"\n",
        "                for i in range(1, 11)\n",
        "            ],\n",
        "            \"fake\": [\n",
        "                # Using synthetic voice samples\n",
        "                f\"https://sample-videos.com/audio/synthetic/voice_{i}.wav\"\n",
        "                for i in range(1, 11)\n",
        "            ]\n",
        "        }\n",
        "    }\n",
        "\n",
        "    results = {\"images\": 0, \"videos\": 0, \"audio\": 0}\n",
        "\n",
        "    for modality, categories in datasets.items():\n",
        "        print(f\"\\n{'='*40}\\nDownloading {modality.upper()} samples\\n{'='*40}\")\n",
        "        for category, urls in categories.items():\n",
        "            print(f\"\\n{category.capitalize()} samples:\")\n",
        "            modality_dir = base_dir / modality / category\n",
        "\n",
        "            # Special handling for ThisPersonDoesNotExist\n",
        "            if category == \"fake\" and modality == \"images\":\n",
        "                for i in range(10):\n",
        "                    dest_path = modality_dir / f\"generated_face_{i}.jpg\"\n",
        "                    if download_file(urls[0], dest_path):\n",
        "                        results[modality] += 1\n",
        "            else:\n",
        "                for url in urls:\n",
        "                    filename = url.split(\"/\")[-1]\n",
        "                    dest_path = modality_dir / filename\n",
        "                    if download_file(url, dest_path):\n",
        "                        results[modality] += 1\n",
        "\n",
        "    print(\"\\nFinal Report:\")\n",
        "    print(f\"Images downloaded: {results['images']}\")\n",
        "    print(f\"Videos downloaded: {results['videos']}\")\n",
        "    print(f\"Audio downloaded: {results['audio']}\")\n",
        "    print(f\"Total dataset size: {sum(results.values())} files\")\n",
        "    print(f\"Data location: {base_dir.absolute()}\")"
      ],
      "metadata": {
        "id": "pxb5lV48LQyB"
      },
      "execution_count": 3,
      "outputs": []
    },
    {
      "cell_type": "code",
      "source": [
        "if __name__ == \"__main__\":\n",
        "    download_multimodal_subset()"
      ],
      "metadata": {
        "id": "v8dnHHHBYRQo",
        "outputId": "1aad7e2a-ec29-4bfb-8ea2-2df034d74237",
        "colab": {
          "base_uri": "https://localhost:8080/"
        }
      },
      "execution_count": 4,
      "outputs": [
        {
          "output_type": "stream",
          "name": "stdout",
          "text": [
            "\n",
            "========================================\n",
            "Downloading IMAGES samples\n",
            "========================================\n",
            "\n",
            "Real samples:\n",
            "Error downloading https://live.staticflickr.com/65535/faces/sample_1.jpg: 404 Client Error: Not Found for url: https://live.staticflickr.com/65535/faces/sample_1.jpg\n",
            "Error downloading https://live.staticflickr.com/65535/faces/sample_2.jpg: 404 Client Error: Not Found for url: https://live.staticflickr.com/65535/faces/sample_2.jpg\n",
            "Error downloading https://live.staticflickr.com/65535/faces/sample_3.jpg: 404 Client Error: Not Found for url: https://live.staticflickr.com/65535/faces/sample_3.jpg\n",
            "Error downloading https://live.staticflickr.com/65535/faces/sample_4.jpg: 404 Client Error: Not Found for url: https://live.staticflickr.com/65535/faces/sample_4.jpg\n",
            "Error downloading https://live.staticflickr.com/65535/faces/sample_5.jpg: 404 Client Error: Not Found for url: https://live.staticflickr.com/65535/faces/sample_5.jpg\n",
            "Error downloading https://live.staticflickr.com/65535/faces/sample_6.jpg: 404 Client Error: Not Found for url: https://live.staticflickr.com/65535/faces/sample_6.jpg\n",
            "Error downloading https://live.staticflickr.com/65535/faces/sample_7.jpg: 404 Client Error: Not Found for url: https://live.staticflickr.com/65535/faces/sample_7.jpg\n",
            "Error downloading https://live.staticflickr.com/65535/faces/sample_8.jpg: 404 Client Error: Not Found for url: https://live.staticflickr.com/65535/faces/sample_8.jpg\n",
            "Error downloading https://live.staticflickr.com/65535/faces/sample_9.jpg: 404 Client Error: Not Found for url: https://live.staticflickr.com/65535/faces/sample_9.jpg\n",
            "Error downloading https://live.staticflickr.com/65535/faces/sample_10.jpg: 404 Client Error: Not Found for url: https://live.staticflickr.com/65535/faces/sample_10.jpg\n",
            "\n",
            "Fake samples:\n",
            "Error downloading https://thispersondoesnotexist.com/image: 404 Client Error: Not Found for url: https://thispersondoesnotexist.com/image\n",
            "Error downloading https://thispersondoesnotexist.com/image: 404 Client Error: Not Found for url: https://thispersondoesnotexist.com/image\n",
            "Error downloading https://thispersondoesnotexist.com/image: 404 Client Error: Not Found for url: https://thispersondoesnotexist.com/image\n",
            "Error downloading https://thispersondoesnotexist.com/image: 404 Client Error: Not Found for url: https://thispersondoesnotexist.com/image\n",
            "Error downloading https://thispersondoesnotexist.com/image: 404 Client Error: Not Found for url: https://thispersondoesnotexist.com/image\n",
            "Error downloading https://thispersondoesnotexist.com/image: 404 Client Error: Not Found for url: https://thispersondoesnotexist.com/image\n",
            "Error downloading https://thispersondoesnotexist.com/image: 404 Client Error: Not Found for url: https://thispersondoesnotexist.com/image\n",
            "Error downloading https://thispersondoesnotexist.com/image: 404 Client Error: Not Found for url: https://thispersondoesnotexist.com/image\n",
            "Error downloading https://thispersondoesnotexist.com/image: 404 Client Error: Not Found for url: https://thispersondoesnotexist.com/image\n",
            "Error downloading https://thispersondoesnotexist.com/image: 404 Client Error: Not Found for url: https://thispersondoesnotexist.com/image\n",
            "\n",
            "========================================\n",
            "Downloading VIDEOS samples\n",
            "========================================\n",
            "\n",
            "Real samples:\n",
            "Error downloading https://archive.org/download/facial_video_sample_1/video.mp4: 404 Client Error: Not Found for url: https://archive.org/download/facial_video_sample_1/video.mp4\n",
            "Error downloading https://archive.org/download/facial_video_sample_2/video.mp4: 404 Client Error: Not Found for url: https://archive.org/download/facial_video_sample_2/video.mp4\n",
            "Error downloading https://archive.org/download/facial_video_sample_3/video.mp4: 404 Client Error: Not Found for url: https://archive.org/download/facial_video_sample_3/video.mp4\n",
            "Error downloading https://archive.org/download/facial_video_sample_4/video.mp4: 404 Client Error: Not Found for url: https://archive.org/download/facial_video_sample_4/video.mp4\n",
            "Error downloading https://archive.org/download/facial_video_sample_5/video.mp4: 404 Client Error: Not Found for url: https://archive.org/download/facial_video_sample_5/video.mp4\n",
            "Error downloading https://archive.org/download/facial_video_sample_6/video.mp4: 404 Client Error: Not Found for url: https://archive.org/download/facial_video_sample_6/video.mp4\n",
            "Error downloading https://archive.org/download/facial_video_sample_7/video.mp4: 404 Client Error: Not Found for url: https://archive.org/download/facial_video_sample_7/video.mp4\n",
            "Error downloading https://archive.org/download/facial_video_sample_8/video.mp4: 404 Client Error: Not Found for url: https://archive.org/download/facial_video_sample_8/video.mp4\n",
            "Error downloading https://archive.org/download/facial_video_sample_9/video.mp4: 404 Client Error: Not Found for url: https://archive.org/download/facial_video_sample_9/video.mp4\n",
            "Error downloading https://archive.org/download/facial_video_sample_10/video.mp4: 404 Client Error: Not Found for url: https://archive.org/download/facial_video_sample_10/video.mp4\n",
            "\n",
            "Fake samples:\n"
          ]
        },
        {
          "output_type": "stream",
          "name": "stderr",
          "text": [
            "Downloading fake_1.mp4: 179kiB [00:00, 8.21MiB/s]\n",
            "Downloading fake_2.mp4: 179kiB [00:00, 7.67MiB/s]\n",
            "Downloading fake_3.mp4: 179kiB [00:00, 7.46MiB/s]\n",
            "Downloading fake_4.mp4: 179kiB [00:00, 7.37MiB/s]\n",
            "Downloading fake_5.mp4: 179kiB [00:00, 7.58MiB/s]\n",
            "Downloading fake_6.mp4: 179kiB [00:00, 8.16MiB/s]\n",
            "Downloading fake_7.mp4: 179kiB [00:00, 3.49MiB/s]\n",
            "Downloading fake_8.mp4: 179kiB [00:00, 7.53MiB/s]\n",
            "Downloading fake_9.mp4: 179kiB [00:00, 7.39MiB/s]\n",
            "Downloading fake_10.mp4: 179kiB [00:00, 8.07MiB/s]\n"
          ]
        },
        {
          "output_type": "stream",
          "name": "stdout",
          "text": [
            "\n",
            "========================================\n",
            "Downloading AUDIO samples\n",
            "========================================\n",
            "\n",
            "Real samples:\n"
          ]
        },
        {
          "output_type": "stream",
          "name": "stderr",
          "text": [
            "Downloading sample_1.wav: 6.21kiB [00:00, 10.5MiB/s]\n",
            "Downloading sample_2.wav: 6.21kiB [00:00, 12.4MiB/s]\n",
            "Downloading sample_3.wav: 6.21kiB [00:00, 11.4MiB/s]\n",
            "Downloading sample_4.wav: 6.21kiB [00:00, 12.5MiB/s]\n",
            "Downloading sample_5.wav: 6.21kiB [00:00, 11.2MiB/s]\n",
            "Downloading sample_6.wav: 6.21kiB [00:00, 11.5MiB/s]\n",
            "Downloading sample_7.wav: 6.21kiB [00:00, 9.53MiB/s]\n",
            "Downloading sample_8.wav: 6.21kiB [00:00, 12.2MiB/s]\n",
            "Downloading sample_9.wav: 6.21kiB [00:00, 894kiB/s]\n",
            "Downloading sample_10.wav: 6.21kiB [00:00, 9.08MiB/s]\n"
          ]
        },
        {
          "output_type": "stream",
          "name": "stdout",
          "text": [
            "\n",
            "Fake samples:\n",
            "Error downloading https://sample-videos.com/audio/synthetic/voice_1.wav: 404 Client Error: Not Found for url: https://sample-videos.com/audio/synthetic/voice_1.wav\n",
            "Error downloading https://sample-videos.com/audio/synthetic/voice_2.wav: 404 Client Error: Not Found for url: https://sample-videos.com/audio/synthetic/voice_2.wav\n",
            "Error downloading https://sample-videos.com/audio/synthetic/voice_3.wav: 404 Client Error: Not Found for url: https://sample-videos.com/audio/synthetic/voice_3.wav\n",
            "Error downloading https://sample-videos.com/audio/synthetic/voice_4.wav: 404 Client Error: Not Found for url: https://sample-videos.com/audio/synthetic/voice_4.wav\n",
            "Error downloading https://sample-videos.com/audio/synthetic/voice_5.wav: 404 Client Error: Not Found for url: https://sample-videos.com/audio/synthetic/voice_5.wav\n",
            "Error downloading https://sample-videos.com/audio/synthetic/voice_6.wav: 404 Client Error: Not Found for url: https://sample-videos.com/audio/synthetic/voice_6.wav\n",
            "Error downloading https://sample-videos.com/audio/synthetic/voice_7.wav: 404 Client Error: Not Found for url: https://sample-videos.com/audio/synthetic/voice_7.wav\n",
            "Error downloading https://sample-videos.com/audio/synthetic/voice_8.wav: 404 Client Error: Not Found for url: https://sample-videos.com/audio/synthetic/voice_8.wav\n",
            "Error downloading https://sample-videos.com/audio/synthetic/voice_9.wav: 404 Client Error: Not Found for url: https://sample-videos.com/audio/synthetic/voice_9.wav\n",
            "Error downloading https://sample-videos.com/audio/synthetic/voice_10.wav: 404 Client Error: Not Found for url: https://sample-videos.com/audio/synthetic/voice_10.wav\n",
            "\n",
            "Final Report:\n",
            "Images downloaded: 0\n",
            "Videos downloaded: 10\n",
            "Audio downloaded: 10\n",
            "Total dataset size: 20 files\n",
            "Data location: /content/multimodal_deepfake_data\n"
          ]
        }
      ]
    },
    {
      "cell_type": "code",
      "source": [],
      "metadata": {
        "id": "o-JlIK1KUdP0"
      },
      "execution_count": null,
      "outputs": []
    }
  ]
}