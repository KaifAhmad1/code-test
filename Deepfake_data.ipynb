{
  "nbformat": 4,
  "nbformat_minor": 0,
  "metadata": {
    "colab": {
      "provenance": [],
      "authorship_tag": "ABX9TyMB1n3lBvyKv7YuyYNx3ssF",
      "include_colab_link": true
    },
    "kernelspec": {
      "name": "python3",
      "display_name": "Python 3"
    },
    "language_info": {
      "name": "python"
    }
  },
  "cells": [
    {
      "cell_type": "markdown",
      "metadata": {
        "id": "view-in-github",
        "colab_type": "text"
      },
      "source": [
        "<a href=\"https://colab.research.google.com/github/KaifAhmad1/code-test/blob/main/Deepfake_data.ipynb\" target=\"_parent\"><img src=\"https://colab.research.google.com/assets/colab-badge.svg\" alt=\"Open In Colab\"/></a>"
      ]
    },
    {
      "cell_type": "markdown",
      "source": [
        "#### **Deepfake and Manipulated Media Analysis Data Download**"
      ],
      "metadata": {
        "id": "V5er949VRqvP"
      }
    },
    {
      "cell_type": "code",
      "execution_count": null,
      "metadata": {
        "id": "3adQdF8KJWyE"
      },
      "outputs": [],
      "source": [
        "!pip install -q datasets pandas pillow tqdm huggingface_hub"
      ]
    },
    {
      "cell_type": "code",
      "source": [
        "import os\n",
        "import pandas as pd\n",
        "from pathlib import Path\n",
        "from datasets import load_dataset\n",
        "from tqdm import tqdm\n",
        "from PIL import Image\n",
        "from huggingface_hub import login\n",
        "import getpass"
      ],
      "metadata": {
        "id": "E5SKXUPiJobX"
      },
      "execution_count": 41,
      "outputs": []
    },
    {
      "cell_type": "code",
      "source": [
        "# Authenticate Hugging Face\n",
        "HF_TOKEN = getpass.getpass(\"Enter your Hugging Face token: \")\n",
        "login(HF_TOKEN)"
      ],
      "metadata": {
        "id": "pxb5lV48LQyB",
        "outputId": "ed85304f-5e07-4ebe-a429-f3a45c5c87fb",
        "colab": {
          "base_uri": "https://localhost:8080/"
        }
      },
      "execution_count": 42,
      "outputs": [
        {
          "name": "stdout",
          "output_type": "stream",
          "text": [
            "Enter your Hugging Face token: ··········\n"
          ]
        }
      ]
    },
    {
      "cell_type": "code",
      "source": [
        "# Set download directory\n",
        "BASE_DIR = Path.home() / \"Downloads\" / \"deepfake_dataset\"\n",
        "BASE_DIR.mkdir(parents=True, exist_ok=True)\n",
        "metadata = []"
      ],
      "metadata": {
        "id": "v8dnHHHBYRQo"
      },
      "execution_count": 43,
      "outputs": []
    },
    {
      "cell_type": "code",
      "source": [
        "def download_data(dataset_name, category_name, file_ext, key):\n",
        "    \"\"\"Downloads and saves data (images, videos, audio)\"\"\"\n",
        "    print(f\"\\n📥 Downloading {category_name} Data...\")\n",
        "    try:\n",
        "        dataset = load_dataset(dataset_name, split=\"train\", use_auth_token=True)\n",
        "    except Exception as e:\n",
        "        print(f\"❌ Error loading {dataset_name}: {e}\")\n",
        "        return\n",
        "\n",
        "    save_dir = BASE_DIR / category_name\n",
        "    save_dir.mkdir(parents=True, exist_ok=True)\n",
        "\n",
        "    for category, label in [(\"real\", 0), (\"fake\", 1)]:\n",
        "        (save_dir / category).mkdir(parents=True, exist_ok=True)\n",
        "        samples = dataset.filter(lambda x: x[\"label\"] == label).select(range(10))\n",
        "\n",
        "        for i, sample in enumerate(tqdm(samples, desc=f\"Saving {category} {category_name}\")):\n",
        "            file_path = save_dir / category / f\"{category}_{i:03d}.{file_ext}\"\n",
        "            with open(file_path, \"wb\") as f:\n",
        "                f.write(sample[key][\"bytes\"] if isinstance(sample[key], dict) else sample[key])\n",
        "\n",
        "            metadata.append({\n",
        "                \"modality\": category_name,\n",
        "                \"category\": category,\n",
        "                \"filename\": file_path.name,\n",
        "                \"file_path\": str(file_path),\n",
        "                \"source_dataset\": dataset_name\n",
        "            })\n",
        "\n",
        "def save_metadata():\n",
        "    \"\"\"Saves metadata as CSV\"\"\"\n",
        "    pd.DataFrame(metadata).to_csv(BASE_DIR / \"metadata.csv\", index=False)\n",
        "    print(\"✅ Metadata saved\")"
      ],
      "metadata": {
        "id": "o-JlIK1KUdP0"
      },
      "execution_count": 44,
      "outputs": []
    },
    {
      "cell_type": "code",
      "source": [
        "def main():\n",
        "    download_data(\"deepfake-detection-challenge\", \"images\", \"jpg\", \"image\")\n",
        "    download_data(\"dawn-dai/deepfake-video\", \"videos\", \"mp4\", \"video\")\n",
        "    download_data(\"m4r4b0u/FakeAVCeleb\", \"audio\", \"wav\", \"audio\")\n",
        "    save_metadata()\n",
        "    print(f\"\\n🎉 Dataset Collection Complete! Data stored in {BASE_DIR}\")\n",
        "\n",
        "if __name__ == \"__main__\":\n",
        "    main()"
      ],
      "metadata": {
        "id": "DSqrGpbkcqpV",
        "outputId": "665e53e2-42b7-4d73-90da-15b15a75ccaa",
        "colab": {
          "base_uri": "https://localhost:8080/"
        }
      },
      "execution_count": 45,
      "outputs": [
        {
          "output_type": "stream",
          "name": "stdout",
          "text": [
            "\n",
            "📥 Downloading images Data...\n",
            "❌ Error loading deepfake-detection-challenge: Dataset 'deepfake-detection-challenge' doesn't exist on the Hub or cannot be accessed.\n",
            "\n",
            "📥 Downloading videos Data...\n",
            "❌ Error loading dawn-dai/deepfake-video: Dataset 'dawn-dai/deepfake-video' doesn't exist on the Hub or cannot be accessed.\n",
            "\n",
            "📥 Downloading audio Data...\n",
            "❌ Error loading m4r4b0u/FakeAVCeleb: Dataset 'm4r4b0u/FakeAVCeleb' doesn't exist on the Hub or cannot be accessed.\n",
            "✅ Metadata saved\n",
            "\n",
            "🎉 Dataset Collection Complete! Data stored in /root/Downloads/deepfake_dataset\n"
          ]
        }
      ]
    },
    {
      "cell_type": "code",
      "source": [],
      "metadata": {
        "id": "nM7UMaaIcuoU"
      },
      "execution_count": null,
      "outputs": []
    }
  ]
}