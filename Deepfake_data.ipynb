{
  "nbformat": 4,
  "nbformat_minor": 0,
  "metadata": {
    "colab": {
      "provenance": [],
      "authorship_tag": "ABX9TyP40ZO78O/mUXmrBgvsvmS3",
      "include_colab_link": true
    },
    "kernelspec": {
      "name": "python3",
      "display_name": "Python 3"
    },
    "language_info": {
      "name": "python"
    }
  },
  "cells": [
    {
      "cell_type": "markdown",
      "metadata": {
        "id": "view-in-github",
        "colab_type": "text"
      },
      "source": [
        "<a href=\"https://colab.research.google.com/github/KaifAhmad1/code-test/blob/main/Deepfake_data.ipynb\" target=\"_parent\"><img src=\"https://colab.research.google.com/assets/colab-badge.svg\" alt=\"Open In Colab\"/></a>"
      ]
    },
    {
      "cell_type": "markdown",
      "source": [
        "#### **Deepfake and Manipulated Media Analysis Data Download**"
      ],
      "metadata": {
        "id": "V5er949VRqvP"
      }
    },
    {
      "cell_type": "code",
      "execution_count": 1,
      "metadata": {
        "id": "3adQdF8KJWyE",
        "outputId": "b2131dae-035e-4f12-c2b3-2ae4e7bccbdf",
        "colab": {
          "base_uri": "https://localhost:8080/"
        }
      },
      "outputs": [
        {
          "output_type": "stream",
          "name": "stdout",
          "text": [
            "\u001b[2K     \u001b[90m━━━━━━━━━━━━━━━━━━━━━━━━━━━━━━━━━━━━━━━━\u001b[0m \u001b[32m89.9/89.9 kB\u001b[0m \u001b[31m4.4 MB/s\u001b[0m eta \u001b[36m0:00:00\u001b[0m\n",
            "\u001b[2K   \u001b[90m━━━━━━━━━━━━━━━━━━━━━━━━━━━━━━━━━━━━━━━━\u001b[0m \u001b[32m13.1/13.1 MB\u001b[0m \u001b[31m69.4 MB/s\u001b[0m eta \u001b[36m0:00:00\u001b[0m\n",
            "\u001b[?25h\u001b[31mERROR: pip's dependency resolver does not currently take into account all the packages that are installed. This behaviour is the source of the following dependency conflicts.\n",
            "google-colab 1.0.0 requires pandas==2.2.2, but you have pandas 2.2.3 which is incompatible.\n",
            "cudf-cu12 24.10.1 requires pandas<2.2.3dev0,>=2.0, but you have pandas 2.2.3 which is incompatible.\u001b[0m\u001b[31m\n",
            "\u001b[0m"
          ]
        }
      ],
      "source": [
        "!pip install -qU kaggle pandas requests tqdm"
      ]
    },
    {
      "cell_type": "code",
      "source": [
        "import os\n",
        "import requests\n",
        "from pathlib import Path\n",
        "from tqdm import tqdm"
      ],
      "metadata": {
        "id": "E5SKXUPiJobX"
      },
      "execution_count": 2,
      "outputs": []
    },
    {
      "cell_type": "code",
      "source": [
        "def download_file(url, dest_path):\n",
        "    try:\n",
        "        response = requests.get(url, stream=True)\n",
        "        response.raise_for_status()\n",
        "        total_size = int(response.headers.get('content-length', 0))\n",
        "\n",
        "        dest_path.parent.mkdir(parents=True, exist_ok=True)\n",
        "\n",
        "        with open(dest_path, 'wb') as f, tqdm(\n",
        "            desc=f\"Downloading {dest_path.name}\",\n",
        "            total=total_size,\n",
        "            unit='iB',\n",
        "            unit_scale=True,\n",
        "        ) as pbar:\n",
        "            for chunk in response.iter_content(chunk_size=8192):\n",
        "                if chunk:\n",
        "                    f.write(chunk)\n",
        "                    pbar.update(len(chunk))\n",
        "        return True\n",
        "    except Exception as e:\n",
        "        print(f\"Error downloading {url}: {str(e)}\")\n",
        "        return False\n",
        "\n",
        "def download_multimodal_subset():\n",
        "    base_dir = Path(\"./multimodal_deepfake_data\")\n",
        "    datasets = {\n",
        "        \"images\": {\n",
        "            \"real\": [\n",
        "                # CelebA-HQ Real Faces\n",
        "                f\"https://github.com/switchablenorms/CelebAMask-HQ/raw/master/celeba_hq_256/{i:05d}.jpg\"\n",
        "                for i in range(1000, 1010)\n",
        "            ],\n",
        "            \"fake\": [\n",
        "                # StyleGAN2 Generated Faces\n",
        "                f\"https://github.com/NVlabs/stylegan2/raw/master/images/example-sample/{i:04d}.png\"\n",
        "                for i in range(1, 11)\n",
        "            ]\n",
        "        },\n",
        "        \"videos\": {\n",
        "            \"real\": [\n",
        "                # FaceForensics++ Real Videos\n",
        "                f\"https://github.com/ondyari/FaceForensics/raw/master/dataset/samples/original_sequences/youtube/raw/videos/{i}.mp4\"\n",
        "                for i in range(10)\n",
        "            ],\n",
        "            \"fake\": [\n",
        "                # FaceForensics++ Fake Videos\n",
        "                f\"https://github.com/ondyari/FaceForensics/raw/master/dataset/samples/manipulated_sequences/DeepFakeDetection/raw/videos/{i}.mp4\"\n",
        "                for i in range(5)\n",
        "            ] + [\n",
        "                # DFDC Sample Videos\n",
        "                f\"https://storage.googleapis.com/dfdc_sample_files/dfdc_sample_{i}.mp4\"\n",
        "                for i in range(5)\n",
        "            ]\n",
        "        },\n",
        "        \"audio\": {\n",
        "            \"real\": [\n",
        "                # VoxCeleb Real Audio Samples\n",
        "                f\"https://github.com/coqui-ai/TTS/raw/main/tests/data/ljspeech/wavs/LJ003-00{i:02d}.wav\"\n",
        "                for i in range(1, 11)\n",
        "            ],\n",
        "            \"fake\": [\n",
        "                # Synthetic Voice Clones\n",
        "                \"https://github.com/CorentinJ/Real-Time-Voice-Cloning/raw/master/demos/synthetic_01.wav\",\n",
        "                \"https://github.com/CorentinJ/Real-Time-Voice-Cloning/raw/master/demos/synthetic_02.wav\",\n",
        "                # Voice Conversion Samples\n",
        "                \"https://github.com/babysor/MockingBird/raw/main/demo_synthesized.wav\",\n",
        "                \"https://github.com/babysor/MockingBird/raw/main/demo_record.wav\",\n",
        "                # Text-to-Speech Samples\n",
        "                \"https://github.com/coqui-ai/TTS/raw/main/tests/data/ljspeech/wavs/LJ003-0010.wav\",\n",
        "                \"https://github.com/coqui-ai/TTS/raw/main/tests/data/ljspeech/wavs/LJ003-0009.wav\",\n",
        "                \"https://github.com/coqui-ai/TTS/raw/main/tests/data/ljspeech/wavs/LJ003-0008.wav\",\n",
        "                \"https://github.com/coqui-ai/TTS/raw/main/tests/data/ljspeech/wavs/LJ003-0007.wav\",\n",
        "                \"https://github.com/coqui-ai/TTS/raw/main/tests/data/ljspeech/wavs/LJ003-0006.wav\",\n",
        "                \"https://github.com/coqui-ai/TTS/raw/main/tests/data/ljspeech/wavs/LJ003-0005.wav\"\n",
        "            ]\n",
        "        }\n",
        "    }\n",
        "\n",
        "    results = {\"images\": 0, \"videos\": 0, \"audio\": 0}\n",
        "\n",
        "    for modality, categories in datasets.items():\n",
        "        print(f\"\\n{'='*40}\\nDownloading {modality.upper()} samples\\n{'='*40}\")\n",
        "        for category, urls in categories.items():\n",
        "            print(f\"\\n{category.capitalize()} samples:\")\n",
        "            modality_dir = base_dir / modality / category\n",
        "            for url in urls:\n",
        "                filename = url.split(\"/\")[-1]\n",
        "                dest_path = modality_dir / filename\n",
        "                if download_file(url, dest_path):\n",
        "                    results[modality] += 1\n",
        "\n",
        "    print(\"\\nFinal Report:\")\n",
        "    print(f\"Images downloaded: {results['images']} (10 real + 10 fake)\")\n",
        "    print(f\"Videos downloaded: {results['videos']} (10 real + 10 fake)\")\n",
        "    print(f\"Audio downloaded: {results['audio']} (10 real + 10 fake)\")\n",
        "    print(f\"Total dataset size: {sum(results.values())} files\")\n",
        "    print(f\"Data location: {base_dir.absolute()}\")"
      ],
      "metadata": {
        "id": "pxb5lV48LQyB"
      },
      "execution_count": 3,
      "outputs": []
    },
    {
      "cell_type": "code",
      "source": [
        "if __name__ == \"__main__\":\n",
        "    download_multimodal_subset()"
      ],
      "metadata": {
        "id": "v8dnHHHBYRQo",
        "outputId": "9561bd41-f1d6-4a96-d702-fe98083db76f",
        "colab": {
          "base_uri": "https://localhost:8080/"
        }
      },
      "execution_count": 4,
      "outputs": [
        {
          "output_type": "stream",
          "name": "stdout",
          "text": [
            "\n",
            "========================================\n",
            "Downloading IMAGES samples\n",
            "========================================\n",
            "\n",
            "Real samples:\n",
            "Error downloading https://github.com/switchablenorms/CelebAMask-HQ/raw/master/celeba_hq_256/01000.jpg: 404 Client Error: Not Found for url: https://github.com/switchablenorms/CelebAMask-HQ/raw/master/celeba_hq_256/01000.jpg\n",
            "Error downloading https://github.com/switchablenorms/CelebAMask-HQ/raw/master/celeba_hq_256/01001.jpg: 404 Client Error: Not Found for url: https://github.com/switchablenorms/CelebAMask-HQ/raw/master/celeba_hq_256/01001.jpg\n",
            "Error downloading https://github.com/switchablenorms/CelebAMask-HQ/raw/master/celeba_hq_256/01002.jpg: 404 Client Error: Not Found for url: https://github.com/switchablenorms/CelebAMask-HQ/raw/master/celeba_hq_256/01002.jpg\n",
            "Error downloading https://github.com/switchablenorms/CelebAMask-HQ/raw/master/celeba_hq_256/01003.jpg: 404 Client Error: Not Found for url: https://github.com/switchablenorms/CelebAMask-HQ/raw/master/celeba_hq_256/01003.jpg\n",
            "Error downloading https://github.com/switchablenorms/CelebAMask-HQ/raw/master/celeba_hq_256/01004.jpg: 404 Client Error: Not Found for url: https://github.com/switchablenorms/CelebAMask-HQ/raw/master/celeba_hq_256/01004.jpg\n",
            "Error downloading https://github.com/switchablenorms/CelebAMask-HQ/raw/master/celeba_hq_256/01005.jpg: 404 Client Error: Not Found for url: https://github.com/switchablenorms/CelebAMask-HQ/raw/master/celeba_hq_256/01005.jpg\n",
            "Error downloading https://github.com/switchablenorms/CelebAMask-HQ/raw/master/celeba_hq_256/01006.jpg: 404 Client Error: Not Found for url: https://github.com/switchablenorms/CelebAMask-HQ/raw/master/celeba_hq_256/01006.jpg\n",
            "Error downloading https://github.com/switchablenorms/CelebAMask-HQ/raw/master/celeba_hq_256/01007.jpg: 404 Client Error: Not Found for url: https://github.com/switchablenorms/CelebAMask-HQ/raw/master/celeba_hq_256/01007.jpg\n",
            "Error downloading https://github.com/switchablenorms/CelebAMask-HQ/raw/master/celeba_hq_256/01008.jpg: 404 Client Error: Not Found for url: https://github.com/switchablenorms/CelebAMask-HQ/raw/master/celeba_hq_256/01008.jpg\n",
            "Error downloading https://github.com/switchablenorms/CelebAMask-HQ/raw/master/celeba_hq_256/01009.jpg: 404 Client Error: Not Found for url: https://github.com/switchablenorms/CelebAMask-HQ/raw/master/celeba_hq_256/01009.jpg\n",
            "\n",
            "Fake samples:\n",
            "Error downloading https://github.com/NVlabs/stylegan2/raw/master/images/example-sample/0001.png: 404 Client Error: Not Found for url: https://github.com/NVlabs/stylegan2/raw/master/images/example-sample/0001.png\n",
            "Error downloading https://github.com/NVlabs/stylegan2/raw/master/images/example-sample/0002.png: 404 Client Error: Not Found for url: https://github.com/NVlabs/stylegan2/raw/master/images/example-sample/0002.png\n",
            "Error downloading https://github.com/NVlabs/stylegan2/raw/master/images/example-sample/0003.png: 404 Client Error: Not Found for url: https://github.com/NVlabs/stylegan2/raw/master/images/example-sample/0003.png\n",
            "Error downloading https://github.com/NVlabs/stylegan2/raw/master/images/example-sample/0004.png: 404 Client Error: Not Found for url: https://github.com/NVlabs/stylegan2/raw/master/images/example-sample/0004.png\n",
            "Error downloading https://github.com/NVlabs/stylegan2/raw/master/images/example-sample/0005.png: 404 Client Error: Not Found for url: https://github.com/NVlabs/stylegan2/raw/master/images/example-sample/0005.png\n",
            "Error downloading https://github.com/NVlabs/stylegan2/raw/master/images/example-sample/0006.png: 404 Client Error: Not Found for url: https://github.com/NVlabs/stylegan2/raw/master/images/example-sample/0006.png\n",
            "Error downloading https://github.com/NVlabs/stylegan2/raw/master/images/example-sample/0007.png: 404 Client Error: Not Found for url: https://github.com/NVlabs/stylegan2/raw/master/images/example-sample/0007.png\n",
            "Error downloading https://github.com/NVlabs/stylegan2/raw/master/images/example-sample/0008.png: 404 Client Error: Not Found for url: https://github.com/NVlabs/stylegan2/raw/master/images/example-sample/0008.png\n",
            "Error downloading https://github.com/NVlabs/stylegan2/raw/master/images/example-sample/0009.png: 404 Client Error: Not Found for url: https://github.com/NVlabs/stylegan2/raw/master/images/example-sample/0009.png\n",
            "Error downloading https://github.com/NVlabs/stylegan2/raw/master/images/example-sample/0010.png: 404 Client Error: Not Found for url: https://github.com/NVlabs/stylegan2/raw/master/images/example-sample/0010.png\n",
            "\n",
            "========================================\n",
            "Downloading VIDEOS samples\n",
            "========================================\n",
            "\n",
            "Real samples:\n",
            "Error downloading https://github.com/ondyari/FaceForensics/raw/master/dataset/samples/original_sequences/youtube/raw/videos/0.mp4: 404 Client Error: Not Found for url: https://github.com/ondyari/FaceForensics/raw/master/dataset/samples/original_sequences/youtube/raw/videos/0.mp4\n",
            "Error downloading https://github.com/ondyari/FaceForensics/raw/master/dataset/samples/original_sequences/youtube/raw/videos/1.mp4: 404 Client Error: Not Found for url: https://github.com/ondyari/FaceForensics/raw/master/dataset/samples/original_sequences/youtube/raw/videos/1.mp4\n",
            "Error downloading https://github.com/ondyari/FaceForensics/raw/master/dataset/samples/original_sequences/youtube/raw/videos/2.mp4: 404 Client Error: Not Found for url: https://github.com/ondyari/FaceForensics/raw/master/dataset/samples/original_sequences/youtube/raw/videos/2.mp4\n",
            "Error downloading https://github.com/ondyari/FaceForensics/raw/master/dataset/samples/original_sequences/youtube/raw/videos/3.mp4: 404 Client Error: Not Found for url: https://github.com/ondyari/FaceForensics/raw/master/dataset/samples/original_sequences/youtube/raw/videos/3.mp4\n",
            "Error downloading https://github.com/ondyari/FaceForensics/raw/master/dataset/samples/original_sequences/youtube/raw/videos/4.mp4: 404 Client Error: Not Found for url: https://github.com/ondyari/FaceForensics/raw/master/dataset/samples/original_sequences/youtube/raw/videos/4.mp4\n",
            "Error downloading https://github.com/ondyari/FaceForensics/raw/master/dataset/samples/original_sequences/youtube/raw/videos/5.mp4: 404 Client Error: Not Found for url: https://github.com/ondyari/FaceForensics/raw/master/dataset/samples/original_sequences/youtube/raw/videos/5.mp4\n",
            "Error downloading https://github.com/ondyari/FaceForensics/raw/master/dataset/samples/original_sequences/youtube/raw/videos/6.mp4: 404 Client Error: Not Found for url: https://github.com/ondyari/FaceForensics/raw/master/dataset/samples/original_sequences/youtube/raw/videos/6.mp4\n",
            "Error downloading https://github.com/ondyari/FaceForensics/raw/master/dataset/samples/original_sequences/youtube/raw/videos/7.mp4: 404 Client Error: Not Found for url: https://github.com/ondyari/FaceForensics/raw/master/dataset/samples/original_sequences/youtube/raw/videos/7.mp4\n",
            "Error downloading https://github.com/ondyari/FaceForensics/raw/master/dataset/samples/original_sequences/youtube/raw/videos/8.mp4: 404 Client Error: Not Found for url: https://github.com/ondyari/FaceForensics/raw/master/dataset/samples/original_sequences/youtube/raw/videos/8.mp4\n",
            "Error downloading https://github.com/ondyari/FaceForensics/raw/master/dataset/samples/original_sequences/youtube/raw/videos/9.mp4: 404 Client Error: Not Found for url: https://github.com/ondyari/FaceForensics/raw/master/dataset/samples/original_sequences/youtube/raw/videos/9.mp4\n",
            "\n",
            "Fake samples:\n",
            "Error downloading https://github.com/ondyari/FaceForensics/raw/master/dataset/samples/manipulated_sequences/DeepFakeDetection/raw/videos/0.mp4: 404 Client Error: Not Found for url: https://github.com/ondyari/FaceForensics/raw/master/dataset/samples/manipulated_sequences/DeepFakeDetection/raw/videos/0.mp4\n",
            "Error downloading https://github.com/ondyari/FaceForensics/raw/master/dataset/samples/manipulated_sequences/DeepFakeDetection/raw/videos/1.mp4: 404 Client Error: Not Found for url: https://github.com/ondyari/FaceForensics/raw/master/dataset/samples/manipulated_sequences/DeepFakeDetection/raw/videos/1.mp4\n",
            "Error downloading https://github.com/ondyari/FaceForensics/raw/master/dataset/samples/manipulated_sequences/DeepFakeDetection/raw/videos/2.mp4: 404 Client Error: Not Found for url: https://github.com/ondyari/FaceForensics/raw/master/dataset/samples/manipulated_sequences/DeepFakeDetection/raw/videos/2.mp4\n",
            "Error downloading https://github.com/ondyari/FaceForensics/raw/master/dataset/samples/manipulated_sequences/DeepFakeDetection/raw/videos/3.mp4: 404 Client Error: Not Found for url: https://github.com/ondyari/FaceForensics/raw/master/dataset/samples/manipulated_sequences/DeepFakeDetection/raw/videos/3.mp4\n",
            "Error downloading https://github.com/ondyari/FaceForensics/raw/master/dataset/samples/manipulated_sequences/DeepFakeDetection/raw/videos/4.mp4: 404 Client Error: Not Found for url: https://github.com/ondyari/FaceForensics/raw/master/dataset/samples/manipulated_sequences/DeepFakeDetection/raw/videos/4.mp4\n",
            "Error downloading https://storage.googleapis.com/dfdc_sample_files/dfdc_sample_0.mp4: 404 Client Error: Not Found for url: https://storage.googleapis.com/dfdc_sample_files/dfdc_sample_0.mp4\n",
            "Error downloading https://storage.googleapis.com/dfdc_sample_files/dfdc_sample_1.mp4: 404 Client Error: Not Found for url: https://storage.googleapis.com/dfdc_sample_files/dfdc_sample_1.mp4\n",
            "Error downloading https://storage.googleapis.com/dfdc_sample_files/dfdc_sample_2.mp4: 404 Client Error: Not Found for url: https://storage.googleapis.com/dfdc_sample_files/dfdc_sample_2.mp4\n",
            "Error downloading https://storage.googleapis.com/dfdc_sample_files/dfdc_sample_3.mp4: 404 Client Error: Not Found for url: https://storage.googleapis.com/dfdc_sample_files/dfdc_sample_3.mp4\n",
            "Error downloading https://storage.googleapis.com/dfdc_sample_files/dfdc_sample_4.mp4: 404 Client Error: Not Found for url: https://storage.googleapis.com/dfdc_sample_files/dfdc_sample_4.mp4\n",
            "\n",
            "========================================\n",
            "Downloading AUDIO samples\n",
            "========================================\n",
            "\n",
            "Real samples:\n",
            "Error downloading https://github.com/coqui-ai/TTS/raw/main/tests/data/ljspeech/wavs/LJ003-0001.wav: 404 Client Error: Not Found for url: https://github.com/coqui-ai/TTS/raw/main/tests/data/ljspeech/wavs/LJ003-0001.wav\n",
            "Error downloading https://github.com/coqui-ai/TTS/raw/main/tests/data/ljspeech/wavs/LJ003-0002.wav: 404 Client Error: Not Found for url: https://github.com/coqui-ai/TTS/raw/main/tests/data/ljspeech/wavs/LJ003-0002.wav\n",
            "Error downloading https://github.com/coqui-ai/TTS/raw/main/tests/data/ljspeech/wavs/LJ003-0003.wav: 404 Client Error: Not Found for url: https://github.com/coqui-ai/TTS/raw/main/tests/data/ljspeech/wavs/LJ003-0003.wav\n",
            "Error downloading https://github.com/coqui-ai/TTS/raw/main/tests/data/ljspeech/wavs/LJ003-0004.wav: 404 Client Error: Not Found for url: https://github.com/coqui-ai/TTS/raw/main/tests/data/ljspeech/wavs/LJ003-0004.wav\n",
            "Error downloading https://github.com/coqui-ai/TTS/raw/main/tests/data/ljspeech/wavs/LJ003-0005.wav: 404 Client Error: Not Found for url: https://github.com/coqui-ai/TTS/raw/main/tests/data/ljspeech/wavs/LJ003-0005.wav\n",
            "Error downloading https://github.com/coqui-ai/TTS/raw/main/tests/data/ljspeech/wavs/LJ003-0006.wav: 404 Client Error: Not Found for url: https://github.com/coqui-ai/TTS/raw/main/tests/data/ljspeech/wavs/LJ003-0006.wav\n",
            "Error downloading https://github.com/coqui-ai/TTS/raw/main/tests/data/ljspeech/wavs/LJ003-0007.wav: 404 Client Error: Not Found for url: https://github.com/coqui-ai/TTS/raw/main/tests/data/ljspeech/wavs/LJ003-0007.wav\n",
            "Error downloading https://github.com/coqui-ai/TTS/raw/main/tests/data/ljspeech/wavs/LJ003-0008.wav: 404 Client Error: Not Found for url: https://github.com/coqui-ai/TTS/raw/main/tests/data/ljspeech/wavs/LJ003-0008.wav\n",
            "Error downloading https://github.com/coqui-ai/TTS/raw/main/tests/data/ljspeech/wavs/LJ003-0009.wav: 404 Client Error: Not Found for url: https://github.com/coqui-ai/TTS/raw/main/tests/data/ljspeech/wavs/LJ003-0009.wav\n",
            "Error downloading https://github.com/coqui-ai/TTS/raw/main/tests/data/ljspeech/wavs/LJ003-0010.wav: 404 Client Error: Not Found for url: https://github.com/coqui-ai/TTS/raw/main/tests/data/ljspeech/wavs/LJ003-0010.wav\n",
            "\n",
            "Fake samples:\n",
            "Error downloading https://github.com/CorentinJ/Real-Time-Voice-Cloning/raw/master/demos/synthetic_01.wav: 404 Client Error: Not Found for url: https://github.com/CorentinJ/Real-Time-Voice-Cloning/raw/master/demos/synthetic_01.wav\n",
            "Error downloading https://github.com/CorentinJ/Real-Time-Voice-Cloning/raw/master/demos/synthetic_02.wav: 404 Client Error: Not Found for url: https://github.com/CorentinJ/Real-Time-Voice-Cloning/raw/master/demos/synthetic_02.wav\n",
            "Error downloading https://github.com/babysor/MockingBird/raw/main/demo_synthesized.wav: 404 Client Error: Not Found for url: https://github.com/babysor/MockingBird/raw/main/demo_synthesized.wav\n",
            "Error downloading https://github.com/babysor/MockingBird/raw/main/demo_record.wav: 404 Client Error: Not Found for url: https://github.com/babysor/MockingBird/raw/main/demo_record.wav\n",
            "Error downloading https://github.com/coqui-ai/TTS/raw/main/tests/data/ljspeech/wavs/LJ003-0010.wav: 404 Client Error: Not Found for url: https://github.com/coqui-ai/TTS/raw/main/tests/data/ljspeech/wavs/LJ003-0010.wav\n",
            "Error downloading https://github.com/coqui-ai/TTS/raw/main/tests/data/ljspeech/wavs/LJ003-0009.wav: 404 Client Error: Not Found for url: https://github.com/coqui-ai/TTS/raw/main/tests/data/ljspeech/wavs/LJ003-0009.wav\n",
            "Error downloading https://github.com/coqui-ai/TTS/raw/main/tests/data/ljspeech/wavs/LJ003-0008.wav: 404 Client Error: Not Found for url: https://github.com/coqui-ai/TTS/raw/main/tests/data/ljspeech/wavs/LJ003-0008.wav\n",
            "Error downloading https://github.com/coqui-ai/TTS/raw/main/tests/data/ljspeech/wavs/LJ003-0007.wav: 404 Client Error: Not Found for url: https://github.com/coqui-ai/TTS/raw/main/tests/data/ljspeech/wavs/LJ003-0007.wav\n",
            "Error downloading https://github.com/coqui-ai/TTS/raw/main/tests/data/ljspeech/wavs/LJ003-0006.wav: 404 Client Error: Not Found for url: https://github.com/coqui-ai/TTS/raw/main/tests/data/ljspeech/wavs/LJ003-0006.wav\n",
            "Error downloading https://github.com/coqui-ai/TTS/raw/main/tests/data/ljspeech/wavs/LJ003-0005.wav: 404 Client Error: Not Found for url: https://github.com/coqui-ai/TTS/raw/main/tests/data/ljspeech/wavs/LJ003-0005.wav\n",
            "\n",
            "Final Report:\n",
            "Images downloaded: 0 (10 real + 10 fake)\n",
            "Videos downloaded: 0 (10 real + 10 fake)\n",
            "Audio downloaded: 0 (10 real + 10 fake)\n",
            "Total dataset size: 0 files\n",
            "Data location: /content/multimodal_deepfake_data\n"
          ]
        }
      ]
    },
    {
      "cell_type": "code",
      "source": [],
      "metadata": {
        "id": "o-JlIK1KUdP0"
      },
      "execution_count": null,
      "outputs": []
    }
  ]
}