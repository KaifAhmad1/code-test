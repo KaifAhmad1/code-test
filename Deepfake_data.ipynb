{
  "nbformat": 4,
  "nbformat_minor": 0,
  "metadata": {
    "colab": {
      "provenance": [],
      "authorship_tag": "ABX9TyO13UMJFQaBn9f7cSy+SiYi",
      "include_colab_link": true
    },
    "kernelspec": {
      "name": "python3",
      "display_name": "Python 3"
    },
    "language_info": {
      "name": "python"
    }
  },
  "cells": [
    {
      "cell_type": "markdown",
      "metadata": {
        "id": "view-in-github",
        "colab_type": "text"
      },
      "source": [
        "<a href=\"https://colab.research.google.com/github/KaifAhmad1/code-test/blob/main/Deepfake_data.ipynb\" target=\"_parent\"><img src=\"https://colab.research.google.com/assets/colab-badge.svg\" alt=\"Open In Colab\"/></a>"
      ]
    },
    {
      "cell_type": "code",
      "execution_count": 1,
      "metadata": {
        "id": "3adQdF8KJWyE"
      },
      "outputs": [],
      "source": [
        "!pip install -qU kaggle"
      ]
    },
    {
      "cell_type": "code",
      "source": [
        "import os\n",
        "import json\n",
        "import sys\n",
        "import pandas as pd\n",
        "from pathlib import Path"
      ],
      "metadata": {
        "id": "E5SKXUPiJobX"
      },
      "execution_count": null,
      "outputs": []
    },
    {
      "cell_type": "code",
      "source": [
        "def init_kaggle_api(username=None, key=None):\n",
        "    \"\"\"\n",
        "    Manually initialize Kaggle API with credentials.\n",
        "    \"\"\"\n",
        "    if username and key:\n",
        "        os.environ['KAGGLE_USERNAME'] = username\n",
        "        os.environ['KAGGLE_KEY'] = key\n",
        "\n",
        "    api = KaggleApi()\n",
        "    api.authenticate()\n",
        "    return api"
      ],
      "metadata": {
        "id": "pxb5lV48LQyB"
      },
      "execution_count": 3,
      "outputs": []
    },
    {
      "cell_type": "code",
      "source": [
        "def setup_kaggle_credentials(username, key):\n",
        "    \"\"\"\n",
        "    Set up Kaggle API credentials\n",
        "    \"\"\"\n",
        "    try:\n",
        "        kaggle_dir = Path.home() / '.kaggle'\n",
        "        kaggle_dir.mkdir(parents=True, exist_ok=True)\n",
        "\n",
        "        credentials = {\n",
        "            \"username\": username,\n",
        "            \"key\": key\n",
        "        }\n",
        "\n",
        "        credentials_path = kaggle_dir / 'kaggle.json'\n",
        "        with open(credentials_path, 'w') as f:\n",
        "            json.dump(credentials, f)\n",
        "\n",
        "        os.chmod(credentials_path, 0o600)\n",
        "        print(f\"Credentials saved to: {credentials_path}\")\n",
        "        return True\n",
        "    except Exception as e:\n",
        "        print(f\"Error setting up credentials: {str(e)}\")\n",
        "        return False"
      ],
      "metadata": {
        "id": "hIuYiE3mNnOZ"
      },
      "execution_count": 4,
      "outputs": []
    },
    {
      "cell_type": "code",
      "source": [
        "def download_dfdc_dataset(api, subset_size=None):\n",
        "    \"\"\"\n",
        "    Download the DFDC Preview dataset.\n",
        "\n",
        "    Parameters:\n",
        "    api (KaggleApi): Initialized Kaggle API instance\n",
        "    subset_size (int): Number of videos to download (None for all)\n",
        "    \"\"\"\n",
        "    try:\n",
        "        # DFDC Preview dataset path\n",
        "        dataset_path = 'selimsef/dfdc-preview-face-forensics'\n",
        "\n",
        "        # Create download directory\n",
        "        base_dir = os.path.join(os.path.expanduser('~'), 'Downloads', 'dfdc_dataset')\n",
        "        os.makedirs(base_dir, exist_ok=True)\n",
        "\n",
        "        print(\"Downloading DFDC Preview dataset...\")\n",
        "\n",
        "        # Download the entire dataset\n",
        "        api.dataset_download_files(dataset_path, path=base_dir, unzip=True)\n",
        "\n",
        "        # Load metadata\n",
        "        metadata_path = os.path.join(base_dir, 'metadata.json')\n",
        "        if os.path.exists(metadata_path):\n",
        "            with open(metadata_path, 'r') as f:\n",
        "                metadata = json.load(f)\n",
        "\n",
        "            # Create a summary DataFrame\n",
        "            df = pd.DataFrame(metadata.items(), columns=['filename', 'label'])\n",
        "            print(\"\\nDataset Summary:\")\n",
        "            print(f\"Total videos: {len(df)}\")\n",
        "            print(f\"Real videos: {len(df[df['label'] == 'REAL'])}\")\n",
        "            print(f\"Fake videos: {len(df[df['label'] == 'FAKE'])}\")\n",
        "\n",
        "            # Save summary to CSV\n",
        "            summary_path = os.path.join(base_dir, 'summary.csv')\n",
        "            df.to_csv(summary_path, index=False)\n",
        "            print(f\"\\nSummary saved to: {summary_path}\")\n",
        "\n",
        "        print(f\"\\nDownload complete! Files saved to: {base_dir}\")\n",
        "        print(\"\\nFolder structure:\")\n",
        "        print(f\"{base_dir}/\")\n",
        "        print(\"├── metadata.json\")\n",
        "        print(\"├── summary.csv\")\n",
        "        print(\"└── videos/\")\n",
        "        return True\n",
        "\n",
        "    except Exception as e:\n",
        "        print(f\"Error downloading dataset: {str(e)}\")\n",
        "        return False"
      ],
      "metadata": {
        "id": "Ij4LL0xsNnQi"
      },
      "execution_count": 5,
      "outputs": []
    },
    {
      "cell_type": "code",
      "source": [
        "def main():\n",
        "    print(\"Welcome to the DFDC Dataset Downloader!\")\n",
        "    print(\"This script will download the Deepfake Detection Challenge Preview Dataset.\")\n",
        "\n",
        "    # Get credentials\n",
        "    username = input(\"Enter Kaggle username: \")\n",
        "    key = input(\"Enter Kaggle API key: \")\n",
        "\n",
        "    try:\n",
        "        # Initialize API\n",
        "        api = init_kaggle_api(username, key)\n",
        "        print(\"API initialized successfully!\")\n",
        "\n",
        "        # Offer to save credentials\n",
        "        save = input(\"Would you like to save these credentials for future use? (y/n): \")\n",
        "        if save.lower() == 'y':\n",
        "            setup_kaggle_credentials(username, key)\n",
        "\n",
        "        # Download dataset\n",
        "        if download_dfdc_dataset(api):\n",
        "            print(\"\\nScript completed successfully!\")\n",
        "            print(\"\\nNote: The dataset includes both real and manipulated videos.\")\n",
        "            print(\"You can find the labels in the metadata.json file.\")\n",
        "        else:\n",
        "            print(\"Script failed to complete.\")\n",
        "\n",
        "    except Exception as e:\n",
        "        print(f\"Error: {str(e)}\")\n",
        "        sys.exit(1)\n",
        "\n",
        "if __name__ == \"__main__\":\n",
        "    main()"
      ],
      "metadata": {
        "colab": {
          "base_uri": "https://localhost:8080/"
        },
        "id": "RAkBNf4mNnTQ",
        "outputId": "c1cfcdee-d73b-47f4-8afa-7e5e3a87c4b3"
      },
      "execution_count": null,
      "outputs": [
        {
          "output_type": "stream",
          "name": "stdout",
          "text": [
            "Welcome to the DFDC Dataset Downloader!\n",
            "This script will download the Deepfake Detection Challenge Preview Dataset.\n"
          ]
        }
      ]
    },
    {
      "cell_type": "code",
      "source": [],
      "metadata": {
        "id": "w91bWyvKNnWt"
      },
      "execution_count": null,
      "outputs": []
    }
  ]
}