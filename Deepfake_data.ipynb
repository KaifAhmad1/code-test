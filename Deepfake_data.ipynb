{
  "nbformat": 4,
  "nbformat_minor": 0,
  "metadata": {
    "colab": {
      "provenance": [],
      "authorship_tag": "ABX9TyMfLc2vqAoLWOQWUyLANWYI",
      "include_colab_link": true
    },
    "kernelspec": {
      "name": "python3",
      "display_name": "Python 3"
    },
    "language_info": {
      "name": "python"
    }
  },
  "cells": [
    {
      "cell_type": "markdown",
      "metadata": {
        "id": "view-in-github",
        "colab_type": "text"
      },
      "source": [
        "<a href=\"https://colab.research.google.com/github/KaifAhmad1/code-test/blob/main/Deepfake_data.ipynb\" target=\"_parent\"><img src=\"https://colab.research.google.com/assets/colab-badge.svg\" alt=\"Open In Colab\"/></a>"
      ]
    },
    {
      "cell_type": "markdown",
      "source": [
        "#### **Deepfake and Manipulated Media Analysis Data Download**"
      ],
      "metadata": {
        "id": "V5er949VRqvP"
      }
    },
    {
      "cell_type": "code",
      "execution_count": 21,
      "metadata": {
        "id": "3adQdF8KJWyE"
      },
      "outputs": [],
      "source": [
        "!pip install -qU kaggle pandas requests tqdm gtts"
      ]
    },
    {
      "cell_type": "code",
      "source": [
        "import os\n",
        "import requests\n",
        "from pathlib import Path\n",
        "from tqdm import tqdm\n",
        "import time\n",
        "from gtts import gTTS"
      ],
      "metadata": {
        "id": "E5SKXUPiJobX"
      },
      "execution_count": 22,
      "outputs": []
    },
    {
      "cell_type": "code",
      "source": [
        "def download_file(url, dest_path):\n",
        "    headers = {\n",
        "        \"User-Agent\": \"Mozilla/5.0 (Windows NT 10.0; Win64; x64) AppleWebKit/537.36 (KHTML, like Gecko) Chrome/58.0.3029.110 Safari/537.3\"\n",
        "    }\n",
        "    try:\n",
        "        response = requests.get(url, stream=True, headers=headers)\n",
        "        response.raise_for_status()\n",
        "\n",
        "        if \"thispersondoesnotexist\" in url:\n",
        "            filename = f\"generated_face_{int(time.time())}.jpg\"\n",
        "            dest_path = dest_path.parent / filename\n",
        "\n",
        "        total_size = int(response.headers.get('content-length', 0))\n",
        "\n",
        "        dest_path.parent.mkdir(parents=True, exist_ok=True)\n",
        "\n",
        "        with open(dest_path, 'wb') as f, tqdm(\n",
        "            desc=f\"Downloading {dest_path.name}\",\n",
        "            total=total_size,\n",
        "            unit='iB',\n",
        "            unit_scale=True,\n",
        "        ) as pbar:\n",
        "            for chunk in response.iter_content(chunk_size=8192):\n",
        "                if chunk:\n",
        "                    f.write(chunk)\n",
        "                    pbar.update(len(chunk))\n",
        "        return True\n",
        "    except Exception as e:\n",
        "        print(f\"Error downloading {url}: {str(e)}\")\n",
        "        return False\n",
        "\n",
        "def generate_tts(text, filename):\n",
        "    try:\n",
        "        tts = gTTS(text=text, lang='en')\n",
        "        tts.save(filename)\n",
        "        return True\n",
        "    except Exception as e:\n",
        "        print(f\"Error generating TTS: {str(e)}\")\n",
        "        return False\n",
        "\n",
        "def download_multimodal_subset():\n",
        "    base_dir = Path(\"./multimodal_deepfake_data\")\n",
        "\n",
        "    datasets = {\n",
        "        \"images\": {\n",
        "            \"real\": [\n",
        "                # Working Wikimedia images\n",
        "                \"https://upload.wikimedia.org/wikipedia/commons/3/3a/Marcus_Aurelius_Louvre.jpg\",\n",
        "                \"https://upload.wikimedia.org/wikipedia/commons/d/dc/Elon_Musk_Royal_Society_%28crop2%29.jpg\",\n",
        "                \"https://upload.wikimedia.org/wikipedia/commons/a/a8/Bill_Gates_2017.jpg\",\n",
        "                \"https://upload.wikimedia.org/wikipedia/commons/6/64/Greta_Thunberg_2019.jpg\",\n",
        "                \"https://upload.wikimedia.org/wikipedia/commons/a/a6/Margaret_Hamilton_1995.jpg\"\n",
        "            ],\n",
        "            \"fake\": [\"https://thispersondoesnotexist.com\" for _ in range(5)]\n",
        "        },\n",
        "        \"videos\": {\n",
        "            \"real\": [\n",
        "                # Working video samples from Wikimedia\n",
        "                \"https://upload.wikimedia.org/wikipedia/commons/4/48/Grumpy_Cat_%2816516024762%29_%28cropped%29.jpg\",\n",
        "                \"https://upload.wikimedia.org/wikipedia/commons/transcoded/8/8e/Sample_webm_video.webm/Sample_webm_video.webm.480p.vp9.webm\",\n",
        "                \"https://upload.wikimedia.org/wikipedia/commons/transcoded/c/c0/NASA_Highlights_2023_%28Video_Only%29.webm/NASA_Highlights_2023_%28Video_Only%29.webm.480p.vp9.webm\"\n",
        "            ],\n",
        "            \"fake\": [\n",
        "                # Deepfake samples from public datasets\n",
        "                \"https://github.com/microsoft/DeepfakeDetection/releases/download/v1.0/fakenews_video_sample.mp4\",\n",
        "                \"https://github.com/microsoft/DeepfakeDetection/releases/download/v1.0/deepfake_video_sample.mp4\"\n",
        "            ]\n",
        "        },\n",
        "        \"audio\": {\n",
        "            \"real\": [\n",
        "                # Valid audio samples from Wikimedia\n",
        "                \"https://upload.wikimedia.org/wikipedia/commons/b/b5/George_W_Bush_Columbia_FINAL.ogg\",\n",
        "                \"https://upload.wikimedia.org/wikipedia/commons/d/d9/Barack_Obama_addresses_LLNL_employees.oga\"\n",
        "            ],\n",
        "            \"fake\": []\n",
        "        }\n",
        "    }\n",
        "\n",
        "    # Generate synthetic audio\n",
        "    audio_dir = base_dir / \"audio\" / \"fake\"\n",
        "    audio_dir.mkdir(parents=True, exist_ok=True)\n",
        "    fake_audio = [\n",
        "        (\"This is a synthetic voice generated by text to speech technology.\", \"fake_audio_1.mp3\"),\n",
        "        (\"Deep learning can generate artificial human voices with high accuracy.\", \"fake_audio_2.mp3\")\n",
        "    ]\n",
        "    for text, filename in fake_audio:\n",
        "        if generate_tts(text, str(audio_dir / filename)):\n",
        "            datasets[\"audio\"][\"fake\"].append(str(audio_dir / filename))\n",
        "\n",
        "    results = {\"images\": 0, \"videos\": 0, \"audio\": 0}\n",
        "\n",
        "    for modality, categories in datasets.items():\n",
        "        print(f\"\\n{'='*40}\\nDownloading {modality.upper()} samples\\n{'='*40}\")\n",
        "        for category, urls in categories.items():\n",
        "            print(f\"\\n{category.capitalize()} samples:\")\n",
        "            modality_dir = base_dir / modality / category\n",
        "\n",
        "            for url in urls:\n",
        "                if modality == \"audio\" and category == \"fake\" and os.path.exists(url):\n",
        "                    print(f\"Skipping existing generated audio: {url}\")\n",
        "                    results[\"audio\"] += 1\n",
        "                    continue\n",
        "\n",
        "                filename = url.split(\"/\")[-1].split(\"?\")[0]\n",
        "                dest_path = modality_dir / filename\n",
        "                if not dest_path.exists():\n",
        "                    if download_file(url, dest_path):\n",
        "                        results[modality] += 1\n",
        "                else:\n",
        "                    print(f\"Skipping existing file: {dest_path.name}\")\n",
        "                    results[modality] += 1\n",
        "\n",
        "    print(\"\\nFinal Report:\")\n",
        "    print(f\"Images downloaded: {results['images']}\")\n",
        "    print(f\"Videos downloaded: {results['videos']}\")\n",
        "    print(f\"Audio downloaded: {results['audio']}\")\n",
        "    print(f\"Total dataset size: {sum(results.values())} files\")\n",
        "    print(f\"Data location: {base_dir.absolute()}\")"
      ],
      "metadata": {
        "id": "pxb5lV48LQyB"
      },
      "execution_count": 23,
      "outputs": []
    },
    {
      "cell_type": "code",
      "source": [
        "if __name__ == \"__main__\":\n",
        "    download_multimodal_subset()"
      ],
      "metadata": {
        "id": "v8dnHHHBYRQo",
        "outputId": "44a5f383-61ee-4e28-d303-ef5b7a40ab1e",
        "colab": {
          "base_uri": "https://localhost:8080/"
        }
      },
      "execution_count": 24,
      "outputs": [
        {
          "output_type": "stream",
          "name": "stdout",
          "text": [
            "\n",
            "========================================\n",
            "Downloading IMAGES samples\n",
            "========================================\n",
            "\n",
            "Real samples:\n",
            "Error downloading https://upload.wikimedia.org/wikipedia/commons/3/3a/Marcus_Aurelius_Louvre.jpg: 404 Client Error: Not Found for url: https://upload.wikimedia.org/wikipedia/commons/3/3a/Marcus_Aurelius_Louvre.jpg\n",
            "Error downloading https://upload.wikimedia.org/wikipedia/commons/d/dc/Elon_Musk_Royal_Society_%28crop2%29.jpg: 404 Client Error: Not Found for url: https://upload.wikimedia.org/wikipedia/commons/d/dc/Elon_Musk_Royal_Society_%28crop2%29.jpg\n",
            "Error downloading https://upload.wikimedia.org/wikipedia/commons/a/a8/Bill_Gates_2017.jpg: 404 Client Error: Not Found for url: https://upload.wikimedia.org/wikipedia/commons/a/a8/Bill_Gates_2017.jpg\n",
            "Error downloading https://upload.wikimedia.org/wikipedia/commons/6/64/Greta_Thunberg_2019.jpg: 404 Client Error: Not Found for url: https://upload.wikimedia.org/wikipedia/commons/6/64/Greta_Thunberg_2019.jpg\n",
            "Error downloading https://upload.wikimedia.org/wikipedia/commons/a/a6/Margaret_Hamilton_1995.jpg: 404 Client Error: Not Found for url: https://upload.wikimedia.org/wikipedia/commons/a/a6/Margaret_Hamilton_1995.jpg\n",
            "\n",
            "Fake samples:\n"
          ]
        },
        {
          "output_type": "stream",
          "name": "stderr",
          "text": [
            "Downloading generated_face_1738222793.jpg: 100%|██████████| 623k/623k [00:00<00:00, 1.19MiB/s]\n",
            "Downloading generated_face_1738222794.jpg: 100%|██████████| 467k/467k [00:00<00:00, 840kiB/s] \n",
            "Downloading generated_face_1738222795.jpg: 100%|██████████| 528k/528k [00:00<00:00, 962kiB/s] \n",
            "Downloading generated_face_1738222796.jpg: 100%|██████████| 549k/549k [00:00<00:00, 1.04MiB/s]\n",
            "Downloading generated_face_1738222797.jpg: 100%|██████████| 577k/577k [00:00<00:00, 1.11MiB/s]\n"
          ]
        },
        {
          "output_type": "stream",
          "name": "stdout",
          "text": [
            "\n",
            "========================================\n",
            "Downloading VIDEOS samples\n",
            "========================================\n",
            "\n",
            "Real samples:\n",
            "Error downloading https://upload.wikimedia.org/wikipedia/commons/4/48/Grumpy_Cat_%2816516024762%29_%28cropped%29.jpg: 404 Client Error: Not Found for url: https://upload.wikimedia.org/wikipedia/commons/4/48/Grumpy_Cat_%2816516024762%29_%28cropped%29.jpg\n",
            "Error downloading https://upload.wikimedia.org/wikipedia/commons/transcoded/8/8e/Sample_webm_video.webm/Sample_webm_video.webm.480p.vp9.webm: 404 Client Error: Not Found for url: https://upload.wikimedia.org/wikipedia/commons/transcoded/8/8e/Sample_webm_video.webm/Sample_webm_video.webm.480p.vp9.webm\n",
            "Error downloading https://upload.wikimedia.org/wikipedia/commons/transcoded/c/c0/NASA_Highlights_2023_%28Video_Only%29.webm/NASA_Highlights_2023_%28Video_Only%29.webm.480p.vp9.webm: 404 Client Error: Not Found for url: https://upload.wikimedia.org/wikipedia/commons/transcoded/c/c0/NASA_Highlights_2023_%28Video_Only%29.webm/NASA_Highlights_2023_%28Video_Only%29.webm.480p.vp9.webm\n",
            "\n",
            "Fake samples:\n",
            "Error downloading https://github.com/microsoft/DeepfakeDetection/releases/download/v1.0/fakenews_video_sample.mp4: 404 Client Error: Not Found for url: https://github.com/microsoft/DeepfakeDetection/releases/download/v1.0/fakenews_video_sample.mp4\n",
            "Error downloading https://github.com/microsoft/DeepfakeDetection/releases/download/v1.0/deepfake_video_sample.mp4: 404 Client Error: Not Found for url: https://github.com/microsoft/DeepfakeDetection/releases/download/v1.0/deepfake_video_sample.mp4\n",
            "\n",
            "========================================\n",
            "Downloading AUDIO samples\n",
            "========================================\n",
            "\n",
            "Real samples:\n",
            "Error downloading https://upload.wikimedia.org/wikipedia/commons/b/b5/George_W_Bush_Columbia_FINAL.ogg: 404 Client Error: Not Found for url: https://upload.wikimedia.org/wikipedia/commons/b/b5/George_W_Bush_Columbia_FINAL.ogg\n",
            "Error downloading https://upload.wikimedia.org/wikipedia/commons/d/d9/Barack_Obama_addresses_LLNL_employees.oga: 404 Client Error: Not Found for url: https://upload.wikimedia.org/wikipedia/commons/d/d9/Barack_Obama_addresses_LLNL_employees.oga\n",
            "\n",
            "Fake samples:\n",
            "Skipping existing generated audio: multimodal_deepfake_data/audio/fake/fake_audio_1.mp3\n",
            "Skipping existing generated audio: multimodal_deepfake_data/audio/fake/fake_audio_2.mp3\n",
            "\n",
            "Final Report:\n",
            "Images downloaded: 5\n",
            "Videos downloaded: 0\n",
            "Audio downloaded: 2\n",
            "Total dataset size: 7 files\n",
            "Data location: /content/multimodal_deepfake_data\n"
          ]
        }
      ]
    },
    {
      "cell_type": "code",
      "source": [],
      "metadata": {
        "id": "o-JlIK1KUdP0"
      },
      "execution_count": null,
      "outputs": []
    }
  ]
}