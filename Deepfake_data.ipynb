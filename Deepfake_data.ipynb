{
  "nbformat": 4,
  "nbformat_minor": 0,
  "metadata": {
    "colab": {
      "provenance": [],
      "authorship_tag": "ABX9TyNMuKmPDJlKxNqlH6wjgTMG",
      "include_colab_link": true
    },
    "kernelspec": {
      "name": "python3",
      "display_name": "Python 3"
    },
    "language_info": {
      "name": "python"
    }
  },
  "cells": [
    {
      "cell_type": "markdown",
      "metadata": {
        "id": "view-in-github",
        "colab_type": "text"
      },
      "source": [
        "<a href=\"https://colab.research.google.com/github/KaifAhmad1/code-test/blob/main/Deepfake_data.ipynb\" target=\"_parent\"><img src=\"https://colab.research.google.com/assets/colab-badge.svg\" alt=\"Open In Colab\"/></a>"
      ]
    },
    {
      "cell_type": "markdown",
      "source": [
        "#### **Deepfake and Manipulated Media Analysis Data Download**"
      ],
      "metadata": {
        "id": "V5er949VRqvP"
      }
    },
    {
      "cell_type": "code",
      "execution_count": 29,
      "metadata": {
        "id": "3adQdF8KJWyE"
      },
      "outputs": [],
      "source": [
        "!pip install -q datasets pandas pillow tqdm"
      ]
    },
    {
      "cell_type": "code",
      "source": [
        "import os\n",
        "from pathlib import Path\n",
        "import pandas as pd\n",
        "from datasets import load_dataset\n",
        "import shutil\n",
        "from tqdm import tqdm\n",
        "import numpy as np\n",
        "from PIL import Image\n",
        "import io"
      ],
      "metadata": {
        "id": "E5SKXUPiJobX"
      },
      "execution_count": 30,
      "outputs": []
    },
    {
      "cell_type": "code",
      "source": [
        "def download_subset():\n",
        "    base_dir = Path(\"./deepfake_test_dataset\")\n",
        "    base_dir.mkdir(parents=True, exist_ok=True)\n",
        "\n",
        "    metadata = []\n",
        "\n",
        "    # 1. Images - Using \"DuckBill/DFImages\" dataset\n",
        "    print(\"\\nProcessing Images...\")\n",
        "    image_dataset = load_dataset(\"DuckBill/DFImages\", split=\"train\")\n",
        "\n",
        "    image_dir = base_dir / \"images\"\n",
        "    for category in ['real', 'fake']:\n",
        "        (image_dir / category).mkdir(parents=True, exist_ok=True)\n",
        "\n",
        "        # Filter and select samples\n",
        "        category_samples = image_dataset.filter(lambda x: x['label'] == (0 if category == 'real' else 1))\n",
        "        selected_samples = category_samples.select(range(5))\n",
        "\n",
        "        for i, sample in enumerate(selected_samples):\n",
        "            img = sample['image']\n",
        "            img_path = image_dir / category / f\"{category}_{i:03d}.jpg\"\n",
        "            img.save(str(img_path))\n",
        "\n",
        "            metadata.append({\n",
        "                'modality': 'image',\n",
        "                'category': category,\n",
        "                'filename': img_path.name,\n",
        "                'file_path': str(img_path),\n",
        "                'source_dataset': 'DFImages'\n",
        "            })\n",
        "\n",
        "    # 2. Videos - Using \"dawn-dai/deepfake-video\" dataset\n",
        "    print(\"\\nProcessing Videos...\")\n",
        "    video_dataset = load_dataset(\"dawn-dai/deepfake-video\", split=\"train\")\n",
        "\n",
        "    video_dir = base_dir / \"videos\"\n",
        "    for category in ['real', 'fake']:\n",
        "        (video_dir / category).mkdir(parents=True, exist_ok=True)\n",
        "\n",
        "        # Filter and select samples\n",
        "        category_samples = video_dataset.filter(lambda x: x['label'] == (0 if category == 'real' else 1))\n",
        "        selected_samples = category_samples.select(range(5))\n",
        "\n",
        "        for i, sample in enumerate(selected_samples):\n",
        "            video_path = video_dir / category / f\"{category}_{i:03d}.mp4\"\n",
        "            with open(video_path, 'wb') as f:\n",
        "                f.write(sample['video'])\n",
        "\n",
        "            metadata.append({\n",
        "                'modality': 'video',\n",
        "                'category': category,\n",
        "                'filename': video_path.name,\n",
        "                'file_path': str(video_path),\n",
        "                'source_dataset': 'deepfake-video'\n",
        "            })\n",
        "\n",
        "    # 3. Audio - Using \"spraakbanken/wav2vec2-large-voxrex-swedish\" for real samples\n",
        "    # and generating fake ones with different voice models\n",
        "    print(\"\\nProcessing Audio...\")\n",
        "    audio_dataset = load_dataset(\"spraakbanken/wav2vec2-large-voxrex-swedish\", split=\"train\")\n",
        "\n",
        "    audio_dir = base_dir / \"audio\"\n",
        "    for category in ['real', 'fake']:\n",
        "        (audio_dir / category).mkdir(parents=True, exist_ok=True)\n",
        "\n",
        "        # For real audio, use genuine speech samples\n",
        "        if category == 'real':\n",
        "            selected_samples = audio_dataset.select(range(5))\n",
        "            for i, sample in enumerate(selected_samples):\n",
        "                audio_path = audio_dir / category / f\"{category}_{i:03d}.wav\"\n",
        "                with open(audio_path, 'wb') as f:\n",
        "                    f.write(sample['audio']['bytes'])\n",
        "\n",
        "                metadata.append({\n",
        "                    'modality': 'audio',\n",
        "                    'category': 'real',\n",
        "                    'filename': audio_path.name,\n",
        "                    'file_path': str(audio_path),\n",
        "                    'source_dataset': 'wav2vec2-large-voxrex-swedish'\n",
        "                })\n",
        "\n",
        "        # For fake audio, use the FakeYou dataset\n",
        "        else:\n",
        "            fake_audio_dataset = load_dataset(\"google/fakeyou\", split=\"train\")\n",
        "            selected_samples = fake_audio_dataset.select(range(5))\n",
        "            for i, sample in enumerate(selected_samples):\n",
        "                audio_path = audio_dir / category / f\"{category}_{i:03d}.wav\"\n",
        "                with open(audio_path, 'wb') as f:\n",
        "                    f.write(sample['audio']['bytes'])\n",
        "\n",
        "                metadata.append({\n",
        "                    'modality': 'audio',\n",
        "                    'category': 'fake',\n",
        "                    'filename': audio_path.name,\n",
        "                    'file_path': str(audio_path),\n",
        "                    'source_dataset': 'fakeyou'\n",
        "                })\n",
        "\n",
        "    # Save metadata\n",
        "    metadata_df = pd.DataFrame(metadata)\n",
        "    metadata_df.to_csv(base_dir / 'metadata.csv', index=False)\n",
        "\n",
        "    # Print summary\n",
        "    print(\"\\nDataset Collection Summary:\")\n",
        "    summary = metadata_df.groupby(['modality', 'category']).size().unstack(fill_value=0)\n",
        "    print(summary)\n",
        "    print(f\"\\nDataset location: {base_dir.absolute()}\")\n",
        "    print(f\"Metadata file: {base_dir/'metadata.csv'}\")\n",
        "\n",
        "    return base_dir, metadata_df"
      ],
      "metadata": {
        "id": "pxb5lV48LQyB"
      },
      "execution_count": 31,
      "outputs": []
    },
    {
      "cell_type": "code",
      "source": [
        "if __name__ == \"__main__\":\n",
        "    import datasets\n",
        "    datasets.logging.set_verbosity_error()  # Reduce logging noise\n",
        "\n",
        "    try:\n",
        "        base_dir, metadata = download_subset()\n",
        "    except Exception as e:\n",
        "        print(f\"Error: {str(e)}\")"
      ],
      "metadata": {
        "id": "v8dnHHHBYRQo",
        "outputId": "09af8e66-d17d-4e33-9bfd-a80abef79f51",
        "colab": {
          "base_uri": "https://localhost:8080/"
        }
      },
      "execution_count": 32,
      "outputs": [
        {
          "output_type": "stream",
          "name": "stdout",
          "text": [
            "\n",
            "Processing Images...\n",
            "Error: Dataset 'DuckBill/DFImages' doesn't exist on the Hub or cannot be accessed.\n"
          ]
        },
        {
          "output_type": "stream",
          "name": "stderr",
          "text": [
            "/usr/local/lib/python3.11/dist-packages/huggingface_hub/utils/_auth.py:94: UserWarning: \n",
            "The secret `HF_TOKEN` does not exist in your Colab secrets.\n",
            "To authenticate with the Hugging Face Hub, create a token in your settings tab (https://huggingface.co/settings/tokens), set it as secret in your Google Colab and restart your session.\n",
            "You will be able to reuse this secret in all of your notebooks.\n",
            "Please note that authentication is recommended but still optional to access public models or datasets.\n",
            "  warnings.warn(\n"
          ]
        }
      ]
    },
    {
      "cell_type": "code",
      "source": [],
      "metadata": {
        "id": "o-JlIK1KUdP0"
      },
      "execution_count": null,
      "outputs": []
    }
  ]
}