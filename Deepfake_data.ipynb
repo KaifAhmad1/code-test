{
  "nbformat": 4,
  "nbformat_minor": 0,
  "metadata": {
    "colab": {
      "provenance": [],
      "authorship_tag": "ABX9TyOSKzWSLY9NpqtLHlz/KKSq",
      "include_colab_link": true
    },
    "kernelspec": {
      "name": "python3",
      "display_name": "Python 3"
    },
    "language_info": {
      "name": "python"
    }
  },
  "cells": [
    {
      "cell_type": "markdown",
      "metadata": {
        "id": "view-in-github",
        "colab_type": "text"
      },
      "source": [
        "<a href=\"https://colab.research.google.com/github/KaifAhmad1/code-test/blob/main/Deepfake_data.ipynb\" target=\"_parent\"><img src=\"https://colab.research.google.com/assets/colab-badge.svg\" alt=\"Open In Colab\"/></a>"
      ]
    },
    {
      "cell_type": "markdown",
      "source": [
        "#### **Deepfake and Manipulated Media Analysis Data Download**"
      ],
      "metadata": {
        "id": "V5er949VRqvP"
      }
    },
    {
      "cell_type": "code",
      "execution_count": 33,
      "metadata": {
        "id": "3adQdF8KJWyE"
      },
      "outputs": [],
      "source": [
        "!pip install -q datasets pandas pillow tqdm huggingface_hub"
      ]
    },
    {
      "cell_type": "code",
      "source": [
        "import os\n",
        "import shutil\n",
        "import pandas as pd\n",
        "from pathlib import Path\n",
        "from datasets import load_dataset\n",
        "from tqdm import tqdm\n",
        "from PIL import Image\n",
        "from huggingface_hub import login\n",
        "import getpass"
      ],
      "metadata": {
        "id": "E5SKXUPiJobX"
      },
      "execution_count": 34,
      "outputs": []
    },
    {
      "cell_type": "code",
      "source": [
        "# 🛑 Manually Enter Hugging Face Token\n",
        "HF_TOKEN = getpass.getpass(\"Enter your Hugging Face token: \")\n",
        "login(HF_TOKEN)  # Logs in to Hugging Face"
      ],
      "metadata": {
        "id": "pxb5lV48LQyB",
        "outputId": "d4b3e905-8097-44f8-a482-a5455a56d102",
        "colab": {
          "base_uri": "https://localhost:8080/"
        }
      },
      "execution_count": 35,
      "outputs": [
        {
          "name": "stdout",
          "output_type": "stream",
          "text": [
            "Enter your Hugging Face token: ··········\n"
          ]
        }
      ]
    },
    {
      "cell_type": "code",
      "source": [
        "# Set Base Directory\n",
        "BASE_DIR = Path(\"./deepfake_test_dataset\")\n",
        "BASE_DIR.mkdir(parents=True, exist_ok=True)\n",
        "\n",
        "# Metadata Storage\n",
        "metadata = []"
      ],
      "metadata": {
        "id": "v8dnHHHBYRQo"
      },
      "execution_count": 36,
      "outputs": []
    },
    {
      "cell_type": "code",
      "source": [
        "def download_images():\n",
        "    \"\"\"Downloads 20 images (10 real, 10 fake)\"\"\"\n",
        "    print(\"\\n📷 Downloading Image Data...\")\n",
        "    dataset = load_dataset(\"KobiTraber/Deepfake-Image-Detection\", split=\"train\", use_auth_token=True)\n",
        "    image_dir = BASE_DIR / \"images\"\n",
        "\n",
        "    for category, label in [(\"real\", 0), (\"fake\", 1)]:\n",
        "        (image_dir / category).mkdir(parents=True, exist_ok=True)\n",
        "        samples = dataset.filter(lambda x: x[\"label\"] == label).select(range(10))  # 10 images each\n",
        "\n",
        "        for i, sample in enumerate(tqdm(samples, desc=f\"Saving {category} images\")):\n",
        "            img = sample[\"image\"]\n",
        "            img_path = image_dir / category / f\"{category}_{i:03d}.jpg\"\n",
        "            img.save(str(img_path))\n",
        "\n",
        "            metadata.append({\n",
        "                \"modality\": \"image\",\n",
        "                \"category\": category,\n",
        "                \"filename\": img_path.name,\n",
        "                \"file_path\": str(img_path),\n",
        "                \"source_dataset\": \"Deepfake-Image-Detection\"\n",
        "            })\n",
        "\n",
        "def download_videos():\n",
        "    \"\"\"Downloads 20 videos (10 real, 10 fake)\"\"\"\n",
        "    print(\"\\n🎥 Downloading Video Data...\")\n",
        "    dataset = load_dataset(\"dawn-dai/deepfake-video\", split=\"train\", use_auth_token=True)\n",
        "    video_dir = BASE_DIR / \"videos\"\n",
        "\n",
        "    for category, label in [(\"real\", 0), (\"fake\", 1)]:\n",
        "        (video_dir / category).mkdir(parents=True, exist_ok=True)\n",
        "        samples = dataset.filter(lambda x: x[\"label\"] == label).select(range(10))  # 10 videos each\n",
        "\n",
        "        for i, sample in enumerate(tqdm(samples, desc=f\"Saving {category} videos\")):\n",
        "            video_path = video_dir / category / f\"{category}_{i:03d}.mp4\"\n",
        "            with open(video_path, \"wb\") as f:\n",
        "                f.write(sample[\"video\"])\n",
        "\n",
        "            metadata.append({\n",
        "                \"modality\": \"video\",\n",
        "                \"category\": category,\n",
        "                \"filename\": video_path.name,\n",
        "                \"file_path\": str(video_path),\n",
        "                \"source_dataset\": \"deepfake-video\"\n",
        "            })\n",
        "\n",
        "def download_audio():\n",
        "    \"\"\"Downloads 20 audio samples (10 real, 10 fake)\"\"\"\n",
        "    print(\"\\n🔊 Downloading Audio Data...\")\n",
        "    dataset = load_dataset(\"m4r4b0u/FakeAVCeleb\", split=\"train\", use_auth_token=True)\n",
        "    audio_dir = BASE_DIR / \"audio\"\n",
        "\n",
        "    for category, label in [(\"real\", 0), (\"fake\", 1)]:\n",
        "        (audio_dir / category).mkdir(parents=True, exist_ok=True)\n",
        "        samples = dataset.filter(lambda x: x[\"label\"] == label).select(range(10))  # 10 audio clips each\n",
        "\n",
        "        for i, sample in enumerate(tqdm(samples, desc=f\"Saving {category} audio\")):\n",
        "            audio_path = audio_dir / category / f\"{category}_{i:03d}.wav\"\n",
        "            with open(audio_path, \"wb\") as f:\n",
        "                f.write(sample[\"audio\"][\"bytes\"])\n",
        "\n",
        "            metadata.append({\n",
        "                \"modality\": \"audio\",\n",
        "                \"category\": category,\n",
        "                \"filename\": audio_path.name,\n",
        "                \"file_path\": str(audio_path),\n",
        "                \"source_dataset\": \"FakeAVCeleb\"\n",
        "            })\n",
        "\n",
        "def save_metadata():\n",
        "    \"\"\"Saves metadata as CSV\"\"\"\n",
        "    metadata_df = pd.DataFrame(metadata)\n",
        "    metadata_df.to_csv(BASE_DIR / \"metadata.csv\", index=False)\n",
        "    print(\"\\n✅ Metadata saved:\", BASE_DIR / \"metadata.csv\")"
      ],
      "metadata": {
        "id": "o-JlIK1KUdP0"
      },
      "execution_count": 37,
      "outputs": []
    },
    {
      "cell_type": "code",
      "source": [
        "def main():\n",
        "    try:\n",
        "        download_images()\n",
        "        download_videos()\n",
        "        download_audio()\n",
        "        save_metadata()\n",
        "\n",
        "        print(\"\\n🎉 **Dataset Collection Complete!** 🎉\")\n",
        "        print(f\"📂 Data stored in: {BASE_DIR.absolute()}\")\n",
        "\n",
        "    except Exception as e:\n",
        "        print(f\"❌ Error: {str(e)}\")\n",
        "\n",
        "if __name__ == \"__main__\":\n",
        "    main()"
      ],
      "metadata": {
        "id": "DSqrGpbkcqpV",
        "outputId": "3de202b7-f860-4c3e-9b1a-49cb975e540f",
        "colab": {
          "base_uri": "https://localhost:8080/"
        }
      },
      "execution_count": 38,
      "outputs": [
        {
          "output_type": "stream",
          "name": "stdout",
          "text": [
            "\n",
            "📷 Downloading Image Data...\n",
            "❌ Error: Dataset 'KobiTraber/Deepfake-Image-Detection' doesn't exist on the Hub or cannot be accessed.\n"
          ]
        }
      ]
    },
    {
      "cell_type": "code",
      "source": [],
      "metadata": {
        "id": "nM7UMaaIcuoU"
      },
      "execution_count": null,
      "outputs": []
    }
  ]
}