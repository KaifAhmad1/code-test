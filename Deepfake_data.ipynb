{
  "nbformat": 4,
  "nbformat_minor": 0,
  "metadata": {
    "colab": {
      "provenance": [],
      "authorship_tag": "ABX9TyNy45UpAmcc0JHogESYTNhI",
      "include_colab_link": true
    },
    "kernelspec": {
      "name": "python3",
      "display_name": "Python 3"
    },
    "language_info": {
      "name": "python"
    }
  },
  "cells": [
    {
      "cell_type": "markdown",
      "metadata": {
        "id": "view-in-github",
        "colab_type": "text"
      },
      "source": [
        "<a href=\"https://colab.research.google.com/github/KaifAhmad1/code-test/blob/main/Deepfake_data.ipynb\" target=\"_parent\"><img src=\"https://colab.research.google.com/assets/colab-badge.svg\" alt=\"Open In Colab\"/></a>"
      ]
    },
    {
      "cell_type": "code",
      "execution_count": 1,
      "metadata": {
        "id": "3adQdF8KJWyE"
      },
      "outputs": [],
      "source": [
        "!pip install -qU kaggle"
      ]
    },
    {
      "cell_type": "code",
      "source": [
        "import os\n",
        "import json\n",
        "import sys\n",
        "import pandas as pd\n",
        "from pathlib import Path"
      ],
      "metadata": {
        "id": "E5SKXUPiJobX"
      },
      "execution_count": 7,
      "outputs": []
    },
    {
      "cell_type": "code",
      "source": [
        "def ensure_directory(directory):\n",
        "    \"\"\"Create directory if it doesn't exist\"\"\"\n",
        "    Path(directory).mkdir(parents=True, exist_ok=True)\n",
        "    return directory"
      ],
      "metadata": {
        "id": "pxb5lV48LQyB"
      },
      "execution_count": 8,
      "outputs": []
    },
    {
      "cell_type": "code",
      "source": [
        "def manual_init_kaggle():\n",
        "    \"\"\"Manually initialize Kaggle credentials\"\"\"\n",
        "    print(\"\\n=== Kaggle Manual Initialization ===\")\n",
        "    print(\"Please enter your Kaggle credentials:\")\n",
        "    username = input(\"Username: \").strip()\n",
        "    key = input(\"API Key: \").strip()\n",
        "\n",
        "    # Set environment variables first\n",
        "    os.environ['KAGGLE_USERNAME'] = username\n",
        "    os.environ['KAGGLE_KEY'] = key\n",
        "\n",
        "    # Create both possible Kaggle config directories\n",
        "    config_paths = [\n",
        "        Path.home() / '.kaggle',\n",
        "        Path('/root/.config/kaggle')  # For root user\n",
        "    ]\n",
        "\n",
        "    success = False\n",
        "    for config_path in config_paths:\n",
        "        try:\n",
        "            # Create directory\n",
        "            ensure_directory(config_path)\n",
        "\n",
        "            # Save credentials\n",
        "            cred_path = config_path / 'kaggle.json'\n",
        "            credentials = {\n",
        "                \"username\": username,\n",
        "                \"key\": key\n",
        "            }\n",
        "\n",
        "            with open(cred_path, 'w') as f:\n",
        "                json.dump(credentials, f)\n",
        "\n",
        "            # Set permissions\n",
        "            os.chmod(cred_path, 0o600)\n",
        "\n",
        "            print(f\"\\n✅ Credentials saved to: {cred_path}\")\n",
        "            success = True\n",
        "\n",
        "        except Exception as e:\n",
        "            print(f\"Warning: Could not save to {config_path}: {str(e)}\")\n",
        "            continue\n",
        "\n",
        "    if not success:\n",
        "        raise Exception(\"Failed to save credentials to any location\")\n",
        "\n",
        "    return username, key"
      ],
      "metadata": {
        "id": "hIuYiE3mNnOZ"
      },
      "execution_count": 9,
      "outputs": []
    },
    {
      "cell_type": "code",
      "source": [
        "def verify_kaggle_auth():\n",
        "    \"\"\"Verify Kaggle authentication\"\"\"\n",
        "    try:\n",
        "        from kaggle.api.kaggle_api_extended import KaggleApi\n",
        "        api = KaggleApi()\n",
        "        api.authenticate()\n",
        "        return api\n",
        "    except Exception as e:\n",
        "        print(f\"\\n❌ Authentication Error: {str(e)}\")\n",
        "        return None"
      ],
      "metadata": {
        "id": "Ij4LL0xsNnQi"
      },
      "execution_count": 10,
      "outputs": []
    },
    {
      "cell_type": "code",
      "source": [
        "def download_dfdc(api, output_dir='dfdc_dataset'):\n",
        "    \"\"\"Download and process DFDC dataset\"\"\"\n",
        "    try:\n",
        "        # Ensure output directory exists\n",
        "        output_path = Path(output_dir)\n",
        "        ensure_directory(output_path)\n",
        "\n",
        "        print(\"\\n📥 Downloading DFDC dataset...\")\n",
        "        print(f\"Save location: {output_path.absolute()}\")\n",
        "\n",
        "        # Download dataset\n",
        "        api.dataset_download_files(\n",
        "            'selimsef/dfdc-preview-face-forensics',\n",
        "            path=str(output_path),\n",
        "            unzip=True\n",
        "        )\n",
        "\n",
        "        # Process metadata\n",
        "        metadata_file = output_path / 'metadata.json'\n",
        "        if metadata_file.exists():\n",
        "            with open(metadata_file) as f:\n",
        "                metadata = json.load(f)\n",
        "\n",
        "            # Create summary DataFrame\n",
        "            df = pd.DataFrame(metadata.items(), columns=['video', 'label'])\n",
        "            df.to_csv(output_path / 'videos_summary.csv', index=False)\n",
        "\n",
        "            print(\"\\n📊 Dataset Summary:\")\n",
        "            print(f\"Total Videos: {len(df)}\")\n",
        "            print(f\"Real Videos: {len(df[df['label'] == 'REAL'])}\")\n",
        "            print(f\"Fake Videos: {len(df[df['label'] == 'FAKE'])}\")\n",
        "\n",
        "        return True\n",
        "\n",
        "    except Exception as e:\n",
        "        print(f\"\\n❌ Download Error: {str(e)}\")\n",
        "        return False"
      ],
      "metadata": {
        "id": "RAkBNf4mNnTQ"
      },
      "execution_count": 11,
      "outputs": []
    },
    {
      "cell_type": "code",
      "source": [
        "def main():\n",
        "    print(\"\\n🎬 DFDC Dataset Downloader (Manual Init)\")\n",
        "    print(\"=====================================\")\n",
        "\n",
        "    try:\n",
        "        # Ensure required packages\n",
        "        os.system('pip install --quiet kaggle pandas')\n",
        "\n",
        "        # Manual initialization\n",
        "        username, key = manual_init_kaggle()\n",
        "\n",
        "        # Verify authentication\n",
        "        print(\"\\nVerifying Kaggle authentication...\")\n",
        "        api = verify_kaggle_auth()\n",
        "\n",
        "        if api is None:\n",
        "            print(\"\\n❌ Authentication failed. Please check your credentials.\")\n",
        "            sys.exit(1)\n",
        "\n",
        "        print(\"✅ Authentication successful!\")\n",
        "\n",
        "        # Get output location\n",
        "        default_dir = \"dfdc_dataset\"\n",
        "        user_dir = input(f\"\\nEnter output directory (press Enter for '{default_dir}'): \").strip()\n",
        "        output_dir = user_dir if user_dir else default_dir\n",
        "\n",
        "        # Download dataset\n",
        "        if download_dfdc(api, output_dir):\n",
        "            print(\"\\n✅ Download completed successfully!\")\n",
        "            print(f\"\\n📁 Dataset location: {Path(output_dir).absolute()}\")\n",
        "            print(\"📝 Check videos_summary.csv for video labels\")\n",
        "        else:\n",
        "            print(\"\\n❌ Download failed.\")\n",
        "            sys.exit(1)\n",
        "\n",
        "    except Exception as e:\n",
        "        print(f\"\\n❌ Error: {str(e)}\")\n",
        "        print(\"\\n💡 Troubleshooting Tips:\")\n",
        "        print(\"1. Make sure you're using valid Kaggle credentials\")\n",
        "        print(\"2. Check your internet connection\")\n",
        "        print(\"3. Verify you have enough disk space\")\n",
        "        print(\"4. Try running the script with sudo if permission errors occur\")\n",
        "        sys.exit(1)\n",
        "\n",
        "if __name__ == \"__main__\":\n",
        "    main()"
      ],
      "metadata": {
        "id": "w91bWyvKNnWt",
        "outputId": "3cbdd07d-770b-4f44-e10a-0c06b7688f56",
        "colab": {
          "base_uri": "https://localhost:8080/",
          "height": 647
        }
      },
      "execution_count": 12,
      "outputs": [
        {
          "output_type": "stream",
          "name": "stdout",
          "text": [
            "\n",
            "🎬 DFDC Dataset Downloader (Manual Init)\n",
            "=====================================\n",
            "\n",
            "=== Kaggle Manual Initialization ===\n",
            "Please enter your Kaggle credentials:\n",
            "Username: kaif8755\n",
            "API Key: 551a523b812b9721fc1d3ad5add8f667\n",
            "\n",
            "✅ Credentials saved to: /root/.kaggle/kaggle.json\n",
            "\n",
            "✅ Credentials saved to: /root/.config/kaggle/kaggle.json\n",
            "\n",
            "Verifying Kaggle authentication...\n",
            "✅ Authentication successful!\n",
            "\n",
            "Enter output directory (press Enter for 'dfdc_dataset'): dfdc_dataset\n",
            "\n",
            "📥 Downloading DFDC dataset...\n",
            "Save location: /content/dfdc_dataset\n",
            "Dataset URL: https://www.kaggle.com/datasets/selimsef/dfdc-preview-face-forensics\n",
            "\n",
            "❌ Download Error: (403)\n",
            "Reason: Forbidden\n",
            "HTTP response headers: HTTPHeaderDict({'Content-Type': 'application/json', 'Date': 'Wed, 29 Jan 2025 08:25:00 GMT', 'Access-Control-Allow-Credentials': 'true', 'Access-Control-Allow-Origin': '*', 'Set-Cookie': 'ka_sessionid=661064b5f1bc53f5d867b17d95e0e1c5; max-age=2626560; path=/, GCLB=CKDt-ISB4K-MXRAD; path=/; HttpOnly', 'Vary': 'Accept-Encoding', 'X-Kaggle-MillisecondsElapsed': '9', 'X-Kaggle-RequestId': 'bc5cf6c6060283e48eff23ec54cf2bec', 'X-Kaggle-ApiVersion': '1.6.17', 'X-Kaggle-HubVersion': '0.3.6', 'X-Frame-Options': 'SAMEORIGIN', 'Strict-Transport-Security': 'max-age=63072000; includeSubDomains; preload', 'Content-Security-Policy': \"object-src 'none'; script-src 'nonce-e2FYFvrDDEefsTGsShoGCw==' 'report-sample' 'unsafe-inline' 'unsafe-eval' 'strict-dynamic' https: http:; base-uri 'none'; report-uri https://csp.withgoogle.com/csp/kaggle/20201130; frame-src 'self' https://www.kaggleusercontent.com https://www.youtube.com/embed/ https://polygraph-cool.github.io https://www.google.com/recaptcha/ https://www.docdroid.com https://www.docdroid.net https://kaggle-static.storage.googleapis.com https://kkb-production.jupyter-proxy.kaggle.net https://kkb-production.firebaseapp.com https://kaggle-metastore.firebaseapp.com https://apis.google.com https://content-sheets.googleapis.com/ https://accounts.google.com/ https://storage.googleapis.com https://docs.google.com https://drive.google.com https://calendar.google.com/ https://google.qualtrics.com/ ;\", 'X-Content-Type-Options': 'nosniff', 'Referrer-Policy': 'strict-origin-when-cross-origin', 'Via': '1.1 google', 'Alt-Svc': 'h3=\":443\"; ma=2592000,h3-29=\":443\"; ma=2592000', 'Transfer-Encoding': 'chunked'})\n",
            "HTTP response body: b'{\"code\":403,\"message\":\"Permission \\\\u0027datasets.get\\\\u0027 was denied\"}'\n",
            "\n",
            "\n",
            "❌ Download failed.\n"
          ]
        },
        {
          "output_type": "error",
          "ename": "SystemExit",
          "evalue": "1",
          "traceback": [
            "An exception has occurred, use %tb to see the full traceback.\n",
            "\u001b[0;31mSystemExit\u001b[0m\u001b[0;31m:\u001b[0m 1\n"
          ]
        },
        {
          "output_type": "stream",
          "name": "stderr",
          "text": [
            "/usr/local/lib/python3.11/dist-packages/IPython/core/interactiveshell.py:3561: UserWarning: To exit: use 'exit', 'quit', or Ctrl-D.\n",
            "  warn(\"To exit: use 'exit', 'quit', or Ctrl-D.\", stacklevel=1)\n"
          ]
        }
      ]
    }
  ]
}