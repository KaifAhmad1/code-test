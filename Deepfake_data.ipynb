{
  "nbformat": 4,
  "nbformat_minor": 0,
  "metadata": {
    "colab": {
      "provenance": [],
      "gpuType": "T4",
      "include_colab_link": true
    },
    "kernelspec": {
      "name": "python3",
      "display_name": "Python 3"
    },
    "language_info": {
      "name": "python"
    },
    "accelerator": "GPU"
  },
  "cells": [
    {
      "cell_type": "markdown",
      "metadata": {
        "id": "view-in-github",
        "colab_type": "text"
      },
      "source": [
        "<a href=\"https://colab.research.google.com/github/KaifAhmad1/code-test/blob/main/Deepfake_data.ipynb\" target=\"_parent\"><img src=\"https://colab.research.google.com/assets/colab-badge.svg\" alt=\"Open In Colab\"/></a>"
      ]
    },
    {
      "cell_type": "markdown",
      "source": [
        "#### **Deepfake and Manipulated Media Analysis Data Download**"
      ],
      "metadata": {
        "id": "V5er949VRqvP"
      }
    },
    {
      "cell_type": "code",
      "execution_count": 18,
      "metadata": {
        "id": "3adQdF8KJWyE"
      },
      "outputs": [],
      "source": [
        "!pip install -qU yt-dlp aiohttp decord pandas pillow soundfile tqdm crawl4ai[all] nest_asyncio playwright"
      ]
    },
    {
      "cell_type": "code",
      "source": [
        "# Import and apply nest_asyncio (useful in notebooks)\n",
        "import nest_asyncio\n",
        "nest_asyncio.apply()\n",
        "\n",
        "# Standard libraries\n",
        "import os\n",
        "import asyncio\n",
        "import aiohttp\n",
        "import json\n",
        "import time\n",
        "from datetime import datetime\n",
        "\n",
        "# Third-party libraries\n",
        "import pandas as pd\n",
        "import yt_dlp\n",
        "from tqdm.asyncio import tqdm\n",
        "from playwright.async_api import async_playwright\n",
        "\n",
        "# crawl4ai components\n",
        "from crawl4ai import AsyncWebCrawler\n",
        "from crawl4ai.extraction_strategy import JsonCssExtractionStrategy\n",
        "\n",
        "#########################################\n",
        "# Setup Directories and Global Variables\n",
        "#########################################\n",
        "BASE_DIR = os.getcwd()\n",
        "SCRAPED_URLS_DIR = os.path.join(BASE_DIR, 'scraped_urls')\n",
        "IMAGES_DIR      = os.path.join(BASE_DIR, 'deepfake_images')\n",
        "VIDEOS_DIR      = os.path.join(BASE_DIR, 'deepfake_videos')\n",
        "AUDIOS_DIR      = os.path.join(BASE_DIR, 'deepfake_audios')\n",
        "METADATA_FILE   = os.path.join(BASE_DIR, 'download_metadata.json')\n",
        "\n",
        "for d in [SCRAPED_URLS_DIR, IMAGES_DIR, VIDEOS_DIR, AUDIOS_DIR]:\n",
        "    os.makedirs(d, exist_ok=True)\n",
        "\n",
        "# Global list to hold download metadata\n",
        "download_metadata = []"
      ],
      "metadata": {
        "id": "QsB0SfhX5hky"
      },
      "execution_count": 19,
      "outputs": []
    },
    {
      "cell_type": "code",
      "source": [
        "#########################################\n",
        "# 1. Define URL Scraping Functions Using crawl4ai\n",
        "#########################################\n",
        "async def scrape_media_urls(modality, page_url, parse_function, output_filename):\n",
        "    \"\"\"\n",
        "    Scrape media URLs from a given page URL using crawl4ai's AsyncWebCrawler and a CSS extraction strategy.\n",
        "    Saves the scraped URLs as a CSV file and returns a list of unique URLs.\n",
        "    \"\"\"\n",
        "    print(f\"[{modality.upper()}] Scraping URLs from {page_url}\")\n",
        "    extraction_strategy = JsonCssExtractionStrategy(parse_function=parse_function)\n",
        "    crawler = AsyncWebCrawler(start_urls=[page_url], extraction_strategy=extraction_strategy)\n",
        "\n",
        "    try:\n",
        "        # Run the crawler. The API is assumed to return a list of results.\n",
        "        results = await crawler.run()\n",
        "    except Exception as e:\n",
        "        print(f\"[{modality.upper()}] Error during crawling {page_url}: {e}\")\n",
        "        results = []\n",
        "\n",
        "    scraped_urls = []\n",
        "    # Assuming each result is a dict that contains the key \"extracted\" with the URLs.\n",
        "    for result in results:\n",
        "        scraped_urls.extend(result.get('extracted', []))\n",
        "\n",
        "    # Remove duplicates and empty values\n",
        "    scraped_urls = list({url for url in scraped_urls if url})\n",
        "\n",
        "    # Save to CSV\n",
        "    df = pd.DataFrame({'url': scraped_urls})\n",
        "    df.to_csv(output_filename, index=False)\n",
        "    print(f\"[{modality.upper()}] Saved {len(scraped_urls)} URLs to {output_filename}\")\n",
        "    return scraped_urls\n",
        "\n",
        "# Define parse functions (adjust CSS selectors based on the actual page structure)\n",
        "def parse_image_links(response):\n",
        "    # Example: extract src attribute from images with class \"deepfake-img\"\n",
        "    return response.css(\"img.deepfake-img::attr(src)\").getall()\n",
        "\n",
        "def parse_video_links(response):\n",
        "    # Example: extract href attribute from anchors with class \"deepfake-video\"\n",
        "    return response.css(\"a.deepfake-video::attr(href)\").getall()\n",
        "\n",
        "def parse_audio_links(response):\n",
        "    # Example: extract src attribute from audio tags with class \"deepfake-audio\"\n",
        "    return response.css(\"audio.deepfake-audio::attr(src)\").getall()"
      ],
      "metadata": {
        "id": "C7HQW_cI_UxZ"
      },
      "execution_count": 22,
      "outputs": []
    },
    {
      "cell_type": "code",
      "source": [
        "#########################################\n",
        "# 2. Define Functions to Load URLs (with Fallbacks)\n",
        "#########################################\n",
        "def load_scraped_urls(modality):\n",
        "    filepath = os.path.join(SCRAPED_URLS_DIR, f\"{modality}_urls.csv\")\n",
        "    if os.path.exists(filepath):\n",
        "        df = pd.read_csv(filepath)\n",
        "        urls = df['url'].dropna().tolist()\n",
        "        print(f\"[{modality.upper()}] Loaded {len(urls)} URLs from {filepath}\")\n",
        "        return urls\n",
        "    else:\n",
        "        print(f\"[{modality.upper()}] File {filepath} not found. Using fallback method.\")\n",
        "        return []\n",
        "\n",
        "# Fallback generators if scraping fails\n",
        "def fallback_image_urls(n=20):\n",
        "    # For images, use a site that returns a new image every time\n",
        "    return [\"https://thispersondoesnotexist.com/image\"] * n\n",
        "\n",
        "def fallback_video_urls(n=20):\n",
        "    # Leave empty so that we trigger the yt-dlp search fallback later\n",
        "    return []\n",
        "\n",
        "def fallback_audio_urls(n=20):\n",
        "    # Leave empty so that we can extract using Playwright later\n",
        "    return []"
      ],
      "metadata": {
        "id": "mH95w7UJ_ZHN"
      },
      "execution_count": 23,
      "outputs": []
    },
    {
      "cell_type": "code",
      "source": [
        "#########################################\n",
        "# 3. Define Asynchronous Download Functions with Retries & Metadata Logging\n",
        "#########################################\n",
        "async def download_file(session, url, filename, modality, retries=3):\n",
        "    \"\"\"\n",
        "    Download a file (image or audio) asynchronously using aiohttp with simple retry logic.\n",
        "    Saves the file to disk and logs download metadata.\n",
        "    \"\"\"\n",
        "    for attempt in range(1, retries + 1):\n",
        "        try:\n",
        "            async with session.get(url) as resp:\n",
        "                if resp.status == 200:\n",
        "                    content = await resp.read()\n",
        "                    with open(filename, \"wb\") as f:\n",
        "                        f.write(content)\n",
        "                    print(f\"[{modality.upper()}] Downloaded: {filename}\")\n",
        "\n",
        "                    # Record metadata\n",
        "                    download_metadata.append({\n",
        "                        \"modality\": modality,\n",
        "                        \"filename\": filename,\n",
        "                        \"url\": url,\n",
        "                        \"download_time\": datetime.now().isoformat()\n",
        "                    })\n",
        "                    return\n",
        "                else:\n",
        "                    print(f\"[{modality.upper()}] Attempt {attempt}: Failed to download {url} (Status {resp.status})\")\n",
        "        except Exception as e:\n",
        "            print(f\"[{modality.upper()}] Attempt {attempt}: Exception downloading {url}: {e}\")\n",
        "        await asyncio.sleep(1)  # Wait a bit before retrying\n",
        "    print(f\"[{modality.upper()}] Failed to download {url} after {retries} attempts.\")\n",
        "\n",
        "async def download_images(urls):\n",
        "    print(\"[IMAGE] Starting asynchronous image downloads...\")\n",
        "    async with aiohttp.ClientSession() as session:\n",
        "        tasks = []\n",
        "        for idx, url in enumerate(urls):\n",
        "            filename = os.path.join(IMAGES_DIR, f\"image_{idx+1:02d}.jpg\")\n",
        "            tasks.append(download_file(session, url, filename, modality=\"image\"))\n",
        "        await asyncio.gather(*tasks)\n",
        "\n",
        "async def download_audios(urls):\n",
        "    if not urls:\n",
        "        print(\"[AUDIO] No audio URLs provided for download.\")\n",
        "        return\n",
        "    print(\"[AUDIO] Starting asynchronous audio downloads...\")\n",
        "    async with aiohttp.ClientSession() as session:\n",
        "        tasks = []\n",
        "        for idx, url in enumerate(urls):\n",
        "            filename = os.path.join(AUDIOS_DIR, f\"audio_{idx+1:02d}.mp3\")\n",
        "            tasks.append(download_file(session, url, filename, modality=\"audio\"))\n",
        "        await asyncio.gather(*tasks)"
      ],
      "metadata": {
        "id": "J5m4qrVW_lbg"
      },
      "execution_count": 24,
      "outputs": []
    },
    {
      "cell_type": "code",
      "source": [
        "#########################################\n",
        "# 4. Define Synchronous Video Download Function Using yt-dlp\n",
        "#########################################\n",
        "def download_videos(video_urls, num_videos=20):\n",
        "    \"\"\"\n",
        "    Download videos using yt-dlp. If no URLs are provided, use yt-dlp's search fallback.\n",
        "    \"\"\"\n",
        "    if video_urls:\n",
        "        download_list = video_urls[:num_videos]\n",
        "        print(\"[VIDEO] Downloading videos from scraped URLs...\")\n",
        "        for url in download_list:\n",
        "            ydl_opts = {\n",
        "                'format': 'bestvideo+bestaudio/best',\n",
        "                'outtmpl': os.path.join(VIDEOS_DIR, '%(id)s.%(ext)s'),\n",
        "                'merge_output_format': 'mp4',\n",
        "                'quiet': True,\n",
        "                'no_warnings': True,\n",
        "            }\n",
        "            with yt_dlp.YoutubeDL(ydl_opts) as ydl:\n",
        "                try:\n",
        "                    ydl.download([url])\n",
        "                    # Record a basic metadata record\n",
        "                    download_metadata.append({\n",
        "                        \"modality\": \"video\",\n",
        "                        \"filename\": url,  # filename extraction would require additional parsing\n",
        "                        \"url\": url,\n",
        "                        \"download_time\": datetime.now().isoformat()\n",
        "                    })\n",
        "                    print(f\"[VIDEO] Downloaded: {url}\")\n",
        "                except Exception as e:\n",
        "                    print(f\"[VIDEO] Error downloading {url}: {e}\")\n",
        "    else:\n",
        "        # Fallback using yt-dlp search\n",
        "        search_query = \"ytsearch20:deepfake compilation\"\n",
        "        ydl_opts = {\n",
        "            'format': 'bestvideo+bestaudio/best',\n",
        "            'outtmpl': os.path.join(VIDEOS_DIR, '%(id)s.%(ext)s'),\n",
        "            'merge_output_format': 'mp4',\n",
        "            'quiet': True,\n",
        "            'no_warnings': True,\n",
        "        }\n",
        "        print(\"[VIDEO] No scraped video URLs found; using yt-dlp search fallback...\")\n",
        "        with yt_dlp.YoutubeDL(ydl_opts) as ydl:\n",
        "            try:\n",
        "                ydl.download([search_query])\n",
        "                print(\"[VIDEO] Video downloads (fallback search) complete.\")\n",
        "            except Exception as e:\n",
        "                print(f\"[VIDEO] Error with yt-dlp search fallback: {e}\")"
      ],
      "metadata": {
        "id": "GSx5aXRrAGLS"
      },
      "execution_count": 25,
      "outputs": []
    },
    {
      "cell_type": "code",
      "source": [
        "#########################################\n",
        "# 5. Define Audio Extraction Using Playwright as a Fallback\n",
        "#########################################\n",
        "async def extract_audio_links():\n",
        "    \"\"\"\n",
        "    Use Playwright to extract audio URLs from a dynamic page (as a fallback if no scraped audio URLs exist).\n",
        "    Adjust the CSS selectors as needed.\n",
        "    \"\"\"\n",
        "    print(\"[AUDIO] Extracting audio URLs via Playwright fallback...\")\n",
        "    extracted_links = []\n",
        "    try:\n",
        "        async with async_playwright() as p:\n",
        "            browser = await p.chromium.launch(headless=True)\n",
        "            context = await browser.new_context()\n",
        "            page = await context.new_page()\n",
        "            # Example URL; adjust to a real page with audio samples.\n",
        "            url = \"https://uberduck.ai/explore\"\n",
        "            await page.goto(url)\n",
        "            # Wait for dynamic content to load (adjust timeout as needed)\n",
        "            await page.wait_for_timeout(5000)\n",
        "\n",
        "            # Extract audio elements; adjust the selector as needed.\n",
        "            audio_elements = await page.query_selector_all(\"audio\")\n",
        "            for el in audio_elements:\n",
        "                src = await el.get_attribute(\"src\")\n",
        "                if src:\n",
        "                    extracted_links.append(src)\n",
        "            await browser.close()\n",
        "            print(f\"[AUDIO] Extracted {len(extracted_links)} audio URLs via Playwright.\")\n",
        "    except Exception as e:\n",
        "        print(f\"[AUDIO] Error during Playwright audio extraction: {e}\")\n",
        "    return extracted_links"
      ],
      "metadata": {
        "id": "L8wK9Hu0AKxq"
      },
      "execution_count": 26,
      "outputs": []
    },
    {
      "cell_type": "code",
      "source": [
        "#########################################\n",
        "# 6. Save Download Metadata to a JSON File\n",
        "#########################################\n",
        "def save_download_metadata(metadata_list, filename=METADATA_FILE):\n",
        "    try:\n",
        "        with open(filename, 'w') as f:\n",
        "            json.dump(metadata_list, f, indent=4)\n",
        "        print(f\"Download metadata saved to {filename}\")\n",
        "    except Exception as e:\n",
        "        print(f\"Error saving download metadata: {e}\")"
      ],
      "metadata": {
        "id": "DGOb9We5AOSZ"
      },
      "execution_count": 27,
      "outputs": []
    },
    {
      "cell_type": "code",
      "source": [
        "#########################################\n",
        "# 7. Main Pipeline\n",
        "#########################################\n",
        "async def main_pipeline():\n",
        "    # --- Configuration: Define the source pages for each modality ---\n",
        "    pages = {\n",
        "        \"images\": \"https://deepfakesampleimages.com/gallery\",   # Change to actual URL\n",
        "        \"videos\": \"https://deepfakesamplevideos.com/collection\",  # Change to actual URL\n",
        "        \"audio\":  \"https://deepfakesampleaudio.com/samples\"       # Change to actual URL\n",
        "    }\n",
        "\n",
        "    # --- Scrape URLs Using crawl4ai ---\n",
        "    image_urls = await scrape_media_urls(\"image\", pages[\"images\"], parse_image_links,\n",
        "                                           os.path.join(SCRAPED_URLS_DIR, \"image_urls.csv\"))\n",
        "    video_urls = await scrape_media_urls(\"video\", pages[\"videos\"], parse_video_links,\n",
        "                                           os.path.join(SCRAPED_URLS_DIR, \"video_urls.csv\"))\n",
        "    audio_urls = await scrape_media_urls(\"audio\", pages[\"audio\"], parse_audio_links,\n",
        "                                           os.path.join(SCRAPED_URLS_DIR, \"audio_urls.csv\"))\n",
        "\n",
        "    # --- Load URLs (if available); otherwise, fall back ---\n",
        "    if not image_urls:\n",
        "        image_urls = fallback_image_urls(20)\n",
        "    else:\n",
        "        image_urls = image_urls[:20]\n",
        "\n",
        "    if not video_urls:\n",
        "        video_urls = fallback_video_urls(20)\n",
        "    else:\n",
        "        video_urls = video_urls[:20]\n",
        "\n",
        "    if not audio_urls:\n",
        "        audio_urls = fallback_audio_urls(20)\n",
        "    else:\n",
        "        audio_urls = audio_urls[:20]\n",
        "\n",
        "    # --- Download Images Asynchronously ---\n",
        "    await download_images(image_urls)\n",
        "\n",
        "    # --- Download Videos Synchronously via yt-dlp ---\n",
        "    download_videos(video_urls, num_videos=20)\n",
        "\n",
        "    # --- Download Audios ---\n",
        "    # If audio_urls is empty, attempt extraction using Playwright fallback.\n",
        "    if not audio_urls:\n",
        "        audio_urls = await extract_audio_links()\n",
        "    await download_audios(audio_urls)\n",
        "\n",
        "    # --- Save Download Metadata ---\n",
        "    save_download_metadata(download_metadata)\n",
        "    print(\"All downloads complete. Check the respective directories for files.\")\n",
        "\n",
        "\n",
        "# Run the entire pipeline.\n",
        "if __name__ == '__main__':\n",
        "    asyncio.run(main_pipeline())"
      ],
      "metadata": {
        "id": "ZsjX5iYIAQ94",
        "outputId": "17c24297-83f9-47ae-bd01-2ec27330ca9b",
        "colab": {
          "base_uri": "https://localhost:8080/",
          "height": 339
        }
      },
      "execution_count": 28,
      "outputs": [
        {
          "output_type": "stream",
          "name": "stdout",
          "text": [
            "[IMAGE] Scraping URLs from https://deepfakesampleimages.com/gallery\n"
          ]
        },
        {
          "output_type": "error",
          "ename": "TypeError",
          "evalue": "JsonCssExtractionStrategy.__init__() missing 1 required positional argument: 'schema'",
          "traceback": [
            "\u001b[0;31m---------------------------------------------------------------------------\u001b[0m",
            "\u001b[0;31mTypeError\u001b[0m                                 Traceback (most recent call last)",
            "\u001b[0;32m<ipython-input-28-120c48700fae>\u001b[0m in \u001b[0;36m<cell line: 0>\u001b[0;34m()\u001b[0m\n\u001b[1;32m     53\u001b[0m \u001b[0;31m# Run the entire pipeline.\u001b[0m\u001b[0;34m\u001b[0m\u001b[0;34m\u001b[0m\u001b[0m\n\u001b[1;32m     54\u001b[0m \u001b[0;32mif\u001b[0m \u001b[0m__name__\u001b[0m \u001b[0;34m==\u001b[0m \u001b[0;34m'__main__'\u001b[0m\u001b[0;34m:\u001b[0m\u001b[0;34m\u001b[0m\u001b[0;34m\u001b[0m\u001b[0m\n\u001b[0;32m---> 55\u001b[0;31m     \u001b[0masyncio\u001b[0m\u001b[0;34m.\u001b[0m\u001b[0mrun\u001b[0m\u001b[0;34m(\u001b[0m\u001b[0mmain_pipeline\u001b[0m\u001b[0;34m(\u001b[0m\u001b[0;34m)\u001b[0m\u001b[0;34m)\u001b[0m\u001b[0;34m\u001b[0m\u001b[0;34m\u001b[0m\u001b[0m\n\u001b[0m",
            "\u001b[0;32m/usr/local/lib/python3.11/dist-packages/nest_asyncio.py\u001b[0m in \u001b[0;36mrun\u001b[0;34m(main, debug)\u001b[0m\n\u001b[1;32m     28\u001b[0m         \u001b[0mtask\u001b[0m \u001b[0;34m=\u001b[0m \u001b[0masyncio\u001b[0m\u001b[0;34m.\u001b[0m\u001b[0mensure_future\u001b[0m\u001b[0;34m(\u001b[0m\u001b[0mmain\u001b[0m\u001b[0;34m)\u001b[0m\u001b[0;34m\u001b[0m\u001b[0;34m\u001b[0m\u001b[0m\n\u001b[1;32m     29\u001b[0m         \u001b[0;32mtry\u001b[0m\u001b[0;34m:\u001b[0m\u001b[0;34m\u001b[0m\u001b[0;34m\u001b[0m\u001b[0m\n\u001b[0;32m---> 30\u001b[0;31m             \u001b[0;32mreturn\u001b[0m \u001b[0mloop\u001b[0m\u001b[0;34m.\u001b[0m\u001b[0mrun_until_complete\u001b[0m\u001b[0;34m(\u001b[0m\u001b[0mtask\u001b[0m\u001b[0;34m)\u001b[0m\u001b[0;34m\u001b[0m\u001b[0;34m\u001b[0m\u001b[0m\n\u001b[0m\u001b[1;32m     31\u001b[0m         \u001b[0;32mfinally\u001b[0m\u001b[0;34m:\u001b[0m\u001b[0;34m\u001b[0m\u001b[0;34m\u001b[0m\u001b[0m\n\u001b[1;32m     32\u001b[0m             \u001b[0;32mif\u001b[0m \u001b[0;32mnot\u001b[0m \u001b[0mtask\u001b[0m\u001b[0;34m.\u001b[0m\u001b[0mdone\u001b[0m\u001b[0;34m(\u001b[0m\u001b[0;34m)\u001b[0m\u001b[0;34m:\u001b[0m\u001b[0;34m\u001b[0m\u001b[0;34m\u001b[0m\u001b[0m\n",
            "\u001b[0;32m/usr/local/lib/python3.11/dist-packages/nest_asyncio.py\u001b[0m in \u001b[0;36mrun_until_complete\u001b[0;34m(self, future)\u001b[0m\n\u001b[1;32m     96\u001b[0m                 raise RuntimeError(\n\u001b[1;32m     97\u001b[0m                     'Event loop stopped before Future completed.')\n\u001b[0;32m---> 98\u001b[0;31m             \u001b[0;32mreturn\u001b[0m \u001b[0mf\u001b[0m\u001b[0;34m.\u001b[0m\u001b[0mresult\u001b[0m\u001b[0;34m(\u001b[0m\u001b[0;34m)\u001b[0m\u001b[0;34m\u001b[0m\u001b[0;34m\u001b[0m\u001b[0m\n\u001b[0m\u001b[1;32m     99\u001b[0m \u001b[0;34m\u001b[0m\u001b[0m\n\u001b[1;32m    100\u001b[0m     \u001b[0;32mdef\u001b[0m \u001b[0m_run_once\u001b[0m\u001b[0;34m(\u001b[0m\u001b[0mself\u001b[0m\u001b[0;34m)\u001b[0m\u001b[0;34m:\u001b[0m\u001b[0;34m\u001b[0m\u001b[0;34m\u001b[0m\u001b[0m\n",
            "\u001b[0;32m/usr/lib/python3.11/asyncio/futures.py\u001b[0m in \u001b[0;36mresult\u001b[0;34m(self)\u001b[0m\n\u001b[1;32m    201\u001b[0m         \u001b[0mself\u001b[0m\u001b[0;34m.\u001b[0m\u001b[0m__log_traceback\u001b[0m \u001b[0;34m=\u001b[0m \u001b[0;32mFalse\u001b[0m\u001b[0;34m\u001b[0m\u001b[0;34m\u001b[0m\u001b[0m\n\u001b[1;32m    202\u001b[0m         \u001b[0;32mif\u001b[0m \u001b[0mself\u001b[0m\u001b[0;34m.\u001b[0m\u001b[0m_exception\u001b[0m \u001b[0;32mis\u001b[0m \u001b[0;32mnot\u001b[0m \u001b[0;32mNone\u001b[0m\u001b[0;34m:\u001b[0m\u001b[0;34m\u001b[0m\u001b[0;34m\u001b[0m\u001b[0m\n\u001b[0;32m--> 203\u001b[0;31m             \u001b[0;32mraise\u001b[0m \u001b[0mself\u001b[0m\u001b[0;34m.\u001b[0m\u001b[0m_exception\u001b[0m\u001b[0;34m.\u001b[0m\u001b[0mwith_traceback\u001b[0m\u001b[0;34m(\u001b[0m\u001b[0mself\u001b[0m\u001b[0;34m.\u001b[0m\u001b[0m_exception_tb\u001b[0m\u001b[0;34m)\u001b[0m\u001b[0;34m\u001b[0m\u001b[0;34m\u001b[0m\u001b[0m\n\u001b[0m\u001b[1;32m    204\u001b[0m         \u001b[0;32mreturn\u001b[0m \u001b[0mself\u001b[0m\u001b[0;34m.\u001b[0m\u001b[0m_result\u001b[0m\u001b[0;34m\u001b[0m\u001b[0;34m\u001b[0m\u001b[0m\n\u001b[1;32m    205\u001b[0m \u001b[0;34m\u001b[0m\u001b[0m\n",
            "\u001b[0;32m/usr/lib/python3.11/asyncio/tasks.py\u001b[0m in \u001b[0;36m__step\u001b[0;34m(***failed resolving arguments***)\u001b[0m\n\u001b[1;32m    275\u001b[0m                 \u001b[0;31m# We use the `send` method directly, because coroutines\u001b[0m\u001b[0;34m\u001b[0m\u001b[0;34m\u001b[0m\u001b[0m\n\u001b[1;32m    276\u001b[0m                 \u001b[0;31m# don't have `__iter__` and `__next__` methods.\u001b[0m\u001b[0;34m\u001b[0m\u001b[0;34m\u001b[0m\u001b[0m\n\u001b[0;32m--> 277\u001b[0;31m                 \u001b[0mresult\u001b[0m \u001b[0;34m=\u001b[0m \u001b[0mcoro\u001b[0m\u001b[0;34m.\u001b[0m\u001b[0msend\u001b[0m\u001b[0;34m(\u001b[0m\u001b[0;32mNone\u001b[0m\u001b[0;34m)\u001b[0m\u001b[0;34m\u001b[0m\u001b[0;34m\u001b[0m\u001b[0m\n\u001b[0m\u001b[1;32m    278\u001b[0m             \u001b[0;32melse\u001b[0m\u001b[0;34m:\u001b[0m\u001b[0;34m\u001b[0m\u001b[0;34m\u001b[0m\u001b[0m\n\u001b[1;32m    279\u001b[0m                 \u001b[0mresult\u001b[0m \u001b[0;34m=\u001b[0m \u001b[0mcoro\u001b[0m\u001b[0;34m.\u001b[0m\u001b[0mthrow\u001b[0m\u001b[0;34m(\u001b[0m\u001b[0mexc\u001b[0m\u001b[0;34m)\u001b[0m\u001b[0;34m\u001b[0m\u001b[0;34m\u001b[0m\u001b[0m\n",
            "\u001b[0;32m<ipython-input-28-120c48700fae>\u001b[0m in \u001b[0;36mmain_pipeline\u001b[0;34m()\u001b[0m\n\u001b[1;32m     11\u001b[0m \u001b[0;34m\u001b[0m\u001b[0m\n\u001b[1;32m     12\u001b[0m     \u001b[0;31m# --- Scrape URLs Using crawl4ai ---\u001b[0m\u001b[0;34m\u001b[0m\u001b[0;34m\u001b[0m\u001b[0m\n\u001b[0;32m---> 13\u001b[0;31m     image_urls = await scrape_media_urls(\"image\", pages[\"images\"], parse_image_links,\n\u001b[0m\u001b[1;32m     14\u001b[0m                                            os.path.join(SCRAPED_URLS_DIR, \"image_urls.csv\"))\n\u001b[1;32m     15\u001b[0m     video_urls = await scrape_media_urls(\"video\", pages[\"videos\"], parse_video_links,\n",
            "\u001b[0;32m<ipython-input-22-cb5cdf0c838e>\u001b[0m in \u001b[0;36mscrape_media_urls\u001b[0;34m(modality, page_url, parse_function, output_filename)\u001b[0m\n\u001b[1;32m      8\u001b[0m     \"\"\"\n\u001b[1;32m      9\u001b[0m     \u001b[0mprint\u001b[0m\u001b[0;34m(\u001b[0m\u001b[0;34mf\"[{modality.upper()}] Scraping URLs from {page_url}\"\u001b[0m\u001b[0;34m)\u001b[0m\u001b[0;34m\u001b[0m\u001b[0;34m\u001b[0m\u001b[0m\n\u001b[0;32m---> 10\u001b[0;31m     \u001b[0mextraction_strategy\u001b[0m \u001b[0;34m=\u001b[0m \u001b[0mJsonCssExtractionStrategy\u001b[0m\u001b[0;34m(\u001b[0m\u001b[0mparse_function\u001b[0m\u001b[0;34m=\u001b[0m\u001b[0mparse_function\u001b[0m\u001b[0;34m)\u001b[0m\u001b[0;34m\u001b[0m\u001b[0;34m\u001b[0m\u001b[0m\n\u001b[0m\u001b[1;32m     11\u001b[0m     \u001b[0mcrawler\u001b[0m \u001b[0;34m=\u001b[0m \u001b[0mAsyncWebCrawler\u001b[0m\u001b[0;34m(\u001b[0m\u001b[0mstart_urls\u001b[0m\u001b[0;34m=\u001b[0m\u001b[0;34m[\u001b[0m\u001b[0mpage_url\u001b[0m\u001b[0;34m]\u001b[0m\u001b[0;34m,\u001b[0m \u001b[0mextraction_strategy\u001b[0m\u001b[0;34m=\u001b[0m\u001b[0mextraction_strategy\u001b[0m\u001b[0;34m)\u001b[0m\u001b[0;34m\u001b[0m\u001b[0;34m\u001b[0m\u001b[0m\n\u001b[1;32m     12\u001b[0m \u001b[0;34m\u001b[0m\u001b[0m\n",
            "\u001b[0;31mTypeError\u001b[0m: JsonCssExtractionStrategy.__init__() missing 1 required positional argument: 'schema'"
          ]
        }
      ]
    },
    {
      "cell_type": "code",
      "source": [],
      "metadata": {
        "id": "-YBhGDTrAUfl"
      },
      "execution_count": null,
      "outputs": []
    }
  ]
}