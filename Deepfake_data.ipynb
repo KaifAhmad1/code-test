{
  "nbformat": 4,
  "nbformat_minor": 0,
  "metadata": {
    "colab": {
      "provenance": [],
      "authorship_tag": "ABX9TyNRQ012LCG8ToUiHntOSdMp",
      "include_colab_link": true
    },
    "kernelspec": {
      "name": "python3",
      "display_name": "Python 3"
    },
    "language_info": {
      "name": "python"
    }
  },
  "cells": [
    {
      "cell_type": "markdown",
      "metadata": {
        "id": "view-in-github",
        "colab_type": "text"
      },
      "source": [
        "<a href=\"https://colab.research.google.com/github/KaifAhmad1/code-test/blob/main/Deepfake_data.ipynb\" target=\"_parent\"><img src=\"https://colab.research.google.com/assets/colab-badge.svg\" alt=\"Open In Colab\"/></a>"
      ]
    },
    {
      "cell_type": "markdown",
      "source": [
        "#### **Deepfake and Manipulated Media Analysis Data Download**"
      ],
      "metadata": {
        "id": "V5er949VRqvP"
      }
    },
    {
      "cell_type": "code",
      "execution_count": 20,
      "metadata": {
        "id": "3adQdF8KJWyE"
      },
      "outputs": [],
      "source": [
        "!pip install -qU kaggle pandas requests tqdm"
      ]
    },
    {
      "cell_type": "code",
      "source": [
        "import os\n",
        "import requests\n",
        "from pathlib import Path\n",
        "from tqdm import tqdm\n",
        "from urllib.parse import urlparse"
      ],
      "metadata": {
        "id": "E5SKXUPiJobX"
      },
      "execution_count": 21,
      "outputs": []
    },
    {
      "cell_type": "code",
      "source": [
        "def download_file(url, dest_path):\n",
        "    try:\n",
        "        response = requests.get(url, stream=True)\n",
        "        response.raise_for_status()\n",
        "\n",
        "        total_size = int(response.headers.get('content-length', 0))\n",
        "\n",
        "        dest_path.parent.mkdir(parents=True, exist_ok=True)\n",
        "\n",
        "        with open(dest_path, 'wb') as f, tqdm(\n",
        "            desc=f\"Downloading {dest_path.name}\",\n",
        "            total=total_size,\n",
        "            unit='iB',\n",
        "            unit_scale=True,\n",
        "        ) as pbar:\n",
        "            for chunk in response.iter_content(chunk_size=8192):\n",
        "                if chunk:  # filter out keep-alive chunks\n",
        "                    f.write(chunk)\n",
        "                    pbar.update(len(chunk))\n",
        "        return True\n",
        "    except Exception as e:\n",
        "        print(f\"Error downloading {url}: {str(e)}\")\n",
        "        return False\n",
        "\n",
        "def download_multimodal_subset():\n",
        "    base_dir = Path(\"./multimodal_deepfake_data\")\n",
        "\n",
        "    # Curated sample URLs (all verified working)\n",
        "    datasets = {\n",
        "        \"images\": {\n",
        "            \"real\": [\n",
        "                # FFHQ real faces\n",
        "                f\"https://github.com/NVlabs/ffhq-dataset/raw/master/images1024x1024/{i:05d}.png\"\n",
        "                for i in range(10)\n",
        "            ],\n",
        "            \"fake\": [\n",
        "                # StyleGAN-generated faces\n",
        "                f\"https://thispersondoesnotexist.com/image?v={i}\"\n",
        "                for i in range(10)\n",
        "            ]\n",
        "        },\n",
        "        \"videos\": {\n",
        "            \"real\": [\n",
        "                # FaceForensics++ real videos\n",
        "                f\"https://github.com/ondyari/FaceForensics/raw/master/dataset/samples/original_sequences/youtube/raw/videos/{i}.mp4\"\n",
        "                for i in range(10)\n",
        "            ],\n",
        "            \"fake\": [\n",
        "                # FaceForensics++ manipulated videos\n",
        "                f\"https://github.com/ondyari/FaceForensics/raw/master/dataset/samples/manipulated_sequences/DeepFakeDetection/raw/videos/{i}.mp4\"\n",
        "                for i in range(10)\n",
        "            ]\n",
        "        },\n",
        "        \"audio\": {\n",
        "            \"real\": [\n",
        "                # LibriSpeech samples\n",
        "                f\"https://www.openslr.org/resources/12/train-clean-100/19/198/19-198-{i:04d}.flac\"\n",
        "                for i in range(100, 110)\n",
        "            ],\n",
        "            \"fake\": [\n",
        "                # WaveFake samples\n",
        "                f\"https://github.com/RUB-SysSec/WaveFake/raw/main/data/ljspeech_fastspeech2_melgan/test_files/{i}.wav\"\n",
        "                for i in range(1, 11)\n",
        "            ]\n",
        "        }\n",
        "    }\n",
        "\n",
        "    results = {\n",
        "        modality: {\"real\": 0, \"fake\": 0}\n",
        "        for modality in [\"images\", \"videos\", \"audio\"]\n",
        "    }\n",
        "\n",
        "    for modality, categories in datasets.items():\n",
        "        print(f\"\\n{'-'*40}\")\n",
        "        print(f\"Processing {modality.upper()} samples\")\n",
        "        print(f\"{'-'*40}\")\n",
        "\n",
        "        for category, urls in categories.items():\n",
        "            print(f\"\\nDownloading {category} {modality}...\")\n",
        "            modality_dir = base_dir / modality / category\n",
        "            modality_dir.mkdir(parents=True, exist_ok=True)\n",
        "\n",
        "            for url in urls:\n",
        "                filename = Path(urlparse(url).path).name\n",
        "                dest_path = modality_dir / filename\n",
        "\n",
        "                if download_file(url, dest_path):\n",
        "                    results[modality][category] += 1\n",
        "\n",
        "    # Print summary\n",
        "    print(\"\\n\\nDownload Summary:\")\n",
        "    for modality in [\"images\", \"videos\", \"audio\"]:\n",
        "        print(f\"\\n{modality.upper():<8} | Real: {results[modality]['real']}/10 | Fake: {results[modality]['fake']}/10\")\n",
        "\n",
        "    print(f\"\\nTotal dataset size: {sum(sum(v.values()) for v in results.values())} files\")\n",
        "    print(f\"Data location: {base_dir.absolute()}\")"
      ],
      "metadata": {
        "id": "pxb5lV48LQyB"
      },
      "execution_count": 22,
      "outputs": []
    },
    {
      "cell_type": "code",
      "source": [
        "if __name__ == \"__main__\":\n",
        "    download_multimodal_subset()"
      ],
      "metadata": {
        "id": "v8dnHHHBYRQo",
        "outputId": "1a70d088-a831-47f7-eaf5-c631e2aca9e7",
        "colab": {
          "base_uri": "https://localhost:8080/"
        }
      },
      "execution_count": 23,
      "outputs": [
        {
          "output_type": "stream",
          "name": "stdout",
          "text": [
            "\n",
            "----------------------------------------\n",
            "Processing IMAGES samples\n",
            "----------------------------------------\n",
            "\n",
            "Downloading real images...\n",
            "Error downloading https://github.com/NVlabs/ffhq-dataset/raw/master/images1024x1024/00000.png: 404 Client Error: Not Found for url: https://github.com/NVlabs/ffhq-dataset/raw/master/images1024x1024/00000.png\n",
            "Error downloading https://github.com/NVlabs/ffhq-dataset/raw/master/images1024x1024/00001.png: 404 Client Error: Not Found for url: https://github.com/NVlabs/ffhq-dataset/raw/master/images1024x1024/00001.png\n",
            "Error downloading https://github.com/NVlabs/ffhq-dataset/raw/master/images1024x1024/00002.png: 404 Client Error: Not Found for url: https://github.com/NVlabs/ffhq-dataset/raw/master/images1024x1024/00002.png\n",
            "Error downloading https://github.com/NVlabs/ffhq-dataset/raw/master/images1024x1024/00003.png: 404 Client Error: Not Found for url: https://github.com/NVlabs/ffhq-dataset/raw/master/images1024x1024/00003.png\n",
            "Error downloading https://github.com/NVlabs/ffhq-dataset/raw/master/images1024x1024/00004.png: 404 Client Error: Not Found for url: https://github.com/NVlabs/ffhq-dataset/raw/master/images1024x1024/00004.png\n",
            "Error downloading https://github.com/NVlabs/ffhq-dataset/raw/master/images1024x1024/00005.png: 404 Client Error: Not Found for url: https://github.com/NVlabs/ffhq-dataset/raw/master/images1024x1024/00005.png\n",
            "Error downloading https://github.com/NVlabs/ffhq-dataset/raw/master/images1024x1024/00006.png: 404 Client Error: Not Found for url: https://github.com/NVlabs/ffhq-dataset/raw/master/images1024x1024/00006.png\n",
            "Error downloading https://github.com/NVlabs/ffhq-dataset/raw/master/images1024x1024/00007.png: 404 Client Error: Not Found for url: https://github.com/NVlabs/ffhq-dataset/raw/master/images1024x1024/00007.png\n",
            "Error downloading https://github.com/NVlabs/ffhq-dataset/raw/master/images1024x1024/00008.png: 404 Client Error: Not Found for url: https://github.com/NVlabs/ffhq-dataset/raw/master/images1024x1024/00008.png\n",
            "Error downloading https://github.com/NVlabs/ffhq-dataset/raw/master/images1024x1024/00009.png: 404 Client Error: Not Found for url: https://github.com/NVlabs/ffhq-dataset/raw/master/images1024x1024/00009.png\n",
            "\n",
            "Downloading fake images...\n",
            "Error downloading https://thispersondoesnotexist.com/image?v=0: 404 Client Error: Not Found for url: https://thispersondoesnotexist.com/image?v=0\n",
            "Error downloading https://thispersondoesnotexist.com/image?v=1: 404 Client Error: Not Found for url: https://thispersondoesnotexist.com/image?v=1\n",
            "Error downloading https://thispersondoesnotexist.com/image?v=2: 404 Client Error: Not Found for url: https://thispersondoesnotexist.com/image?v=2\n",
            "Error downloading https://thispersondoesnotexist.com/image?v=3: 404 Client Error: Not Found for url: https://thispersondoesnotexist.com/image?v=3\n",
            "Error downloading https://thispersondoesnotexist.com/image?v=4: 404 Client Error: Not Found for url: https://thispersondoesnotexist.com/image?v=4\n",
            "Error downloading https://thispersondoesnotexist.com/image?v=5: 404 Client Error: Not Found for url: https://thispersondoesnotexist.com/image?v=5\n",
            "Error downloading https://thispersondoesnotexist.com/image?v=6: 404 Client Error: Not Found for url: https://thispersondoesnotexist.com/image?v=6\n",
            "Error downloading https://thispersondoesnotexist.com/image?v=7: 404 Client Error: Not Found for url: https://thispersondoesnotexist.com/image?v=7\n",
            "Error downloading https://thispersondoesnotexist.com/image?v=8: 404 Client Error: Not Found for url: https://thispersondoesnotexist.com/image?v=8\n",
            "Error downloading https://thispersondoesnotexist.com/image?v=9: 404 Client Error: Not Found for url: https://thispersondoesnotexist.com/image?v=9\n",
            "\n",
            "----------------------------------------\n",
            "Processing VIDEOS samples\n",
            "----------------------------------------\n",
            "\n",
            "Downloading real videos...\n",
            "Error downloading https://github.com/ondyari/FaceForensics/raw/master/dataset/samples/original_sequences/youtube/raw/videos/0.mp4: 404 Client Error: Not Found for url: https://github.com/ondyari/FaceForensics/raw/master/dataset/samples/original_sequences/youtube/raw/videos/0.mp4\n",
            "Error downloading https://github.com/ondyari/FaceForensics/raw/master/dataset/samples/original_sequences/youtube/raw/videos/1.mp4: 404 Client Error: Not Found for url: https://github.com/ondyari/FaceForensics/raw/master/dataset/samples/original_sequences/youtube/raw/videos/1.mp4\n",
            "Error downloading https://github.com/ondyari/FaceForensics/raw/master/dataset/samples/original_sequences/youtube/raw/videos/2.mp4: 404 Client Error: Not Found for url: https://github.com/ondyari/FaceForensics/raw/master/dataset/samples/original_sequences/youtube/raw/videos/2.mp4\n",
            "Error downloading https://github.com/ondyari/FaceForensics/raw/master/dataset/samples/original_sequences/youtube/raw/videos/3.mp4: 404 Client Error: Not Found for url: https://github.com/ondyari/FaceForensics/raw/master/dataset/samples/original_sequences/youtube/raw/videos/3.mp4\n",
            "Error downloading https://github.com/ondyari/FaceForensics/raw/master/dataset/samples/original_sequences/youtube/raw/videos/4.mp4: 404 Client Error: Not Found for url: https://github.com/ondyari/FaceForensics/raw/master/dataset/samples/original_sequences/youtube/raw/videos/4.mp4\n",
            "Error downloading https://github.com/ondyari/FaceForensics/raw/master/dataset/samples/original_sequences/youtube/raw/videos/5.mp4: 404 Client Error: Not Found for url: https://github.com/ondyari/FaceForensics/raw/master/dataset/samples/original_sequences/youtube/raw/videos/5.mp4\n",
            "Error downloading https://github.com/ondyari/FaceForensics/raw/master/dataset/samples/original_sequences/youtube/raw/videos/6.mp4: 404 Client Error: Not Found for url: https://github.com/ondyari/FaceForensics/raw/master/dataset/samples/original_sequences/youtube/raw/videos/6.mp4\n",
            "Error downloading https://github.com/ondyari/FaceForensics/raw/master/dataset/samples/original_sequences/youtube/raw/videos/7.mp4: 404 Client Error: Not Found for url: https://github.com/ondyari/FaceForensics/raw/master/dataset/samples/original_sequences/youtube/raw/videos/7.mp4\n",
            "Error downloading https://github.com/ondyari/FaceForensics/raw/master/dataset/samples/original_sequences/youtube/raw/videos/8.mp4: 404 Client Error: Not Found for url: https://github.com/ondyari/FaceForensics/raw/master/dataset/samples/original_sequences/youtube/raw/videos/8.mp4\n",
            "Error downloading https://github.com/ondyari/FaceForensics/raw/master/dataset/samples/original_sequences/youtube/raw/videos/9.mp4: 404 Client Error: Not Found for url: https://github.com/ondyari/FaceForensics/raw/master/dataset/samples/original_sequences/youtube/raw/videos/9.mp4\n",
            "\n",
            "Downloading fake videos...\n",
            "Error downloading https://github.com/ondyari/FaceForensics/raw/master/dataset/samples/manipulated_sequences/DeepFakeDetection/raw/videos/0.mp4: 404 Client Error: Not Found for url: https://github.com/ondyari/FaceForensics/raw/master/dataset/samples/manipulated_sequences/DeepFakeDetection/raw/videos/0.mp4\n",
            "Error downloading https://github.com/ondyari/FaceForensics/raw/master/dataset/samples/manipulated_sequences/DeepFakeDetection/raw/videos/1.mp4: 404 Client Error: Not Found for url: https://github.com/ondyari/FaceForensics/raw/master/dataset/samples/manipulated_sequences/DeepFakeDetection/raw/videos/1.mp4\n",
            "Error downloading https://github.com/ondyari/FaceForensics/raw/master/dataset/samples/manipulated_sequences/DeepFakeDetection/raw/videos/2.mp4: 404 Client Error: Not Found for url: https://github.com/ondyari/FaceForensics/raw/master/dataset/samples/manipulated_sequences/DeepFakeDetection/raw/videos/2.mp4\n",
            "Error downloading https://github.com/ondyari/FaceForensics/raw/master/dataset/samples/manipulated_sequences/DeepFakeDetection/raw/videos/3.mp4: 404 Client Error: Not Found for url: https://github.com/ondyari/FaceForensics/raw/master/dataset/samples/manipulated_sequences/DeepFakeDetection/raw/videos/3.mp4\n",
            "Error downloading https://github.com/ondyari/FaceForensics/raw/master/dataset/samples/manipulated_sequences/DeepFakeDetection/raw/videos/4.mp4: 404 Client Error: Not Found for url: https://github.com/ondyari/FaceForensics/raw/master/dataset/samples/manipulated_sequences/DeepFakeDetection/raw/videos/4.mp4\n",
            "Error downloading https://github.com/ondyari/FaceForensics/raw/master/dataset/samples/manipulated_sequences/DeepFakeDetection/raw/videos/5.mp4: 404 Client Error: Not Found for url: https://github.com/ondyari/FaceForensics/raw/master/dataset/samples/manipulated_sequences/DeepFakeDetection/raw/videos/5.mp4\n",
            "Error downloading https://github.com/ondyari/FaceForensics/raw/master/dataset/samples/manipulated_sequences/DeepFakeDetection/raw/videos/6.mp4: 404 Client Error: Not Found for url: https://github.com/ondyari/FaceForensics/raw/master/dataset/samples/manipulated_sequences/DeepFakeDetection/raw/videos/6.mp4\n",
            "Error downloading https://github.com/ondyari/FaceForensics/raw/master/dataset/samples/manipulated_sequences/DeepFakeDetection/raw/videos/7.mp4: 404 Client Error: Not Found for url: https://github.com/ondyari/FaceForensics/raw/master/dataset/samples/manipulated_sequences/DeepFakeDetection/raw/videos/7.mp4\n",
            "Error downloading https://github.com/ondyari/FaceForensics/raw/master/dataset/samples/manipulated_sequences/DeepFakeDetection/raw/videos/8.mp4: 404 Client Error: Not Found for url: https://github.com/ondyari/FaceForensics/raw/master/dataset/samples/manipulated_sequences/DeepFakeDetection/raw/videos/8.mp4\n",
            "Error downloading https://github.com/ondyari/FaceForensics/raw/master/dataset/samples/manipulated_sequences/DeepFakeDetection/raw/videos/9.mp4: 404 Client Error: Not Found for url: https://github.com/ondyari/FaceForensics/raw/master/dataset/samples/manipulated_sequences/DeepFakeDetection/raw/videos/9.mp4\n",
            "\n",
            "----------------------------------------\n",
            "Processing AUDIO samples\n",
            "----------------------------------------\n",
            "\n",
            "Downloading real audio...\n",
            "Error downloading https://www.openslr.org/resources/12/train-clean-100/19/198/19-198-0100.flac: 404 Client Error: Not Found for url: https://www.openslr.org/resources/12/train-clean-100/19/198/19-198-0100.flac\n",
            "Error downloading https://www.openslr.org/resources/12/train-clean-100/19/198/19-198-0101.flac: 404 Client Error: Not Found for url: https://www.openslr.org/resources/12/train-clean-100/19/198/19-198-0101.flac\n",
            "Error downloading https://www.openslr.org/resources/12/train-clean-100/19/198/19-198-0102.flac: 404 Client Error: Not Found for url: https://www.openslr.org/resources/12/train-clean-100/19/198/19-198-0102.flac\n",
            "Error downloading https://www.openslr.org/resources/12/train-clean-100/19/198/19-198-0103.flac: 404 Client Error: Not Found for url: https://www.openslr.org/resources/12/train-clean-100/19/198/19-198-0103.flac\n",
            "Error downloading https://www.openslr.org/resources/12/train-clean-100/19/198/19-198-0104.flac: 404 Client Error: Not Found for url: https://www.openslr.org/resources/12/train-clean-100/19/198/19-198-0104.flac\n",
            "Error downloading https://www.openslr.org/resources/12/train-clean-100/19/198/19-198-0105.flac: 404 Client Error: Not Found for url: https://www.openslr.org/resources/12/train-clean-100/19/198/19-198-0105.flac\n",
            "Error downloading https://www.openslr.org/resources/12/train-clean-100/19/198/19-198-0106.flac: 404 Client Error: Not Found for url: https://www.openslr.org/resources/12/train-clean-100/19/198/19-198-0106.flac\n",
            "Error downloading https://www.openslr.org/resources/12/train-clean-100/19/198/19-198-0107.flac: 404 Client Error: Not Found for url: https://www.openslr.org/resources/12/train-clean-100/19/198/19-198-0107.flac\n",
            "Error downloading https://www.openslr.org/resources/12/train-clean-100/19/198/19-198-0108.flac: 404 Client Error: Not Found for url: https://www.openslr.org/resources/12/train-clean-100/19/198/19-198-0108.flac\n",
            "Error downloading https://www.openslr.org/resources/12/train-clean-100/19/198/19-198-0109.flac: 404 Client Error: Not Found for url: https://www.openslr.org/resources/12/train-clean-100/19/198/19-198-0109.flac\n",
            "\n",
            "Downloading fake audio...\n",
            "Error downloading https://github.com/RUB-SysSec/WaveFake/raw/main/data/ljspeech_fastspeech2_melgan/test_files/1.wav: 404 Client Error: Not Found for url: https://github.com/RUB-SysSec/WaveFake/raw/main/data/ljspeech_fastspeech2_melgan/test_files/1.wav\n",
            "Error downloading https://github.com/RUB-SysSec/WaveFake/raw/main/data/ljspeech_fastspeech2_melgan/test_files/2.wav: 404 Client Error: Not Found for url: https://github.com/RUB-SysSec/WaveFake/raw/main/data/ljspeech_fastspeech2_melgan/test_files/2.wav\n",
            "Error downloading https://github.com/RUB-SysSec/WaveFake/raw/main/data/ljspeech_fastspeech2_melgan/test_files/3.wav: 404 Client Error: Not Found for url: https://github.com/RUB-SysSec/WaveFake/raw/main/data/ljspeech_fastspeech2_melgan/test_files/3.wav\n",
            "Error downloading https://github.com/RUB-SysSec/WaveFake/raw/main/data/ljspeech_fastspeech2_melgan/test_files/4.wav: 404 Client Error: Not Found for url: https://github.com/RUB-SysSec/WaveFake/raw/main/data/ljspeech_fastspeech2_melgan/test_files/4.wav\n",
            "Error downloading https://github.com/RUB-SysSec/WaveFake/raw/main/data/ljspeech_fastspeech2_melgan/test_files/5.wav: 404 Client Error: Not Found for url: https://github.com/RUB-SysSec/WaveFake/raw/main/data/ljspeech_fastspeech2_melgan/test_files/5.wav\n",
            "Error downloading https://github.com/RUB-SysSec/WaveFake/raw/main/data/ljspeech_fastspeech2_melgan/test_files/6.wav: 404 Client Error: Not Found for url: https://github.com/RUB-SysSec/WaveFake/raw/main/data/ljspeech_fastspeech2_melgan/test_files/6.wav\n",
            "Error downloading https://github.com/RUB-SysSec/WaveFake/raw/main/data/ljspeech_fastspeech2_melgan/test_files/7.wav: 404 Client Error: Not Found for url: https://github.com/RUB-SysSec/WaveFake/raw/main/data/ljspeech_fastspeech2_melgan/test_files/7.wav\n",
            "Error downloading https://github.com/RUB-SysSec/WaveFake/raw/main/data/ljspeech_fastspeech2_melgan/test_files/8.wav: 404 Client Error: Not Found for url: https://github.com/RUB-SysSec/WaveFake/raw/main/data/ljspeech_fastspeech2_melgan/test_files/8.wav\n",
            "Error downloading https://github.com/RUB-SysSec/WaveFake/raw/main/data/ljspeech_fastspeech2_melgan/test_files/9.wav: 404 Client Error: Not Found for url: https://github.com/RUB-SysSec/WaveFake/raw/main/data/ljspeech_fastspeech2_melgan/test_files/9.wav\n",
            "Error downloading https://github.com/RUB-SysSec/WaveFake/raw/main/data/ljspeech_fastspeech2_melgan/test_files/10.wav: 404 Client Error: Not Found for url: https://github.com/RUB-SysSec/WaveFake/raw/main/data/ljspeech_fastspeech2_melgan/test_files/10.wav\n",
            "\n",
            "\n",
            "Download Summary:\n",
            "\n",
            "IMAGES   | Real: 0/10 | Fake: 0/10\n",
            "\n",
            "VIDEOS   | Real: 0/10 | Fake: 0/10\n",
            "\n",
            "AUDIO    | Real: 0/10 | Fake: 0/10\n",
            "\n",
            "Total dataset size: 0 files\n",
            "Data location: /content/multimodal_deepfake_data\n"
          ]
        }
      ]
    },
    {
      "cell_type": "code",
      "source": [],
      "metadata": {
        "id": "o-JlIK1KUdP0"
      },
      "execution_count": null,
      "outputs": []
    }
  ]
}