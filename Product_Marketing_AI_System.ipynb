{
  "nbformat": 4,
  "nbformat_minor": 0,
  "metadata": {
    "colab": {
      "provenance": [],
      "gpuType": "T4",
      "authorship_tag": "ABX9TyPO2w9vtIyhzG0CE5fEXHgF",
      "include_colab_link": true
    },
    "kernelspec": {
      "name": "python3",
      "display_name": "Python 3"
    },
    "language_info": {
      "name": "python"
    },
    "accelerator": "GPU"
  },
  "cells": [
    {
      "cell_type": "markdown",
      "metadata": {
        "id": "view-in-github",
        "colab_type": "text"
      },
      "source": [
        "<a href=\"https://colab.research.google.com/github/KaifAhmad1/code-test/blob/main/Product_Marketing_AI_System.ipynb\" target=\"_parent\"><img src=\"https://colab.research.google.com/assets/colab-badge.svg\" alt=\"Open In Colab\"/></a>"
      ]
    },
    {
      "cell_type": "markdown",
      "source": [
        "# Product Marketing AI System\n",
        "\n",
        "## Overview\n",
        "This system helps create high-quality marketing images automatically. It takes in photos and optional audio or video, then processes, refines, and enhances them to produce beautiful marketing visuals for many different industries.\n",
        "\n",
        "## Key Features\n",
        "\n",
        "- **Easy Input:** Upload main and supplementary images, plus optional multimedia for extra context.\n",
        "- **Smart Processing:** The system automatically cuts out key parts, improves image details, and boosts overall clarity.\n",
        "- **Creative Prompts:** Custom prompts are generated to guide the image creation process, making it tailored to your needs.\n",
        "- **Fast Generation:** Uses multiple AI models working together to generate and improve images quickly.\n",
        "- **Quality Check:** Compares final images to the originals and provides simple quality feedback.\n",
        "- **Simple Reports:** Automatically produces a brief report with the final prompt and quality scores.\n",
        "\n",
        "## Benefits\n",
        "- Saves time by automating the creation of professional marketing images.\n",
        "- Provides consistent and attractive visuals optimized for your business.\n",
        "- Easy to use with straightforward input and clear feedback.\n",
        "\n",
        "Enjoy a seamless experience in making your marketing visuals stand out!"
      ],
      "metadata": {
        "id": "Y8kVOa8p2KCW"
      }
    },
    {
      "cell_type": "code",
      "execution_count": 5,
      "metadata": {
        "colab": {
          "base_uri": "https://localhost:8080/"
        },
        "id": "-UNuaT-u16cA",
        "outputId": "577e5655-822f-4eb5-beb0-cf0a357e6741"
      },
      "outputs": [
        {
          "output_type": "stream",
          "name": "stdout",
          "text": [
            "  Preparing metadata (setup.py) ... \u001b[?25l\u001b[?25hdone\n",
            "  \u001b[1;31merror\u001b[0m: \u001b[1msubprocess-exited-with-error\u001b[0m\n",
            "  \n",
            "  \u001b[31m×\u001b[0m \u001b[32mgit clone --\u001b[0m\u001b[32mfilter\u001b[0m\u001b[32m=\u001b[0m\u001b[32mblob\u001b[0m\u001b[32m:none --quiet \u001b[0m\u001b[4;32mhttps://github.com/ChaoningZhang/Real-ESRGAN.git\u001b[0m\u001b[32m \u001b[0m\u001b[32m/tmp/\u001b[0m\u001b[32mpip-req-build-54h02w0u\u001b[0m did not run successfully.\n",
            "  \u001b[31m│\u001b[0m exit code: \u001b[1;36m128\u001b[0m\n",
            "  \u001b[31m╰─>\u001b[0m See above for output.\n",
            "  \n",
            "  \u001b[1;35mnote\u001b[0m: This error originates from a subprocess, and is likely not a problem with pip.\n",
            "\u001b[1;31merror\u001b[0m: \u001b[1msubprocess-exited-with-error\u001b[0m\n",
            "\n",
            "\u001b[31m×\u001b[0m \u001b[32mgit clone --\u001b[0m\u001b[32mfilter\u001b[0m\u001b[32m=\u001b[0m\u001b[32mblob\u001b[0m\u001b[32m:none --quiet \u001b[0m\u001b[4;32mhttps://github.com/ChaoningZhang/Real-ESRGAN.git\u001b[0m\u001b[32m \u001b[0m\u001b[32m/tmp/\u001b[0m\u001b[32mpip-req-build-54h02w0u\u001b[0m did not run successfully.\n",
            "\u001b[31m│\u001b[0m exit code: \u001b[1;36m128\u001b[0m\n",
            "\u001b[31m╰─>\u001b[0m See above for output.\n",
            "\n",
            "\u001b[1;35mnote\u001b[0m: This error originates from a subprocess, and is likely not a problem with pip.\n",
            "\u001b[31mERROR: git+https://github.com/advimman/lama.git does not appear to be a Python project: neither 'setup.py' nor 'pyproject.toml' found.\u001b[0m\u001b[31m\n",
            "\u001b[0m\u001b[31mERROR: Could not find a version that satisfies the requirement u2net (from versions: none)\u001b[0m\u001b[31m\n",
            "\u001b[0m\u001b[31mERROR: No matching distribution found for u2net\u001b[0m\u001b[31m\n",
            "\u001b[0m"
          ]
        }
      ],
      "source": [
        "# Step 1: Install dependencies (for Colab Notebook; not needed if pre-installed)\n",
        "%pip install --q git+https://github.com/facebookresearch/segment-anything.git\n",
        "%pip install -q diffusers transformers accelerate\n",
        "%pip install -q git+https://github.com/ChaoningZhang/Real-ESRGAN.git\n",
        "%pip install -q git+https://github.com/advimman/lama.git\n",
        "%pip install -q langchain langchain-google-genai groq openai u2net langchain_community\n",
        "%pip install -q scikit-image\n",
        "!wget https://dl.fbaipublicfiles.com/segment_anything/sam_vit_h_4b8939.pth -O sam_vit_h.pth -q"
      ]
    },
    {
      "cell_type": "code",
      "source": [
        "import os\n",
        "import cv2\n",
        "import numpy as np\n",
        "from PIL import Image\n",
        "import matplotlib.pyplot as plt\n",
        "import base64\n",
        "import json\n",
        "import hashlib\n",
        "import asyncio\n",
        "import concurrent.futures\n",
        "from tenacity import retry, stop_after_attempt, wait_exponential\n",
        "from skimage.metrics import structural_similarity as ssim\n",
        "import math\n",
        "\n",
        "# Simplified LLM import from LangChain (using only text-generation model)\n",
        "from langchain.llms import HuggingFacePipeline\n",
        "from transformers import pipeline\n",
        "\n",
        "print(\"Starting Product Marketing AI Pipeline with advanced parallelization and async/await...\")\n",
        "\n",
        "# Create outputs directory for intermediate and final outputs\n",
        "OUTPUT_DIR = \"outputs\"\n",
        "if not os.path.exists(OUTPUT_DIR):\n",
        "    os.makedirs(OUTPUT_DIR)\n",
        "\n",
        "# Utility Functions\n",
        "def free_memory(model):\n",
        "    try:\n",
        "        del model\n",
        "        import torch\n",
        "        torch.cuda.empty_cache()\n",
        "    except Exception as e:\n",
        "        print(f\"Error in memory cleanup: {e}\")\n",
        "\n",
        "def verify_checksum(file_path, expected_hash):\n",
        "    sha256 = hashlib.sha256()\n",
        "    with open(file_path, \"rb\") as f:\n",
        "        sha256.update(f.read())\n",
        "    return sha256.hexdigest() == expected_hash\n",
        "\n",
        "def psnr(target, ref):\n",
        "    \"\"\"Compute Peak Signal-to-Noise Ratio between two images.\"\"\"\n",
        "    mse = np.mean((target - ref) ** 2)\n",
        "    if mse == 0:\n",
        "        return 100\n",
        "    max_pixel = 255.0\n",
        "    return 20 * math.log10(max_pixel / math.sqrt(mse))"
      ],
      "metadata": {
        "id": "NISUlqbM3aXU"
      },
      "execution_count": null,
      "outputs": []
    },
    {
      "cell_type": "code",
      "source": [
        "# Step 3: Initialize Models\n",
        "print(\"Initializing models...\")\n",
        "\n",
        "# Load SAM\n",
        "from segment_anything import SamPredictor, sam_model_registry\n",
        "sam = sam_model_registry[\"vit_h\"](checkpoint=\"sam_vit_h.pth\")\n",
        "# Replace \"expected_hash\" with actual expected checksum for production\n",
        "if not verify_checksum(\"sam_vit_h.pth\", \"expected_hash\"):\n",
        "    raise ValueError(\"SAM checkpoint corrupted\")\n",
        "predictor = SamPredictor(sam)\n",
        "\n",
        "# Load Stable Diffusion with ControlNet fallback\n",
        "from diffusers import StableDiffusionControlNetPipeline, ControlNetModel\n",
        "controlnet = ControlNetModel.from_pretrained(\n",
        "    \"lllyasviel/control_v11p_sd15_seg\",\n",
        "    torch_dtype=\"float16\",\n",
        "    local_files_only=False\n",
        ")\n",
        "sd_pipeline = StableDiffusionControlNetPipeline.from_pretrained(\n",
        "    \"runwayml/stable-diffusion-v1-5\",\n",
        "    controlnet=controlnet,\n",
        "    torch_dtype=\"float16\"\n",
        ").to(\"cuda\")\n",
        "\n",
        "# Load ESRGAN for super-resolution\n",
        "from RealESRGAN import RealESRGAN\n",
        "esrgan_model = RealESRGAN(device=\"cuda\", model=\"RealESRGAN_x4plus\")\n",
        "esrgan_model.load_weights(\"RealESRGAN_x4plus.pth\")\n",
        "\n",
        "# Load LaMa for inpainting\n",
        "from lama import LaMa\n",
        "lama_model = LaMa(device=\"cuda\")\n",
        "\n",
        "# Load U2-Net for object extraction\n",
        "from u2net import U2NET\n",
        "u2net = U2NET()\n",
        "\n",
        "# Initialize Groq client and Google Gemini\n",
        "from groq import Groq\n",
        "groq_client = Groq(api_key=os.environ.get(\"GROQ_API_KEY\"))\n",
        "from langchain_google_genai import ChatGoogleGenerativeAI\n",
        "gemini_llm = ChatGoogleGenerativeAI(model=\"gemini-2.0-flash\", temperature=0)\n",
        "\n",
        "# Initialize xAI client\n",
        "from openai import OpenAI\n",
        "xai_client = OpenAI(base_url=\"https://api.x.ai/v1\", api_key=os.environ.get(\"XAI_API_KEY\"))\n",
        "\n",
        "# Setup LangChain for prompt engineering using a basic text-generation model\n",
        "text_generator = pipeline(\"text-generation\", model=\"gpt2\", device=0)\n",
        "llm = HuggingFacePipeline(pipeline=text_generator)"
      ],
      "metadata": {
        "id": "PFsY_K0IJu-I",
        "outputId": "568fe32a-b631-4a7f-e16f-c6d42e06ea44",
        "colab": {
          "base_uri": "https://localhost:8080/",
          "height": 228
        }
      },
      "execution_count": 6,
      "outputs": [
        {
          "output_type": "stream",
          "name": "stdout",
          "text": [
            "Initializing models...\n"
          ]
        },
        {
          "output_type": "error",
          "ename": "NameError",
          "evalue": "name 'verify_checksum' is not defined",
          "traceback": [
            "\u001b[0;31m---------------------------------------------------------------------------\u001b[0m",
            "\u001b[0;31mNameError\u001b[0m                                 Traceback (most recent call last)",
            "\u001b[0;32m<ipython-input-6-fa5138f586ff>\u001b[0m in \u001b[0;36m<cell line: 0>\u001b[0;34m()\u001b[0m\n\u001b[1;32m      6\u001b[0m \u001b[0msam\u001b[0m \u001b[0;34m=\u001b[0m \u001b[0msam_model_registry\u001b[0m\u001b[0;34m[\u001b[0m\u001b[0;34m\"vit_h\"\u001b[0m\u001b[0;34m]\u001b[0m\u001b[0;34m(\u001b[0m\u001b[0mcheckpoint\u001b[0m\u001b[0;34m=\u001b[0m\u001b[0;34m\"sam_vit_h.pth\"\u001b[0m\u001b[0;34m)\u001b[0m\u001b[0;34m\u001b[0m\u001b[0;34m\u001b[0m\u001b[0m\n\u001b[1;32m      7\u001b[0m \u001b[0;31m# Replace \"expected_hash\" with actual expected checksum for production\u001b[0m\u001b[0;34m\u001b[0m\u001b[0;34m\u001b[0m\u001b[0m\n\u001b[0;32m----> 8\u001b[0;31m \u001b[0;32mif\u001b[0m \u001b[0;32mnot\u001b[0m \u001b[0mverify_checksum\u001b[0m\u001b[0;34m(\u001b[0m\u001b[0;34m\"sam_vit_h.pth\"\u001b[0m\u001b[0;34m,\u001b[0m \u001b[0;34m\"expected_hash\"\u001b[0m\u001b[0;34m)\u001b[0m\u001b[0;34m:\u001b[0m\u001b[0;34m\u001b[0m\u001b[0;34m\u001b[0m\u001b[0m\n\u001b[0m\u001b[1;32m      9\u001b[0m     \u001b[0;32mraise\u001b[0m \u001b[0mValueError\u001b[0m\u001b[0;34m(\u001b[0m\u001b[0;34m\"SAM checkpoint corrupted\"\u001b[0m\u001b[0;34m)\u001b[0m\u001b[0;34m\u001b[0m\u001b[0;34m\u001b[0m\u001b[0m\n\u001b[1;32m     10\u001b[0m \u001b[0mpredictor\u001b[0m \u001b[0;34m=\u001b[0m \u001b[0mSamPredictor\u001b[0m\u001b[0;34m(\u001b[0m\u001b[0msam\u001b[0m\u001b[0;34m)\u001b[0m\u001b[0;34m\u001b[0m\u001b[0;34m\u001b[0m\u001b[0m\n",
            "\u001b[0;31mNameError\u001b[0m: name 'verify_checksum' is not defined"
          ]
        }
      ]
    },
    {
      "cell_type": "code",
      "source": [],
      "metadata": {
        "id": "BcG76-suJ5MV"
      },
      "execution_count": null,
      "outputs": []
    }
  ]
}