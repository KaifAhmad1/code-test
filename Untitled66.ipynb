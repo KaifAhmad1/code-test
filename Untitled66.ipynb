{
  "nbformat": 4,
  "nbformat_minor": 0,
  "metadata": {
    "colab": {
      "provenance": [],
      "authorship_tag": "ABX9TyP//gpIr+AGR397lpOXZ7TY",
      "include_colab_link": true
    },
    "kernelspec": {
      "name": "python3",
      "display_name": "Python 3"
    },
    "language_info": {
      "name": "python"
    }
  },
  "cells": [
    {
      "cell_type": "markdown",
      "metadata": {
        "id": "view-in-github",
        "colab_type": "text"
      },
      "source": [
        "<a href=\"https://colab.research.google.com/github/KaifAhmad1/code-test/blob/main/Untitled66.ipynb\" target=\"_parent\"><img src=\"https://colab.research.google.com/assets/colab-badge.svg\" alt=\"Open In Colab\"/></a>"
      ]
    },
    {
      "cell_type": "code",
      "execution_count": 1,
      "metadata": {
        "colab": {
          "base_uri": "https://localhost:8080/"
        },
        "id": "ncSo_58D4Xz2",
        "outputId": "905779f5-a4d4-4f4e-ff18-19ea910b30ea"
      },
      "outputs": [
        {
          "output_type": "stream",
          "name": "stdout",
          "text": [
            "Mounted at /content/drive\n"
          ]
        }
      ],
      "source": [
        "from google.colab import drive\n",
        "drive.mount('/content/drive')"
      ]
    },
    {
      "cell_type": "code",
      "source": [
        "import joblib\n",
        "\n",
        "# Adjust the path to where your file is located in Google Drive\n",
        "vectorizer_path = '/content/drive/MyDrive/tfidf_vectorizer.joblib'\n",
        "\n",
        "# Load the vectorizer\n",
        "vectorizer = joblib.load(vectorizer_path)\n",
        "\n",
        "# Check if the vectorizer is fitted\n",
        "if hasattr(vectorizer, 'vocabulary_'):\n",
        "    print(\"Vectorizer is fitted and ready to use.\")\n",
        "else:\n",
        "    raise ValueError(\"Vectorizer is not fitted. Please fit it on training data before use.\")"
      ],
      "metadata": {
        "colab": {
          "base_uri": "https://localhost:8080/"
        },
        "id": "qgLFUVjx4lb4",
        "outputId": "58c54023-8a0c-4f28-f693-2083ceff860f"
      },
      "execution_count": 3,
      "outputs": [
        {
          "output_type": "stream",
          "name": "stdout",
          "text": [
            "Vectorizer is fitted and ready to use.\n"
          ]
        }
      ]
    },
    {
      "cell_type": "code",
      "source": [
        "# Test the vectorizer with a sample text\n",
        "sample_text = [\"This is a sample text for testing the vectorizer.\"]\n",
        "vectorized_text = vectorizer.transform(sample_text)\n",
        "print(\"Vectorized text shape:\", vectorized_text.shape)"
      ],
      "metadata": {
        "colab": {
          "base_uri": "https://localhost:8080/"
        },
        "id": "Lb7btBIy46qS",
        "outputId": "4b5d04f5-2a87-460b-c32d-3bc9aea27378"
      },
      "execution_count": 4,
      "outputs": [
        {
          "output_type": "stream",
          "name": "stdout",
          "text": [
            "Vectorized text shape: (1, 5000)\n"
          ]
        }
      ]
    },
    {
      "cell_type": "code",
      "source": [],
      "metadata": {
        "id": "QBTzS5UK5Ujz"
      },
      "execution_count": null,
      "outputs": []
    }
  ]
}