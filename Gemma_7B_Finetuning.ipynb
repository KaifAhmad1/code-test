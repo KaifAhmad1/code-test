{
  "nbformat": 4,
  "nbformat_minor": 0,
  "metadata": {
    "colab": {
      "provenance": [],
      "gpuType": "T4",
      "include_colab_link": true
    },
    "kernelspec": {
      "name": "python3",
      "display_name": "Python 3"
    },
    "language_info": {
      "name": "python"
    },
    "accelerator": "GPU"
  },
  "cells": [
    {
      "cell_type": "markdown",
      "metadata": {
        "id": "view-in-github",
        "colab_type": "text"
      },
      "source": [
        "<a href=\"https://colab.research.google.com/github/KaifAhmad1/code-test/blob/main/Gemma_7B_Finetuning.ipynb\" target=\"_parent\"><img src=\"https://colab.research.google.com/assets/colab-badge.svg\" alt=\"Open In Colab\"/></a>"
      ]
    },
    {
      "cell_type": "markdown",
      "source": [
        "**Installing Necessary Dependencies:**"
      ],
      "metadata": {
        "id": "7MHZak3AfUOx"
      }
    },
    {
      "cell_type": "code",
      "execution_count": null,
      "metadata": {
        "id": "9WMGr8o3dXl1",
        "outputId": "eed5583f-f52d-4939-8dd6-3c6ae3014042",
        "colab": {
          "base_uri": "https://localhost:8080/"
        }
      },
      "outputs": [
        {
          "output_type": "stream",
          "name": "stdout",
          "text": [
            "\u001b[2K     \u001b[90m━━━━━━━━━━━━━━━━━━━━━━━━━━━━━━━━━━━━━━━━\u001b[0m \u001b[32m102.2/102.2 MB\u001b[0m \u001b[31m3.6 MB/s\u001b[0m eta \u001b[36m0:00:00\u001b[0m\n",
            "\u001b[2K     \u001b[90m━━━━━━━━━━━━━━━━━━━━━━━━━━━━━━━━━━━━━━━━\u001b[0m \u001b[32m23.7/23.7 MB\u001b[0m \u001b[31m1.4 MB/s\u001b[0m eta \u001b[36m0:00:00\u001b[0m\n",
            "\u001b[2K     \u001b[90m━━━━━━━━━━━━━━━━━━━━━━━━━━━━━━━━━━━━━━━━\u001b[0m \u001b[32m823.6/823.6 kB\u001b[0m \u001b[31m1.5 MB/s\u001b[0m eta \u001b[36m0:00:00\u001b[0m\n",
            "\u001b[2K     \u001b[90m━━━━━━━━━━━━━━━━━━━━━━━━━━━━━━━━━━━━━━━━\u001b[0m \u001b[32m14.1/14.1 MB\u001b[0m \u001b[31m1.4 MB/s\u001b[0m eta \u001b[36m0:00:00\u001b[0m\n",
            "\u001b[2K     \u001b[91m━\u001b[0m\u001b[91m╸\u001b[0m\u001b[90m━━━━━━━━━━━━━━━━━━━━━━━━━━━━━━━━━━━━━━\u001b[0m \u001b[32m33.9/731.7 MB\u001b[0m \u001b[31m1.0 MB/s\u001b[0m eta \u001b[36m0:11:34\u001b[0m"
          ]
        }
      ],
      "source": [
        "!pip install -qU bitsandbytes\n",
        "!pip install -qU trl\n",
        "!pip install -qU transformers\n",
        "!pip install -qU peft\n",
        "!pip install -qU optimum\n",
        "!pip install -qU datasets\n",
        "!pip install -qU accelerate\n",
        "!pip install -qU nltk\n",
        "!pip install -qU rouge_score"
      ]
    },
    {
      "cell_type": "code",
      "source": [
        "from huggingface_hub import notebook_login\n",
        "notebook_login()"
      ],
      "metadata": {
        "id": "y-4z8uUNcz7u"
      },
      "execution_count": null,
      "outputs": []
    },
    {
      "cell_type": "code",
      "source": [
        "from datasets import load_dataset\n",
        "dataset = load_dataset(\"kaifahmad/indian-history-hindi-QA-3.4k\",split=\"train\")"
      ],
      "metadata": {
        "id": "_bP8TyN9ffuU"
      },
      "execution_count": null,
      "outputs": []
    },
    {
      "cell_type": "code",
      "source": [
        "dataset"
      ],
      "metadata": {
        "id": "c0eBWGsOtW4A"
      },
      "execution_count": null,
      "outputs": []
    },
    {
      "cell_type": "code",
      "source": [
        "def process_data_sample(example):\n",
        "    # Extract relevant information from the example\n",
        "    question = example['Question']\n",
        "    answer = example['Answer']\n",
        "    # Prepare the processed example for a History Question Answering System\n",
        "    processed_example = (\n",
        "        \"आप एक इतिहास प्रश्न-उत्तर प्रणाली हैं, जो इतिहास से संबंधित ज्ञान और पूछे जाने वाले प्रश्नों को संग्रहीत करती है। \"\n",
        "        \"आप इतिहास से संबंधित तथ्य प्रदान कर सकते हैं, प्रश्नों का उत्तर दे सकते हैं और इतिहास संबंधी मार्गदर्शन प्रदान कर सकते हैं।\\n\\n\"\n",
        "        f\"उपयोगकर्ता प्रश्न:\\n{question}\\n\\n\"\n",
        "        f\"उत्तर:\\n{answer}\\n\\n\"\n",
        "    )\n",
        "    return processed_example"
      ],
      "metadata": {
        "id": "2GqFq7spuU9R"
      },
      "execution_count": null,
      "outputs": []
    },
    {
      "cell_type": "code",
      "source": [
        "dataset = dataset.map(lambda example: {'text': process_data_sample(example)}, remove_columns=['Question', 'Answer'])"
      ],
      "metadata": {
        "id": "YDflRm11W60f"
      },
      "execution_count": null,
      "outputs": []
    },
    {
      "cell_type": "code",
      "source": [
        "for i in range(5):\n",
        "    print(dataset[i]['text'])"
      ],
      "metadata": {
        "id": "Du4On_Ntytmv"
      },
      "execution_count": null,
      "outputs": []
    },
    {
      "cell_type": "code",
      "source": [
        "from sklearn.model_selection import train_test_split\n",
        "train_data, test_data = train_test_split(dataset, test_size=0.2, random_state=42)"
      ],
      "metadata": {
        "id": "pYMNfiBiX5N1"
      },
      "execution_count": null,
      "outputs": []
    },
    {
      "cell_type": "code",
      "source": [
        "from tqdm import tqdm\n",
        "import bitsandbytes as bnb\n",
        "import torch\n",
        "import torch.nn as nn\n",
        "from peft import LoraConfig, prepare_model_for_kbit_training, get_peft_model\n",
        "from trl import SFTTrainer\n",
        "from transformers import (\n",
        "    AutoModelForCausalLM,\n",
        "    AutoTokenizer,\n",
        "    TrainingArguments,\n",
        "    BitsAndBytesConfig,\n",
        "    pipeline,\n",
        "    logging\n",
        ")\n",
        "from sklearn.model_selection import train_test_split\n",
        "from datasets import Dataset\n",
        "from huggingface_hub import notebook_login\n",
        "from google.colab import drive\n",
        "from nltk.translate.bleu_score import sentence_bleu\n",
        "from rouge_score import rouge_scorer"
      ],
      "metadata": {
        "id": "XUZ_GCrCcUkb"
      },
      "execution_count": null,
      "outputs": []
    },
    {
      "cell_type": "markdown",
      "source": [
        "**Model Loading and Quantization:**"
      ],
      "metadata": {
        "id": "WID6UiuBa9df"
      }
    },
    {
      "cell_type": "code",
      "source": [
        "model_name = 'google/gemma-2b'"
      ],
      "metadata": {
        "id": "dOz2iQpqZw3N"
      },
      "execution_count": null,
      "outputs": []
    },
    {
      "cell_type": "code",
      "source": [
        "bnb_config = BitsAndBytesConfig(\n",
        "    load_in_4bit=True,\n",
        "    bnb_4bit_quant_type=\"nf4\",\n",
        "    bnb_4bit_compute_dtype=torch.bfloat16,\n",
        ")"
      ],
      "metadata": {
        "id": "aDJ5CbsqcB8r"
      },
      "execution_count": null,
      "outputs": []
    },
    {
      "cell_type": "code",
      "source": [
        "model = AutoModelForCausalLM.from_pretrained(\n",
        "    model_name,\n",
        "    quantization_config=bnb_config,\n",
        "    device_map=\"auto\",\n",
        "    trust_remote_code=True,\n",
        "    low_cpu_mem_usage=True\n",
        ")"
      ],
      "metadata": {
        "id": "Gb8oTaG_cGhn"
      },
      "execution_count": null,
      "outputs": []
    },
    {
      "cell_type": "code",
      "source": [
        "# Tokenization and Padding\n",
        "tokenizer = AutoTokenizer.from_pretrained(\n",
        "    model_name,\n",
        "    trust_remote_code=True,\n",
        ")\n",
        "tokenizer.pad_token = tokenizer.eos_token"
      ],
      "metadata": {
        "id": "3YiK-YQtcmw5"
      },
      "execution_count": null,
      "outputs": []
    },
    {
      "cell_type": "code",
      "source": [
        "model.config.use_cache = False\n",
        "model.config.pretraining_tp = 1\n",
        "model.gradient_checkpointing_enable()\n",
        "model = prepare_model_for_kbit_training(model)"
      ],
      "metadata": {
        "id": "8RJTt9XHj2D_"
      },
      "execution_count": null,
      "outputs": []
    },
    {
      "cell_type": "code",
      "source": [
        "# LoRA Config\n",
        "peft_config = LoraConfig(\n",
        "    r=64,\n",
        "    lora_alpha=16,\n",
        "    lora_dropout=0.1,\n",
        "    bias='none',\n",
        "    task_type=\"CAUSAL_LM\",\n",
        "    target_modules=[\"q_proj\", \"v_proj\"]\n",
        ")"
      ],
      "metadata": {
        "id": "wmjREFtWkN51"
      },
      "execution_count": null,
      "outputs": []
    },
    {
      "cell_type": "code",
      "source": [
        "# Training Arguments\n",
        "training_arguments = TrainingArguments(\n",
        "    output_dir='Finetuned-Model',\n",
        "    per_device_train_batch_size=4,\n",
        "    gradient_accumulation_steps=4,\n",
        "    optim='paged_adamw_32bit',\n",
        "    learning_rate=2e-4,\n",
        "    lr_scheduler_type='cosine',\n",
        "    save_strategy='epoch',\n",
        "    logging_steps=10,\n",
        "    save_steps=10,\n",
        "    num_train_epochs=5,\n",
        "    max_steps=50,\n",
        "    fp16=True,\n",
        "    warmup_ratio=0.05,\n",
        "    push_to_hub=False,\n",
        ")"
      ],
      "metadata": {
        "id": "HbwhtMstkN8i"
      },
      "execution_count": null,
      "outputs": []
    },
    {
      "cell_type": "code",
      "source": [
        "import datasets\n",
        "train_dataset = datasets.Dataset.from_dict(train_data)\n",
        "test_dataset = datasets.Dataset.from_dict(test_data)\n",
        "\n",
        "# SFTTrainer Arguments\n",
        "trainer = SFTTrainer(\n",
        "    model=model,\n",
        "    train_dataset=train_dataset,\n",
        "    peft_config=peft_config,\n",
        "    dataset_text_field='text',\n",
        "    args=training_arguments,\n",
        "    tokenizer=tokenizer,\n",
        "    packing=False,\n",
        "    max_seq_length=264\n",
        ")"
      ],
      "metadata": {
        "id": "UIV4gbeGkOAM"
      },
      "execution_count": null,
      "outputs": []
    },
    {
      "cell_type": "code",
      "source": [
        "trainer.train()"
      ],
      "metadata": {
        "id": "aJQP3zuIkMP2"
      },
      "execution_count": null,
      "outputs": []
    },
    {
      "cell_type": "code",
      "source": [
        "output_model_dir = \"Gemma-7B-finetuned-indian-history\"\n",
        "trainer.model.save_pretrained(output_model_dir)\n",
        "tokenizer.save_pretrained(output_model_dir)"
      ],
      "metadata": {
        "id": "F3qE1D5Pq5_E"
      },
      "execution_count": null,
      "outputs": []
    },
    {
      "cell_type": "code",
      "source": [
        "bnb_config = BitsAndBytesConfig(\n",
        "    load_in_4bit=True,\n",
        "    bnb_4bit_quant_type=\"nf4\",\n",
        "    bnb_4bit_compute_dtype=torch.bfloat16,\n",
        ")"
      ],
      "metadata": {
        "id": "DGa4gyUS7Jb2"
      },
      "execution_count": null,
      "outputs": []
    },
    {
      "cell_type": "code",
      "source": [
        "finetuned_model = AutoModelForCausalLM.from_pretrained(\n",
        "    output_model_dir,\n",
        "    quantization_config=bnb_config,\n",
        "    device_map=\"auto\",\n",
        "    trust_remote_code=True,\n",
        "    low_cpu_mem_usage=True\n",
        ")"
      ],
      "metadata": {
        "id": "qUFv-X_y7LcT"
      },
      "execution_count": null,
      "outputs": []
    },
    {
      "cell_type": "code",
      "source": [
        "# Tokenization and Padding\n",
        "tokenizer = AutoTokenizer.from_pretrained(\n",
        "    output_model_dir,\n",
        "    trust_remote_code=True,\n",
        ")\n",
        "tokenizer.pad_token = tokenizer.eos_token"
      ],
      "metadata": {
        "id": "doxs7LD97RPM"
      },
      "execution_count": null,
      "outputs": []
    },
    {
      "cell_type": "code",
      "source": [
        "# Function to generate responses\n",
        "def generate_response(context, max_new_tokens=50):\n",
        "    input_ids = tokenizer.encode(context, return_tensors=\"pt\")\n",
        "    output = finetuned_model.generate(input_ids, max_new_tokens=max_new_tokens, num_return_sequences=1, temperature=0.7)\n",
        "    return tokenizer.decode(output[0], skip_special_tokens=True)\n",
        "\n",
        "\n",
        "test_samples = test_data['text']\n",
        "generated_responses = [generate_response(sample) for sample in test_samples]\n",
        "reference_responses = test_data['text']"
      ],
      "metadata": {
        "id": "hWyXZUa8ogPC"
      },
      "execution_count": null,
      "outputs": []
    },
    {
      "cell_type": "code",
      "source": [
        "from nltk.translate.bleu_score import corpus_bleu\n",
        "from rouge_score import rouge_scorer\n",
        "\n",
        "bleu_score = corpus_bleu([[r] for r in reference_responses], generated_responses)\n",
        "scorer = rouge_scorer.RougeScorer(['rouge1', 'rouge2', 'rougeL'], use_stemmer=True)\n",
        "rouge_scores = scorer.score(generated_responses, reference_responses)\n",
        "\n",
        "print(\"BLEU Score:\", bleu_score)\n",
        "print(\"ROUGE Scores:\", rouge_scores)"
      ],
      "metadata": {
        "id": "msq5Utm23mKw"
      },
      "execution_count": null,
      "outputs": []
    }
  ]
}